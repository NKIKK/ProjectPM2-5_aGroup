{
 "cells": [
  {
   "cell_type": "code",
   "execution_count": 2,
   "metadata": {},
   "outputs": [],
   "source": [
    "from selenium import webdriver\n",
    "from selenium.webdriver.chrome.service import Service as ChromeService\n",
    "from webdriver_manager.chrome import ChromeDriverManager\n",
    "\n",
    "import time\n",
    "import os\n",
    "import pandas as pd\n",
    "from datetime import datetime, timedelta\n",
    "from selenium.webdriver.common.by import By\n",
    "from selenium.webdriver.support.wait import WebDriverWait\n",
    "from tqdm.notebook import tqdm_notebook"
   ]
  },
  {
   "cell_type": "code",
   "execution_count": 3,
   "metadata": {},
   "outputs": [
    {
     "name": "stderr",
     "output_type": "stream",
     "text": [
      "\n",
      "\n",
      "====== WebDriver manager ======\n",
      "Current google-chrome version is 99.0.4844\n",
      "Get LATEST chromedriver version for 99.0.4844 google-chrome\n",
      "Driver [/Users/sasipim/.wdm/drivers/chromedriver/mac64/99.0.4844.51/chromedriver] found in cache\n"
     ]
    }
   ],
   "source": [
    "service = ChromeService(executable_path=ChromeDriverManager().install())\n",
    "driver = webdriver.Chrome(service=service)\n",
    "tqdm_notebook.pandas()"
   ]
  },
  {
   "cell_type": "code",
   "execution_count": 4,
   "metadata": {},
   "outputs": [],
   "source": [
    "PATH = './Surat/test/surat_test.csv'\n",
    "SAVE_PATH = './Surat/test/surat_test_wind_temp.csv'\n",
    "LAT = '9.126057'\n",
    "LONG = '99.325355'"
   ]
  },
  {
   "cell_type": "code",
   "execution_count": 5,
   "metadata": {},
   "outputs": [
    {
     "data": {
      "text/html": [
       "<div>\n",
       "<style scoped>\n",
       "    .dataframe tbody tr th:only-of-type {\n",
       "        vertical-align: middle;\n",
       "    }\n",
       "\n",
       "    .dataframe tbody tr th {\n",
       "        vertical-align: top;\n",
       "    }\n",
       "\n",
       "    .dataframe thead th {\n",
       "        text-align: right;\n",
       "    }\n",
       "</style>\n",
       "<table border=\"1\" class=\"dataframe\">\n",
       "  <thead>\n",
       "    <tr style=\"text-align: right;\">\n",
       "      <th></th>\n",
       "      <th>date</th>\n",
       "      <th>PM2.5</th>\n",
       "    </tr>\n",
       "  </thead>\n",
       "  <tbody>\n",
       "    <tr>\n",
       "      <th>0</th>\n",
       "      <td>2020-07-01 00:00:00</td>\n",
       "      <td>19.0</td>\n",
       "    </tr>\n",
       "    <tr>\n",
       "      <th>1</th>\n",
       "      <td>2020-07-01 01:00:00</td>\n",
       "      <td>22.0</td>\n",
       "    </tr>\n",
       "    <tr>\n",
       "      <th>2</th>\n",
       "      <td>2020-07-01 02:00:00</td>\n",
       "      <td>28.0</td>\n",
       "    </tr>\n",
       "    <tr>\n",
       "      <th>3</th>\n",
       "      <td>2020-07-01 03:00:00</td>\n",
       "      <td>25.0</td>\n",
       "    </tr>\n",
       "    <tr>\n",
       "      <th>4</th>\n",
       "      <td>2020-07-01 04:00:00</td>\n",
       "      <td>19.0</td>\n",
       "    </tr>\n",
       "  </tbody>\n",
       "</table>\n",
       "</div>"
      ],
      "text/plain": [
       "                  date  PM2.5\n",
       "0  2020-07-01 00:00:00   19.0\n",
       "1  2020-07-01 01:00:00   22.0\n",
       "2  2020-07-01 02:00:00   28.0\n",
       "3  2020-07-01 03:00:00   25.0\n",
       "4  2020-07-01 04:00:00   19.0"
      ]
     },
     "execution_count": 5,
     "metadata": {},
     "output_type": "execute_result"
    }
   ],
   "source": [
    "data = pd.read_csv(PATH)\n",
    "data = data.rename(columns={\"Unnamed: 0\": \"date\"})\n",
    "data.head()"
   ]
  },
  {
   "cell_type": "code",
   "execution_count": 6,
   "metadata": {},
   "outputs": [],
   "source": [
    "data['date_utc'] = pd.to_datetime(data['date']) - timedelta(hours=7)\n",
    "data['url_date'] = data['date_utc'].apply(lambda x : x.strftime(\"%Y/%m/%d/%H%M\")+\"Z\")"
   ]
  },
  {
   "cell_type": "code",
   "execution_count": 16,
   "metadata": {},
   "outputs": [],
   "source": [
    "def getTemp(lat,long,date):\n",
    "    url = \"https://earth.nullschool.net/#\"+date+'/wind/surface/level/overlay=temp/orthographic=97.73,-347.68,3906/loc='+ long+ ','+lat\n",
    "    driver.get(url=url)\n",
    "    time.sleep(2)\n",
    "    html = driver.execute_script(\"return document.documentElement.outerHTML\")\n",
    "    # element = WebDriverWait(driver, 20).until(lambda x: x.find_elements(by=By.CSS_SELECTOR, value='#spotlight-panel.panel.card'))\n",
    "    all_link = driver.find_elements(by=By.CSS_SELECTOR, value='#spotlight-panel.panel.card')\n",
    "    for link in all_link:\n",
    "        return link.text.split(\"\\n\")[-2]"
   ]
  },
  {
   "cell_type": "code",
   "execution_count": 17,
   "metadata": {},
   "outputs": [],
   "source": [
    "def getWind(lat,long,date):\n",
    "    url = \"https://earth.nullschool.net/#\"+date+'/wind/isobaric/850hPa/orthographic=97.73,-347.68,3906/loc='+ long+ ','+lat\n",
    "    driver.get(url=url)\n",
    "    time.sleep(2)\n",
    "    html = driver.execute_script(\"return document.documentElement.outerHTML\")\n",
    "    # element = WebDriverWait(driver, 20).until(lambda x: x.find_elements(by=By.CSS_SELECTOR, value='#spotlight-panel.panel.card'))\n",
    "    all_link = driver.find_elements(by=By.CSS_SELECTOR, value='#spotlight-panel.panel.card')\n",
    "    for link in all_link:\n",
    "        return link.text.split(\"\\n\")[-2]"
   ]
  },
  {
   "cell_type": "code",
   "execution_count": 19,
   "metadata": {},
   "outputs": [
    {
     "data": {
      "application/vnd.jupyter.widget-view+json": {
       "model_id": "5d5c6ea441494b0f8f349acfe1a206fd",
       "version_major": 2,
       "version_minor": 0
      },
      "text/plain": [
       "  0%|          | 0/8784 [00:00<?, ?it/s]"
      ]
     },
     "metadata": {},
     "output_type": "display_data"
    }
   ],
   "source": [
    "data['temp'] = data['url_date'].progress_apply(lambda x : getTemp(LAT,LONG,x))"
   ]
  },
  {
   "cell_type": "code",
   "execution_count": 20,
   "metadata": {},
   "outputs": [
    {
     "data": {
      "application/vnd.jupyter.widget-view+json": {
       "model_id": "4802ada88e694b38b89d618bb2297b28",
       "version_major": 2,
       "version_minor": 0
      },
      "text/plain": [
       "  0%|          | 0/8784 [00:00<?, ?it/s]"
      ]
     },
     "metadata": {},
     "output_type": "display_data"
    }
   ],
   "source": [
    "data['wind']=data['url_date'].progress_apply(lambda x : getWind(LAT,LONG,x))"
   ]
  },
  {
   "cell_type": "code",
   "execution_count": 21,
   "metadata": {},
   "outputs": [],
   "source": [
    "data.to_csv(SAVE_PATH,index=False)"
   ]
  }
 ],
 "metadata": {
  "interpreter": {
   "hash": "723dc80cb05396c6d0019b793cc9629de1a15570232a2a29e62999a170644e05"
  },
  "kernelspec": {
   "display_name": "Python 3.8.8 ('base')",
   "language": "python",
   "name": "python3"
  },
  "language_info": {
   "codemirror_mode": {
    "name": "ipython",
    "version": 3
   },
   "file_extension": ".py",
   "mimetype": "text/x-python",
   "name": "python",
   "nbconvert_exporter": "python",
   "pygments_lexer": "ipython3",
   "version": "3.8.8"
  },
  "orig_nbformat": 4
 },
 "nbformat": 4,
 "nbformat_minor": 2
}
