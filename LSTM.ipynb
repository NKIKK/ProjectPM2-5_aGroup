{
  "cells": [
    {
      "cell_type": "code",
      "execution_count": null,
      "metadata": {
        "colab": {
          "base_uri": "https://localhost:8080/"
        },
        "id": "hma9CCJCtdye",
        "outputId": "673f70f8-4c1d-4e62-e525-fe90db0614ab"
      },
      "outputs": [
        {
          "name": "stdout",
          "output_type": "stream",
          "text": [
            "NVIDIA-SMI has failed because it couldn't communicate with the NVIDIA driver. Make sure that the latest NVIDIA driver is installed and running.\n",
            "\n"
          ]
        }
      ],
      "source": [
        "!nvidia-smi"
      ]
    },
    {
      "cell_type": "code",
      "execution_count": 1,
      "metadata": {
        "id": "tXYt8kYNc-8I"
      },
      "outputs": [],
      "source": [
        "import numpy as np\n",
        "import matplotlib.pyplot as plt\n",
        "import pandas as pd\n",
        "from sklearn.preprocessing import MinMaxScaler"
      ]
    },
    {
      "cell_type": "markdown",
      "metadata": {
        "id": "kma2WK2H5j47"
      },
      "source": [
        "## Train/test split"
      ]
    },
    {
      "cell_type": "code",
      "execution_count": 2,
      "metadata": {
        "id": "9B3XlyHJWiP-"
      },
      "outputs": [],
      "source": [
        "provinces = ['BKK','Chiangmai','Khonkaen','Rayong','Saraburi','Surat']\n",
        "province = provinces[4]"
      ]
    },
    {
      "cell_type": "code",
      "execution_count": 3,
      "metadata": {
        "colab": {
          "base_uri": "https://localhost:8080/",
          "height": 206
        },
        "id": "U-lSoEO_dfa-",
        "outputId": "3f98e52c-aecf-41f6-8b80-29b60ba6df7d"
      },
      "outputs": [
        {
          "data": {
            "text/html": [
              "<div>\n",
              "<style scoped>\n",
              "    .dataframe tbody tr th:only-of-type {\n",
              "        vertical-align: middle;\n",
              "    }\n",
              "\n",
              "    .dataframe tbody tr th {\n",
              "        vertical-align: top;\n",
              "    }\n",
              "\n",
              "    .dataframe thead th {\n",
              "        text-align: right;\n",
              "    }\n",
              "</style>\n",
              "<table border=\"1\" class=\"dataframe\">\n",
              "  <thead>\n",
              "    <tr style=\"text-align: right;\">\n",
              "      <th></th>\n",
              "      <th>date_time</th>\n",
              "      <th>PM2.5</th>\n",
              "      <th>temp</th>\n",
              "      <th>wind speed</th>\n",
              "      <th>wind dir</th>\n",
              "      <th>lat</th>\n",
              "      <th>long</th>\n",
              "    </tr>\n",
              "  </thead>\n",
              "  <tbody>\n",
              "    <tr>\n",
              "      <th>5897</th>\n",
              "      <td>2018-03-03 17:00:00</td>\n",
              "      <td>25.0</td>\n",
              "      <td>35.2</td>\n",
              "      <td>17.0</td>\n",
              "      <td>210.0</td>\n",
              "      <td>14.685833</td>\n",
              "      <td>100.871996</td>\n",
              "    </tr>\n",
              "    <tr>\n",
              "      <th>8115</th>\n",
              "      <td>2018-06-04 03:00:00</td>\n",
              "      <td>17.0</td>\n",
              "      <td>28.6</td>\n",
              "      <td>7.0</td>\n",
              "      <td>225.0</td>\n",
              "      <td>14.685833</td>\n",
              "      <td>100.871996</td>\n",
              "    </tr>\n",
              "    <tr>\n",
              "      <th>26149</th>\n",
              "      <td>2020-06-24 13:00:00</td>\n",
              "      <td>19.0</td>\n",
              "      <td>33.8</td>\n",
              "      <td>12.0</td>\n",
              "      <td>205.0</td>\n",
              "      <td>14.685833</td>\n",
              "      <td>100.871996</td>\n",
              "    </tr>\n",
              "    <tr>\n",
              "      <th>12117</th>\n",
              "      <td>2018-11-17 21:00:00</td>\n",
              "      <td>57.0</td>\n",
              "      <td>26.6</td>\n",
              "      <td>25.0</td>\n",
              "      <td>105.0</td>\n",
              "      <td>14.685833</td>\n",
              "      <td>100.871996</td>\n",
              "    </tr>\n",
              "    <tr>\n",
              "      <th>2563</th>\n",
              "      <td>2017-10-15 19:00:00</td>\n",
              "      <td>37.0</td>\n",
              "      <td>26.4</td>\n",
              "      <td>19.0</td>\n",
              "      <td>220.0</td>\n",
              "      <td>14.685833</td>\n",
              "      <td>100.871996</td>\n",
              "    </tr>\n",
              "  </tbody>\n",
              "</table>\n",
              "</div>"
            ],
            "text/plain": [
              "                 date_time  PM2.5  temp  wind speed  wind dir        lat  \\\n",
              "5897   2018-03-03 17:00:00   25.0  35.2        17.0     210.0  14.685833   \n",
              "8115   2018-06-04 03:00:00   17.0  28.6         7.0     225.0  14.685833   \n",
              "26149  2020-06-24 13:00:00   19.0  33.8        12.0     205.0  14.685833   \n",
              "12117  2018-11-17 21:00:00   57.0  26.6        25.0     105.0  14.685833   \n",
              "2563   2017-10-15 19:00:00   37.0  26.4        19.0     220.0  14.685833   \n",
              "\n",
              "             long  \n",
              "5897   100.871996  \n",
              "8115   100.871996  \n",
              "26149  100.871996  \n",
              "12117  100.871996  \n",
              "2563   100.871996  "
            ]
          },
          "execution_count": 3,
          "metadata": {},
          "output_type": "execute_result"
        }
      ],
      "source": [
        "data_training = pd.read_csv(province+'/train/'+province.lower()+'_train_format.csv', date_parser = True)\n",
        "data_training.sample(5)"
      ]
    },
    {
      "cell_type": "code",
      "execution_count": 4,
      "metadata": {
        "colab": {
          "base_uri": "https://localhost:8080/",
          "height": 206
        },
        "id": "5FXLGXmedgqG",
        "outputId": "f2bfe5c4-5390-4397-bb7a-de16c5d64092"
      },
      "outputs": [
        {
          "data": {
            "text/html": [
              "<div>\n",
              "<style scoped>\n",
              "    .dataframe tbody tr th:only-of-type {\n",
              "        vertical-align: middle;\n",
              "    }\n",
              "\n",
              "    .dataframe tbody tr th {\n",
              "        vertical-align: top;\n",
              "    }\n",
              "\n",
              "    .dataframe thead th {\n",
              "        text-align: right;\n",
              "    }\n",
              "</style>\n",
              "<table border=\"1\" class=\"dataframe\">\n",
              "  <thead>\n",
              "    <tr style=\"text-align: right;\">\n",
              "      <th></th>\n",
              "      <th>PM2.5</th>\n",
              "      <th>temp</th>\n",
              "      <th>wind speed</th>\n",
              "      <th>wind dir</th>\n",
              "    </tr>\n",
              "  </thead>\n",
              "  <tbody>\n",
              "    <tr>\n",
              "      <th>0</th>\n",
              "      <td>22.0</td>\n",
              "      <td>25.0</td>\n",
              "      <td>38.0</td>\n",
              "      <td>250.0</td>\n",
              "    </tr>\n",
              "    <tr>\n",
              "      <th>1</th>\n",
              "      <td>16.0</td>\n",
              "      <td>25.0</td>\n",
              "      <td>38.0</td>\n",
              "      <td>250.0</td>\n",
              "    </tr>\n",
              "    <tr>\n",
              "      <th>2</th>\n",
              "      <td>13.0</td>\n",
              "      <td>25.0</td>\n",
              "      <td>38.0</td>\n",
              "      <td>250.0</td>\n",
              "    </tr>\n",
              "    <tr>\n",
              "      <th>3</th>\n",
              "      <td>18.0</td>\n",
              "      <td>25.0</td>\n",
              "      <td>38.0</td>\n",
              "      <td>250.0</td>\n",
              "    </tr>\n",
              "    <tr>\n",
              "      <th>4</th>\n",
              "      <td>29.0</td>\n",
              "      <td>25.0</td>\n",
              "      <td>38.0</td>\n",
              "      <td>250.0</td>\n",
              "    </tr>\n",
              "  </tbody>\n",
              "</table>\n",
              "</div>"
            ],
            "text/plain": [
              "   PM2.5  temp  wind speed  wind dir\n",
              "0   22.0  25.0        38.0     250.0\n",
              "1   16.0  25.0        38.0     250.0\n",
              "2   13.0  25.0        38.0     250.0\n",
              "3   18.0  25.0        38.0     250.0\n",
              "4   29.0  25.0        38.0     250.0"
            ]
          },
          "execution_count": 4,
          "metadata": {},
          "output_type": "execute_result"
        }
      ],
      "source": [
        "data_training = data_training.drop(['date_time', 'lat', 'long'], axis = 1)\n",
        "data_training.head()"
      ]
    },
    {
      "cell_type": "code",
      "execution_count": 5,
      "metadata": {
        "colab": {
          "base_uri": "https://localhost:8080/",
          "height": 206
        },
        "id": "jONlufFv2NPo",
        "outputId": "c117c196-d411-4a06-c1f3-c5aeeef87c7e"
      },
      "outputs": [
        {
          "data": {
            "text/html": [
              "<div>\n",
              "<style scoped>\n",
              "    .dataframe tbody tr th:only-of-type {\n",
              "        vertical-align: middle;\n",
              "    }\n",
              "\n",
              "    .dataframe tbody tr th {\n",
              "        vertical-align: top;\n",
              "    }\n",
              "\n",
              "    .dataframe thead th {\n",
              "        text-align: right;\n",
              "    }\n",
              "</style>\n",
              "<table border=\"1\" class=\"dataframe\">\n",
              "  <thead>\n",
              "    <tr style=\"text-align: right;\">\n",
              "      <th></th>\n",
              "      <th>Unnamed: 0</th>\n",
              "      <th>date_time</th>\n",
              "      <th>PM2.5</th>\n",
              "      <th>temp</th>\n",
              "      <th>wind speed</th>\n",
              "      <th>wind dir</th>\n",
              "      <th>lat</th>\n",
              "      <th>long</th>\n",
              "    </tr>\n",
              "  </thead>\n",
              "  <tbody>\n",
              "    <tr>\n",
              "      <th>6824</th>\n",
              "      <td>6824</td>\n",
              "      <td>2021-04-11 08:00:00</td>\n",
              "      <td>52.0</td>\n",
              "      <td>26.7</td>\n",
              "      <td>19</td>\n",
              "      <td>75</td>\n",
              "      <td>14.685833</td>\n",
              "      <td>100.871996</td>\n",
              "    </tr>\n",
              "    <tr>\n",
              "      <th>8673</th>\n",
              "      <td>8673</td>\n",
              "      <td>2021-06-27 09:00:00</td>\n",
              "      <td>17.0</td>\n",
              "      <td>30.4</td>\n",
              "      <td>22</td>\n",
              "      <td>225</td>\n",
              "      <td>14.685833</td>\n",
              "      <td>100.871996</td>\n",
              "    </tr>\n",
              "    <tr>\n",
              "      <th>1903</th>\n",
              "      <td>1903</td>\n",
              "      <td>2020-09-18 07:00:00</td>\n",
              "      <td>27.0</td>\n",
              "      <td>25.9</td>\n",
              "      <td>19</td>\n",
              "      <td>315</td>\n",
              "      <td>14.685833</td>\n",
              "      <td>100.871996</td>\n",
              "    </tr>\n",
              "    <tr>\n",
              "      <th>1763</th>\n",
              "      <td>1763</td>\n",
              "      <td>2020-09-12 11:00:00</td>\n",
              "      <td>24.0</td>\n",
              "      <td>30.4</td>\n",
              "      <td>9</td>\n",
              "      <td>165</td>\n",
              "      <td>14.685833</td>\n",
              "      <td>100.871996</td>\n",
              "    </tr>\n",
              "    <tr>\n",
              "      <th>1017</th>\n",
              "      <td>1017</td>\n",
              "      <td>2020-08-12 09:00:00</td>\n",
              "      <td>19.0</td>\n",
              "      <td>25.7</td>\n",
              "      <td>27</td>\n",
              "      <td>260</td>\n",
              "      <td>14.685833</td>\n",
              "      <td>100.871996</td>\n",
              "    </tr>\n",
              "  </tbody>\n",
              "</table>\n",
              "</div>"
            ],
            "text/plain": [
              "      Unnamed: 0            date_time  PM2.5  temp  wind speed  wind dir  \\\n",
              "6824        6824  2021-04-11 08:00:00   52.0  26.7          19        75   \n",
              "8673        8673  2021-06-27 09:00:00   17.0  30.4          22       225   \n",
              "1903        1903  2020-09-18 07:00:00   27.0  25.9          19       315   \n",
              "1763        1763  2020-09-12 11:00:00   24.0  30.4           9       165   \n",
              "1017        1017  2020-08-12 09:00:00   19.0  25.7          27       260   \n",
              "\n",
              "            lat        long  \n",
              "6824  14.685833  100.871996  \n",
              "8673  14.685833  100.871996  \n",
              "1903  14.685833  100.871996  \n",
              "1763  14.685833  100.871996  \n",
              "1017  14.685833  100.871996  "
            ]
          },
          "execution_count": 5,
          "metadata": {},
          "output_type": "execute_result"
        }
      ],
      "source": [
        "data_test = pd.read_csv(province+'_clean.csv', date_parser = True)\n",
        "data_test.sample(5)"
      ]
    },
    {
      "cell_type": "code",
      "execution_count": 6,
      "metadata": {
        "colab": {
          "base_uri": "https://localhost:8080/",
          "height": 206
        },
        "id": "ZM_Hn5LcUDqd",
        "outputId": "7c170d33-a52a-4b5e-f057-5d16a4355a2d"
      },
      "outputs": [
        {
          "data": {
            "text/html": [
              "<div>\n",
              "<style scoped>\n",
              "    .dataframe tbody tr th:only-of-type {\n",
              "        vertical-align: middle;\n",
              "    }\n",
              "\n",
              "    .dataframe tbody tr th {\n",
              "        vertical-align: top;\n",
              "    }\n",
              "\n",
              "    .dataframe thead th {\n",
              "        text-align: right;\n",
              "    }\n",
              "</style>\n",
              "<table border=\"1\" class=\"dataframe\">\n",
              "  <thead>\n",
              "    <tr style=\"text-align: right;\">\n",
              "      <th></th>\n",
              "      <th>date_time</th>\n",
              "      <th>PM2.5</th>\n",
              "      <th>temp</th>\n",
              "      <th>wind speed</th>\n",
              "      <th>wind dir</th>\n",
              "    </tr>\n",
              "  </thead>\n",
              "  <tbody>\n",
              "    <tr>\n",
              "      <th>0</th>\n",
              "      <td>2020-07-01 00:00:00</td>\n",
              "      <td>2.0</td>\n",
              "      <td>25.9</td>\n",
              "      <td>41</td>\n",
              "      <td>250</td>\n",
              "    </tr>\n",
              "    <tr>\n",
              "      <th>1</th>\n",
              "      <td>2020-07-01 01:00:00</td>\n",
              "      <td>NaN</td>\n",
              "      <td>25.5</td>\n",
              "      <td>41</td>\n",
              "      <td>255</td>\n",
              "    </tr>\n",
              "    <tr>\n",
              "      <th>2</th>\n",
              "      <td>2020-07-01 02:00:00</td>\n",
              "      <td>NaN</td>\n",
              "      <td>25.5</td>\n",
              "      <td>41</td>\n",
              "      <td>255</td>\n",
              "    </tr>\n",
              "    <tr>\n",
              "      <th>3</th>\n",
              "      <td>2020-07-01 03:00:00</td>\n",
              "      <td>3.0</td>\n",
              "      <td>25.5</td>\n",
              "      <td>41</td>\n",
              "      <td>255</td>\n",
              "    </tr>\n",
              "    <tr>\n",
              "      <th>4</th>\n",
              "      <td>2020-07-01 04:00:00</td>\n",
              "      <td>5.0</td>\n",
              "      <td>25.1</td>\n",
              "      <td>49</td>\n",
              "      <td>265</td>\n",
              "    </tr>\n",
              "  </tbody>\n",
              "</table>\n",
              "</div>"
            ],
            "text/plain": [
              "             date_time  PM2.5  temp  wind speed  wind dir\n",
              "0  2020-07-01 00:00:00    2.0  25.9          41       250\n",
              "1  2020-07-01 01:00:00    NaN  25.5          41       255\n",
              "2  2020-07-01 02:00:00    NaN  25.5          41       255\n",
              "3  2020-07-01 03:00:00    3.0  25.5          41       255\n",
              "4  2020-07-01 04:00:00    5.0  25.1          49       265"
            ]
          },
          "execution_count": 6,
          "metadata": {},
          "output_type": "execute_result"
        }
      ],
      "source": [
        "data_test = data_test.drop(['Unnamed: 0', 'lat', 'long'], axis = 1)\n",
        "data_test.head()"
      ]
    },
    {
      "cell_type": "markdown",
      "metadata": {
        "id": "g_HAazl2m2A8"
      },
      "source": [
        "## Normalize data"
      ]
    },
    {
      "cell_type": "code",
      "execution_count": 7,
      "metadata": {
        "id": "khw4M2JsdiKT"
      },
      "outputs": [],
      "source": [
        "scaler = MinMaxScaler()\n",
        "data_training = scaler.fit_transform(data_training)"
      ]
    },
    {
      "cell_type": "code",
      "execution_count": 8,
      "metadata": {
        "colab": {
          "base_uri": "https://localhost:8080/"
        },
        "id": "Kmz-nS6w4cPU",
        "outputId": "15b1312a-438d-4226-d41b-90ca1698b11e"
      },
      "outputs": [
        {
          "data": {
            "text/plain": [
              "array([[ 22. ,  25. ,  38. , 250. ],\n",
              "       [ 16. ,  25. ,  38. , 250. ],\n",
              "       [ 13. ,  25. ,  38. , 250. ],\n",
              "       ...,\n",
              "       [ 16. ,  27.4,  31. , 245. ],\n",
              "       [ 11. ,  25.9,  41. , 250. ],\n",
              "       [  7. ,  25.9,  41. , 250. ]])"
            ]
          },
          "execution_count": 8,
          "metadata": {},
          "output_type": "execute_result"
        }
      ],
      "source": [
        "scaler.inverse_transform(data_training)"
      ]
    },
    {
      "cell_type": "code",
      "execution_count": 9,
      "metadata": {
        "colab": {
          "base_uri": "https://localhost:8080/"
        },
        "id": "rvb9MZW42RyZ",
        "outputId": "ef485aaa-23d5-48ab-c27b-6d349993e831"
      },
      "outputs": [
        {
          "data": {
            "text/plain": [
              "array([[ 20.99753695,  10.4795539 ,  38.        , 250.        ],\n",
              "       [ 14.99753695,  10.4795539 ,  38.        , 250.        ],\n",
              "       [ 11.99753695,  10.4795539 ,  38.        , 250.        ],\n",
              "       ...,\n",
              "       [ 14.99753695,  12.8795539 ,  31.        , 245.        ],\n",
              "       [  9.99753695,  11.3795539 ,  41.        , 250.        ],\n",
              "       [  5.99753695,  11.3795539 ,  41.        , 250.        ]])"
            ]
          },
          "execution_count": 9,
          "metadata": {},
          "output_type": "execute_result"
        }
      ],
      "source": [
        "scale = 1/scaler.scale_\n",
        "temp = (data_training * scale) + scaler.min_\n",
        "temp"
      ]
    },
    {
      "cell_type": "code",
      "execution_count": 10,
      "metadata": {
        "colab": {
          "base_uri": "https://localhost:8080/"
        },
        "id": "XTv34OA1dlRq",
        "outputId": "2282af71-9e98-4171-e44e-4acee54e27aa"
      },
      "outputs": [
        {
          "data": {
            "text/plain": [
              "array([[0.05172414, 0.40892193, 0.41758242, 0.69444444],\n",
              "       [0.03694581, 0.40892193, 0.41758242, 0.69444444],\n",
              "       [0.02955665, 0.40892193, 0.41758242, 0.69444444],\n",
              "       [0.04187192, 0.40892193, 0.41758242, 0.69444444],\n",
              "       [0.06896552, 0.40892193, 0.41758242, 0.69444444],\n",
              "       [0.07635468, 0.40892193, 0.41758242, 0.69444444],\n",
              "       [0.0862069 , 0.40892193, 0.41758242, 0.69444444],\n",
              "       [0.06650246, 0.40892193, 0.41758242, 0.69444444],\n",
              "       [0.04187192, 0.40892193, 0.41758242, 0.69444444],\n",
              "       [0.02216749, 0.40892193, 0.41758242, 0.69444444]])"
            ]
          },
          "execution_count": 10,
          "metadata": {},
          "output_type": "execute_result"
        }
      ],
      "source": [
        "data_training[0:10]"
      ]
    },
    {
      "cell_type": "code",
      "execution_count": 11,
      "metadata": {
        "id": "W4926pfpdoE0"
      },
      "outputs": [],
      "source": [
        "X_train = []\n",
        "y_train = []\n",
        "\n",
        "for i in range(60, data_training.shape[0]):\n",
        "    X_train.append(data_training[i-60:i])\n",
        "    y_train.append(data_training[i, 0])\n",
        "\n",
        "X_train, y_train = np.array(X_train), np.array(y_train)"
      ]
    },
    {
      "cell_type": "code",
      "execution_count": 12,
      "metadata": {
        "colab": {
          "base_uri": "https://localhost:8080/"
        },
        "id": "HO6hoNDRdsQI",
        "outputId": "03f59c3b-878e-443c-eedd-24f4a28d6ff7"
      },
      "outputs": [
        {
          "data": {
            "text/plain": [
              "(26244, 60, 4)"
            ]
          },
          "execution_count": 12,
          "metadata": {},
          "output_type": "execute_result"
        }
      ],
      "source": [
        "X_train.shape"
      ]
    },
    {
      "cell_type": "markdown",
      "metadata": {
        "id": "KTABZEIKjCTN"
      },
      "source": [
        "# Building Model1: LSTM"
      ]
    },
    {
      "cell_type": "code",
      "execution_count": 13,
      "metadata": {
        "id": "T5ByHACkduvK"
      },
      "outputs": [],
      "source": [
        "import tensorflow as tf\n",
        "from tensorflow.keras import Sequential\n",
        "from tensorflow.keras.layers import Dense, LSTM, Dropout"
      ]
    },
    {
      "cell_type": "code",
      "execution_count": 14,
      "metadata": {
        "colab": {
          "base_uri": "https://localhost:8080/",
          "height": 35
        },
        "id": "Zw2TuO9j5tAT",
        "outputId": "a75290c1-c563-448a-ec0b-95a0332fe87f"
      },
      "outputs": [
        {
          "data": {
            "text/plain": [
              "'2.8.0'"
            ]
          },
          "execution_count": 14,
          "metadata": {},
          "output_type": "execute_result"
        }
      ],
      "source": [
        "tf.__version__"
      ]
    },
    {
      "cell_type": "code",
      "execution_count": 15,
      "metadata": {
        "id": "6PwBHKiCdxBy"
      },
      "outputs": [],
      "source": [
        "modelLSTM = Sequential()\n",
        "\n",
        "modelLSTM.add(LSTM(units = 60, activation = 'relu', return_sequences = True, input_shape = (X_train.shape[1], 4)))\n",
        "modelLSTM.add(Dropout(0.2))\n",
        "\n",
        "modelLSTM.add(LSTM(units = 60, activation = 'relu', return_sequences = True))\n",
        "modelLSTM.add(Dropout(0.2))\n",
        "\n",
        "modelLSTM.add(LSTM(units = 80, activation = 'relu', return_sequences = True))\n",
        "modelLSTM.add(Dropout(0.2))\n",
        "\n",
        "modelLSTM.add(LSTM(units = 120, activation = 'relu'))\n",
        "modelLSTM.add(Dropout(0.2))\n",
        "\n",
        "modelLSTM.add(Dense(units = 1))"
      ]
    },
    {
      "cell_type": "code",
      "execution_count": 16,
      "metadata": {
        "colab": {
          "base_uri": "https://localhost:8080/"
        },
        "id": "OruphK2TdzFB",
        "outputId": "a1985c4e-d227-4c86-cb42-fe4f48a4b574"
      },
      "outputs": [
        {
          "name": "stdout",
          "output_type": "stream",
          "text": [
            "Model: \"sequential\"\n",
            "_________________________________________________________________\n",
            " Layer (type)                Output Shape              Param #   \n",
            "=================================================================\n",
            " lstm (LSTM)                 (None, 60, 60)            15600     \n",
            "                                                                 \n",
            " dropout (Dropout)           (None, 60, 60)            0         \n",
            "                                                                 \n",
            " lstm_1 (LSTM)               (None, 60, 60)            29040     \n",
            "                                                                 \n",
            " dropout_1 (Dropout)         (None, 60, 60)            0         \n",
            "                                                                 \n",
            " lstm_2 (LSTM)               (None, 60, 80)            45120     \n",
            "                                                                 \n",
            " dropout_2 (Dropout)         (None, 60, 80)            0         \n",
            "                                                                 \n",
            " lstm_3 (LSTM)               (None, 120)               96480     \n",
            "                                                                 \n",
            " dropout_3 (Dropout)         (None, 120)               0         \n",
            "                                                                 \n",
            " dense (Dense)               (None, 1)                 121       \n",
            "                                                                 \n",
            "=================================================================\n",
            "Total params: 186,361\n",
            "Trainable params: 186,361\n",
            "Non-trainable params: 0\n",
            "_________________________________________________________________\n"
          ]
        }
      ],
      "source": [
        "modelLSTM.summary()"
      ]
    },
    {
      "cell_type": "code",
      "execution_count": 17,
      "metadata": {
        "id": "JFWU6JktosN_"
      },
      "outputs": [],
      "source": [
        "from tensorflow.keras.callbacks import EarlyStopping, ModelCheckpoint, ReduceLROnPlateau"
      ]
    },
    {
      "cell_type": "code",
      "execution_count": 18,
      "metadata": {
        "id": "F2jd8nTRp9kq"
      },
      "outputs": [],
      "source": [
        "#create callback\n",
        "filepath = 'my_best_modelLSTM_yourself.hdf5'\n",
        "checkpoint = ModelCheckpoint(filepath=filepath, \n",
        "                             monitor='loss',\n",
        "                             verbose=0, \n",
        "                             save_best_only=True,\n",
        "                             mode='min')\n",
        "\n",
        "earlystopping = EarlyStopping(\n",
        "    monitor='loss', \n",
        "    patience=3, \n",
        "    min_delta=0, \n",
        "    mode='auto'\n",
        ")\n",
        "\n",
        "reduce_lr = ReduceLROnPlateau(\n",
        "    monitor='loss', \n",
        "    factor=0.2,   \n",
        "    patience=2, \n",
        "    min_lr=0.001,\n",
        "    verbose=0\n",
        ")\n",
        "callbacks = [checkpoint, earlystopping, reduce_lr]"
      ]
    },
    {
      "cell_type": "code",
      "execution_count": 19,
      "metadata": {
        "id": "7alsTCdPd5PY"
      },
      "outputs": [],
      "source": [
        "modelLSTM.compile(optimizer='adam', loss = 'mean_squared_error')"
      ]
    },
    {
      "cell_type": "code",
      "execution_count": 20,
      "metadata": {
        "colab": {
          "base_uri": "https://localhost:8080/"
        },
        "id": "jJGUMaN7wafJ",
        "outputId": "99c99a14-509d-4f56-a2fc-b13512fb7507"
      },
      "outputs": [
        {
          "name": "stdout",
          "output_type": "stream",
          "text": [
            "Epoch 1/10\n",
            "821/821 [==============================] - 252s 299ms/step - loss: 0.0017 - lr: 0.0010\n",
            "Epoch 2/10\n",
            "821/821 [==============================] - 309s 376ms/step - loss: 0.0013 - lr: 0.0010\n",
            "Epoch 3/10\n",
            "821/821 [==============================] - 372s 453ms/step - loss: 0.0010 - lr: 0.0010\n",
            "Epoch 4/10\n",
            "821/821 [==============================] - 373s 454ms/step - loss: 7.9103e-04 - lr: 0.0010\n",
            "Epoch 5/10\n",
            "821/821 [==============================] - 262s 319ms/step - loss: 5.9411e-04 - lr: 0.0010\n",
            "Epoch 6/10\n",
            "821/821 [==============================] - 220s 268ms/step - loss: 5.0983e-04 - lr: 0.0010\n",
            "Epoch 7/10\n",
            "821/821 [==============================] - 255s 311ms/step - loss: 4.6432e-04 - lr: 0.0010\n",
            "Epoch 8/10\n",
            "821/821 [==============================] - 212s 258ms/step - loss: 4.5616e-04 - lr: 0.0010\n",
            "Epoch 9/10\n",
            "821/821 [==============================] - 234s 285ms/step - loss: 4.3461e-04 - lr: 0.0010\n",
            "Epoch 10/10\n",
            "821/821 [==============================] - 208s 254ms/step - loss: 3.9680e-04 - lr: 0.0010\n"
          ]
        }
      ],
      "source": [
        "history = modelLSTM.fit(X_train, y_train, epochs=10, batch_size=32, callbacks=callbacks)"
      ]
    },
    {
      "cell_type": "markdown",
      "metadata": {
        "id": "L72hkQl5d-8Q"
      },
      "source": [
        "# Testing"
      ]
    },
    {
      "cell_type": "code",
      "execution_count": 21,
      "metadata": {
        "id": "lW-wyZdr_lPa"
      },
      "outputs": [],
      "source": [
        "data_training = pd.read_csv(province+'/train/'+province.lower()+'_train_format.csv', date_parser = True)\n",
        "data_training = data_training.drop(['date_time', 'lat', 'long'], axis = 1)"
      ]
    },
    {
      "cell_type": "code",
      "execution_count": null,
      "metadata": {
        "id": "A8CcvG9azYVw"
      },
      "outputs": [],
      "source": [
        "data_training.tail(60)"
      ]
    },
    {
      "cell_type": "code",
      "execution_count": 22,
      "metadata": {
        "id": "Sb-SV-wReAJL"
      },
      "outputs": [
        {
          "data": {
            "text/html": [
              "<div>\n",
              "<style scoped>\n",
              "    .dataframe tbody tr th:only-of-type {\n",
              "        vertical-align: middle;\n",
              "    }\n",
              "\n",
              "    .dataframe tbody tr th {\n",
              "        vertical-align: top;\n",
              "    }\n",
              "\n",
              "    .dataframe thead th {\n",
              "        text-align: right;\n",
              "    }\n",
              "</style>\n",
              "<table border=\"1\" class=\"dataframe\">\n",
              "  <thead>\n",
              "    <tr style=\"text-align: right;\">\n",
              "      <th></th>\n",
              "      <th>PM2.5</th>\n",
              "      <th>temp</th>\n",
              "      <th>wind speed</th>\n",
              "      <th>wind dir</th>\n",
              "    </tr>\n",
              "  </thead>\n",
              "  <tbody>\n",
              "    <tr>\n",
              "      <th>0</th>\n",
              "      <td>2.0</td>\n",
              "      <td>25.9</td>\n",
              "      <td>41</td>\n",
              "      <td>250</td>\n",
              "    </tr>\n",
              "    <tr>\n",
              "      <th>1</th>\n",
              "      <td>NaN</td>\n",
              "      <td>25.5</td>\n",
              "      <td>41</td>\n",
              "      <td>255</td>\n",
              "    </tr>\n",
              "    <tr>\n",
              "      <th>2</th>\n",
              "      <td>NaN</td>\n",
              "      <td>25.5</td>\n",
              "      <td>41</td>\n",
              "      <td>255</td>\n",
              "    </tr>\n",
              "    <tr>\n",
              "      <th>3</th>\n",
              "      <td>3.0</td>\n",
              "      <td>25.5</td>\n",
              "      <td>41</td>\n",
              "      <td>255</td>\n",
              "    </tr>\n",
              "    <tr>\n",
              "      <th>4</th>\n",
              "      <td>5.0</td>\n",
              "      <td>25.1</td>\n",
              "      <td>49</td>\n",
              "      <td>265</td>\n",
              "    </tr>\n",
              "  </tbody>\n",
              "</table>\n",
              "</div>"
            ],
            "text/plain": [
              "   PM2.5  temp  wind speed  wind dir\n",
              "0    2.0  25.9          41       250\n",
              "1    NaN  25.5          41       255\n",
              "2    NaN  25.5          41       255\n",
              "3    3.0  25.5          41       255\n",
              "4    5.0  25.1          49       265"
            ]
          },
          "execution_count": 22,
          "metadata": {},
          "output_type": "execute_result"
        }
      ],
      "source": [
        "data_test = data_test.drop(['date_time'], axis = 1)\n",
        "data_test.head()"
      ]
    },
    {
      "cell_type": "markdown",
      "metadata": {
        "id": "srd1b_HckIVw"
      },
      "source": [
        "## Prepare testing data"
      ]
    },
    {
      "cell_type": "code",
      "execution_count": 23,
      "metadata": {
        "id": "UpqWwdOaeD1K"
      },
      "outputs": [],
      "source": [
        "past_60_days = data_training.tail(60)"
      ]
    },
    {
      "cell_type": "code",
      "execution_count": 24,
      "metadata": {
        "id": "TR2tRta0eEgF"
      },
      "outputs": [
        {
          "data": {
            "text/html": [
              "<div>\n",
              "<style scoped>\n",
              "    .dataframe tbody tr th:only-of-type {\n",
              "        vertical-align: middle;\n",
              "    }\n",
              "\n",
              "    .dataframe tbody tr th {\n",
              "        vertical-align: top;\n",
              "    }\n",
              "\n",
              "    .dataframe thead th {\n",
              "        text-align: right;\n",
              "    }\n",
              "</style>\n",
              "<table border=\"1\" class=\"dataframe\">\n",
              "  <thead>\n",
              "    <tr style=\"text-align: right;\">\n",
              "      <th></th>\n",
              "      <th>PM2.5</th>\n",
              "      <th>temp</th>\n",
              "      <th>wind speed</th>\n",
              "      <th>wind dir</th>\n",
              "    </tr>\n",
              "  </thead>\n",
              "  <tbody>\n",
              "    <tr>\n",
              "      <th>0</th>\n",
              "      <td>18.0</td>\n",
              "      <td>30.5</td>\n",
              "      <td>9.0</td>\n",
              "      <td>235.0</td>\n",
              "    </tr>\n",
              "    <tr>\n",
              "      <th>1</th>\n",
              "      <td>18.0</td>\n",
              "      <td>33.1</td>\n",
              "      <td>12.0</td>\n",
              "      <td>245.0</td>\n",
              "    </tr>\n",
              "    <tr>\n",
              "      <th>2</th>\n",
              "      <td>14.0</td>\n",
              "      <td>33.1</td>\n",
              "      <td>12.0</td>\n",
              "      <td>245.0</td>\n",
              "    </tr>\n",
              "    <tr>\n",
              "      <th>3</th>\n",
              "      <td>8.0</td>\n",
              "      <td>33.1</td>\n",
              "      <td>12.0</td>\n",
              "      <td>245.0</td>\n",
              "    </tr>\n",
              "    <tr>\n",
              "      <th>4</th>\n",
              "      <td>6.0</td>\n",
              "      <td>33.4</td>\n",
              "      <td>17.0</td>\n",
              "      <td>245.0</td>\n",
              "    </tr>\n",
              "  </tbody>\n",
              "</table>\n",
              "</div>"
            ],
            "text/plain": [
              "   PM2.5  temp  wind speed  wind dir\n",
              "0   18.0  30.5         9.0     235.0\n",
              "1   18.0  33.1        12.0     245.0\n",
              "2   14.0  33.1        12.0     245.0\n",
              "3    8.0  33.1        12.0     245.0\n",
              "4    6.0  33.4        17.0     245.0"
            ]
          },
          "execution_count": 24,
          "metadata": {},
          "output_type": "execute_result"
        }
      ],
      "source": [
        "df = past_60_days.append(data_test, ignore_index = True)\n",
        "df.head()"
      ]
    },
    {
      "cell_type": "code",
      "execution_count": 25,
      "metadata": {
        "id": "zwRexsPQqvTy"
      },
      "outputs": [],
      "source": [
        "df.dropna(inplace=True)"
      ]
    },
    {
      "cell_type": "code",
      "execution_count": 26,
      "metadata": {
        "id": "yRpQEcauq0oc"
      },
      "outputs": [
        {
          "data": {
            "text/plain": [
              "(7836, 4)"
            ]
          },
          "execution_count": 26,
          "metadata": {},
          "output_type": "execute_result"
        }
      ],
      "source": [
        "df.shape"
      ]
    },
    {
      "cell_type": "code",
      "execution_count": 27,
      "metadata": {
        "id": "KKrjHeCMeGWX"
      },
      "outputs": [
        {
          "data": {
            "text/plain": [
              "array([[0.04187192, 0.6133829 , 0.0989011 , 0.65277778],\n",
              "       [0.04187192, 0.71003717, 0.13186813, 0.68055556],\n",
              "       [0.0320197 , 0.71003717, 0.13186813, 0.68055556],\n",
              "       ...,\n",
              "       [0.02955665, 0.58364312, 0.26373626, 0.65277778],\n",
              "       [0.0320197 , 0.58364312, 0.27472527, 0.66666667],\n",
              "       [0.0320197 , 0.58364312, 0.26373626, 0.69444444]])"
            ]
          },
          "execution_count": 27,
          "metadata": {},
          "output_type": "execute_result"
        }
      ],
      "source": [
        "inputs = scaler.transform(df)\n",
        "inputs"
      ]
    },
    {
      "cell_type": "code",
      "execution_count": 28,
      "metadata": {
        "id": "x3WdrSMFeHlj"
      },
      "outputs": [],
      "source": [
        "X_test = []\n",
        "y_test = []\n",
        "\n",
        "for i in range(60, inputs.shape[0]):\n",
        "    X_test.append(inputs[i-60:i])\n",
        "    y_test.append(inputs[i, 0])"
      ]
    },
    {
      "cell_type": "code",
      "execution_count": 29,
      "metadata": {
        "id": "1-l8uJ6beJN-"
      },
      "outputs": [
        {
          "data": {
            "text/plain": [
              "((7776, 60, 4), (7776,))"
            ]
          },
          "execution_count": 29,
          "metadata": {},
          "output_type": "execute_result"
        }
      ],
      "source": [
        "X_test, y_test = np.array(X_test), np.array(y_test)\n",
        "X_test.shape, y_test.shape"
      ]
    },
    {
      "cell_type": "markdown",
      "metadata": {
        "id": "ygbCO5D8kMzd"
      },
      "source": [
        "## Model prediction"
      ]
    },
    {
      "cell_type": "code",
      "execution_count": 30,
      "metadata": {
        "id": "OAbQp-tPeKvP"
      },
      "outputs": [],
      "source": [
        "y_pred = modelLSTM.predict(X_test)"
      ]
    },
    {
      "cell_type": "code",
      "execution_count": 31,
      "metadata": {
        "id": "Irrq6QPerRXc"
      },
      "outputs": [
        {
          "data": {
            "text/plain": [
              "array([[0.02687798],\n",
              "       [0.02151454],\n",
              "       [0.02405663],\n",
              "       ...,\n",
              "       [0.03645606],\n",
              "       [0.0372601 ],\n",
              "       [0.03662656]], dtype=float32)"
            ]
          },
          "execution_count": 31,
          "metadata": {},
          "output_type": "execute_result"
        }
      ],
      "source": [
        "y_pred"
      ]
    },
    {
      "cell_type": "code",
      "execution_count": 32,
      "metadata": {
        "id": "mW1siKnzgP5K"
      },
      "outputs": [
        {
          "data": {
            "text/plain": [
              "array([0.00246305, 0.03717472, 0.01098901, 0.00277778])"
            ]
          },
          "execution_count": 32,
          "metadata": {},
          "output_type": "execute_result"
        }
      ],
      "source": [
        "scaler.scale_"
      ]
    },
    {
      "cell_type": "code",
      "execution_count": 33,
      "metadata": {
        "id": "VO8T2VYEeO7q"
      },
      "outputs": [
        {
          "data": {
            "text/plain": [
              "406.0"
            ]
          },
          "execution_count": 33,
          "metadata": {},
          "output_type": "execute_result"
        }
      ],
      "source": [
        "scale = 1/scaler.scale_[0]\n",
        "scale"
      ]
    },
    {
      "cell_type": "code",
      "execution_count": 34,
      "metadata": {
        "id": "6J1AmHFNeP6Z"
      },
      "outputs": [],
      "source": [
        "y_pred = y_pred*scale\n",
        "y_test = y_test*scale"
      ]
    },
    {
      "cell_type": "code",
      "execution_count": 35,
      "metadata": {
        "id": "NsN4tns4A0lG"
      },
      "outputs": [
        {
          "name": "stdout",
          "output_type": "stream",
          "text": [
            "Saraburi RMSE = 3.6197448256774423\n"
          ]
        }
      ],
      "source": [
        "import math\n",
        "from sklearn.metrics import mean_squared_error\n",
        "\n",
        "print(province+' RMSE =', math.sqrt(mean_squared_error(y_test, y_pred)) )"
      ]
    },
    {
      "cell_type": "code",
      "execution_count": 36,
      "metadata": {
        "id": "KkwVJXVaeR4e"
      },
      "outputs": [
        {
          "data": {
            "image/png": "[encoded data removed]",
            "text/plain": [
              "<Figure size 1008x360 with 1 Axes>"
            ]
          },
          "metadata": {
            "needs_background": "light"
          },
          "output_type": "display_data"
        }
      ],
      "source": [
        "# Visualising the results\n",
        "plt.figure(figsize=(14,5))\n",
        "plt.plot(y_test, color = 'red', label = 'Real')\n",
        "plt.plot(y_pred, color = 'blue', label = 'Predicted')\n",
        "plt.xlabel('Time')\n",
        "plt.ylabel('PM2.5')\n",
        "plt.legend()\n",
        "plt.show()"
      ]
    },
    {
      "cell_type": "code",
      "execution_count": 37,
      "metadata": {
        "id": "_9BwFEag82WB"
      },
      "outputs": [],
      "source": [
        "import pickle\n",
        "\n",
        "with open('lstm_'+province.lower()+'.pickle', 'wb') as fp:\n",
        "    pickle.dump(y_pred, fp)"
      ]
    },
    {
      "cell_type": "code",
      "execution_count": 38,
      "metadata": {
        "id": "X2NYaatgLJXQ"
      },
      "outputs": [],
      "source": [
        "df1 = pd.DataFrame(y_pred)"
      ]
    },
    {
      "cell_type": "code",
      "execution_count": 39,
      "metadata": {
        "id": "YErb_X68VpfD"
      },
      "outputs": [],
      "source": [
        "df1.to_csv('lstm_'+province.lower()+'.csv')"
      ]
    },
    {
      "cell_type": "code",
      "execution_count": null,
      "metadata": {
        "id": "j6-u-OHuV6il"
      },
      "outputs": [],
      "source": []
    }
  ],
  "metadata": {
    "accelerator": "GPU",
    "colab": {
      "collapsed_sections": [],
      "name": "LSTM.ipynb",
      "provenance": []
    },
    "kernelspec": {
      "display_name": "Python 3",
      "name": "python3"
    },
    "language_info": {
      "codemirror_mode": {
        "name": "ipython",
        "version": 3
      },
      "file_extension": ".py",
      "mimetype": "text/x-python",
      "name": "python",
      "nbconvert_exporter": "python",
      "pygments_lexer": "ipython3",
      "version": "3.8.8"
    }
  },
  "nbformat": 4,
  "nbformat_minor": 0
}
