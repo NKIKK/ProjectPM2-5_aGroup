{
 "cells": [
  {
   "cell_type": "code",
   "execution_count": null,
   "metadata": {},
   "outputs": [],
   "source": [
    "import pandas as pd\n",
    "import numpy as np\n",
    "import matplotlib.pyplot as plt\n",
    "import seaborn as sns\n",
    "from sklearn.ensemble import RandomForestRegressor\n",
    "from sklearn.model_selection import TimeSeriesSplit\n",
    "from tqdm.notebook import tqdm_notebook\n",
    "from sklearn import metrics"
   ]
  },
  {
   "cell_type": "code",
   "execution_count": null,
   "metadata": {},
   "outputs": [],
   "source": [
    "provinces = ['BKK','Chiangmai','Khonkaen','Rayong','Saraburi','Surat']\n",
    "province = provinces[3]\n",
    "data = pd.read_csv('./'+province+'/train/'+province.lower()+'_train_format_2.csv')\n",
    "\n",
    "y_train = data.pop('PM2.5')\n",
    "X_train = data"
   ]
  },
  {
   "cell_type": "code",
   "execution_count": null,
   "metadata": {},
   "outputs": [],
   "source": [
    "tscv = TimeSeriesSplit(n_splits=3)\n",
    "i = 1\n",
    "score = []\n",
    "for tr_index, val_index in tqdm_notebook(tscv.split(X_train)):\n",
    "    X_tr, X_val = X_train.iloc[tr_index], X_train.iloc[val_index]\n",
    "    y_tr, y_val = y_train.iloc[tr_index], y_train.iloc[val_index]\n",
    "    for mf in tqdm_notebook(np.linspace(1, 7, 7)):\n",
    "        for ne in np.linspace(50, 100, 6):\n",
    "            for md in np.linspace(20, 40, 5):\n",
    "                for msl in np.linspace(30, 100, 8):\n",
    "                    rfr = RandomForestRegressor(\n",
    "                        max_features=int(mf),\n",
    "                        n_estimators=int(ne),\n",
    "                        max_depth=int(md),\n",
    "                        min_samples_leaf=int(msl),\n",
    "                        n_jobs = -1)\n",
    "                    rfr.fit(X_tr, y_tr)\n",
    "                    y_pred = rfr.predict(X_val)\n",
    "                    score.append([i,\n",
    "                                  mf, \n",
    "                                  ne,\n",
    "                                  md, \n",
    "                                  msl, \n",
    "                                  rfr.score(X_val, y_val),\n",
    "                                  np.sqrt(metrics.mean_squared_error(y_val, y_pred))])\n",
    "    i += 1"
   ]
  },
  {
   "cell_type": "code",
   "execution_count": null,
   "metadata": {},
   "outputs": [],
   "source": [
    "import pickle\n",
    "\n",
    "with open('rf_'+province.lower()+'_score.pickle', 'wb') as fp:\n",
    "    pickle.dump(score, fp)"
   ]
  },
  {
   "cell_type": "code",
   "execution_count": null,
   "metadata": {},
   "outputs": [],
   "source": [
    "score2 = np.array(score)\n",
    "print('best parem:',score[np.argmin(score2, axis=0)[-1]]) #please note all these params in note"
   ]
  }
 ],
 "metadata": {
  "language_info": {
   "name": "python"
  },
  "orig_nbformat": 4
 },
 "nbformat": 4,
 "nbformat_minor": 2
}
