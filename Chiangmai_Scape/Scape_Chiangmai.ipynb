{
 "cells": [
  {
   "cell_type": "code",
   "execution_count": 1,
   "metadata": {},
   "outputs": [],
   "source": [
    "from selenium import webdriver\n",
    "from selenium.webdriver.chrome.service import Service as ChromeService\n",
    "from webdriver_manager.chrome import ChromeDriverManager\n",
    "\n",
    "import time\n",
    "import os\n",
    "\n",
    "import pandas as pd\n",
    "from datetime import datetime, timedelta\n",
    "from selenium.webdriver.common.by import By\n",
    "from selenium.webdriver.support.ui import WebDriverWait\n",
    "from selenium.webdriver.support import expected_conditions as EC\n"
   ]
  },
  {
   "cell_type": "code",
   "execution_count": 2,
   "metadata": {},
   "outputs": [
    {
     "name": "stderr",
     "output_type": "stream",
     "text": [
      "\n",
      "\n",
      "====== WebDriver manager ======\n",
      "Current google-chrome version is 99.0.4844\n",
      "Get LATEST chromedriver version for 99.0.4844 google-chrome\n",
      "Trying to download new driver from https://chromedriver.storage.googleapis.com/99.0.4844.51/chromedriver_win32.zip\n",
      "Driver has been saved in cache [C:\\Users\\NKIKK\\.wdm\\drivers\\chromedriver\\win32\\99.0.4844.51]\n"
     ]
    }
   ],
   "source": [
    "service = ChromeService(executable_path=ChromeDriverManager().install())\n",
    "driver = webdriver.Chrome(service=service)\n",
    "\n",
    "data = pd.read_csv('../Chiangmai/test/chiangmai_test.csv')\n",
    "data.columns = [\"date\",\"PM2.5\"]\n",
    "\n",
    "data['date_utc'] = pd.to_datetime(data['date']) - timedelta(hours=7)\n",
    "data['url_date'] = data['date_utc'].apply(lambda x : x.strftime(\"%Y/%m/%d/%H%M\")+\"Z\")"
   ]
  },
  {
   "cell_type": "code",
   "execution_count": 3,
   "metadata": {},
   "outputs": [],
   "source": [
    "def getTemp(lat,long,date):\n",
    "    url = \"https://earth.nullschool.net/#\"+date+'/wind/surface/level/overlay=temp/orthographic=97.73,-347.68,3906/loc='+ long+ ','+lat\n",
    "    # driver.implicitly_wait(1000)\n",
    "    driver.get(url=url)\n",
    "    time.sleep(2)\n",
    "    html = driver.execute_script(\"return document.documentElement.outerHTML\")\n",
    "\n",
    "    all_link = driver.find_elements(by=By.CSS_SELECTOR, value='#spotlight-panel.panel.card')\n",
    "    for link in all_link:\n",
    "        return link.text.split(\"\\n\")[-2]\n",
    "def getWind(lat,long,date):\n",
    "    url = \"https://earth.nullschool.net/#\"+date+'/wind/isobaric/850hPa/orthographic=97.73,-347.68,3906/loc='+ long+ ','+lat\n",
    "    driver.get(url=url)\n",
    "    time.sleep(2)\n",
    "    html = driver.execute_script(\"return document.documentElement.outerHTML\")\n",
    "    all_link = driver.find_elements(by=By.CSS_SELECTOR, value='#spotlight-panel.panel.card')\n",
    "    for link in all_link:\n",
    "        return link.text.split(\"\\n\")[-2]\n"
   ]
  },
  {
   "cell_type": "code",
   "execution_count": 4,
   "metadata": {},
   "outputs": [],
   "source": [
    "lat='18.840633'\n",
    "long = '98.969661'\n",
    "province='Chiangmai'"
   ]
  },
  {
   "cell_type": "code",
   "execution_count": 36,
   "metadata": {},
   "outputs": [],
   "source": [
    "data1=data[:1000].copy()\n",
    "\n",
    "data1['temp'] = data1['url_date'].apply(lambda x : getTemp(lat,long,x))\n",
    "data1.to_csv('Chiangmai_withTemp1.csv')"
   ]
  },
  {
   "cell_type": "code",
   "execution_count": 33,
   "metadata": {},
   "outputs": [],
   "source": []
  },
  {
   "cell_type": "code",
   "execution_count": 8,
   "metadata": {},
   "outputs": [],
   "source": [
    "data1=data[:1000].copy()\n",
    "data1['wind'] = data1['url_date'].apply(lambda x : getWind(lat,long,x))\n",
    "data1.to_csv('Chiangmai_withTempAndWind1.csv')"
   ]
  },
  {
   "cell_type": "code",
   "execution_count": 5,
   "metadata": {},
   "outputs": [],
   "source": [
    "i=1\n",
    "r=1000\n",
    "l=len(data)"
   ]
  },
  {
   "cell_type": "code",
   "execution_count": 6,
   "metadata": {},
   "outputs": [
    {
     "name": "stdout",
     "output_type": "stream",
     "text": [
      "-------\n",
      "i= 1\n",
      "1000 2000\n",
      "Chiangmai_withTemp1.csv\n",
      "saved with temp i= 1\n",
      "Chiangmai_withTempAndWind1.csv\n",
      "saved with temp and wind i= 1\n",
      "-------\n",
      "i= 2\n",
      "2000 3000\n",
      "Chiangmai_withTemp2.csv\n",
      "saved with temp i= 2\n",
      "Chiangmai_withTempAndWind2.csv\n",
      "saved with temp and wind i= 2\n",
      "-------\n",
      "i= 3\n",
      "3000 4000\n",
      "Chiangmai_withTemp3.csv\n",
      "saved with temp i= 3\n",
      "Chiangmai_withTempAndWind3.csv\n",
      "saved with temp and wind i= 3\n",
      "-------\n",
      "i= 4\n",
      "4000 5000\n",
      "Chiangmai_withTemp4.csv\n",
      "saved with temp i= 4\n",
      "Chiangmai_withTempAndWind4.csv\n",
      "saved with temp and wind i= 4\n",
      "-------\n",
      "i= 5\n",
      "5000 6000\n",
      "Chiangmai_withTemp5.csv\n",
      "saved with temp i= 5\n",
      "Chiangmai_withTempAndWind5.csv\n",
      "saved with temp and wind i= 5\n",
      "-------\n",
      "i= 6\n",
      "6000 7000\n",
      "Chiangmai_withTemp6.csv\n",
      "saved with temp i= 6\n",
      "Chiangmai_withTempAndWind6.csv\n",
      "saved with temp and wind i= 6\n",
      "-------\n",
      "i= 7\n",
      "7000 8000\n",
      "Chiangmai_withTemp7.csv\n",
      "saved with temp i= 7\n",
      "Chiangmai_withTempAndWind7.csv\n",
      "saved with temp and wind i= 7\n",
      "-------\n",
      "i= 8\n",
      "8000 8785\n",
      "Chiangmai_withTemp8.csv\n",
      "saved with temp i= 8\n",
      "Chiangmai_withTempAndWind8.csv\n",
      "saved with temp and wind i= 8\n"
     ]
    }
   ],
   "source": [
    "while(True):\n",
    "    print(\"-------\")\n",
    "    print(\"i=\",i)\n",
    "\n",
    "    b = min(r*i+r,l+1)\n",
    "    print(r*i,b)\n",
    "    \n",
    "    d=data[r*i:b].copy()\n",
    "\n",
    "    time.sleep(3)\n",
    "\n",
    "    d['temp'] = d['url_date'].apply(lambda x : getTemp(lat,long,x))\n",
    "    f1=province+'_withTemp'+str(i)+'.csv'\n",
    "    print(f1)\n",
    "    d.to_csv(f1)\n",
    "    print(\"saved with temp i=\",i)\n",
    "\n",
    "    time.sleep(3)\n",
    "\n",
    "    d['wind'] = d['url_date'].apply(lambda x : getWind(lat,long,x))\n",
    "    f2=province+'_withTempAndWind'+str(i)+'.csv'\n",
    "    print(f2)\n",
    "    d.to_csv(f2)\n",
    "    print(\"saved with temp and wind i=\",i)\n",
    "\n",
    "    if(b-1==l):\n",
    "        break\n",
    "\n",
    "    i+=1\n"
   ]
  },
  {
   "cell_type": "code",
   "execution_count": null,
   "metadata": {},
   "outputs": [],
   "source": []
  }
 ],
 "metadata": {
  "interpreter": {
   "hash": "ef98beed530724fd48f935abab518c0f3e16171ba4883f2358360793e5698786"
  },
  "kernelspec": {
   "display_name": "Python 3.8.8 ('base')",
   "language": "python",
   "name": "python3"
  },
  "language_info": {
   "codemirror_mode": {
    "name": "ipython",
    "version": 3
   },
   "file_extension": ".py",
   "mimetype": "text/x-python",
   "name": "python",
   "nbconvert_exporter": "python",
   "pygments_lexer": "ipython3",
   "version": "3.8.8"
  },
  "orig_nbformat": 4
 },
 "nbformat": 4,
 "nbformat_minor": 2
}
