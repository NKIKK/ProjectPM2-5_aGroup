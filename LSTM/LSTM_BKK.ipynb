{
 "cells": [
  {
   "cell_type": "code",
   "execution_count": null,
   "metadata": {},
   "outputs": [],
   "source": []
  },
  {
   "cell_type": "code",
   "execution_count": 1,
   "metadata": {},
   "outputs": [
    {
     "name": "stderr",
     "output_type": "stream",
     "text": [
      "'nvidia-smi' is not recognized as an internal or external command,\n",
      "operable program or batch file.\n"
     ]
    }
   ],
   "source": [
    "!nvidia-smi"
   ]
  },
  {
   "cell_type": "code",
   "execution_count": 2,
   "metadata": {},
   "outputs": [],
   "source": [
    "import numpy as np\n",
    "import matplotlib.pyplot as plt\n",
    "import pandas as pd\n",
    "from sklearn.preprocessing import MinMaxScaler"
   ]
  },
  {
   "cell_type": "code",
   "execution_count": 3,
   "metadata": {},
   "outputs": [
    {
     "data": {
      "text/html": [
       "<div>\n",
       "<style scoped>\n",
       "    .dataframe tbody tr th:only-of-type {\n",
       "        vertical-align: middle;\n",
       "    }\n",
       "\n",
       "    .dataframe tbody tr th {\n",
       "        vertical-align: top;\n",
       "    }\n",
       "\n",
       "    .dataframe thead th {\n",
       "        text-align: right;\n",
       "    }\n",
       "</style>\n",
       "<table border=\"1\" class=\"dataframe\">\n",
       "  <thead>\n",
       "    <tr style=\"text-align: right;\">\n",
       "      <th></th>\n",
       "      <th>date_time</th>\n",
       "      <th>PM2.5</th>\n",
       "      <th>temp</th>\n",
       "      <th>wind speed</th>\n",
       "      <th>wind dir</th>\n",
       "      <th>lat</th>\n",
       "      <th>long</th>\n",
       "    </tr>\n",
       "  </thead>\n",
       "  <tbody>\n",
       "    <tr>\n",
       "      <th>15680</th>\n",
       "      <td>2019-04-15 08:00:00</td>\n",
       "      <td>18.0</td>\n",
       "      <td>31.1</td>\n",
       "      <td>16.0</td>\n",
       "      <td>175.0</td>\n",
       "      <td>13.729984</td>\n",
       "      <td>100.536443</td>\n",
       "    </tr>\n",
       "    <tr>\n",
       "      <th>4042</th>\n",
       "      <td>2017-12-16 10:00:00</td>\n",
       "      <td>32.0</td>\n",
       "      <td>29.7</td>\n",
       "      <td>27.0</td>\n",
       "      <td>55.0</td>\n",
       "      <td>13.729984</td>\n",
       "      <td>100.536443</td>\n",
       "    </tr>\n",
       "    <tr>\n",
       "      <th>22644</th>\n",
       "      <td>2020-01-30 12:00:00</td>\n",
       "      <td>41.0</td>\n",
       "      <td>28.7</td>\n",
       "      <td>18.0</td>\n",
       "      <td>100.0</td>\n",
       "      <td>13.729984</td>\n",
       "      <td>100.536443</td>\n",
       "    </tr>\n",
       "    <tr>\n",
       "      <th>5232</th>\n",
       "      <td>2018-02-04 00:00:00</td>\n",
       "      <td>52.0</td>\n",
       "      <td>24.5</td>\n",
       "      <td>20.0</td>\n",
       "      <td>110.0</td>\n",
       "      <td>13.729984</td>\n",
       "      <td>100.536443</td>\n",
       "    </tr>\n",
       "    <tr>\n",
       "      <th>22792</th>\n",
       "      <td>2020-02-05 16:00:00</td>\n",
       "      <td>38.0</td>\n",
       "      <td>30.8</td>\n",
       "      <td>16.0</td>\n",
       "      <td>120.0</td>\n",
       "      <td>13.729984</td>\n",
       "      <td>100.536443</td>\n",
       "    </tr>\n",
       "  </tbody>\n",
       "</table>\n",
       "</div>"
      ],
      "text/plain": [
       "                 date_time  PM2.5  temp  wind speed  wind dir        lat  \\\n",
       "15680  2019-04-15 08:00:00   18.0  31.1        16.0     175.0  13.729984   \n",
       "4042   2017-12-16 10:00:00   32.0  29.7        27.0      55.0  13.729984   \n",
       "22644  2020-01-30 12:00:00   41.0  28.7        18.0     100.0  13.729984   \n",
       "5232   2018-02-04 00:00:00   52.0  24.5        20.0     110.0  13.729984   \n",
       "22792  2020-02-05 16:00:00   38.0  30.8        16.0     120.0  13.729984   \n",
       "\n",
       "             long  \n",
       "15680  100.536443  \n",
       "4042   100.536443  \n",
       "22644  100.536443  \n",
       "5232   100.536443  \n",
       "22792  100.536443  "
      ]
     },
     "execution_count": 3,
     "metadata": {},
     "output_type": "execute_result"
    }
   ],
   "source": [
    "data_training = pd.read_csv('C:/Users/napha/Documents/github/ProjectPM2-5_aGroup/BKK/train/bkk_train_format.csv', date_parser = True)\n",
    "data_training.sample(5)"
   ]
  },
  {
   "cell_type": "code",
   "execution_count": 4,
   "metadata": {},
   "outputs": [
    {
     "data": {
      "text/html": [
       "<div>\n",
       "<style scoped>\n",
       "    .dataframe tbody tr th:only-of-type {\n",
       "        vertical-align: middle;\n",
       "    }\n",
       "\n",
       "    .dataframe tbody tr th {\n",
       "        vertical-align: top;\n",
       "    }\n",
       "\n",
       "    .dataframe thead th {\n",
       "        text-align: right;\n",
       "    }\n",
       "</style>\n",
       "<table border=\"1\" class=\"dataframe\">\n",
       "  <thead>\n",
       "    <tr style=\"text-align: right;\">\n",
       "      <th></th>\n",
       "      <th>PM2.5</th>\n",
       "      <th>temp</th>\n",
       "      <th>wind speed</th>\n",
       "      <th>wind dir</th>\n",
       "    </tr>\n",
       "  </thead>\n",
       "  <tbody>\n",
       "    <tr>\n",
       "      <th>0</th>\n",
       "      <td>14.0</td>\n",
       "      <td>27.9</td>\n",
       "      <td>16.0</td>\n",
       "      <td>260.0</td>\n",
       "    </tr>\n",
       "    <tr>\n",
       "      <th>1</th>\n",
       "      <td>10.0</td>\n",
       "      <td>27.9</td>\n",
       "      <td>16.0</td>\n",
       "      <td>260.0</td>\n",
       "    </tr>\n",
       "    <tr>\n",
       "      <th>2</th>\n",
       "      <td>17.0</td>\n",
       "      <td>27.9</td>\n",
       "      <td>16.0</td>\n",
       "      <td>260.0</td>\n",
       "    </tr>\n",
       "    <tr>\n",
       "      <th>3</th>\n",
       "      <td>20.0</td>\n",
       "      <td>27.9</td>\n",
       "      <td>16.0</td>\n",
       "      <td>260.0</td>\n",
       "    </tr>\n",
       "    <tr>\n",
       "      <th>4</th>\n",
       "      <td>15.0</td>\n",
       "      <td>27.4</td>\n",
       "      <td>16.0</td>\n",
       "      <td>255.0</td>\n",
       "    </tr>\n",
       "  </tbody>\n",
       "</table>\n",
       "</div>"
      ],
      "text/plain": [
       "   PM2.5  temp  wind speed  wind dir\n",
       "0   14.0  27.9        16.0     260.0\n",
       "1   10.0  27.9        16.0     260.0\n",
       "2   17.0  27.9        16.0     260.0\n",
       "3   20.0  27.9        16.0     260.0\n",
       "4   15.0  27.4        16.0     255.0"
      ]
     },
     "execution_count": 4,
     "metadata": {},
     "output_type": "execute_result"
    }
   ],
   "source": [
    "data_training = data_training.drop(['date_time','lat', 'long'], axis = 1)\n",
    "data_training.head()"
   ]
  },
  {
   "cell_type": "code",
   "execution_count": 5,
   "metadata": {},
   "outputs": [
    {
     "data": {
      "text/html": [
       "<div>\n",
       "<style scoped>\n",
       "    .dataframe tbody tr th:only-of-type {\n",
       "        vertical-align: middle;\n",
       "    }\n",
       "\n",
       "    .dataframe tbody tr th {\n",
       "        vertical-align: top;\n",
       "    }\n",
       "\n",
       "    .dataframe thead th {\n",
       "        text-align: right;\n",
       "    }\n",
       "</style>\n",
       "<table border=\"1\" class=\"dataframe\">\n",
       "  <thead>\n",
       "    <tr style=\"text-align: right;\">\n",
       "      <th></th>\n",
       "      <th>Unnamed: 0</th>\n",
       "      <th>date</th>\n",
       "      <th>PM2.5</th>\n",
       "      <th>date_utc</th>\n",
       "      <th>url_date</th>\n",
       "      <th>temp</th>\n",
       "      <th>wind</th>\n",
       "      <th>dir</th>\n",
       "    </tr>\n",
       "  </thead>\n",
       "  <tbody>\n",
       "    <tr>\n",
       "      <th>3757</th>\n",
       "      <td>3757</td>\n",
       "      <td>2020-12-04 13:00:00</td>\n",
       "      <td>12.0</td>\n",
       "      <td>2020-12-04 06:00:00</td>\n",
       "      <td>2020/12/04/0600Z</td>\n",
       "      <td>28.7</td>\n",
       "      <td>20</td>\n",
       "      <td>40</td>\n",
       "    </tr>\n",
       "    <tr>\n",
       "      <th>203</th>\n",
       "      <td>203</td>\n",
       "      <td>2020-07-09 11:00:00</td>\n",
       "      <td>10.0</td>\n",
       "      <td>2020-07-09 04:00:00</td>\n",
       "      <td>2020/07/09/0400Z</td>\n",
       "      <td>30.7</td>\n",
       "      <td>13</td>\n",
       "      <td>250</td>\n",
       "    </tr>\n",
       "    <tr>\n",
       "      <th>2512</th>\n",
       "      <td>2512</td>\n",
       "      <td>2020-10-13 16:00:00</td>\n",
       "      <td>25.0</td>\n",
       "      <td>2020-10-13 09:00:00</td>\n",
       "      <td>2020/10/13/0900Z</td>\n",
       "      <td>25.8</td>\n",
       "      <td>36</td>\n",
       "      <td>60</td>\n",
       "    </tr>\n",
       "    <tr>\n",
       "      <th>5932</th>\n",
       "      <td>5932</td>\n",
       "      <td>2021-03-05 04:00:00</td>\n",
       "      <td>20.0</td>\n",
       "      <td>2021-03-04 21:00:00</td>\n",
       "      <td>2021/03/04/2100Z</td>\n",
       "      <td>27.3</td>\n",
       "      <td>17</td>\n",
       "      <td>125</td>\n",
       "    </tr>\n",
       "    <tr>\n",
       "      <th>7944</th>\n",
       "      <td>7944</td>\n",
       "      <td>2021-05-28 00:00:00</td>\n",
       "      <td>17.0</td>\n",
       "      <td>2021-05-27 17:00:00</td>\n",
       "      <td>2021/05/27/1700Z</td>\n",
       "      <td>26.4</td>\n",
       "      <td>12</td>\n",
       "      <td>220</td>\n",
       "    </tr>\n",
       "  </tbody>\n",
       "</table>\n",
       "</div>"
      ],
      "text/plain": [
       "      Unnamed: 0                 date  PM2.5             date_utc  \\\n",
       "3757        3757  2020-12-04 13:00:00   12.0  2020-12-04 06:00:00   \n",
       "203          203  2020-07-09 11:00:00   10.0  2020-07-09 04:00:00   \n",
       "2512        2512  2020-10-13 16:00:00   25.0  2020-10-13 09:00:00   \n",
       "5932        5932  2021-03-05 04:00:00   20.0  2021-03-04 21:00:00   \n",
       "7944        7944  2021-05-28 00:00:00   17.0  2021-05-27 17:00:00   \n",
       "\n",
       "              url_date  temp  wind  dir  \n",
       "3757  2020/12/04/0600Z  28.7    20   40  \n",
       "203   2020/07/09/0400Z  30.7    13  250  \n",
       "2512  2020/10/13/0900Z  25.8    36   60  \n",
       "5932  2021/03/04/2100Z  27.3    17  125  \n",
       "7944  2021/05/27/1700Z  26.4    12  220  "
      ]
     },
     "execution_count": 5,
     "metadata": {},
     "output_type": "execute_result"
    }
   ],
   "source": [
    "data_test = pd.read_csv('C:/Users/napha/Documents/github/ProjectPM2-5_aGroup/BKK_Scape/BKK_scape.csv', date_parser = True)\n",
    "data_test.sample(5)"
   ]
  },
  {
   "cell_type": "code",
   "execution_count": 6,
   "metadata": {},
   "outputs": [],
   "source": [
    "data_test = data_test.drop(['Unnamed: 0', 'date_utc', 'url_date'], axis = 1)"
   ]
  },
  {
   "cell_type": "code",
   "execution_count": 7,
   "metadata": {},
   "outputs": [
    {
     "data": {
      "text/html": [
       "<div>\n",
       "<style scoped>\n",
       "    .dataframe tbody tr th:only-of-type {\n",
       "        vertical-align: middle;\n",
       "    }\n",
       "\n",
       "    .dataframe tbody tr th {\n",
       "        vertical-align: top;\n",
       "    }\n",
       "\n",
       "    .dataframe thead th {\n",
       "        text-align: right;\n",
       "    }\n",
       "</style>\n",
       "<table border=\"1\" class=\"dataframe\">\n",
       "  <thead>\n",
       "    <tr style=\"text-align: right;\">\n",
       "      <th></th>\n",
       "      <th>date_time</th>\n",
       "      <th>PM2.5</th>\n",
       "      <th>temp</th>\n",
       "      <th>wind speed</th>\n",
       "      <th>wind dir</th>\n",
       "    </tr>\n",
       "  </thead>\n",
       "  <tbody>\n",
       "    <tr>\n",
       "      <th>0</th>\n",
       "      <td>2020-07-01 00:00:00</td>\n",
       "      <td>9.0</td>\n",
       "      <td>29.4</td>\n",
       "      <td>35</td>\n",
       "      <td>270</td>\n",
       "    </tr>\n",
       "    <tr>\n",
       "      <th>1</th>\n",
       "      <td>2020-07-01 01:00:00</td>\n",
       "      <td>8.0</td>\n",
       "      <td>29.4</td>\n",
       "      <td>42</td>\n",
       "      <td>260</td>\n",
       "    </tr>\n",
       "    <tr>\n",
       "      <th>2</th>\n",
       "      <td>2020-07-01 02:00:00</td>\n",
       "      <td>12.0</td>\n",
       "      <td>28.5</td>\n",
       "      <td>42</td>\n",
       "      <td>260</td>\n",
       "    </tr>\n",
       "    <tr>\n",
       "      <th>3</th>\n",
       "      <td>2020-07-01 03:00:00</td>\n",
       "      <td>9.0</td>\n",
       "      <td>28.5</td>\n",
       "      <td>42</td>\n",
       "      <td>260</td>\n",
       "    </tr>\n",
       "    <tr>\n",
       "      <th>4</th>\n",
       "      <td>2020-07-01 04:00:00</td>\n",
       "      <td>8.0</td>\n",
       "      <td>28.3</td>\n",
       "      <td>55</td>\n",
       "      <td>270</td>\n",
       "    </tr>\n",
       "  </tbody>\n",
       "</table>\n",
       "</div>"
      ],
      "text/plain": [
       "             date_time  PM2.5  temp  wind speed  wind dir\n",
       "0  2020-07-01 00:00:00    9.0  29.4          35       270\n",
       "1  2020-07-01 01:00:00    8.0  29.4          42       260\n",
       "2  2020-07-01 02:00:00   12.0  28.5          42       260\n",
       "3  2020-07-01 03:00:00    9.0  28.5          42       260\n",
       "4  2020-07-01 04:00:00    8.0  28.3          55       270"
      ]
     },
     "execution_count": 7,
     "metadata": {},
     "output_type": "execute_result"
    }
   ],
   "source": [
    "data_test = data_test.rename(columns={'date':'date_time', 'wind':'wind speed', 'dir':'wind dir'})\n",
    "data_test.head()"
   ]
  },
  {
   "cell_type": "code",
   "execution_count": 8,
   "metadata": {},
   "outputs": [],
   "source": [
    "scaler = MinMaxScaler()\n",
    "data_training = scaler.fit_transform(data_training)"
   ]
  },
  {
   "cell_type": "code",
   "execution_count": 9,
   "metadata": {},
   "outputs": [
    {
     "data": {
      "text/plain": [
       "array([[ 14. ,  27.9,  16. , 260. ],\n",
       "       [ 10. ,  27.9,  16. , 260. ],\n",
       "       [ 17. ,  27.9,  16. , 260. ],\n",
       "       ...,\n",
       "       [ 17. ,  30.3,  36. , 265. ],\n",
       "       [  5. ,  29.4,  35. , 270. ],\n",
       "       [  7. ,  29.4,  35. , 270. ]])"
      ]
     },
     "execution_count": 9,
     "metadata": {},
     "output_type": "execute_result"
    }
   ],
   "source": [
    "scaler.inverse_transform(data_training)"
   ]
  },
  {
   "cell_type": "code",
   "execution_count": 10,
   "metadata": {},
   "outputs": [
    {
     "data": {
      "text/plain": [
       "array([[ 10.97637795,   9.87703349,  16.        , 260.        ],\n",
       "       [  6.97637795,   9.87703349,  16.        , 260.        ],\n",
       "       [ 13.97637795,   9.87703349,  16.        , 260.        ],\n",
       "       ...,\n",
       "       [ 13.97637795,  12.27703349,  36.        , 265.        ],\n",
       "       [  1.97637795,  11.37703349,  35.        , 270.        ],\n",
       "       [  3.97637795,  11.37703349,  35.        , 270.        ]])"
      ]
     },
     "execution_count": 10,
     "metadata": {},
     "output_type": "execute_result"
    }
   ],
   "source": [
    "scale = 1/scaler.scale_\n",
    "temp = (data_training * scale) + scaler.min_\n",
    "temp"
   ]
  },
  {
   "cell_type": "code",
   "execution_count": 11,
   "metadata": {},
   "outputs": [],
   "source": [
    "X_train = []\n",
    "y_train = []\n",
    "\n",
    "for i in range(60, data_training.shape[0]):\n",
    "    X_train.append(data_training[i-60:i])\n",
    "    y_train.append(data_training[i, 0])\n",
    "\n",
    "X_train, y_train = np.array(X_train), np.array(y_train)"
   ]
  },
  {
   "cell_type": "code",
   "execution_count": 12,
   "metadata": {},
   "outputs": [
    {
     "ename": "ModuleNotFoundError",
     "evalue": "No module named 'tensorflow.python'",
     "output_type": "error",
     "traceback": [
      "\u001b[1;31m---------------------------------------------------------------------------\u001b[0m",
      "\u001b[1;31mModuleNotFoundError\u001b[0m                       Traceback (most recent call last)",
      "\u001b[1;32mc:\\Users\\napha\\Documents\\github\\ProjectPM2-5_aGroup\\LSTM\\LSTM_BKK.ipynb Cell 12'\u001b[0m in \u001b[0;36m<cell line: 1>\u001b[1;34m()\u001b[0m\n\u001b[1;32m----> <a href='vscode-notebook-cell:/c%3A/Users/napha/Documents/github/ProjectPM2-5_aGroup/LSTM/LSTM_BKK.ipynb#ch0000011?line=0'>1</a>\u001b[0m \u001b[39mimport\u001b[39;00m \u001b[39mtensorflow\u001b[39;00m \u001b[39mas\u001b[39;00m \u001b[39mtf\u001b[39;00m\n\u001b[0;32m      <a href='vscode-notebook-cell:/c%3A/Users/napha/Documents/github/ProjectPM2-5_aGroup/LSTM/LSTM_BKK.ipynb#ch0000011?line=1'>2</a>\u001b[0m \u001b[39mfrom\u001b[39;00m \u001b[39mtensorflow\u001b[39;00m\u001b[39m.\u001b[39;00m\u001b[39mkeras\u001b[39;00m \u001b[39mimport\u001b[39;00m Sequential\n\u001b[0;32m      <a href='vscode-notebook-cell:/c%3A/Users/napha/Documents/github/ProjectPM2-5_aGroup/LSTM/LSTM_BKK.ipynb#ch0000011?line=2'>3</a>\u001b[0m \u001b[39mfrom\u001b[39;00m \u001b[39mtensorflow\u001b[39;00m\u001b[39m.\u001b[39;00m\u001b[39mkeras\u001b[39;00m\u001b[39m.\u001b[39;00m\u001b[39mlayers\u001b[39;00m \u001b[39mimport\u001b[39;00m Dense, LSTM, Dropout\n",
      "File \u001b[1;32m~\\AppData\\Local\\Packages\\PythonSoftwareFoundation.Python.3.10_qbz5n2kfra8p0\\LocalCache\\local-packages\\Python310\\site-packages\\tensorflow\\__init__.py:37\u001b[0m, in \u001b[0;36m<module>\u001b[1;34m\u001b[0m\n\u001b[0;32m     <a href='file:///c%3A/Users/napha/AppData/Local/Packages/PythonSoftwareFoundation.Python.3.10_qbz5n2kfra8p0/LocalCache/local-packages/Python310/site-packages/tensorflow/__init__.py?line=33'>34</a>\u001b[0m \u001b[39mimport\u001b[39;00m \u001b[39msys\u001b[39;00m \u001b[39mas\u001b[39;00m \u001b[39m_sys\u001b[39;00m\n\u001b[0;32m     <a href='file:///c%3A/Users/napha/AppData/Local/Packages/PythonSoftwareFoundation.Python.3.10_qbz5n2kfra8p0/LocalCache/local-packages/Python310/site-packages/tensorflow/__init__.py?line=34'>35</a>\u001b[0m \u001b[39mimport\u001b[39;00m \u001b[39mtyping\u001b[39;00m \u001b[39mas\u001b[39;00m \u001b[39m_typing\u001b[39;00m\n\u001b[1;32m---> <a href='file:///c%3A/Users/napha/AppData/Local/Packages/PythonSoftwareFoundation.Python.3.10_qbz5n2kfra8p0/LocalCache/local-packages/Python310/site-packages/tensorflow/__init__.py?line=36'>37</a>\u001b[0m \u001b[39mfrom\u001b[39;00m \u001b[39mtensorflow\u001b[39;00m\u001b[39m.\u001b[39;00m\u001b[39mpython\u001b[39;00m\u001b[39m.\u001b[39;00m\u001b[39mtools\u001b[39;00m \u001b[39mimport\u001b[39;00m module_util \u001b[39mas\u001b[39;00m _module_util\n\u001b[0;32m     <a href='file:///c%3A/Users/napha/AppData/Local/Packages/PythonSoftwareFoundation.Python.3.10_qbz5n2kfra8p0/LocalCache/local-packages/Python310/site-packages/tensorflow/__init__.py?line=37'>38</a>\u001b[0m \u001b[39mfrom\u001b[39;00m \u001b[39mtensorflow\u001b[39;00m\u001b[39m.\u001b[39;00m\u001b[39mpython\u001b[39;00m\u001b[39m.\u001b[39;00m\u001b[39mutil\u001b[39;00m\u001b[39m.\u001b[39;00m\u001b[39mlazy_loader\u001b[39;00m \u001b[39mimport\u001b[39;00m LazyLoader \u001b[39mas\u001b[39;00m _LazyLoader\n\u001b[0;32m     <a href='file:///c%3A/Users/napha/AppData/Local/Packages/PythonSoftwareFoundation.Python.3.10_qbz5n2kfra8p0/LocalCache/local-packages/Python310/site-packages/tensorflow/__init__.py?line=39'>40</a>\u001b[0m \u001b[39m# Make sure code inside the TensorFlow codebase can use tf2.enabled() at import.\u001b[39;00m\n",
      "\u001b[1;31mModuleNotFoundError\u001b[0m: No module named 'tensorflow.python'"
     ]
    }
   ],
   "source": [
    "import tensorflow as tf\n",
    "from tensorflow.keras import Sequential\n",
    "from tensorflow.keras.layers import Dense, LSTM, Dropout"
   ]
  },
  {
   "cell_type": "code",
   "execution_count": null,
   "metadata": {},
   "outputs": [
    {
     "ename": "NameError",
     "evalue": "name 'tf' is not defined",
     "output_type": "error",
     "traceback": [
      "\u001b[1;31m---------------------------------------------------------------------------\u001b[0m",
      "\u001b[1;31mNameError\u001b[0m                                 Traceback (most recent call last)",
      "\u001b[1;32mc:\\Users\\napha\\Documents\\github\\ProjectPM2-5_aGroup\\LSTM\\LSTM_BKK.ipynb Cell 13'\u001b[0m in \u001b[0;36m<cell line: 1>\u001b[1;34m()\u001b[0m\n\u001b[1;32m----> <a href='vscode-notebook-cell:/c%3A/Users/napha/Documents/github/ProjectPM2-5_aGroup/LSTM/LSTM_BKK.ipynb#ch0000017?line=0'>1</a>\u001b[0m tf\u001b[39m.\u001b[39m__version__\n",
      "\u001b[1;31mNameError\u001b[0m: name 'tf' is not defined"
     ]
    }
   ],
   "source": [
    "tf.__version__"
   ]
  },
  {
   "cell_type": "code",
   "execution_count": null,
   "metadata": {},
   "outputs": [],
   "source": [
    "modelLSTM = Sequential()\n",
    "\n",
    "modelLSTM.add(LSTM(units = 60, activation = 'relu', return_sequences = True, input_shape = (X_train.shape[1], 5)))\n",
    "modelLSTM.add(Dropout(0.2))\n",
    "\n",
    "modelLSTM.add(LSTM(units = 60, activation = 'relu', return_sequences = True))\n",
    "modelLSTM.add(Dropout(0.2))\n",
    "\n",
    "modelLSTM.add(LSTM(units = 80, activation = 'relu', return_sequences = True))\n",
    "modelLSTM.add(Dropout(0.2))\n",
    "\n",
    "modelLSTM.add(LSTM(units = 120, activation = 'relu'))\n",
    "modelLSTM.add(Dropout(0.2))\n",
    "\n",
    "modelLSTM.add(Dense(units = 1))"
   ]
  },
  {
   "cell_type": "code",
   "execution_count": null,
   "metadata": {},
   "outputs": [],
   "source": [
    "modelLSTM.summary()"
   ]
  },
  {
   "cell_type": "code",
   "execution_count": null,
   "metadata": {},
   "outputs": [],
   "source": [
    "from tensorflow.keras.callbacks import EarlyStopping, ModelCheckpoint, ReduceLROnPlateau"
   ]
  },
  {
   "cell_type": "code",
   "execution_count": null,
   "metadata": {},
   "outputs": [],
   "source": [
    "#create callback\n",
    "filepath = 'my_best_modelLSTM_yourself.hdf5'\n",
    "checkpoint = ModelCheckpoint(filepath=filepath, \n",
    "                             monitor='loss',\n",
    "                             verbose=0, \n",
    "                             save_best_only=True,\n",
    "                             mode='min')\n",
    "\n",
    "earlystopping = EarlyStopping(\n",
    "    monitor='loss', \n",
    "    patience=3, \n",
    "    min_delta=0, \n",
    "    mode='auto'\n",
    ")\n",
    "\n",
    "reduce_lr = ReduceLROnPlateau(\n",
    "    monitor='loss', \n",
    "    factor=0.2,   \n",
    "    patience=2, \n",
    "    min_lr=0.001,\n",
    "    verbose=0\n",
    ")\n",
    "callbacks = [checkpoint, earlystopping, reduce_lr]"
   ]
  },
  {
   "cell_type": "code",
   "execution_count": null,
   "metadata": {},
   "outputs": [],
   "source": [
    "modelLSTM.compile(optimizer='adam', loss = 'mean_squared_error')"
   ]
  },
  {
   "cell_type": "code",
   "execution_count": null,
   "metadata": {},
   "outputs": [],
   "source": []
  },
  {
   "cell_type": "code",
   "execution_count": null,
   "metadata": {},
   "outputs": [],
   "source": [
    "past_60_days = data_training.tail(60)"
   ]
  },
  {
   "cell_type": "code",
   "execution_count": null,
   "metadata": {},
   "outputs": [],
   "source": [
    "df = past_60_days.append(data_test, ignore_index = True)\n",
    "df = df.drop(['Date', 'Adj Close'], axis = 1)\n",
    "df.head()"
   ]
  }
 ],
 "metadata": {
  "interpreter": {
   "hash": "cfe73bf78b7d84eec880e3952d097e9c9b597196a2017f555ec4a3e4e5c8379c"
  },
  "kernelspec": {
   "display_name": "Python 3.10.2 64-bit (windows store)",
   "language": "python",
   "name": "python3"
  },
  "language_info": {
   "codemirror_mode": {
    "name": "ipython",
    "version": 3
   },
   "file_extension": ".py",
   "mimetype": "text/x-python",
   "name": "python",
   "nbconvert_exporter": "python",
   "pygments_lexer": "ipython3",
   "version": "3.10.2"
  },
  "orig_nbformat": 4
 },
 "nbformat": 4,
 "nbformat_minor": 2
}
