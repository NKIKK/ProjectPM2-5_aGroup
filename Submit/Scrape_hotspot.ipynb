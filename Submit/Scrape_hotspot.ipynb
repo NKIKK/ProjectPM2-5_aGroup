{
 "cells": [
  {
   "cell_type": "code",
   "execution_count": 1,
   "metadata": {},
   "outputs": [],
   "source": [
    "import pandas as pd\n",
    "from datetime import datetime,timedelta "
   ]
  },
  {
   "cell_type": "code",
   "execution_count": null,
   "metadata": {},
   "outputs": [],
   "source": [
    "# key = 'bea870bc4677f98e288ad675e5556171'\n",
    "key = '8a59e7e3bd53e74257ac97569ebf0eaa'\n",
    "# key = '3d5e680e4b7de09393b6181ed1af373a'\n",
    "# key = '6e99a8f7e74665e7d73bfde6918d09ae'"
   ]
  },
  {
   "cell_type": "code",
   "execution_count": null,
   "metadata": {},
   "outputs": [],
   "source": [
    "data = pd.read_csv('https://firms.modaps.eosdis.nasa.gov/api/area/csv/'+key+'/MODIS_SP/97,5,106,21/1/2020-06-26')"
   ]
  },
  {
   "cell_type": "code",
   "execution_count": null,
   "metadata": {},
   "outputs": [],
   "source": [
    "s = datetime(2020,6,27)\n",
    "e = datetime(2020,7,12)\n",
    "while(s<e):\n",
    "    hot_spot = pd.read_csv('https://firms.modaps.eosdis.nasa.gov/api/area/csv/'+key+'/MODIS_SP/97,5,106,21/10/'+s.strftime(\"%Y-%m-%d\"))\n",
    "    data = pd.concat([data,hot_spot])\n",
    "    s = timedelta(days=10)+s"
   ]
  },
  {
   "cell_type": "code",
   "execution_count": null,
   "metadata": {},
   "outputs": [],
   "source": [
    "data['acq_date'] =pd.to_datetime( data['acq_date'])"
   ]
  },
  {
   "cell_type": "code",
   "execution_count": null,
   "metadata": {},
   "outputs": [],
   "source": [
    "data = data.sort_values('acq_date')\n",
    "data.to_csv('hot_spot8.csv',index=False)"
   ]
  }
 ],
 "metadata": {
  "interpreter": {
   "hash": "ef98beed530724fd48f935abab518c0f3e16171ba4883f2358360793e5698786"
  },
  "kernelspec": {
   "display_name": "Python 3.8.8 ('base')",
   "language": "python",
   "name": "python3"
  },
  "language_info": {
   "codemirror_mode": {
    "name": "ipython",
    "version": 3
   },
   "file_extension": ".py",
   "mimetype": "text/x-python",
   "name": "python",
   "nbconvert_exporter": "python",
   "pygments_lexer": "ipython3",
   "version": "3.8.8"
  },
  "orig_nbformat": 4
 },
 "nbformat": 4,
 "nbformat_minor": 2
}
