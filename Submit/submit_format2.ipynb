{
 "cells": [
  {
   "cell_type": "code",
   "execution_count": 13,
   "metadata": {},
   "outputs": [],
   "source": [
    "import pandas as pd\n",
    "from datetime import timedelta,datetime"
   ]
  },
  {
   "cell_type": "code",
   "execution_count": 14,
   "metadata": {},
   "outputs": [],
   "source": [
    "provinces = ['BKK','Chiangmai','Rayong','Saraburi','Khonkaen','Surat']\n",
    "\n",
    "for i in range(len(provinces)):\n",
    "    province = provinces[i]\n",
    "\n",
    "    data_test = pd.read_csv(province+'_clean2.csv', date_parser = True)\n",
    "    data_test['date_time'] = pd.to_datetime(data_test['date_time'])\n",
    "    \n",
    "    data_pred = pd.read_csv(province+'_pred.csv')\n",
    "\n",
    "    pred_time = []\n",
    "    pm = []\n",
    "    date_time = []\n",
    "\n",
    "    for i in range(len(data_test)):\n",
    "        for j in range(1,13):\n",
    "            d = data_test.iloc[i,0]\n",
    "            pred_time.append(d+j*timedelta(hours=6))\n",
    "            date_time.append(d)\n",
    "            pm.append(data_pred.iloc[i*6,j-1])\n",
    "\n",
    "    data = pd.DataFrame({'date_time':date_time,'date_pred':pred_time,'PM2.5':pm})\n",
    "    data['date_time'] = pd.to_datetime(data['date_time'])\n",
    "\n",
    "    missing_test_date = pd.read_csv('../_missing_date/missing_test_date_'+province.lower()+'.csv')\n",
    "\n",
    "    missing_test_date.columns = ['','date_pred']\n",
    "    missing_test_date['date_pred'] = pd.to_datetime(missing_test_date['date_pred'] )\n",
    "\n",
    "    df = pd.merge(data, missing_test_date, how='outer', indicator=True)\n",
    "    df = df.loc[df._merge == 'left_only', ['date_time',\t'date_pred','PM2.5']]\n",
    "    df = df.sort_values(['date_time','date_pred'])\n",
    "    df['province']=province\n",
    "\n",
    "    df.to_csv(province+'_submit.csv',index=False)"
   ]
  },
  {
   "cell_type": "code",
   "execution_count": 15,
   "metadata": {},
   "outputs": [
    {
     "name": "stdout",
     "output_type": "stream",
     "text": [
      "BKK (15588, 4)\n",
      "Chiangmai (15768, 4)\n",
      "Rayong (16020, 4)\n",
      "Saraburi (15564, 4)\n",
      "Khonkaen (15648, 4)\n",
      "Surat (16128, 4)\n"
     ]
    },
    {
     "data": {
      "text/html": [
       "<div>\n",
       "<style scoped>\n",
       "    .dataframe tbody tr th:only-of-type {\n",
       "        vertical-align: middle;\n",
       "    }\n",
       "\n",
       "    .dataframe tbody tr th {\n",
       "        vertical-align: top;\n",
       "    }\n",
       "\n",
       "    .dataframe thead th {\n",
       "        text-align: right;\n",
       "    }\n",
       "</style>\n",
       "<table border=\"1\" class=\"dataframe\">\n",
       "  <thead>\n",
       "    <tr style=\"text-align: right;\">\n",
       "      <th></th>\n",
       "      <th>date_time</th>\n",
       "      <th>date_pred</th>\n",
       "      <th>PM2.5</th>\n",
       "      <th>province</th>\n",
       "    </tr>\n",
       "  </thead>\n",
       "  <tbody>\n",
       "    <tr>\n",
       "      <th>0</th>\n",
       "      <td>2020-07-01 00:00:00</td>\n",
       "      <td>2020-07-01 06:00:00</td>\n",
       "      <td>12.671747</td>\n",
       "      <td>BKK</td>\n",
       "    </tr>\n",
       "    <tr>\n",
       "      <th>1</th>\n",
       "      <td>2020-07-01 00:00:00</td>\n",
       "      <td>2020-07-01 12:00:00</td>\n",
       "      <td>12.343171</td>\n",
       "      <td>BKK</td>\n",
       "    </tr>\n",
       "    <tr>\n",
       "      <th>2</th>\n",
       "      <td>2020-07-01 00:00:00</td>\n",
       "      <td>2020-07-01 18:00:00</td>\n",
       "      <td>12.520463</td>\n",
       "      <td>BKK</td>\n",
       "    </tr>\n",
       "    <tr>\n",
       "      <th>3</th>\n",
       "      <td>2020-07-01 00:00:00</td>\n",
       "      <td>2020-07-02 00:00:00</td>\n",
       "      <td>12.146168</td>\n",
       "      <td>BKK</td>\n",
       "    </tr>\n",
       "    <tr>\n",
       "      <th>4</th>\n",
       "      <td>2020-07-01 00:00:00</td>\n",
       "      <td>2020-07-02 06:00:00</td>\n",
       "      <td>12.188816</td>\n",
       "      <td>BKK</td>\n",
       "    </tr>\n",
       "  </tbody>\n",
       "</table>\n",
       "</div>"
      ],
      "text/plain": [
       "             date_time            date_pred      PM2.5 province\n",
       "0  2020-07-01 00:00:00  2020-07-01 06:00:00  12.671747      BKK\n",
       "1  2020-07-01 00:00:00  2020-07-01 12:00:00  12.343171      BKK\n",
       "2  2020-07-01 00:00:00  2020-07-01 18:00:00  12.520463      BKK\n",
       "3  2020-07-01 00:00:00  2020-07-02 00:00:00  12.146168      BKK\n",
       "4  2020-07-01 00:00:00  2020-07-02 06:00:00  12.188816      BKK"
      ]
     },
     "execution_count": 15,
     "metadata": {},
     "output_type": "execute_result"
    }
   ],
   "source": [
    "df = pd.DataFrame({'date_time':[],'date_pred':[],'PM2.5':[],'province':[]})\n",
    "for province in provinces:\n",
    "    data = pd.read_csv(province+'_submit.csv')\n",
    "    print(province,data.shape)\n",
    "    df = pd.concat([df,data])\n",
    "df.to_csv('all_pred.csv',index=False)\n",
    "df.head()"
   ]
  },
  {
   "cell_type": "code",
   "execution_count": 16,
   "metadata": {},
   "outputs": [],
   "source": [
    "all_pred_clean = pd.read_csv('all_pred_clean.csv')\n",
    "all_pred_clean.columns = ['date_time','date_pred','PM2.5','province']\n",
    "all_pred = pd.read_csv('all_pred.csv')"
   ]
  },
  {
   "cell_type": "code",
   "execution_count": 17,
   "metadata": {},
   "outputs": [],
   "source": [
    "m = all_pred_clean.merge(all_pred,how='right',on=['date_time','date_pred','province'])\n",
    "m.dropna(inplace=True)\n",
    "m.reset_index(inplace=True)"
   ]
  },
  {
   "cell_type": "code",
   "execution_count": 18,
   "metadata": {},
   "outputs": [
    {
     "name": "stdout",
     "output_type": "stream",
     "text": [
      "BKK 6.825230590158921\n",
      "Chiangmai 10.894512616305905\n",
      "Rayong 7.708040873047741\n",
      "Saraburi 11.273307578448222\n",
      "Khonkaen 11.047862056258944\n",
      "Surat 6.49011554171544\n",
      "9.257095885001332\n"
     ]
    }
   ],
   "source": [
    "import math\n",
    "from sklearn.metrics import mean_squared_error\n",
    "for province in provinces:\n",
    "    print( province,math.sqrt(mean_squared_error(m[m['province']==province]['PM2.5_x'], m[m['province']==province]['PM2.5_y'])) )\n",
    "\n",
    "\n",
    "\n",
    "print(math.sqrt(mean_squared_error(m['PM2.5_x'], m['PM2.5_y'])) )"
   ]
  },
  {
   "cell_type": "code",
   "execution_count": null,
   "metadata": {},
   "outputs": [],
   "source": [
    "kaggle = pd.DataFrame(m['PM2.5_y'])\n",
    "kaggle.columns = ['PM2.5']\n",
    "kaggle.to_csv('kaggle.csv')"
   ]
  }
 ],
 "metadata": {
  "interpreter": {
   "hash": "723dc80cb05396c6d0019b793cc9629de1a15570232a2a29e62999a170644e05"
  },
  "kernelspec": {
   "display_name": "Python 3.8.8 ('base')",
   "language": "python",
   "name": "python3"
  },
  "language_info": {
   "codemirror_mode": {
    "name": "ipython",
    "version": 3
   },
   "file_extension": ".py",
   "mimetype": "text/x-python",
   "name": "python",
   "nbconvert_exporter": "python",
   "pygments_lexer": "ipython3",
   "version": "3.8.8"
  },
  "orig_nbformat": 4
 },
 "nbformat": 4,
 "nbformat_minor": 2
}
