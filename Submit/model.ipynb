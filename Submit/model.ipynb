{
  "cells": [
    {
      "cell_type": "code",
      "execution_count": 322,
      "metadata": {
        "id": "tXYt8kYNc-8I"
      },
      "outputs": [],
      "source": [
        "import numpy as np\n",
        "import matplotlib.pyplot as plt\n",
        "import pandas as pd\n",
        "from sklearn.preprocessing import MinMaxScaler\n",
        "import tensorflow as tf\n",
        "from tensorflow.keras import Sequential\n",
        "from tensorflow.keras.layers import Dense, LSTM, Dropout\n",
        "from tensorflow.keras.callbacks import EarlyStopping, ModelCheckpoint, ReduceLROnPlateau\n",
        "import math\n",
        "from sklearn.metrics import mean_squared_error"
      ]
    },
    {
      "cell_type": "markdown",
      "metadata": {},
      "source": [
        "# BKK"
      ]
    },
    {
      "cell_type": "code",
      "execution_count": null,
      "metadata": {
        "id": "9B3XlyHJWiP-"
      },
      "outputs": [],
      "source": [
        "provinces = ['BKK','Chiangmai','Khonkaen','Rayong','Saraburi','Surat']\n",
        "province = provinces[0]\n",
        "data_training = pd.read_csv(province+'/train/'+province.lower()+'_train_format.csv', date_parser = True)\n"
      ]
    },
    {
      "cell_type": "code",
      "execution_count": null,
      "metadata": {
        "colab": {
          "base_uri": "https://localhost:8080/",
          "height": 206
        },
        "id": "5FXLGXmedgqG",
        "outputId": "f2bfe5c4-5390-4397-bb7a-de16c5d64092"
      },
      "outputs": [
        {
          "data": {
            "text/html": [
              "<div>\n",
              "<style scoped>\n",
              "    .dataframe tbody tr th:only-of-type {\n",
              "        vertical-align: middle;\n",
              "    }\n",
              "\n",
              "    .dataframe tbody tr th {\n",
              "        vertical-align: top;\n",
              "    }\n",
              "\n",
              "    .dataframe thead th {\n",
              "        text-align: right;\n",
              "    }\n",
              "</style>\n",
              "<table border=\"1\" class=\"dataframe\">\n",
              "  <thead>\n",
              "    <tr style=\"text-align: right;\">\n",
              "      <th></th>\n",
              "      <th>PM2.5</th>\n",
              "      <th>temp</th>\n",
              "      <th>wind speed</th>\n",
              "      <th>wind dir</th>\n",
              "    </tr>\n",
              "  </thead>\n",
              "  <tbody>\n",
              "    <tr>\n",
              "      <th>0</th>\n",
              "      <td>22.0</td>\n",
              "      <td>25.0</td>\n",
              "      <td>38.0</td>\n",
              "      <td>250.0</td>\n",
              "    </tr>\n",
              "    <tr>\n",
              "      <th>1</th>\n",
              "      <td>16.0</td>\n",
              "      <td>25.0</td>\n",
              "      <td>38.0</td>\n",
              "      <td>250.0</td>\n",
              "    </tr>\n",
              "    <tr>\n",
              "      <th>2</th>\n",
              "      <td>13.0</td>\n",
              "      <td>25.0</td>\n",
              "      <td>38.0</td>\n",
              "      <td>250.0</td>\n",
              "    </tr>\n",
              "    <tr>\n",
              "      <th>3</th>\n",
              "      <td>18.0</td>\n",
              "      <td>25.0</td>\n",
              "      <td>38.0</td>\n",
              "      <td>250.0</td>\n",
              "    </tr>\n",
              "    <tr>\n",
              "      <th>4</th>\n",
              "      <td>29.0</td>\n",
              "      <td>25.0</td>\n",
              "      <td>38.0</td>\n",
              "      <td>250.0</td>\n",
              "    </tr>\n",
              "  </tbody>\n",
              "</table>\n",
              "</div>"
            ],
            "text/plain": [
              "   PM2.5  temp  wind speed  wind dir\n",
              "0   22.0  25.0        38.0     250.0\n",
              "1   16.0  25.0        38.0     250.0\n",
              "2   13.0  25.0        38.0     250.0\n",
              "3   18.0  25.0        38.0     250.0\n",
              "4   29.0  25.0        38.0     250.0"
            ]
          },
          "metadata": {},
          "output_type": "display_data"
        }
      ],
      "source": [
        "data_training = data_training.drop(['date_time', 'lat', 'long'], axis = 1)\n",
        "data_training.head()"
      ]
    },
    {
      "cell_type": "code",
      "execution_count": null,
      "metadata": {
        "colab": {
          "base_uri": "https://localhost:8080/",
          "height": 206
        },
        "id": "jONlufFv2NPo",
        "outputId": "c117c196-d411-4a06-c1f3-c5aeeef87c7e"
      },
      "outputs": [
        {
          "data": {
            "text/html": [
              "<div>\n",
              "<style scoped>\n",
              "    .dataframe tbody tr th:only-of-type {\n",
              "        vertical-align: middle;\n",
              "    }\n",
              "\n",
              "    .dataframe tbody tr th {\n",
              "        vertical-align: top;\n",
              "    }\n",
              "\n",
              "    .dataframe thead th {\n",
              "        text-align: right;\n",
              "    }\n",
              "</style>\n",
              "<table border=\"1\" class=\"dataframe\">\n",
              "  <thead>\n",
              "    <tr style=\"text-align: right;\">\n",
              "      <th></th>\n",
              "      <th>Unnamed: 0</th>\n",
              "      <th>date_time</th>\n",
              "      <th>PM2.5</th>\n",
              "      <th>temp</th>\n",
              "      <th>wind speed</th>\n",
              "      <th>wind dir</th>\n",
              "      <th>lat</th>\n",
              "      <th>long</th>\n",
              "    </tr>\n",
              "  </thead>\n",
              "  <tbody>\n",
              "    <tr>\n",
              "      <th>123</th>\n",
              "      <td>123</td>\n",
              "      <td>2020-07-06 03:00:00</td>\n",
              "      <td>NaN</td>\n",
              "      <td>25.3</td>\n",
              "      <td>17</td>\n",
              "      <td>260</td>\n",
              "      <td>14.685833</td>\n",
              "      <td>100.871996</td>\n",
              "    </tr>\n",
              "    <tr>\n",
              "      <th>5836</th>\n",
              "      <td>5836</td>\n",
              "      <td>2021-03-01 04:00:00</td>\n",
              "      <td>NaN</td>\n",
              "      <td>23.5</td>\n",
              "      <td>26</td>\n",
              "      <td>175</td>\n",
              "      <td>14.685833</td>\n",
              "      <td>100.871996</td>\n",
              "    </tr>\n",
              "    <tr>\n",
              "      <th>7344</th>\n",
              "      <td>7344</td>\n",
              "      <td>2021-05-03 00:00:00</td>\n",
              "      <td>27.0</td>\n",
              "      <td>27.7</td>\n",
              "      <td>5</td>\n",
              "      <td>290</td>\n",
              "      <td>14.685833</td>\n",
              "      <td>100.871996</td>\n",
              "    </tr>\n",
              "    <tr>\n",
              "      <th>655</th>\n",
              "      <td>655</td>\n",
              "      <td>2020-07-28 07:00:00</td>\n",
              "      <td>7.0</td>\n",
              "      <td>26.6</td>\n",
              "      <td>10</td>\n",
              "      <td>185</td>\n",
              "      <td>14.685833</td>\n",
              "      <td>100.871996</td>\n",
              "    </tr>\n",
              "    <tr>\n",
              "      <th>5422</th>\n",
              "      <td>5422</td>\n",
              "      <td>2021-02-11 22:00:00</td>\n",
              "      <td>NaN</td>\n",
              "      <td>25.4</td>\n",
              "      <td>3</td>\n",
              "      <td>70</td>\n",
              "      <td>14.685833</td>\n",
              "      <td>100.871996</td>\n",
              "    </tr>\n",
              "  </tbody>\n",
              "</table>\n",
              "</div>"
            ],
            "text/plain": [
              "      Unnamed: 0            date_time  PM2.5  temp  wind speed  wind dir  \\\n",
              "123          123  2020-07-06 03:00:00    NaN  25.3          17       260   \n",
              "5836        5836  2021-03-01 04:00:00    NaN  23.5          26       175   \n",
              "7344        7344  2021-05-03 00:00:00   27.0  27.7           5       290   \n",
              "655          655  2020-07-28 07:00:00    7.0  26.6          10       185   \n",
              "5422        5422  2021-02-11 22:00:00    NaN  25.4           3        70   \n",
              "\n",
              "            lat        long  \n",
              "123   14.685833  100.871996  \n",
              "5836  14.685833  100.871996  \n",
              "7344  14.685833  100.871996  \n",
              "655   14.685833  100.871996  \n",
              "5422  14.685833  100.871996  "
            ]
          },
          "metadata": {},
          "output_type": "display_data"
        }
      ],
      "source": [
        "data_test = pd.read_csv(province+'_clean.csv', date_parser = True)\n",
        "data_test.sample(5)"
      ]
    },
    {
      "cell_type": "code",
      "execution_count": null,
      "metadata": {
        "colab": {
          "base_uri": "https://localhost:8080/",
          "height": 206
        },
        "id": "ZM_Hn5LcUDqd",
        "outputId": "7c170d33-a52a-4b5e-f057-5d16a4355a2d"
      },
      "outputs": [
        {
          "data": {
            "text/html": [
              "<div>\n",
              "<style scoped>\n",
              "    .dataframe tbody tr th:only-of-type {\n",
              "        vertical-align: middle;\n",
              "    }\n",
              "\n",
              "    .dataframe tbody tr th {\n",
              "        vertical-align: top;\n",
              "    }\n",
              "\n",
              "    .dataframe thead th {\n",
              "        text-align: right;\n",
              "    }\n",
              "</style>\n",
              "<table border=\"1\" class=\"dataframe\">\n",
              "  <thead>\n",
              "    <tr style=\"text-align: right;\">\n",
              "      <th></th>\n",
              "      <th>date_time</th>\n",
              "      <th>PM2.5</th>\n",
              "      <th>temp</th>\n",
              "      <th>wind speed</th>\n",
              "      <th>wind dir</th>\n",
              "    </tr>\n",
              "  </thead>\n",
              "  <tbody>\n",
              "    <tr>\n",
              "      <th>0</th>\n",
              "      <td>2020-07-01 00:00:00</td>\n",
              "      <td>2.0</td>\n",
              "      <td>25.9</td>\n",
              "      <td>41</td>\n",
              "      <td>250</td>\n",
              "    </tr>\n",
              "    <tr>\n",
              "      <th>1</th>\n",
              "      <td>2020-07-01 01:00:00</td>\n",
              "      <td>NaN</td>\n",
              "      <td>25.5</td>\n",
              "      <td>41</td>\n",
              "      <td>255</td>\n",
              "    </tr>\n",
              "    <tr>\n",
              "      <th>2</th>\n",
              "      <td>2020-07-01 02:00:00</td>\n",
              "      <td>NaN</td>\n",
              "      <td>25.5</td>\n",
              "      <td>41</td>\n",
              "      <td>255</td>\n",
              "    </tr>\n",
              "    <tr>\n",
              "      <th>3</th>\n",
              "      <td>2020-07-01 03:00:00</td>\n",
              "      <td>3.0</td>\n",
              "      <td>25.5</td>\n",
              "      <td>41</td>\n",
              "      <td>255</td>\n",
              "    </tr>\n",
              "    <tr>\n",
              "      <th>4</th>\n",
              "      <td>2020-07-01 04:00:00</td>\n",
              "      <td>5.0</td>\n",
              "      <td>25.1</td>\n",
              "      <td>49</td>\n",
              "      <td>265</td>\n",
              "    </tr>\n",
              "  </tbody>\n",
              "</table>\n",
              "</div>"
            ],
            "text/plain": [
              "             date_time  PM2.5  temp  wind speed  wind dir\n",
              "0  2020-07-01 00:00:00    2.0  25.9          41       250\n",
              "1  2020-07-01 01:00:00    NaN  25.5          41       255\n",
              "2  2020-07-01 02:00:00    NaN  25.5          41       255\n",
              "3  2020-07-01 03:00:00    3.0  25.5          41       255\n",
              "4  2020-07-01 04:00:00    5.0  25.1          49       265"
            ]
          },
          "metadata": {},
          "output_type": "display_data"
        }
      ],
      "source": [
        "data_test = data_test.drop(['Unnamed: 0', 'lat', 'long'], axis = 1)\n",
        "data_test.head()"
      ]
    },
    {
      "cell_type": "code",
      "execution_count": null,
      "metadata": {
        "id": "khw4M2JsdiKT"
      },
      "outputs": [],
      "source": [
        "scaler = MinMaxScaler()\n",
        "data_training = scaler.fit_transform(data_training)\n",
        "scaler.inverse_transform(data_training)\n",
        "scale = 1/scaler.scale_\n"
      ]
    },
    {
      "cell_type": "code",
      "execution_count": null,
      "metadata": {
        "id": "W4926pfpdoE0"
      },
      "outputs": [],
      "source": [
        "X_train = []\n",
        "y_train = []\n",
        "\n",
        "for i in range(60, data_training.shape[0]):\n",
        "    X_train.append(data_training[i-60:i])\n",
        "    y_train.append(data_training[i, 0])\n",
        "\n",
        "X_train, y_train = np.array(X_train), np.array(y_train)\n",
        "X_train.shape"
      ]
    },
    {
      "cell_type": "code",
      "execution_count": null,
      "metadata": {
        "id": "6PwBHKiCdxBy"
      },
      "outputs": [],
      "source": [
        "modelLSTM = Sequential()\n",
        "\n",
        "modelLSTM.add(LSTM(units = 60, activation = 'relu', return_sequences = True, input_shape = (X_train.shape[1], 4)))\n",
        "modelLSTM.add(Dropout(0.2))\n",
        "modelLSTM.add(LSTM(units = 80, activation = 'relu',  input_shape = (X_train.shape[1], 4)))\n",
        "modelLSTM.add(Dropout(0.2))\n",
        "modelLSTM.add(LSTM(units = 120, activation = 'relu',  input_shape = (X_train.shape[1], 4)))\n",
        "modelLSTM.add(Dropout(0.2))\n",
        "\n",
        "\n",
        "modelLSTM.add(Dense(units = 1))"
      ]
    },
    {
      "cell_type": "code",
      "execution_count": null,
      "metadata": {
        "colab": {
          "base_uri": "https://localhost:8080/"
        },
        "id": "OruphK2TdzFB",
        "outputId": "a1985c4e-d227-4c86-cb42-fe4f48a4b574"
      },
      "outputs": [
        {
          "name": "stdout",
          "output_type": "stream",
          "text": [
            "Model: \"sequential_8\"\n",
            "_________________________________________________________________\n",
            " Layer (type)                Output Shape              Param #   \n",
            "=================================================================\n",
            " lstm_11 (LSTM)              (None, 120)               60000     \n",
            "                                                                 \n",
            " dropout_11 (Dropout)        (None, 120)               0         \n",
            "                                                                 \n",
            " dense_9 (Dense)             (None, 1)                 121       \n",
            "                                                                 \n",
            "=================================================================\n",
            "Total params: 60,121\n",
            "Trainable params: 60,121\n",
            "Non-trainable params: 0\n",
            "_________________________________________________________________\n"
          ]
        }
      ],
      "source": [
        "modelLSTM.summary()"
      ]
    },
    {
      "cell_type": "code",
      "execution_count": null,
      "metadata": {
        "id": "F2jd8nTRp9kq"
      },
      "outputs": [],
      "source": [
        "#create callback\n",
        "filepath = 'my_best_modelLSTM_yourself.hdf5'\n",
        "checkpoint = ModelCheckpoint(filepath=filepath, \n",
        "                             monitor='loss',\n",
        "                             verbose=0, \n",
        "                             save_best_only=True,\n",
        "                             mode='min')\n",
        "\n",
        "earlystopping = EarlyStopping(\n",
        "    monitor='loss', \n",
        "    patience=3, \n",
        "    min_delta=0, \n",
        "    mode='auto'\n",
        ")\n",
        "\n",
        "reduce_lr = ReduceLROnPlateau(\n",
        "    monitor='loss', \n",
        "    factor=0.2,   \n",
        "    patience=2, \n",
        "    min_lr=0.001,\n",
        "    verbose=0\n",
        ")\n",
        "callbacks = [checkpoint, earlystopping, reduce_lr]"
      ]
    },
    {
      "cell_type": "code",
      "execution_count": null,
      "metadata": {
        "id": "7alsTCdPd5PY"
      },
      "outputs": [],
      "source": [
        "modelLSTM.compile(optimizer='adam', loss = 'mean_squared_error')"
      ]
    },
    {
      "cell_type": "code",
      "execution_count": null,
      "metadata": {
        "colab": {
          "base_uri": "https://localhost:8080/"
        },
        "id": "jJGUMaN7wafJ",
        "outputId": "99c99a14-509d-4f56-a2fc-b13512fb7507"
      },
      "outputs": [
        {
          "name": "stdout",
          "output_type": "stream",
          "text": [
            "Epoch 1/10\n",
            "821/821 [==============================] - 56s 67ms/step - loss: 9.2078e-04 - lr: 0.0010\n",
            "Epoch 2/10\n",
            "821/821 [==============================] - 58s 71ms/step - loss: 4.4753e-04 - lr: 0.0010\n",
            "Epoch 3/10\n",
            "821/821 [==============================] - 58s 71ms/step - loss: 3.4225e-04 - lr: 0.0010\n",
            "Epoch 4/10\n",
            "821/821 [==============================] - 59s 71ms/step - loss: 3.0990e-04 - lr: 0.0010\n",
            "Epoch 5/10\n",
            "821/821 [==============================] - 59s 72ms/step - loss: 3.0089e-04 - lr: 0.0010\n",
            "Epoch 6/10\n",
            "821/821 [==============================] - 58s 71ms/step - loss: 2.8285e-04 - lr: 0.0010\n",
            "Epoch 7/10\n",
            "821/821 [==============================] - 58s 70ms/step - loss: 2.9304e-04 - lr: 0.0010\n",
            "Epoch 8/10\n",
            "821/821 [==============================] - 62s 76ms/step - loss: 2.8004e-04 - lr: 0.0010\n",
            "Epoch 9/10\n",
            "821/821 [==============================] - 63s 77ms/step - loss: 2.7486e-04 - lr: 0.0010\n",
            "Epoch 10/10\n",
            "821/821 [==============================] - 64s 79ms/step - loss: 2.6738e-04 - lr: 0.0010\n"
          ]
        }
      ],
      "source": [
        "history = modelLSTM.fit(X_train, y_train, epochs=10, batch_size=32, callbacks=callbacks)"
      ]
    },
    {
      "cell_type": "code",
      "execution_count": null,
      "metadata": {
        "id": "lW-wyZdr_lPa"
      },
      "outputs": [],
      "source": [
        "data_training = pd.read_csv(province+'/train/'+province.lower()+'_train_format.csv', date_parser = True)\n",
        "data_training = data_training.drop(['date_time', 'lat', 'long'], axis = 1)\n",
        "data_test = data_test.drop(['date_time'], axis = 1)"
      ]
    },
    {
      "cell_type": "code",
      "execution_count": null,
      "metadata": {
        "id": "Sb-SV-wReAJL"
      },
      "outputs": [
        {
          "data": {
            "text/html": [
              "<div>\n",
              "<style scoped>\n",
              "    .dataframe tbody tr th:only-of-type {\n",
              "        vertical-align: middle;\n",
              "    }\n",
              "\n",
              "    .dataframe tbody tr th {\n",
              "        vertical-align: top;\n",
              "    }\n",
              "\n",
              "    .dataframe thead th {\n",
              "        text-align: right;\n",
              "    }\n",
              "</style>\n",
              "<table border=\"1\" class=\"dataframe\">\n",
              "  <thead>\n",
              "    <tr style=\"text-align: right;\">\n",
              "      <th></th>\n",
              "      <th>PM2.5</th>\n",
              "      <th>temp</th>\n",
              "      <th>wind speed</th>\n",
              "      <th>wind dir</th>\n",
              "    </tr>\n",
              "  </thead>\n",
              "  <tbody>\n",
              "    <tr>\n",
              "      <th>0</th>\n",
              "      <td>2.0</td>\n",
              "      <td>25.9</td>\n",
              "      <td>41</td>\n",
              "      <td>250</td>\n",
              "    </tr>\n",
              "    <tr>\n",
              "      <th>1</th>\n",
              "      <td>NaN</td>\n",
              "      <td>25.5</td>\n",
              "      <td>41</td>\n",
              "      <td>255</td>\n",
              "    </tr>\n",
              "    <tr>\n",
              "      <th>2</th>\n",
              "      <td>NaN</td>\n",
              "      <td>25.5</td>\n",
              "      <td>41</td>\n",
              "      <td>255</td>\n",
              "    </tr>\n",
              "    <tr>\n",
              "      <th>3</th>\n",
              "      <td>3.0</td>\n",
              "      <td>25.5</td>\n",
              "      <td>41</td>\n",
              "      <td>255</td>\n",
              "    </tr>\n",
              "    <tr>\n",
              "      <th>4</th>\n",
              "      <td>5.0</td>\n",
              "      <td>25.1</td>\n",
              "      <td>49</td>\n",
              "      <td>265</td>\n",
              "    </tr>\n",
              "  </tbody>\n",
              "</table>\n",
              "</div>"
            ],
            "text/plain": [
              "   PM2.5  temp  wind speed  wind dir\n",
              "0    2.0  25.9          41       250\n",
              "1    NaN  25.5          41       255\n",
              "2    NaN  25.5          41       255\n",
              "3    3.0  25.5          41       255\n",
              "4    5.0  25.1          49       265"
            ]
          },
          "metadata": {},
          "output_type": "display_data"
        }
      ],
      "source": [
        "data_test = data_test.drop(['date_time'], axis = 1)\n",
        "data_test.head()"
      ]
    },
    {
      "cell_type": "code",
      "execution_count": null,
      "metadata": {
        "id": "UpqWwdOaeD1K"
      },
      "outputs": [],
      "source": [
        "past_60_days = data_training.tail(60)"
      ]
    },
    {
      "cell_type": "code",
      "execution_count": null,
      "metadata": {
        "id": "TR2tRta0eEgF"
      },
      "outputs": [
        {
          "data": {
            "text/html": [
              "<div>\n",
              "<style scoped>\n",
              "    .dataframe tbody tr th:only-of-type {\n",
              "        vertical-align: middle;\n",
              "    }\n",
              "\n",
              "    .dataframe tbody tr th {\n",
              "        vertical-align: top;\n",
              "    }\n",
              "\n",
              "    .dataframe thead th {\n",
              "        text-align: right;\n",
              "    }\n",
              "</style>\n",
              "<table border=\"1\" class=\"dataframe\">\n",
              "  <thead>\n",
              "    <tr style=\"text-align: right;\">\n",
              "      <th></th>\n",
              "      <th>PM2.5</th>\n",
              "      <th>temp</th>\n",
              "      <th>wind speed</th>\n",
              "      <th>wind dir</th>\n",
              "    </tr>\n",
              "  </thead>\n",
              "  <tbody>\n",
              "    <tr>\n",
              "      <th>0</th>\n",
              "      <td>18.0</td>\n",
              "      <td>30.5</td>\n",
              "      <td>9.0</td>\n",
              "      <td>235.0</td>\n",
              "    </tr>\n",
              "    <tr>\n",
              "      <th>1</th>\n",
              "      <td>18.0</td>\n",
              "      <td>33.1</td>\n",
              "      <td>12.0</td>\n",
              "      <td>245.0</td>\n",
              "    </tr>\n",
              "    <tr>\n",
              "      <th>2</th>\n",
              "      <td>14.0</td>\n",
              "      <td>33.1</td>\n",
              "      <td>12.0</td>\n",
              "      <td>245.0</td>\n",
              "    </tr>\n",
              "    <tr>\n",
              "      <th>3</th>\n",
              "      <td>8.0</td>\n",
              "      <td>33.1</td>\n",
              "      <td>12.0</td>\n",
              "      <td>245.0</td>\n",
              "    </tr>\n",
              "    <tr>\n",
              "      <th>4</th>\n",
              "      <td>6.0</td>\n",
              "      <td>33.4</td>\n",
              "      <td>17.0</td>\n",
              "      <td>245.0</td>\n",
              "    </tr>\n",
              "  </tbody>\n",
              "</table>\n",
              "</div>"
            ],
            "text/plain": [
              "   PM2.5  temp  wind speed  wind dir\n",
              "0   18.0  30.5         9.0     235.0\n",
              "1   18.0  33.1        12.0     245.0\n",
              "2   14.0  33.1        12.0     245.0\n",
              "3    8.0  33.1        12.0     245.0\n",
              "4    6.0  33.4        17.0     245.0"
            ]
          },
          "metadata": {},
          "output_type": "display_data"
        }
      ],
      "source": [
        "df = past_60_days.append(data_test, ignore_index = True)\n",
        "df.head()"
      ]
    },
    {
      "cell_type": "code",
      "execution_count": null,
      "metadata": {
        "id": "zwRexsPQqvTy"
      },
      "outputs": [],
      "source": [
        "df.dropna(inplace=True)\n",
        "df.shape"
      ]
    },
    {
      "cell_type": "code",
      "execution_count": null,
      "metadata": {
        "id": "yRpQEcauq0oc"
      },
      "outputs": [
        {
          "data": {
            "text/plain": [
              "(7836, 4)"
            ]
          },
          "metadata": {},
          "output_type": "display_data"
        }
      ],
      "source": [
        "df.shape"
      ]
    },
    {
      "cell_type": "code",
      "execution_count": null,
      "metadata": {
        "id": "KKrjHeCMeGWX"
      },
      "outputs": [
        {
          "data": {
            "text/plain": [
              "array([[0.04187192, 0.6133829 , 0.0989011 , 0.65277778],\n",
              "       [0.04187192, 0.71003717, 0.13186813, 0.68055556],\n",
              "       [0.0320197 , 0.71003717, 0.13186813, 0.68055556],\n",
              "       ...,\n",
              "       [0.02955665, 0.58364312, 0.26373626, 0.65277778],\n",
              "       [0.0320197 , 0.58364312, 0.27472527, 0.66666667],\n",
              "       [0.0320197 , 0.58364312, 0.26373626, 0.69444444]])"
            ]
          },
          "metadata": {},
          "output_type": "display_data"
        }
      ],
      "source": [
        "inputs = scaler.transform(df)\n",
        "inputs"
      ]
    },
    {
      "cell_type": "code",
      "execution_count": null,
      "metadata": {
        "id": "x3WdrSMFeHlj"
      },
      "outputs": [],
      "source": [
        "X_test = []\n",
        "y_test = []\n",
        "\n",
        "for i in range(60, inputs.shape[0]):\n",
        "    X_test.append(inputs[i-60:i])\n",
        "    y_test.append(inputs[i, 0])"
      ]
    },
    {
      "cell_type": "code",
      "execution_count": null,
      "metadata": {
        "id": "1-l8uJ6beJN-"
      },
      "outputs": [
        {
          "data": {
            "text/plain": [
              "((7776, 60, 4), (7776,))"
            ]
          },
          "metadata": {},
          "output_type": "display_data"
        }
      ],
      "source": [
        "X_test, y_test = np.array(X_test), np.array(y_test)\n",
        "X_test.shape, y_test.shape"
      ]
    },
    {
      "cell_type": "code",
      "execution_count": null,
      "metadata": {
        "id": "OAbQp-tPeKvP"
      },
      "outputs": [],
      "source": [
        "y_pred = modelLSTM.predict(X_test)"
      ]
    },
    {
      "cell_type": "code",
      "execution_count": null,
      "metadata": {
        "id": "VO8T2VYEeO7q"
      },
      "outputs": [
        {
          "data": {
            "text/plain": [
              "406.0"
            ]
          },
          "metadata": {},
          "output_type": "display_data"
        }
      ],
      "source": [
        "scale = 1/scaler.scale_[0]\n",
        "y_pred = y_pred*scale\n",
        "y_test = y_test*scale"
      ]
    },
    {
      "cell_type": "code",
      "execution_count": null,
      "metadata": {
        "id": "6J1AmHFNeP6Z"
      },
      "outputs": [],
      "source": [
        "y_pred = y_pred*scale\n",
        "y_test = y_test*scale"
      ]
    },
    {
      "cell_type": "code",
      "execution_count": null,
      "metadata": {
        "id": "NsN4tns4A0lG"
      },
      "outputs": [
        {
          "name": "stdout",
          "output_type": "stream",
          "text": [
            "Saraburi RMSE = 3.1962012873265464\n"
          ]
        }
      ],
      "source": [
        "print(province+' RMSE =', math.sqrt(mean_squared_error(y_test, y_pred)) )"
      ]
    },
    {
      "cell_type": "code",
      "execution_count": null,
      "metadata": {
        "id": "KkwVJXVaeR4e"
      },
      "outputs": [
        {
          "data": {
            "image/png": "[encoded data removed]",
            "text/plain": [
              "<Figure size 1008x360 with 1 Axes>"
            ]
          },
          "metadata": {},
          "output_type": "display_data"
        }
      ],
      "source": [
        "# Visualising the results\n",
        "plt.figure(figsize=(14,5))\n",
        "plt.plot(y_test, color = 'red', label = 'Real')\n",
        "plt.plot(y_pred, color = 'blue', label = 'Predicted')\n",
        "plt.xlabel('Time')\n",
        "plt.ylabel('PM2.5')\n",
        "plt.legend()\n",
        "plt.show()"
      ]
    },
    {
      "cell_type": "code",
      "execution_count": null,
      "metadata": {
        "id": "_9BwFEag82WB"
      },
      "outputs": [],
      "source": [
        "import pickle\n",
        "\n",
        "with open('lstm_'+province.lower()+'.pickle', 'wb') as fp:\n",
        "    pickle.dump(y_pred, fp)"
      ]
    },
    {
      "cell_type": "code",
      "execution_count": null,
      "metadata": {
        "id": "X2NYaatgLJXQ"
      },
      "outputs": [],
      "source": [
        "df1 = pd.DataFrame(y_pred)\n",
        "df1.to_csv('lstm_'+province.lower()+'.csv')"
      ]
    },
    {
      "cell_type": "code",
      "execution_count": null,
      "metadata": {
        "id": "j6-u-OHuV6il"
      },
      "outputs": [],
      "source": []
    },
    {
      "cell_type": "markdown",
      "metadata": {},
      "source": [
        "# Chiangmai"
      ]
    },
    {
      "cell_type": "code",
      "execution_count": null,
      "metadata": {
        "id": "9B3XlyHJWiP-"
      },
      "outputs": [],
      "source": [
        "provinces = ['BKK','Chiangmai','Khonkaen','Rayong','Saraburi','Surat']\n",
        "province = provinces[1]\n",
        "data_training = pd.read_csv(province+'/train/'+province.lower()+'_train_format.csv', date_parser = True)\n"
      ]
    },
    {
      "cell_type": "code",
      "execution_count": null,
      "metadata": {
        "colab": {
          "base_uri": "https://localhost:8080/",
          "height": 206
        },
        "id": "5FXLGXmedgqG",
        "outputId": "f2bfe5c4-5390-4397-bb7a-de16c5d64092"
      },
      "outputs": [
        {
          "data": {
            "text/html": [
              "<div>\n",
              "<style scoped>\n",
              "    .dataframe tbody tr th:only-of-type {\n",
              "        vertical-align: middle;\n",
              "    }\n",
              "\n",
              "    .dataframe tbody tr th {\n",
              "        vertical-align: top;\n",
              "    }\n",
              "\n",
              "    .dataframe thead th {\n",
              "        text-align: right;\n",
              "    }\n",
              "</style>\n",
              "<table border=\"1\" class=\"dataframe\">\n",
              "  <thead>\n",
              "    <tr style=\"text-align: right;\">\n",
              "      <th></th>\n",
              "      <th>PM2.5</th>\n",
              "      <th>temp</th>\n",
              "      <th>wind speed</th>\n",
              "      <th>wind dir</th>\n",
              "    </tr>\n",
              "  </thead>\n",
              "  <tbody>\n",
              "    <tr>\n",
              "      <th>0</th>\n",
              "      <td>22.0</td>\n",
              "      <td>25.0</td>\n",
              "      <td>38.0</td>\n",
              "      <td>250.0</td>\n",
              "    </tr>\n",
              "    <tr>\n",
              "      <th>1</th>\n",
              "      <td>16.0</td>\n",
              "      <td>25.0</td>\n",
              "      <td>38.0</td>\n",
              "      <td>250.0</td>\n",
              "    </tr>\n",
              "    <tr>\n",
              "      <th>2</th>\n",
              "      <td>13.0</td>\n",
              "      <td>25.0</td>\n",
              "      <td>38.0</td>\n",
              "      <td>250.0</td>\n",
              "    </tr>\n",
              "    <tr>\n",
              "      <th>3</th>\n",
              "      <td>18.0</td>\n",
              "      <td>25.0</td>\n",
              "      <td>38.0</td>\n",
              "      <td>250.0</td>\n",
              "    </tr>\n",
              "    <tr>\n",
              "      <th>4</th>\n",
              "      <td>29.0</td>\n",
              "      <td>25.0</td>\n",
              "      <td>38.0</td>\n",
              "      <td>250.0</td>\n",
              "    </tr>\n",
              "  </tbody>\n",
              "</table>\n",
              "</div>"
            ],
            "text/plain": [
              "   PM2.5  temp  wind speed  wind dir\n",
              "0   22.0  25.0        38.0     250.0\n",
              "1   16.0  25.0        38.0     250.0\n",
              "2   13.0  25.0        38.0     250.0\n",
              "3   18.0  25.0        38.0     250.0\n",
              "4   29.0  25.0        38.0     250.0"
            ]
          },
          "metadata": {},
          "output_type": "display_data"
        }
      ],
      "source": [
        "data_training = data_training.drop(['date_time', 'lat', 'long'], axis = 1)\n",
        "data_training.head()"
      ]
    },
    {
      "cell_type": "code",
      "execution_count": null,
      "metadata": {
        "colab": {
          "base_uri": "https://localhost:8080/",
          "height": 206
        },
        "id": "jONlufFv2NPo",
        "outputId": "c117c196-d411-4a06-c1f3-c5aeeef87c7e"
      },
      "outputs": [
        {
          "data": {
            "text/html": [
              "<div>\n",
              "<style scoped>\n",
              "    .dataframe tbody tr th:only-of-type {\n",
              "        vertical-align: middle;\n",
              "    }\n",
              "\n",
              "    .dataframe tbody tr th {\n",
              "        vertical-align: top;\n",
              "    }\n",
              "\n",
              "    .dataframe thead th {\n",
              "        text-align: right;\n",
              "    }\n",
              "</style>\n",
              "<table border=\"1\" class=\"dataframe\">\n",
              "  <thead>\n",
              "    <tr style=\"text-align: right;\">\n",
              "      <th></th>\n",
              "      <th>Unnamed: 0</th>\n",
              "      <th>date_time</th>\n",
              "      <th>PM2.5</th>\n",
              "      <th>temp</th>\n",
              "      <th>wind speed</th>\n",
              "      <th>wind dir</th>\n",
              "      <th>lat</th>\n",
              "      <th>long</th>\n",
              "    </tr>\n",
              "  </thead>\n",
              "  <tbody>\n",
              "    <tr>\n",
              "      <th>123</th>\n",
              "      <td>123</td>\n",
              "      <td>2020-07-06 03:00:00</td>\n",
              "      <td>NaN</td>\n",
              "      <td>25.3</td>\n",
              "      <td>17</td>\n",
              "      <td>260</td>\n",
              "      <td>14.685833</td>\n",
              "      <td>100.871996</td>\n",
              "    </tr>\n",
              "    <tr>\n",
              "      <th>5836</th>\n",
              "      <td>5836</td>\n",
              "      <td>2021-03-01 04:00:00</td>\n",
              "      <td>NaN</td>\n",
              "      <td>23.5</td>\n",
              "      <td>26</td>\n",
              "      <td>175</td>\n",
              "      <td>14.685833</td>\n",
              "      <td>100.871996</td>\n",
              "    </tr>\n",
              "    <tr>\n",
              "      <th>7344</th>\n",
              "      <td>7344</td>\n",
              "      <td>2021-05-03 00:00:00</td>\n",
              "      <td>27.0</td>\n",
              "      <td>27.7</td>\n",
              "      <td>5</td>\n",
              "      <td>290</td>\n",
              "      <td>14.685833</td>\n",
              "      <td>100.871996</td>\n",
              "    </tr>\n",
              "    <tr>\n",
              "      <th>655</th>\n",
              "      <td>655</td>\n",
              "      <td>2020-07-28 07:00:00</td>\n",
              "      <td>7.0</td>\n",
              "      <td>26.6</td>\n",
              "      <td>10</td>\n",
              "      <td>185</td>\n",
              "      <td>14.685833</td>\n",
              "      <td>100.871996</td>\n",
              "    </tr>\n",
              "    <tr>\n",
              "      <th>5422</th>\n",
              "      <td>5422</td>\n",
              "      <td>2021-02-11 22:00:00</td>\n",
              "      <td>NaN</td>\n",
              "      <td>25.4</td>\n",
              "      <td>3</td>\n",
              "      <td>70</td>\n",
              "      <td>14.685833</td>\n",
              "      <td>100.871996</td>\n",
              "    </tr>\n",
              "  </tbody>\n",
              "</table>\n",
              "</div>"
            ],
            "text/plain": [
              "      Unnamed: 0            date_time  PM2.5  temp  wind speed  wind dir  \\\n",
              "123          123  2020-07-06 03:00:00    NaN  25.3          17       260   \n",
              "5836        5836  2021-03-01 04:00:00    NaN  23.5          26       175   \n",
              "7344        7344  2021-05-03 00:00:00   27.0  27.7           5       290   \n",
              "655          655  2020-07-28 07:00:00    7.0  26.6          10       185   \n",
              "5422        5422  2021-02-11 22:00:00    NaN  25.4           3        70   \n",
              "\n",
              "            lat        long  \n",
              "123   14.685833  100.871996  \n",
              "5836  14.685833  100.871996  \n",
              "7344  14.685833  100.871996  \n",
              "655   14.685833  100.871996  \n",
              "5422  14.685833  100.871996  "
            ]
          },
          "metadata": {},
          "output_type": "display_data"
        }
      ],
      "source": [
        "data_test = pd.read_csv(province+'_clean.csv', date_parser = True)\n",
        "data_test.sample(5)"
      ]
    },
    {
      "cell_type": "code",
      "execution_count": null,
      "metadata": {
        "colab": {
          "base_uri": "https://localhost:8080/",
          "height": 206
        },
        "id": "ZM_Hn5LcUDqd",
        "outputId": "7c170d33-a52a-4b5e-f057-5d16a4355a2d"
      },
      "outputs": [
        {
          "data": {
            "text/html": [
              "<div>\n",
              "<style scoped>\n",
              "    .dataframe tbody tr th:only-of-type {\n",
              "        vertical-align: middle;\n",
              "    }\n",
              "\n",
              "    .dataframe tbody tr th {\n",
              "        vertical-align: top;\n",
              "    }\n",
              "\n",
              "    .dataframe thead th {\n",
              "        text-align: right;\n",
              "    }\n",
              "</style>\n",
              "<table border=\"1\" class=\"dataframe\">\n",
              "  <thead>\n",
              "    <tr style=\"text-align: right;\">\n",
              "      <th></th>\n",
              "      <th>date_time</th>\n",
              "      <th>PM2.5</th>\n",
              "      <th>temp</th>\n",
              "      <th>wind speed</th>\n",
              "      <th>wind dir</th>\n",
              "    </tr>\n",
              "  </thead>\n",
              "  <tbody>\n",
              "    <tr>\n",
              "      <th>0</th>\n",
              "      <td>2020-07-01 00:00:00</td>\n",
              "      <td>2.0</td>\n",
              "      <td>25.9</td>\n",
              "      <td>41</td>\n",
              "      <td>250</td>\n",
              "    </tr>\n",
              "    <tr>\n",
              "      <th>1</th>\n",
              "      <td>2020-07-01 01:00:00</td>\n",
              "      <td>NaN</td>\n",
              "      <td>25.5</td>\n",
              "      <td>41</td>\n",
              "      <td>255</td>\n",
              "    </tr>\n",
              "    <tr>\n",
              "      <th>2</th>\n",
              "      <td>2020-07-01 02:00:00</td>\n",
              "      <td>NaN</td>\n",
              "      <td>25.5</td>\n",
              "      <td>41</td>\n",
              "      <td>255</td>\n",
              "    </tr>\n",
              "    <tr>\n",
              "      <th>3</th>\n",
              "      <td>2020-07-01 03:00:00</td>\n",
              "      <td>3.0</td>\n",
              "      <td>25.5</td>\n",
              "      <td>41</td>\n",
              "      <td>255</td>\n",
              "    </tr>\n",
              "    <tr>\n",
              "      <th>4</th>\n",
              "      <td>2020-07-01 04:00:00</td>\n",
              "      <td>5.0</td>\n",
              "      <td>25.1</td>\n",
              "      <td>49</td>\n",
              "      <td>265</td>\n",
              "    </tr>\n",
              "  </tbody>\n",
              "</table>\n",
              "</div>"
            ],
            "text/plain": [
              "             date_time  PM2.5  temp  wind speed  wind dir\n",
              "0  2020-07-01 00:00:00    2.0  25.9          41       250\n",
              "1  2020-07-01 01:00:00    NaN  25.5          41       255\n",
              "2  2020-07-01 02:00:00    NaN  25.5          41       255\n",
              "3  2020-07-01 03:00:00    3.0  25.5          41       255\n",
              "4  2020-07-01 04:00:00    5.0  25.1          49       265"
            ]
          },
          "metadata": {},
          "output_type": "display_data"
        }
      ],
      "source": [
        "data_test = data_test.drop(['Unnamed: 0', 'lat', 'long'], axis = 1)\n",
        "data_test.head()"
      ]
    },
    {
      "cell_type": "code",
      "execution_count": null,
      "metadata": {
        "id": "khw4M2JsdiKT"
      },
      "outputs": [],
      "source": [
        "scaler = MinMaxScaler()\n",
        "data_training = scaler.fit_transform(data_training)\n",
        "scaler.inverse_transform(data_training)\n",
        "scale = 1/scaler.scale_\n"
      ]
    },
    {
      "cell_type": "code",
      "execution_count": null,
      "metadata": {
        "id": "W4926pfpdoE0"
      },
      "outputs": [],
      "source": [
        "X_train = []\n",
        "y_train = []\n",
        "\n",
        "for i in range(60, data_training.shape[0]):\n",
        "    X_train.append(data_training[i-60:i])\n",
        "    y_train.append(data_training[i, 0])\n",
        "\n",
        "X_train, y_train = np.array(X_train), np.array(y_train)\n",
        "X_train.shape"
      ]
    },
    {
      "cell_type": "code",
      "execution_count": null,
      "metadata": {
        "id": "6PwBHKiCdxBy"
      },
      "outputs": [],
      "source": [
        "modelLSTM = Sequential()\n",
        "\n",
        "modelLSTM.add(LSTM(units = 60, activation = 'relu', return_sequences = True, input_shape = (X_train.shape[1], 4)))\n",
        "modelLSTM.add(Dropout(0.2))\n",
        "modelLSTM.add(LSTM(units = 80, activation = 'relu',  input_shape = (X_train.shape[1], 4)))\n",
        "modelLSTM.add(Dropout(0.2))\n",
        "\n",
        "\n",
        "modelLSTM.add(Dense(units = 1))"
      ]
    },
    {
      "cell_type": "code",
      "execution_count": null,
      "metadata": {
        "colab": {
          "base_uri": "https://localhost:8080/"
        },
        "id": "OruphK2TdzFB",
        "outputId": "a1985c4e-d227-4c86-cb42-fe4f48a4b574"
      },
      "outputs": [
        {
          "name": "stdout",
          "output_type": "stream",
          "text": [
            "Model: \"sequential_8\"\n",
            "_________________________________________________________________\n",
            " Layer (type)                Output Shape              Param #   \n",
            "=================================================================\n",
            " lstm_11 (LSTM)              (None, 120)               60000     \n",
            "                                                                 \n",
            " dropout_11 (Dropout)        (None, 120)               0         \n",
            "                                                                 \n",
            " dense_9 (Dense)             (None, 1)                 121       \n",
            "                                                                 \n",
            "=================================================================\n",
            "Total params: 60,121\n",
            "Trainable params: 60,121\n",
            "Non-trainable params: 0\n",
            "_________________________________________________________________\n"
          ]
        }
      ],
      "source": [
        "modelLSTM.summary()"
      ]
    },
    {
      "cell_type": "code",
      "execution_count": null,
      "metadata": {
        "id": "F2jd8nTRp9kq"
      },
      "outputs": [],
      "source": [
        "#create callback\n",
        "filepath = 'my_best_modelLSTM_yourself.hdf5'\n",
        "checkpoint = ModelCheckpoint(filepath=filepath, \n",
        "                             monitor='loss',\n",
        "                             verbose=0, \n",
        "                             save_best_only=True,\n",
        "                             mode='min')\n",
        "\n",
        "earlystopping = EarlyStopping(\n",
        "    monitor='loss', \n",
        "    patience=3, \n",
        "    min_delta=0, \n",
        "    mode='auto'\n",
        ")\n",
        "\n",
        "reduce_lr = ReduceLROnPlateau(\n",
        "    monitor='loss', \n",
        "    factor=0.2,   \n",
        "    patience=2, \n",
        "    min_lr=0.001,\n",
        "    verbose=0\n",
        ")\n",
        "callbacks = [checkpoint, earlystopping, reduce_lr]"
      ]
    },
    {
      "cell_type": "code",
      "execution_count": null,
      "metadata": {
        "id": "7alsTCdPd5PY"
      },
      "outputs": [],
      "source": [
        "modelLSTM.compile(optimizer='adam', loss = 'mean_squared_error')"
      ]
    },
    {
      "cell_type": "code",
      "execution_count": null,
      "metadata": {
        "colab": {
          "base_uri": "https://localhost:8080/"
        },
        "id": "jJGUMaN7wafJ",
        "outputId": "99c99a14-509d-4f56-a2fc-b13512fb7507"
      },
      "outputs": [
        {
          "name": "stdout",
          "output_type": "stream",
          "text": [
            "Epoch 1/10\n",
            "821/821 [==============================] - 56s 67ms/step - loss: 9.2078e-04 - lr: 0.0010\n",
            "Epoch 2/10\n",
            "821/821 [==============================] - 58s 71ms/step - loss: 4.4753e-04 - lr: 0.0010\n",
            "Epoch 3/10\n",
            "821/821 [==============================] - 58s 71ms/step - loss: 3.4225e-04 - lr: 0.0010\n",
            "Epoch 4/10\n",
            "821/821 [==============================] - 59s 71ms/step - loss: 3.0990e-04 - lr: 0.0010\n",
            "Epoch 5/10\n",
            "821/821 [==============================] - 59s 72ms/step - loss: 3.0089e-04 - lr: 0.0010\n",
            "Epoch 6/10\n",
            "821/821 [==============================] - 58s 71ms/step - loss: 2.8285e-04 - lr: 0.0010\n",
            "Epoch 7/10\n",
            "821/821 [==============================] - 58s 70ms/step - loss: 2.9304e-04 - lr: 0.0010\n",
            "Epoch 8/10\n",
            "821/821 [==============================] - 62s 76ms/step - loss: 2.8004e-04 - lr: 0.0010\n",
            "Epoch 9/10\n",
            "821/821 [==============================] - 63s 77ms/step - loss: 2.7486e-04 - lr: 0.0010\n",
            "Epoch 10/10\n",
            "821/821 [==============================] - 64s 79ms/step - loss: 2.6738e-04 - lr: 0.0010\n"
          ]
        }
      ],
      "source": [
        "history = modelLSTM.fit(X_train, y_train, epochs=10, batch_size=32, callbacks=callbacks)"
      ]
    },
    {
      "cell_type": "code",
      "execution_count": null,
      "metadata": {
        "id": "lW-wyZdr_lPa"
      },
      "outputs": [],
      "source": [
        "data_training = pd.read_csv(province+'/train/'+province.lower()+'_train_format.csv', date_parser = True)\n",
        "data_training = data_training.drop(['date_time', 'lat', 'long'], axis = 1)\n",
        "data_test = data_test.drop(['date_time'], axis = 1)"
      ]
    },
    {
      "cell_type": "code",
      "execution_count": null,
      "metadata": {
        "id": "Sb-SV-wReAJL"
      },
      "outputs": [
        {
          "data": {
            "text/html": [
              "<div>\n",
              "<style scoped>\n",
              "    .dataframe tbody tr th:only-of-type {\n",
              "        vertical-align: middle;\n",
              "    }\n",
              "\n",
              "    .dataframe tbody tr th {\n",
              "        vertical-align: top;\n",
              "    }\n",
              "\n",
              "    .dataframe thead th {\n",
              "        text-align: right;\n",
              "    }\n",
              "</style>\n",
              "<table border=\"1\" class=\"dataframe\">\n",
              "  <thead>\n",
              "    <tr style=\"text-align: right;\">\n",
              "      <th></th>\n",
              "      <th>PM2.5</th>\n",
              "      <th>temp</th>\n",
              "      <th>wind speed</th>\n",
              "      <th>wind dir</th>\n",
              "    </tr>\n",
              "  </thead>\n",
              "  <tbody>\n",
              "    <tr>\n",
              "      <th>0</th>\n",
              "      <td>2.0</td>\n",
              "      <td>25.9</td>\n",
              "      <td>41</td>\n",
              "      <td>250</td>\n",
              "    </tr>\n",
              "    <tr>\n",
              "      <th>1</th>\n",
              "      <td>NaN</td>\n",
              "      <td>25.5</td>\n",
              "      <td>41</td>\n",
              "      <td>255</td>\n",
              "    </tr>\n",
              "    <tr>\n",
              "      <th>2</th>\n",
              "      <td>NaN</td>\n",
              "      <td>25.5</td>\n",
              "      <td>41</td>\n",
              "      <td>255</td>\n",
              "    </tr>\n",
              "    <tr>\n",
              "      <th>3</th>\n",
              "      <td>3.0</td>\n",
              "      <td>25.5</td>\n",
              "      <td>41</td>\n",
              "      <td>255</td>\n",
              "    </tr>\n",
              "    <tr>\n",
              "      <th>4</th>\n",
              "      <td>5.0</td>\n",
              "      <td>25.1</td>\n",
              "      <td>49</td>\n",
              "      <td>265</td>\n",
              "    </tr>\n",
              "  </tbody>\n",
              "</table>\n",
              "</div>"
            ],
            "text/plain": [
              "   PM2.5  temp  wind speed  wind dir\n",
              "0    2.0  25.9          41       250\n",
              "1    NaN  25.5          41       255\n",
              "2    NaN  25.5          41       255\n",
              "3    3.0  25.5          41       255\n",
              "4    5.0  25.1          49       265"
            ]
          },
          "metadata": {},
          "output_type": "display_data"
        }
      ],
      "source": [
        "data_test = data_test.drop(['date_time'], axis = 1)\n",
        "data_test.head()"
      ]
    },
    {
      "cell_type": "code",
      "execution_count": null,
      "metadata": {
        "id": "UpqWwdOaeD1K"
      },
      "outputs": [],
      "source": [
        "past_60_days = data_training.tail(60)"
      ]
    },
    {
      "cell_type": "code",
      "execution_count": null,
      "metadata": {
        "id": "TR2tRta0eEgF"
      },
      "outputs": [
        {
          "data": {
            "text/html": [
              "<div>\n",
              "<style scoped>\n",
              "    .dataframe tbody tr th:only-of-type {\n",
              "        vertical-align: middle;\n",
              "    }\n",
              "\n",
              "    .dataframe tbody tr th {\n",
              "        vertical-align: top;\n",
              "    }\n",
              "\n",
              "    .dataframe thead th {\n",
              "        text-align: right;\n",
              "    }\n",
              "</style>\n",
              "<table border=\"1\" class=\"dataframe\">\n",
              "  <thead>\n",
              "    <tr style=\"text-align: right;\">\n",
              "      <th></th>\n",
              "      <th>PM2.5</th>\n",
              "      <th>temp</th>\n",
              "      <th>wind speed</th>\n",
              "      <th>wind dir</th>\n",
              "    </tr>\n",
              "  </thead>\n",
              "  <tbody>\n",
              "    <tr>\n",
              "      <th>0</th>\n",
              "      <td>18.0</td>\n",
              "      <td>30.5</td>\n",
              "      <td>9.0</td>\n",
              "      <td>235.0</td>\n",
              "    </tr>\n",
              "    <tr>\n",
              "      <th>1</th>\n",
              "      <td>18.0</td>\n",
              "      <td>33.1</td>\n",
              "      <td>12.0</td>\n",
              "      <td>245.0</td>\n",
              "    </tr>\n",
              "    <tr>\n",
              "      <th>2</th>\n",
              "      <td>14.0</td>\n",
              "      <td>33.1</td>\n",
              "      <td>12.0</td>\n",
              "      <td>245.0</td>\n",
              "    </tr>\n",
              "    <tr>\n",
              "      <th>3</th>\n",
              "      <td>8.0</td>\n",
              "      <td>33.1</td>\n",
              "      <td>12.0</td>\n",
              "      <td>245.0</td>\n",
              "    </tr>\n",
              "    <tr>\n",
              "      <th>4</th>\n",
              "      <td>6.0</td>\n",
              "      <td>33.4</td>\n",
              "      <td>17.0</td>\n",
              "      <td>245.0</td>\n",
              "    </tr>\n",
              "  </tbody>\n",
              "</table>\n",
              "</div>"
            ],
            "text/plain": [
              "   PM2.5  temp  wind speed  wind dir\n",
              "0   18.0  30.5         9.0     235.0\n",
              "1   18.0  33.1        12.0     245.0\n",
              "2   14.0  33.1        12.0     245.0\n",
              "3    8.0  33.1        12.0     245.0\n",
              "4    6.0  33.4        17.0     245.0"
            ]
          },
          "metadata": {},
          "output_type": "display_data"
        }
      ],
      "source": [
        "df = past_60_days.append(data_test, ignore_index = True)\n",
        "df.head()"
      ]
    },
    {
      "cell_type": "code",
      "execution_count": null,
      "metadata": {
        "id": "zwRexsPQqvTy"
      },
      "outputs": [],
      "source": [
        "df.dropna(inplace=True)\n",
        "df.shape"
      ]
    },
    {
      "cell_type": "code",
      "execution_count": null,
      "metadata": {
        "id": "yRpQEcauq0oc"
      },
      "outputs": [
        {
          "data": {
            "text/plain": [
              "(7836, 4)"
            ]
          },
          "metadata": {},
          "output_type": "display_data"
        }
      ],
      "source": [
        "df.shape"
      ]
    },
    {
      "cell_type": "code",
      "execution_count": null,
      "metadata": {
        "id": "KKrjHeCMeGWX"
      },
      "outputs": [
        {
          "data": {
            "text/plain": [
              "array([[0.04187192, 0.6133829 , 0.0989011 , 0.65277778],\n",
              "       [0.04187192, 0.71003717, 0.13186813, 0.68055556],\n",
              "       [0.0320197 , 0.71003717, 0.13186813, 0.68055556],\n",
              "       ...,\n",
              "       [0.02955665, 0.58364312, 0.26373626, 0.65277778],\n",
              "       [0.0320197 , 0.58364312, 0.27472527, 0.66666667],\n",
              "       [0.0320197 , 0.58364312, 0.26373626, 0.69444444]])"
            ]
          },
          "metadata": {},
          "output_type": "display_data"
        }
      ],
      "source": [
        "inputs = scaler.transform(df)\n",
        "inputs"
      ]
    },
    {
      "cell_type": "code",
      "execution_count": null,
      "metadata": {
        "id": "x3WdrSMFeHlj"
      },
      "outputs": [],
      "source": [
        "X_test = []\n",
        "y_test = []\n",
        "\n",
        "for i in range(60, inputs.shape[0]):\n",
        "    X_test.append(inputs[i-60:i])\n",
        "    y_test.append(inputs[i, 0])"
      ]
    },
    {
      "cell_type": "code",
      "execution_count": null,
      "metadata": {
        "id": "1-l8uJ6beJN-"
      },
      "outputs": [
        {
          "data": {
            "text/plain": [
              "((7776, 60, 4), (7776,))"
            ]
          },
          "metadata": {},
          "output_type": "display_data"
        }
      ],
      "source": [
        "X_test, y_test = np.array(X_test), np.array(y_test)\n",
        "X_test.shape, y_test.shape"
      ]
    },
    {
      "cell_type": "code",
      "execution_count": null,
      "metadata": {
        "id": "OAbQp-tPeKvP"
      },
      "outputs": [],
      "source": [
        "y_pred = modelLSTM.predict(X_test)"
      ]
    },
    {
      "cell_type": "code",
      "execution_count": null,
      "metadata": {
        "id": "VO8T2VYEeO7q"
      },
      "outputs": [
        {
          "data": {
            "text/plain": [
              "406.0"
            ]
          },
          "metadata": {},
          "output_type": "display_data"
        }
      ],
      "source": [
        "scale = 1/scaler.scale_[0]\n",
        "y_pred = y_pred*scale\n",
        "y_test = y_test*scale"
      ]
    },
    {
      "cell_type": "code",
      "execution_count": null,
      "metadata": {
        "id": "6J1AmHFNeP6Z"
      },
      "outputs": [],
      "source": [
        "y_pred = y_pred*scale\n",
        "y_test = y_test*scale"
      ]
    },
    {
      "cell_type": "code",
      "execution_count": null,
      "metadata": {
        "id": "NsN4tns4A0lG"
      },
      "outputs": [
        {
          "name": "stdout",
          "output_type": "stream",
          "text": [
            "Saraburi RMSE = 3.1962012873265464\n"
          ]
        }
      ],
      "source": [
        "print(province+' RMSE =', math.sqrt(mean_squared_error(y_test, y_pred)) )"
      ]
    },
    {
      "cell_type": "code",
      "execution_count": null,
      "metadata": {
        "id": "KkwVJXVaeR4e"
      },
      "outputs": [
        {
          "data": {
            "image/png": "[encoded data removed]",
            "text/plain": [
              "<Figure size 1008x360 with 1 Axes>"
            ]
          },
          "metadata": {},
          "output_type": "display_data"
        }
      ],
      "source": [
        "# Visualising the results\n",
        "plt.figure(figsize=(14,5))\n",
        "plt.plot(y_test, color = 'red', label = 'Real')\n",
        "plt.plot(y_pred, color = 'blue', label = 'Predicted')\n",
        "plt.xlabel('Time')\n",
        "plt.ylabel('PM2.5')\n",
        "plt.legend()\n",
        "plt.show()"
      ]
    },
    {
      "cell_type": "code",
      "execution_count": null,
      "metadata": {
        "id": "_9BwFEag82WB"
      },
      "outputs": [],
      "source": [
        "import pickle\n",
        "\n",
        "with open('lstm_'+province.lower()+'.pickle', 'wb') as fp:\n",
        "    pickle.dump(y_pred, fp)"
      ]
    },
    {
      "cell_type": "code",
      "execution_count": null,
      "metadata": {
        "id": "X2NYaatgLJXQ"
      },
      "outputs": [],
      "source": [
        "df1 = pd.DataFrame(y_pred)\n",
        "df1.to_csv('lstm_'+province.lower()+'.csv')"
      ]
    },
    {
      "cell_type": "code",
      "execution_count": null,
      "metadata": {
        "id": "j6-u-OHuV6il"
      },
      "outputs": [],
      "source": []
    },
    {
      "cell_type": "markdown",
      "metadata": {},
      "source": [
        "# Khonkaen"
      ]
    },
    {
      "cell_type": "code",
      "execution_count": null,
      "metadata": {
        "id": "9B3XlyHJWiP-"
      },
      "outputs": [],
      "source": [
        "provinces = ['BKK','Chiangmai','Khonkaen','Rayong','Saraburi','Surat']\n",
        "province = provinces[2]\n",
        "data_training = pd.read_csv(province+'/train/'+province.lower()+'_train_format.csv', date_parser = True)\n"
      ]
    },
    {
      "cell_type": "code",
      "execution_count": null,
      "metadata": {
        "colab": {
          "base_uri": "https://localhost:8080/",
          "height": 206
        },
        "id": "5FXLGXmedgqG",
        "outputId": "f2bfe5c4-5390-4397-bb7a-de16c5d64092"
      },
      "outputs": [
        {
          "data": {
            "text/html": [
              "<div>\n",
              "<style scoped>\n",
              "    .dataframe tbody tr th:only-of-type {\n",
              "        vertical-align: middle;\n",
              "    }\n",
              "\n",
              "    .dataframe tbody tr th {\n",
              "        vertical-align: top;\n",
              "    }\n",
              "\n",
              "    .dataframe thead th {\n",
              "        text-align: right;\n",
              "    }\n",
              "</style>\n",
              "<table border=\"1\" class=\"dataframe\">\n",
              "  <thead>\n",
              "    <tr style=\"text-align: right;\">\n",
              "      <th></th>\n",
              "      <th>PM2.5</th>\n",
              "      <th>temp</th>\n",
              "      <th>wind speed</th>\n",
              "      <th>wind dir</th>\n",
              "    </tr>\n",
              "  </thead>\n",
              "  <tbody>\n",
              "    <tr>\n",
              "      <th>0</th>\n",
              "      <td>22.0</td>\n",
              "      <td>25.0</td>\n",
              "      <td>38.0</td>\n",
              "      <td>250.0</td>\n",
              "    </tr>\n",
              "    <tr>\n",
              "      <th>1</th>\n",
              "      <td>16.0</td>\n",
              "      <td>25.0</td>\n",
              "      <td>38.0</td>\n",
              "      <td>250.0</td>\n",
              "    </tr>\n",
              "    <tr>\n",
              "      <th>2</th>\n",
              "      <td>13.0</td>\n",
              "      <td>25.0</td>\n",
              "      <td>38.0</td>\n",
              "      <td>250.0</td>\n",
              "    </tr>\n",
              "    <tr>\n",
              "      <th>3</th>\n",
              "      <td>18.0</td>\n",
              "      <td>25.0</td>\n",
              "      <td>38.0</td>\n",
              "      <td>250.0</td>\n",
              "    </tr>\n",
              "    <tr>\n",
              "      <th>4</th>\n",
              "      <td>29.0</td>\n",
              "      <td>25.0</td>\n",
              "      <td>38.0</td>\n",
              "      <td>250.0</td>\n",
              "    </tr>\n",
              "  </tbody>\n",
              "</table>\n",
              "</div>"
            ],
            "text/plain": [
              "   PM2.5  temp  wind speed  wind dir\n",
              "0   22.0  25.0        38.0     250.0\n",
              "1   16.0  25.0        38.0     250.0\n",
              "2   13.0  25.0        38.0     250.0\n",
              "3   18.0  25.0        38.0     250.0\n",
              "4   29.0  25.0        38.0     250.0"
            ]
          },
          "metadata": {},
          "output_type": "display_data"
        }
      ],
      "source": [
        "data_training = data_training.drop(['date_time', 'lat', 'long'], axis = 1)\n",
        "data_training.head()"
      ]
    },
    {
      "cell_type": "code",
      "execution_count": null,
      "metadata": {
        "colab": {
          "base_uri": "https://localhost:8080/",
          "height": 206
        },
        "id": "jONlufFv2NPo",
        "outputId": "c117c196-d411-4a06-c1f3-c5aeeef87c7e"
      },
      "outputs": [
        {
          "data": {
            "text/html": [
              "<div>\n",
              "<style scoped>\n",
              "    .dataframe tbody tr th:only-of-type {\n",
              "        vertical-align: middle;\n",
              "    }\n",
              "\n",
              "    .dataframe tbody tr th {\n",
              "        vertical-align: top;\n",
              "    }\n",
              "\n",
              "    .dataframe thead th {\n",
              "        text-align: right;\n",
              "    }\n",
              "</style>\n",
              "<table border=\"1\" class=\"dataframe\">\n",
              "  <thead>\n",
              "    <tr style=\"text-align: right;\">\n",
              "      <th></th>\n",
              "      <th>Unnamed: 0</th>\n",
              "      <th>date_time</th>\n",
              "      <th>PM2.5</th>\n",
              "      <th>temp</th>\n",
              "      <th>wind speed</th>\n",
              "      <th>wind dir</th>\n",
              "      <th>lat</th>\n",
              "      <th>long</th>\n",
              "    </tr>\n",
              "  </thead>\n",
              "  <tbody>\n",
              "    <tr>\n",
              "      <th>123</th>\n",
              "      <td>123</td>\n",
              "      <td>2020-07-06 03:00:00</td>\n",
              "      <td>NaN</td>\n",
              "      <td>25.3</td>\n",
              "      <td>17</td>\n",
              "      <td>260</td>\n",
              "      <td>14.685833</td>\n",
              "      <td>100.871996</td>\n",
              "    </tr>\n",
              "    <tr>\n",
              "      <th>5836</th>\n",
              "      <td>5836</td>\n",
              "      <td>2021-03-01 04:00:00</td>\n",
              "      <td>NaN</td>\n",
              "      <td>23.5</td>\n",
              "      <td>26</td>\n",
              "      <td>175</td>\n",
              "      <td>14.685833</td>\n",
              "      <td>100.871996</td>\n",
              "    </tr>\n",
              "    <tr>\n",
              "      <th>7344</th>\n",
              "      <td>7344</td>\n",
              "      <td>2021-05-03 00:00:00</td>\n",
              "      <td>27.0</td>\n",
              "      <td>27.7</td>\n",
              "      <td>5</td>\n",
              "      <td>290</td>\n",
              "      <td>14.685833</td>\n",
              "      <td>100.871996</td>\n",
              "    </tr>\n",
              "    <tr>\n",
              "      <th>655</th>\n",
              "      <td>655</td>\n",
              "      <td>2020-07-28 07:00:00</td>\n",
              "      <td>7.0</td>\n",
              "      <td>26.6</td>\n",
              "      <td>10</td>\n",
              "      <td>185</td>\n",
              "      <td>14.685833</td>\n",
              "      <td>100.871996</td>\n",
              "    </tr>\n",
              "    <tr>\n",
              "      <th>5422</th>\n",
              "      <td>5422</td>\n",
              "      <td>2021-02-11 22:00:00</td>\n",
              "      <td>NaN</td>\n",
              "      <td>25.4</td>\n",
              "      <td>3</td>\n",
              "      <td>70</td>\n",
              "      <td>14.685833</td>\n",
              "      <td>100.871996</td>\n",
              "    </tr>\n",
              "  </tbody>\n",
              "</table>\n",
              "</div>"
            ],
            "text/plain": [
              "      Unnamed: 0            date_time  PM2.5  temp  wind speed  wind dir  \\\n",
              "123          123  2020-07-06 03:00:00    NaN  25.3          17       260   \n",
              "5836        5836  2021-03-01 04:00:00    NaN  23.5          26       175   \n",
              "7344        7344  2021-05-03 00:00:00   27.0  27.7           5       290   \n",
              "655          655  2020-07-28 07:00:00    7.0  26.6          10       185   \n",
              "5422        5422  2021-02-11 22:00:00    NaN  25.4           3        70   \n",
              "\n",
              "            lat        long  \n",
              "123   14.685833  100.871996  \n",
              "5836  14.685833  100.871996  \n",
              "7344  14.685833  100.871996  \n",
              "655   14.685833  100.871996  \n",
              "5422  14.685833  100.871996  "
            ]
          },
          "metadata": {},
          "output_type": "display_data"
        }
      ],
      "source": [
        "data_test = pd.read_csv(province+'_clean.csv', date_parser = True)\n",
        "data_test.sample(5)"
      ]
    },
    {
      "cell_type": "code",
      "execution_count": null,
      "metadata": {
        "colab": {
          "base_uri": "https://localhost:8080/",
          "height": 206
        },
        "id": "ZM_Hn5LcUDqd",
        "outputId": "7c170d33-a52a-4b5e-f057-5d16a4355a2d"
      },
      "outputs": [
        {
          "data": {
            "text/html": [
              "<div>\n",
              "<style scoped>\n",
              "    .dataframe tbody tr th:only-of-type {\n",
              "        vertical-align: middle;\n",
              "    }\n",
              "\n",
              "    .dataframe tbody tr th {\n",
              "        vertical-align: top;\n",
              "    }\n",
              "\n",
              "    .dataframe thead th {\n",
              "        text-align: right;\n",
              "    }\n",
              "</style>\n",
              "<table border=\"1\" class=\"dataframe\">\n",
              "  <thead>\n",
              "    <tr style=\"text-align: right;\">\n",
              "      <th></th>\n",
              "      <th>date_time</th>\n",
              "      <th>PM2.5</th>\n",
              "      <th>temp</th>\n",
              "      <th>wind speed</th>\n",
              "      <th>wind dir</th>\n",
              "    </tr>\n",
              "  </thead>\n",
              "  <tbody>\n",
              "    <tr>\n",
              "      <th>0</th>\n",
              "      <td>2020-07-01 00:00:00</td>\n",
              "      <td>2.0</td>\n",
              "      <td>25.9</td>\n",
              "      <td>41</td>\n",
              "      <td>250</td>\n",
              "    </tr>\n",
              "    <tr>\n",
              "      <th>1</th>\n",
              "      <td>2020-07-01 01:00:00</td>\n",
              "      <td>NaN</td>\n",
              "      <td>25.5</td>\n",
              "      <td>41</td>\n",
              "      <td>255</td>\n",
              "    </tr>\n",
              "    <tr>\n",
              "      <th>2</th>\n",
              "      <td>2020-07-01 02:00:00</td>\n",
              "      <td>NaN</td>\n",
              "      <td>25.5</td>\n",
              "      <td>41</td>\n",
              "      <td>255</td>\n",
              "    </tr>\n",
              "    <tr>\n",
              "      <th>3</th>\n",
              "      <td>2020-07-01 03:00:00</td>\n",
              "      <td>3.0</td>\n",
              "      <td>25.5</td>\n",
              "      <td>41</td>\n",
              "      <td>255</td>\n",
              "    </tr>\n",
              "    <tr>\n",
              "      <th>4</th>\n",
              "      <td>2020-07-01 04:00:00</td>\n",
              "      <td>5.0</td>\n",
              "      <td>25.1</td>\n",
              "      <td>49</td>\n",
              "      <td>265</td>\n",
              "    </tr>\n",
              "  </tbody>\n",
              "</table>\n",
              "</div>"
            ],
            "text/plain": [
              "             date_time  PM2.5  temp  wind speed  wind dir\n",
              "0  2020-07-01 00:00:00    2.0  25.9          41       250\n",
              "1  2020-07-01 01:00:00    NaN  25.5          41       255\n",
              "2  2020-07-01 02:00:00    NaN  25.5          41       255\n",
              "3  2020-07-01 03:00:00    3.0  25.5          41       255\n",
              "4  2020-07-01 04:00:00    5.0  25.1          49       265"
            ]
          },
          "metadata": {},
          "output_type": "display_data"
        }
      ],
      "source": [
        "data_test = data_test.drop(['Unnamed: 0', 'lat', 'long'], axis = 1)\n",
        "data_test.head()"
      ]
    },
    {
      "cell_type": "code",
      "execution_count": null,
      "metadata": {
        "id": "khw4M2JsdiKT"
      },
      "outputs": [],
      "source": [
        "scaler = MinMaxScaler()\n",
        "data_training = scaler.fit_transform(data_training)\n",
        "scaler.inverse_transform(data_training)\n",
        "scale = 1/scaler.scale_\n"
      ]
    },
    {
      "cell_type": "code",
      "execution_count": null,
      "metadata": {
        "id": "W4926pfpdoE0"
      },
      "outputs": [],
      "source": [
        "X_train = []\n",
        "y_train = []\n",
        "\n",
        "for i in range(60, data_training.shape[0]):\n",
        "    X_train.append(data_training[i-60:i])\n",
        "    y_train.append(data_training[i, 0])\n",
        "\n",
        "X_train, y_train = np.array(X_train), np.array(y_train)\n",
        "X_train.shape"
      ]
    },
    {
      "cell_type": "code",
      "execution_count": null,
      "metadata": {
        "id": "6PwBHKiCdxBy"
      },
      "outputs": [],
      "source": [
        "modelLSTM = Sequential()\n",
        "\n",
        "modelLSTM.add(LSTM(units = 60, activation = 'relu', input_shape = (X_train.shape[1], 4)))\n",
        "modelLSTM.add(Dropout(0.2))\n",
        "\n",
        "\n",
        "modelLSTM.add(Dense(units = 1))"
      ]
    },
    {
      "cell_type": "code",
      "execution_count": null,
      "metadata": {
        "colab": {
          "base_uri": "https://localhost:8080/"
        },
        "id": "OruphK2TdzFB",
        "outputId": "a1985c4e-d227-4c86-cb42-fe4f48a4b574"
      },
      "outputs": [
        {
          "name": "stdout",
          "output_type": "stream",
          "text": [
            "Model: \"sequential_8\"\n",
            "_________________________________________________________________\n",
            " Layer (type)                Output Shape              Param #   \n",
            "=================================================================\n",
            " lstm_11 (LSTM)              (None, 120)               60000     \n",
            "                                                                 \n",
            " dropout_11 (Dropout)        (None, 120)               0         \n",
            "                                                                 \n",
            " dense_9 (Dense)             (None, 1)                 121       \n",
            "                                                                 \n",
            "=================================================================\n",
            "Total params: 60,121\n",
            "Trainable params: 60,121\n",
            "Non-trainable params: 0\n",
            "_________________________________________________________________\n"
          ]
        }
      ],
      "source": [
        "modelLSTM.summary()"
      ]
    },
    {
      "cell_type": "code",
      "execution_count": null,
      "metadata": {
        "id": "F2jd8nTRp9kq"
      },
      "outputs": [],
      "source": [
        "#create callback\n",
        "filepath = 'my_best_modelLSTM_yourself.hdf5'\n",
        "checkpoint = ModelCheckpoint(filepath=filepath, \n",
        "                             monitor='loss',\n",
        "                             verbose=0, \n",
        "                             save_best_only=True,\n",
        "                             mode='min')\n",
        "\n",
        "earlystopping = EarlyStopping(\n",
        "    monitor='loss', \n",
        "    patience=3, \n",
        "    min_delta=0, \n",
        "    mode='auto'\n",
        ")\n",
        "\n",
        "reduce_lr = ReduceLROnPlateau(\n",
        "    monitor='loss', \n",
        "    factor=0.2,   \n",
        "    patience=2, \n",
        "    min_lr=0.001,\n",
        "    verbose=0\n",
        ")\n",
        "callbacks = [checkpoint, earlystopping, reduce_lr]"
      ]
    },
    {
      "cell_type": "code",
      "execution_count": null,
      "metadata": {
        "id": "7alsTCdPd5PY"
      },
      "outputs": [],
      "source": [
        "modelLSTM.compile(optimizer='adam', loss = 'mean_squared_error')"
      ]
    },
    {
      "cell_type": "code",
      "execution_count": null,
      "metadata": {
        "colab": {
          "base_uri": "https://localhost:8080/"
        },
        "id": "jJGUMaN7wafJ",
        "outputId": "99c99a14-509d-4f56-a2fc-b13512fb7507"
      },
      "outputs": [
        {
          "name": "stdout",
          "output_type": "stream",
          "text": [
            "Epoch 1/10\n",
            "821/821 [==============================] - 56s 67ms/step - loss: 9.2078e-04 - lr: 0.0010\n",
            "Epoch 2/10\n",
            "821/821 [==============================] - 58s 71ms/step - loss: 4.4753e-04 - lr: 0.0010\n",
            "Epoch 3/10\n",
            "821/821 [==============================] - 58s 71ms/step - loss: 3.4225e-04 - lr: 0.0010\n",
            "Epoch 4/10\n",
            "821/821 [==============================] - 59s 71ms/step - loss: 3.0990e-04 - lr: 0.0010\n",
            "Epoch 5/10\n",
            "821/821 [==============================] - 59s 72ms/step - loss: 3.0089e-04 - lr: 0.0010\n",
            "Epoch 6/10\n",
            "821/821 [==============================] - 58s 71ms/step - loss: 2.8285e-04 - lr: 0.0010\n",
            "Epoch 7/10\n",
            "821/821 [==============================] - 58s 70ms/step - loss: 2.9304e-04 - lr: 0.0010\n",
            "Epoch 8/10\n",
            "821/821 [==============================] - 62s 76ms/step - loss: 2.8004e-04 - lr: 0.0010\n",
            "Epoch 9/10\n",
            "821/821 [==============================] - 63s 77ms/step - loss: 2.7486e-04 - lr: 0.0010\n",
            "Epoch 10/10\n",
            "821/821 [==============================] - 64s 79ms/step - loss: 2.6738e-04 - lr: 0.0010\n"
          ]
        }
      ],
      "source": [
        "history = modelLSTM.fit(X_train, y_train, epochs=10, batch_size=32, callbacks=callbacks)"
      ]
    },
    {
      "cell_type": "code",
      "execution_count": null,
      "metadata": {
        "id": "lW-wyZdr_lPa"
      },
      "outputs": [],
      "source": [
        "data_training = pd.read_csv(province+'/train/'+province.lower()+'_train_format.csv', date_parser = True)\n",
        "data_training = data_training.drop(['date_time', 'lat', 'long'], axis = 1)\n",
        "data_test = data_test.drop(['date_time'], axis = 1)"
      ]
    },
    {
      "cell_type": "code",
      "execution_count": null,
      "metadata": {
        "id": "Sb-SV-wReAJL"
      },
      "outputs": [
        {
          "data": {
            "text/html": [
              "<div>\n",
              "<style scoped>\n",
              "    .dataframe tbody tr th:only-of-type {\n",
              "        vertical-align: middle;\n",
              "    }\n",
              "\n",
              "    .dataframe tbody tr th {\n",
              "        vertical-align: top;\n",
              "    }\n",
              "\n",
              "    .dataframe thead th {\n",
              "        text-align: right;\n",
              "    }\n",
              "</style>\n",
              "<table border=\"1\" class=\"dataframe\">\n",
              "  <thead>\n",
              "    <tr style=\"text-align: right;\">\n",
              "      <th></th>\n",
              "      <th>PM2.5</th>\n",
              "      <th>temp</th>\n",
              "      <th>wind speed</th>\n",
              "      <th>wind dir</th>\n",
              "    </tr>\n",
              "  </thead>\n",
              "  <tbody>\n",
              "    <tr>\n",
              "      <th>0</th>\n",
              "      <td>2.0</td>\n",
              "      <td>25.9</td>\n",
              "      <td>41</td>\n",
              "      <td>250</td>\n",
              "    </tr>\n",
              "    <tr>\n",
              "      <th>1</th>\n",
              "      <td>NaN</td>\n",
              "      <td>25.5</td>\n",
              "      <td>41</td>\n",
              "      <td>255</td>\n",
              "    </tr>\n",
              "    <tr>\n",
              "      <th>2</th>\n",
              "      <td>NaN</td>\n",
              "      <td>25.5</td>\n",
              "      <td>41</td>\n",
              "      <td>255</td>\n",
              "    </tr>\n",
              "    <tr>\n",
              "      <th>3</th>\n",
              "      <td>3.0</td>\n",
              "      <td>25.5</td>\n",
              "      <td>41</td>\n",
              "      <td>255</td>\n",
              "    </tr>\n",
              "    <tr>\n",
              "      <th>4</th>\n",
              "      <td>5.0</td>\n",
              "      <td>25.1</td>\n",
              "      <td>49</td>\n",
              "      <td>265</td>\n",
              "    </tr>\n",
              "  </tbody>\n",
              "</table>\n",
              "</div>"
            ],
            "text/plain": [
              "   PM2.5  temp  wind speed  wind dir\n",
              "0    2.0  25.9          41       250\n",
              "1    NaN  25.5          41       255\n",
              "2    NaN  25.5          41       255\n",
              "3    3.0  25.5          41       255\n",
              "4    5.0  25.1          49       265"
            ]
          },
          "metadata": {},
          "output_type": "display_data"
        }
      ],
      "source": [
        "data_test = data_test.drop(['date_time'], axis = 1)\n",
        "data_test.head()"
      ]
    },
    {
      "cell_type": "code",
      "execution_count": null,
      "metadata": {
        "id": "UpqWwdOaeD1K"
      },
      "outputs": [],
      "source": [
        "past_60_days = data_training.tail(60)"
      ]
    },
    {
      "cell_type": "code",
      "execution_count": null,
      "metadata": {
        "id": "TR2tRta0eEgF"
      },
      "outputs": [
        {
          "data": {
            "text/html": [
              "<div>\n",
              "<style scoped>\n",
              "    .dataframe tbody tr th:only-of-type {\n",
              "        vertical-align: middle;\n",
              "    }\n",
              "\n",
              "    .dataframe tbody tr th {\n",
              "        vertical-align: top;\n",
              "    }\n",
              "\n",
              "    .dataframe thead th {\n",
              "        text-align: right;\n",
              "    }\n",
              "</style>\n",
              "<table border=\"1\" class=\"dataframe\">\n",
              "  <thead>\n",
              "    <tr style=\"text-align: right;\">\n",
              "      <th></th>\n",
              "      <th>PM2.5</th>\n",
              "      <th>temp</th>\n",
              "      <th>wind speed</th>\n",
              "      <th>wind dir</th>\n",
              "    </tr>\n",
              "  </thead>\n",
              "  <tbody>\n",
              "    <tr>\n",
              "      <th>0</th>\n",
              "      <td>18.0</td>\n",
              "      <td>30.5</td>\n",
              "      <td>9.0</td>\n",
              "      <td>235.0</td>\n",
              "    </tr>\n",
              "    <tr>\n",
              "      <th>1</th>\n",
              "      <td>18.0</td>\n",
              "      <td>33.1</td>\n",
              "      <td>12.0</td>\n",
              "      <td>245.0</td>\n",
              "    </tr>\n",
              "    <tr>\n",
              "      <th>2</th>\n",
              "      <td>14.0</td>\n",
              "      <td>33.1</td>\n",
              "      <td>12.0</td>\n",
              "      <td>245.0</td>\n",
              "    </tr>\n",
              "    <tr>\n",
              "      <th>3</th>\n",
              "      <td>8.0</td>\n",
              "      <td>33.1</td>\n",
              "      <td>12.0</td>\n",
              "      <td>245.0</td>\n",
              "    </tr>\n",
              "    <tr>\n",
              "      <th>4</th>\n",
              "      <td>6.0</td>\n",
              "      <td>33.4</td>\n",
              "      <td>17.0</td>\n",
              "      <td>245.0</td>\n",
              "    </tr>\n",
              "  </tbody>\n",
              "</table>\n",
              "</div>"
            ],
            "text/plain": [
              "   PM2.5  temp  wind speed  wind dir\n",
              "0   18.0  30.5         9.0     235.0\n",
              "1   18.0  33.1        12.0     245.0\n",
              "2   14.0  33.1        12.0     245.0\n",
              "3    8.0  33.1        12.0     245.0\n",
              "4    6.0  33.4        17.0     245.0"
            ]
          },
          "metadata": {},
          "output_type": "display_data"
        }
      ],
      "source": [
        "df = past_60_days.append(data_test, ignore_index = True)\n",
        "df.head()"
      ]
    },
    {
      "cell_type": "code",
      "execution_count": null,
      "metadata": {
        "id": "zwRexsPQqvTy"
      },
      "outputs": [],
      "source": [
        "df.dropna(inplace=True)\n",
        "df.shape"
      ]
    },
    {
      "cell_type": "code",
      "execution_count": null,
      "metadata": {
        "id": "yRpQEcauq0oc"
      },
      "outputs": [
        {
          "data": {
            "text/plain": [
              "(7836, 4)"
            ]
          },
          "metadata": {},
          "output_type": "display_data"
        }
      ],
      "source": [
        "df.shape"
      ]
    },
    {
      "cell_type": "code",
      "execution_count": null,
      "metadata": {
        "id": "KKrjHeCMeGWX"
      },
      "outputs": [
        {
          "data": {
            "text/plain": [
              "array([[0.04187192, 0.6133829 , 0.0989011 , 0.65277778],\n",
              "       [0.04187192, 0.71003717, 0.13186813, 0.68055556],\n",
              "       [0.0320197 , 0.71003717, 0.13186813, 0.68055556],\n",
              "       ...,\n",
              "       [0.02955665, 0.58364312, 0.26373626, 0.65277778],\n",
              "       [0.0320197 , 0.58364312, 0.27472527, 0.66666667],\n",
              "       [0.0320197 , 0.58364312, 0.26373626, 0.69444444]])"
            ]
          },
          "metadata": {},
          "output_type": "display_data"
        }
      ],
      "source": [
        "inputs = scaler.transform(df)\n",
        "inputs"
      ]
    },
    {
      "cell_type": "code",
      "execution_count": null,
      "metadata": {
        "id": "x3WdrSMFeHlj"
      },
      "outputs": [],
      "source": [
        "X_test = []\n",
        "y_test = []\n",
        "\n",
        "for i in range(60, inputs.shape[0]):\n",
        "    X_test.append(inputs[i-60:i])\n",
        "    y_test.append(inputs[i, 0])"
      ]
    },
    {
      "cell_type": "code",
      "execution_count": null,
      "metadata": {
        "id": "1-l8uJ6beJN-"
      },
      "outputs": [
        {
          "data": {
            "text/plain": [
              "((7776, 60, 4), (7776,))"
            ]
          },
          "metadata": {},
          "output_type": "display_data"
        }
      ],
      "source": [
        "X_test, y_test = np.array(X_test), np.array(y_test)\n",
        "X_test.shape, y_test.shape"
      ]
    },
    {
      "cell_type": "code",
      "execution_count": null,
      "metadata": {
        "id": "OAbQp-tPeKvP"
      },
      "outputs": [],
      "source": [
        "y_pred = modelLSTM.predict(X_test)"
      ]
    },
    {
      "cell_type": "code",
      "execution_count": null,
      "metadata": {
        "id": "VO8T2VYEeO7q"
      },
      "outputs": [
        {
          "data": {
            "text/plain": [
              "406.0"
            ]
          },
          "metadata": {},
          "output_type": "display_data"
        }
      ],
      "source": [
        "scale = 1/scaler.scale_[0]\n",
        "y_pred = y_pred*scale\n",
        "y_test = y_test*scale"
      ]
    },
    {
      "cell_type": "code",
      "execution_count": null,
      "metadata": {
        "id": "6J1AmHFNeP6Z"
      },
      "outputs": [],
      "source": [
        "y_pred = y_pred*scale\n",
        "y_test = y_test*scale"
      ]
    },
    {
      "cell_type": "code",
      "execution_count": null,
      "metadata": {
        "id": "NsN4tns4A0lG"
      },
      "outputs": [
        {
          "name": "stdout",
          "output_type": "stream",
          "text": [
            "Saraburi RMSE = 3.1962012873265464\n"
          ]
        }
      ],
      "source": [
        "print(province+' RMSE =', math.sqrt(mean_squared_error(y_test, y_pred)) )"
      ]
    },
    {
      "cell_type": "code",
      "execution_count": null,
      "metadata": {
        "id": "KkwVJXVaeR4e"
      },
      "outputs": [
        {
          "data": {
            "image/png": "[encoded data removed]",
            "text/plain": [
              "<Figure size 1008x360 with 1 Axes>"
            ]
          },
          "metadata": {},
          "output_type": "display_data"
        }
      ],
      "source": [
        "# Visualising the results\n",
        "plt.figure(figsize=(14,5))\n",
        "plt.plot(y_test, color = 'red', label = 'Real')\n",
        "plt.plot(y_pred, color = 'blue', label = 'Predicted')\n",
        "plt.xlabel('Time')\n",
        "plt.ylabel('PM2.5')\n",
        "plt.legend()\n",
        "plt.show()"
      ]
    },
    {
      "cell_type": "code",
      "execution_count": null,
      "metadata": {
        "id": "_9BwFEag82WB"
      },
      "outputs": [],
      "source": [
        "import pickle\n",
        "\n",
        "with open('lstm_'+province.lower()+'.pickle', 'wb') as fp:\n",
        "    pickle.dump(y_pred, fp)"
      ]
    },
    {
      "cell_type": "code",
      "execution_count": null,
      "metadata": {
        "id": "X2NYaatgLJXQ"
      },
      "outputs": [],
      "source": [
        "df1 = pd.DataFrame(y_pred)\n",
        "df1.to_csv('lstm_'+province.lower()+'.csv')"
      ]
    },
    {
      "cell_type": "code",
      "execution_count": null,
      "metadata": {
        "id": "j6-u-OHuV6il"
      },
      "outputs": [],
      "source": []
    },
    {
      "cell_type": "markdown",
      "metadata": {},
      "source": [
        "# Rayong"
      ]
    },
    {
      "cell_type": "code",
      "execution_count": null,
      "metadata": {
        "id": "9B3XlyHJWiP-"
      },
      "outputs": [],
      "source": [
        "provinces = ['BKK','Chiangmai','Khonkaen','Rayong','Saraburi','Surat']\n",
        "province = provinces[3]\n",
        "data_training = pd.read_csv(province+'/train/'+province.lower()+'_train_format.csv', date_parser = True)\n"
      ]
    },
    {
      "cell_type": "code",
      "execution_count": null,
      "metadata": {
        "colab": {
          "base_uri": "https://localhost:8080/",
          "height": 206
        },
        "id": "5FXLGXmedgqG",
        "outputId": "f2bfe5c4-5390-4397-bb7a-de16c5d64092"
      },
      "outputs": [
        {
          "data": {
            "text/html": [
              "<div>\n",
              "<style scoped>\n",
              "    .dataframe tbody tr th:only-of-type {\n",
              "        vertical-align: middle;\n",
              "    }\n",
              "\n",
              "    .dataframe tbody tr th {\n",
              "        vertical-align: top;\n",
              "    }\n",
              "\n",
              "    .dataframe thead th {\n",
              "        text-align: right;\n",
              "    }\n",
              "</style>\n",
              "<table border=\"1\" class=\"dataframe\">\n",
              "  <thead>\n",
              "    <tr style=\"text-align: right;\">\n",
              "      <th></th>\n",
              "      <th>PM2.5</th>\n",
              "      <th>temp</th>\n",
              "      <th>wind speed</th>\n",
              "      <th>wind dir</th>\n",
              "    </tr>\n",
              "  </thead>\n",
              "  <tbody>\n",
              "    <tr>\n",
              "      <th>0</th>\n",
              "      <td>22.0</td>\n",
              "      <td>25.0</td>\n",
              "      <td>38.0</td>\n",
              "      <td>250.0</td>\n",
              "    </tr>\n",
              "    <tr>\n",
              "      <th>1</th>\n",
              "      <td>16.0</td>\n",
              "      <td>25.0</td>\n",
              "      <td>38.0</td>\n",
              "      <td>250.0</td>\n",
              "    </tr>\n",
              "    <tr>\n",
              "      <th>2</th>\n",
              "      <td>13.0</td>\n",
              "      <td>25.0</td>\n",
              "      <td>38.0</td>\n",
              "      <td>250.0</td>\n",
              "    </tr>\n",
              "    <tr>\n",
              "      <th>3</th>\n",
              "      <td>18.0</td>\n",
              "      <td>25.0</td>\n",
              "      <td>38.0</td>\n",
              "      <td>250.0</td>\n",
              "    </tr>\n",
              "    <tr>\n",
              "      <th>4</th>\n",
              "      <td>29.0</td>\n",
              "      <td>25.0</td>\n",
              "      <td>38.0</td>\n",
              "      <td>250.0</td>\n",
              "    </tr>\n",
              "  </tbody>\n",
              "</table>\n",
              "</div>"
            ],
            "text/plain": [
              "   PM2.5  temp  wind speed  wind dir\n",
              "0   22.0  25.0        38.0     250.0\n",
              "1   16.0  25.0        38.0     250.0\n",
              "2   13.0  25.0        38.0     250.0\n",
              "3   18.0  25.0        38.0     250.0\n",
              "4   29.0  25.0        38.0     250.0"
            ]
          },
          "metadata": {},
          "output_type": "display_data"
        }
      ],
      "source": [
        "data_training = data_training.drop(['date_time', 'lat', 'long'], axis = 1)\n",
        "data_training.head()"
      ]
    },
    {
      "cell_type": "code",
      "execution_count": null,
      "metadata": {
        "colab": {
          "base_uri": "https://localhost:8080/",
          "height": 206
        },
        "id": "jONlufFv2NPo",
        "outputId": "c117c196-d411-4a06-c1f3-c5aeeef87c7e"
      },
      "outputs": [
        {
          "data": {
            "text/html": [
              "<div>\n",
              "<style scoped>\n",
              "    .dataframe tbody tr th:only-of-type {\n",
              "        vertical-align: middle;\n",
              "    }\n",
              "\n",
              "    .dataframe tbody tr th {\n",
              "        vertical-align: top;\n",
              "    }\n",
              "\n",
              "    .dataframe thead th {\n",
              "        text-align: right;\n",
              "    }\n",
              "</style>\n",
              "<table border=\"1\" class=\"dataframe\">\n",
              "  <thead>\n",
              "    <tr style=\"text-align: right;\">\n",
              "      <th></th>\n",
              "      <th>Unnamed: 0</th>\n",
              "      <th>date_time</th>\n",
              "      <th>PM2.5</th>\n",
              "      <th>temp</th>\n",
              "      <th>wind speed</th>\n",
              "      <th>wind dir</th>\n",
              "      <th>lat</th>\n",
              "      <th>long</th>\n",
              "    </tr>\n",
              "  </thead>\n",
              "  <tbody>\n",
              "    <tr>\n",
              "      <th>123</th>\n",
              "      <td>123</td>\n",
              "      <td>2020-07-06 03:00:00</td>\n",
              "      <td>NaN</td>\n",
              "      <td>25.3</td>\n",
              "      <td>17</td>\n",
              "      <td>260</td>\n",
              "      <td>14.685833</td>\n",
              "      <td>100.871996</td>\n",
              "    </tr>\n",
              "    <tr>\n",
              "      <th>5836</th>\n",
              "      <td>5836</td>\n",
              "      <td>2021-03-01 04:00:00</td>\n",
              "      <td>NaN</td>\n",
              "      <td>23.5</td>\n",
              "      <td>26</td>\n",
              "      <td>175</td>\n",
              "      <td>14.685833</td>\n",
              "      <td>100.871996</td>\n",
              "    </tr>\n",
              "    <tr>\n",
              "      <th>7344</th>\n",
              "      <td>7344</td>\n",
              "      <td>2021-05-03 00:00:00</td>\n",
              "      <td>27.0</td>\n",
              "      <td>27.7</td>\n",
              "      <td>5</td>\n",
              "      <td>290</td>\n",
              "      <td>14.685833</td>\n",
              "      <td>100.871996</td>\n",
              "    </tr>\n",
              "    <tr>\n",
              "      <th>655</th>\n",
              "      <td>655</td>\n",
              "      <td>2020-07-28 07:00:00</td>\n",
              "      <td>7.0</td>\n",
              "      <td>26.6</td>\n",
              "      <td>10</td>\n",
              "      <td>185</td>\n",
              "      <td>14.685833</td>\n",
              "      <td>100.871996</td>\n",
              "    </tr>\n",
              "    <tr>\n",
              "      <th>5422</th>\n",
              "      <td>5422</td>\n",
              "      <td>2021-02-11 22:00:00</td>\n",
              "      <td>NaN</td>\n",
              "      <td>25.4</td>\n",
              "      <td>3</td>\n",
              "      <td>70</td>\n",
              "      <td>14.685833</td>\n",
              "      <td>100.871996</td>\n",
              "    </tr>\n",
              "  </tbody>\n",
              "</table>\n",
              "</div>"
            ],
            "text/plain": [
              "      Unnamed: 0            date_time  PM2.5  temp  wind speed  wind dir  \\\n",
              "123          123  2020-07-06 03:00:00    NaN  25.3          17       260   \n",
              "5836        5836  2021-03-01 04:00:00    NaN  23.5          26       175   \n",
              "7344        7344  2021-05-03 00:00:00   27.0  27.7           5       290   \n",
              "655          655  2020-07-28 07:00:00    7.0  26.6          10       185   \n",
              "5422        5422  2021-02-11 22:00:00    NaN  25.4           3        70   \n",
              "\n",
              "            lat        long  \n",
              "123   14.685833  100.871996  \n",
              "5836  14.685833  100.871996  \n",
              "7344  14.685833  100.871996  \n",
              "655   14.685833  100.871996  \n",
              "5422  14.685833  100.871996  "
            ]
          },
          "metadata": {},
          "output_type": "display_data"
        }
      ],
      "source": [
        "data_test = pd.read_csv(province+'_clean.csv', date_parser = True)\n",
        "data_test.sample(5)"
      ]
    },
    {
      "cell_type": "code",
      "execution_count": null,
      "metadata": {
        "colab": {
          "base_uri": "https://localhost:8080/",
          "height": 206
        },
        "id": "ZM_Hn5LcUDqd",
        "outputId": "7c170d33-a52a-4b5e-f057-5d16a4355a2d"
      },
      "outputs": [
        {
          "data": {
            "text/html": [
              "<div>\n",
              "<style scoped>\n",
              "    .dataframe tbody tr th:only-of-type {\n",
              "        vertical-align: middle;\n",
              "    }\n",
              "\n",
              "    .dataframe tbody tr th {\n",
              "        vertical-align: top;\n",
              "    }\n",
              "\n",
              "    .dataframe thead th {\n",
              "        text-align: right;\n",
              "    }\n",
              "</style>\n",
              "<table border=\"1\" class=\"dataframe\">\n",
              "  <thead>\n",
              "    <tr style=\"text-align: right;\">\n",
              "      <th></th>\n",
              "      <th>date_time</th>\n",
              "      <th>PM2.5</th>\n",
              "      <th>temp</th>\n",
              "      <th>wind speed</th>\n",
              "      <th>wind dir</th>\n",
              "    </tr>\n",
              "  </thead>\n",
              "  <tbody>\n",
              "    <tr>\n",
              "      <th>0</th>\n",
              "      <td>2020-07-01 00:00:00</td>\n",
              "      <td>2.0</td>\n",
              "      <td>25.9</td>\n",
              "      <td>41</td>\n",
              "      <td>250</td>\n",
              "    </tr>\n",
              "    <tr>\n",
              "      <th>1</th>\n",
              "      <td>2020-07-01 01:00:00</td>\n",
              "      <td>NaN</td>\n",
              "      <td>25.5</td>\n",
              "      <td>41</td>\n",
              "      <td>255</td>\n",
              "    </tr>\n",
              "    <tr>\n",
              "      <th>2</th>\n",
              "      <td>2020-07-01 02:00:00</td>\n",
              "      <td>NaN</td>\n",
              "      <td>25.5</td>\n",
              "      <td>41</td>\n",
              "      <td>255</td>\n",
              "    </tr>\n",
              "    <tr>\n",
              "      <th>3</th>\n",
              "      <td>2020-07-01 03:00:00</td>\n",
              "      <td>3.0</td>\n",
              "      <td>25.5</td>\n",
              "      <td>41</td>\n",
              "      <td>255</td>\n",
              "    </tr>\n",
              "    <tr>\n",
              "      <th>4</th>\n",
              "      <td>2020-07-01 04:00:00</td>\n",
              "      <td>5.0</td>\n",
              "      <td>25.1</td>\n",
              "      <td>49</td>\n",
              "      <td>265</td>\n",
              "    </tr>\n",
              "  </tbody>\n",
              "</table>\n",
              "</div>"
            ],
            "text/plain": [
              "             date_time  PM2.5  temp  wind speed  wind dir\n",
              "0  2020-07-01 00:00:00    2.0  25.9          41       250\n",
              "1  2020-07-01 01:00:00    NaN  25.5          41       255\n",
              "2  2020-07-01 02:00:00    NaN  25.5          41       255\n",
              "3  2020-07-01 03:00:00    3.0  25.5          41       255\n",
              "4  2020-07-01 04:00:00    5.0  25.1          49       265"
            ]
          },
          "metadata": {},
          "output_type": "display_data"
        }
      ],
      "source": [
        "data_test = data_test.drop(['Unnamed: 0', 'lat', 'long'], axis = 1)\n",
        "data_test.head()"
      ]
    },
    {
      "cell_type": "code",
      "execution_count": null,
      "metadata": {
        "id": "khw4M2JsdiKT"
      },
      "outputs": [],
      "source": [
        "scaler = MinMaxScaler()\n",
        "data_training = scaler.fit_transform(data_training)\n",
        "scaler.inverse_transform(data_training)\n",
        "scale = 1/scaler.scale_\n"
      ]
    },
    {
      "cell_type": "code",
      "execution_count": null,
      "metadata": {
        "id": "W4926pfpdoE0"
      },
      "outputs": [],
      "source": [
        "X_train = []\n",
        "y_train = []\n",
        "\n",
        "for i in range(60, data_training.shape[0]):\n",
        "    X_train.append(data_training[i-60:i])\n",
        "    y_train.append(data_training[i, 0])\n",
        "\n",
        "X_train, y_train = np.array(X_train), np.array(y_train)\n",
        "X_train.shape"
      ]
    },
    {
      "cell_type": "code",
      "execution_count": null,
      "metadata": {
        "id": "6PwBHKiCdxBy"
      },
      "outputs": [],
      "source": [
        "modelLSTM = Sequential()\n",
        "\n",
        "modelLSTM.add(LSTM(units = 60, activation = 'relu', return_sequences = True, input_shape = (X_train.shape[1], 4)))\n",
        "modelLSTM.add(Dropout(0.2))\n",
        "\n",
        "modelLSTM.add(LSTM(units = 120, activation = 'relu',  input_shape = (X_train.shape[1], 4)))\n",
        "modelLSTM.add(Dropout(0.2))\n",
        "\n",
        "\n",
        "modelLSTM.add(Dense(units = 1))"
      ]
    },
    {
      "cell_type": "code",
      "execution_count": null,
      "metadata": {
        "colab": {
          "base_uri": "https://localhost:8080/"
        },
        "id": "OruphK2TdzFB",
        "outputId": "a1985c4e-d227-4c86-cb42-fe4f48a4b574"
      },
      "outputs": [
        {
          "name": "stdout",
          "output_type": "stream",
          "text": [
            "Model: \"sequential_8\"\n",
            "_________________________________________________________________\n",
            " Layer (type)                Output Shape              Param #   \n",
            "=================================================================\n",
            " lstm_11 (LSTM)              (None, 120)               60000     \n",
            "                                                                 \n",
            " dropout_11 (Dropout)        (None, 120)               0         \n",
            "                                                                 \n",
            " dense_9 (Dense)             (None, 1)                 121       \n",
            "                                                                 \n",
            "=================================================================\n",
            "Total params: 60,121\n",
            "Trainable params: 60,121\n",
            "Non-trainable params: 0\n",
            "_________________________________________________________________\n"
          ]
        }
      ],
      "source": [
        "modelLSTM.summary()"
      ]
    },
    {
      "cell_type": "code",
      "execution_count": null,
      "metadata": {
        "id": "F2jd8nTRp9kq"
      },
      "outputs": [],
      "source": [
        "#create callback\n",
        "filepath = 'my_best_modelLSTM_yourself.hdf5'\n",
        "checkpoint = ModelCheckpoint(filepath=filepath, \n",
        "                             monitor='loss',\n",
        "                             verbose=0, \n",
        "                             save_best_only=True,\n",
        "                             mode='min')\n",
        "\n",
        "earlystopping = EarlyStopping(\n",
        "    monitor='loss', \n",
        "    patience=3, \n",
        "    min_delta=0, \n",
        "    mode='auto'\n",
        ")\n",
        "\n",
        "reduce_lr = ReduceLROnPlateau(\n",
        "    monitor='loss', \n",
        "    factor=0.2,   \n",
        "    patience=2, \n",
        "    min_lr=0.001,\n",
        "    verbose=0\n",
        ")\n",
        "callbacks = [checkpoint, earlystopping, reduce_lr]"
      ]
    },
    {
      "cell_type": "code",
      "execution_count": null,
      "metadata": {
        "id": "7alsTCdPd5PY"
      },
      "outputs": [],
      "source": [
        "modelLSTM.compile(optimizer='adam', loss = 'mean_squared_error')"
      ]
    },
    {
      "cell_type": "code",
      "execution_count": null,
      "metadata": {
        "colab": {
          "base_uri": "https://localhost:8080/"
        },
        "id": "jJGUMaN7wafJ",
        "outputId": "99c99a14-509d-4f56-a2fc-b13512fb7507"
      },
      "outputs": [
        {
          "name": "stdout",
          "output_type": "stream",
          "text": [
            "Epoch 1/10\n",
            "821/821 [==============================] - 56s 67ms/step - loss: 9.2078e-04 - lr: 0.0010\n",
            "Epoch 2/10\n",
            "821/821 [==============================] - 58s 71ms/step - loss: 4.4753e-04 - lr: 0.0010\n",
            "Epoch 3/10\n",
            "821/821 [==============================] - 58s 71ms/step - loss: 3.4225e-04 - lr: 0.0010\n",
            "Epoch 4/10\n",
            "821/821 [==============================] - 59s 71ms/step - loss: 3.0990e-04 - lr: 0.0010\n",
            "Epoch 5/10\n",
            "821/821 [==============================] - 59s 72ms/step - loss: 3.0089e-04 - lr: 0.0010\n",
            "Epoch 6/10\n",
            "821/821 [==============================] - 58s 71ms/step - loss: 2.8285e-04 - lr: 0.0010\n",
            "Epoch 7/10\n",
            "821/821 [==============================] - 58s 70ms/step - loss: 2.9304e-04 - lr: 0.0010\n",
            "Epoch 8/10\n",
            "821/821 [==============================] - 62s 76ms/step - loss: 2.8004e-04 - lr: 0.0010\n",
            "Epoch 9/10\n",
            "821/821 [==============================] - 63s 77ms/step - loss: 2.7486e-04 - lr: 0.0010\n",
            "Epoch 10/10\n",
            "821/821 [==============================] - 64s 79ms/step - loss: 2.6738e-04 - lr: 0.0010\n"
          ]
        }
      ],
      "source": [
        "history = modelLSTM.fit(X_train, y_train, epochs=10, batch_size=32, callbacks=callbacks)"
      ]
    },
    {
      "cell_type": "code",
      "execution_count": null,
      "metadata": {
        "id": "lW-wyZdr_lPa"
      },
      "outputs": [],
      "source": [
        "data_training = pd.read_csv(province+'/train/'+province.lower()+'_train_format.csv', date_parser = True)\n",
        "data_training = data_training.drop(['date_time', 'lat', 'long'], axis = 1)\n",
        "data_test = data_test.drop(['date_time'], axis = 1)"
      ]
    },
    {
      "cell_type": "code",
      "execution_count": null,
      "metadata": {
        "id": "Sb-SV-wReAJL"
      },
      "outputs": [
        {
          "data": {
            "text/html": [
              "<div>\n",
              "<style scoped>\n",
              "    .dataframe tbody tr th:only-of-type {\n",
              "        vertical-align: middle;\n",
              "    }\n",
              "\n",
              "    .dataframe tbody tr th {\n",
              "        vertical-align: top;\n",
              "    }\n",
              "\n",
              "    .dataframe thead th {\n",
              "        text-align: right;\n",
              "    }\n",
              "</style>\n",
              "<table border=\"1\" class=\"dataframe\">\n",
              "  <thead>\n",
              "    <tr style=\"text-align: right;\">\n",
              "      <th></th>\n",
              "      <th>PM2.5</th>\n",
              "      <th>temp</th>\n",
              "      <th>wind speed</th>\n",
              "      <th>wind dir</th>\n",
              "    </tr>\n",
              "  </thead>\n",
              "  <tbody>\n",
              "    <tr>\n",
              "      <th>0</th>\n",
              "      <td>2.0</td>\n",
              "      <td>25.9</td>\n",
              "      <td>41</td>\n",
              "      <td>250</td>\n",
              "    </tr>\n",
              "    <tr>\n",
              "      <th>1</th>\n",
              "      <td>NaN</td>\n",
              "      <td>25.5</td>\n",
              "      <td>41</td>\n",
              "      <td>255</td>\n",
              "    </tr>\n",
              "    <tr>\n",
              "      <th>2</th>\n",
              "      <td>NaN</td>\n",
              "      <td>25.5</td>\n",
              "      <td>41</td>\n",
              "      <td>255</td>\n",
              "    </tr>\n",
              "    <tr>\n",
              "      <th>3</th>\n",
              "      <td>3.0</td>\n",
              "      <td>25.5</td>\n",
              "      <td>41</td>\n",
              "      <td>255</td>\n",
              "    </tr>\n",
              "    <tr>\n",
              "      <th>4</th>\n",
              "      <td>5.0</td>\n",
              "      <td>25.1</td>\n",
              "      <td>49</td>\n",
              "      <td>265</td>\n",
              "    </tr>\n",
              "  </tbody>\n",
              "</table>\n",
              "</div>"
            ],
            "text/plain": [
              "   PM2.5  temp  wind speed  wind dir\n",
              "0    2.0  25.9          41       250\n",
              "1    NaN  25.5          41       255\n",
              "2    NaN  25.5          41       255\n",
              "3    3.0  25.5          41       255\n",
              "4    5.0  25.1          49       265"
            ]
          },
          "metadata": {},
          "output_type": "display_data"
        }
      ],
      "source": [
        "data_test = data_test.drop(['date_time'], axis = 1)\n",
        "data_test.head()"
      ]
    },
    {
      "cell_type": "code",
      "execution_count": null,
      "metadata": {
        "id": "UpqWwdOaeD1K"
      },
      "outputs": [],
      "source": [
        "past_60_days = data_training.tail(60)"
      ]
    },
    {
      "cell_type": "code",
      "execution_count": null,
      "metadata": {
        "id": "TR2tRta0eEgF"
      },
      "outputs": [
        {
          "data": {
            "text/html": [
              "<div>\n",
              "<style scoped>\n",
              "    .dataframe tbody tr th:only-of-type {\n",
              "        vertical-align: middle;\n",
              "    }\n",
              "\n",
              "    .dataframe tbody tr th {\n",
              "        vertical-align: top;\n",
              "    }\n",
              "\n",
              "    .dataframe thead th {\n",
              "        text-align: right;\n",
              "    }\n",
              "</style>\n",
              "<table border=\"1\" class=\"dataframe\">\n",
              "  <thead>\n",
              "    <tr style=\"text-align: right;\">\n",
              "      <th></th>\n",
              "      <th>PM2.5</th>\n",
              "      <th>temp</th>\n",
              "      <th>wind speed</th>\n",
              "      <th>wind dir</th>\n",
              "    </tr>\n",
              "  </thead>\n",
              "  <tbody>\n",
              "    <tr>\n",
              "      <th>0</th>\n",
              "      <td>18.0</td>\n",
              "      <td>30.5</td>\n",
              "      <td>9.0</td>\n",
              "      <td>235.0</td>\n",
              "    </tr>\n",
              "    <tr>\n",
              "      <th>1</th>\n",
              "      <td>18.0</td>\n",
              "      <td>33.1</td>\n",
              "      <td>12.0</td>\n",
              "      <td>245.0</td>\n",
              "    </tr>\n",
              "    <tr>\n",
              "      <th>2</th>\n",
              "      <td>14.0</td>\n",
              "      <td>33.1</td>\n",
              "      <td>12.0</td>\n",
              "      <td>245.0</td>\n",
              "    </tr>\n",
              "    <tr>\n",
              "      <th>3</th>\n",
              "      <td>8.0</td>\n",
              "      <td>33.1</td>\n",
              "      <td>12.0</td>\n",
              "      <td>245.0</td>\n",
              "    </tr>\n",
              "    <tr>\n",
              "      <th>4</th>\n",
              "      <td>6.0</td>\n",
              "      <td>33.4</td>\n",
              "      <td>17.0</td>\n",
              "      <td>245.0</td>\n",
              "    </tr>\n",
              "  </tbody>\n",
              "</table>\n",
              "</div>"
            ],
            "text/plain": [
              "   PM2.5  temp  wind speed  wind dir\n",
              "0   18.0  30.5         9.0     235.0\n",
              "1   18.0  33.1        12.0     245.0\n",
              "2   14.0  33.1        12.0     245.0\n",
              "3    8.0  33.1        12.0     245.0\n",
              "4    6.0  33.4        17.0     245.0"
            ]
          },
          "metadata": {},
          "output_type": "display_data"
        }
      ],
      "source": [
        "df = past_60_days.append(data_test, ignore_index = True)\n",
        "df.head()"
      ]
    },
    {
      "cell_type": "code",
      "execution_count": null,
      "metadata": {
        "id": "zwRexsPQqvTy"
      },
      "outputs": [],
      "source": [
        "df.dropna(inplace=True)\n",
        "df.shape"
      ]
    },
    {
      "cell_type": "code",
      "execution_count": null,
      "metadata": {
        "id": "yRpQEcauq0oc"
      },
      "outputs": [
        {
          "data": {
            "text/plain": [
              "(7836, 4)"
            ]
          },
          "metadata": {},
          "output_type": "display_data"
        }
      ],
      "source": [
        "df.shape"
      ]
    },
    {
      "cell_type": "code",
      "execution_count": null,
      "metadata": {
        "id": "KKrjHeCMeGWX"
      },
      "outputs": [
        {
          "data": {
            "text/plain": [
              "array([[0.04187192, 0.6133829 , 0.0989011 , 0.65277778],\n",
              "       [0.04187192, 0.71003717, 0.13186813, 0.68055556],\n",
              "       [0.0320197 , 0.71003717, 0.13186813, 0.68055556],\n",
              "       ...,\n",
              "       [0.02955665, 0.58364312, 0.26373626, 0.65277778],\n",
              "       [0.0320197 , 0.58364312, 0.27472527, 0.66666667],\n",
              "       [0.0320197 , 0.58364312, 0.26373626, 0.69444444]])"
            ]
          },
          "metadata": {},
          "output_type": "display_data"
        }
      ],
      "source": [
        "inputs = scaler.transform(df)\n",
        "inputs"
      ]
    },
    {
      "cell_type": "code",
      "execution_count": null,
      "metadata": {
        "id": "x3WdrSMFeHlj"
      },
      "outputs": [],
      "source": [
        "X_test = []\n",
        "y_test = []\n",
        "\n",
        "for i in range(60, inputs.shape[0]):\n",
        "    X_test.append(inputs[i-60:i])\n",
        "    y_test.append(inputs[i, 0])"
      ]
    },
    {
      "cell_type": "code",
      "execution_count": null,
      "metadata": {
        "id": "1-l8uJ6beJN-"
      },
      "outputs": [
        {
          "data": {
            "text/plain": [
              "((7776, 60, 4), (7776,))"
            ]
          },
          "metadata": {},
          "output_type": "display_data"
        }
      ],
      "source": [
        "X_test, y_test = np.array(X_test), np.array(y_test)\n",
        "X_test.shape, y_test.shape"
      ]
    },
    {
      "cell_type": "code",
      "execution_count": null,
      "metadata": {
        "id": "OAbQp-tPeKvP"
      },
      "outputs": [],
      "source": [
        "y_pred = modelLSTM.predict(X_test)"
      ]
    },
    {
      "cell_type": "code",
      "execution_count": null,
      "metadata": {
        "id": "VO8T2VYEeO7q"
      },
      "outputs": [
        {
          "data": {
            "text/plain": [
              "406.0"
            ]
          },
          "metadata": {},
          "output_type": "display_data"
        }
      ],
      "source": [
        "scale = 1/scaler.scale_[0]\n",
        "y_pred = y_pred*scale\n",
        "y_test = y_test*scale"
      ]
    },
    {
      "cell_type": "code",
      "execution_count": null,
      "metadata": {
        "id": "6J1AmHFNeP6Z"
      },
      "outputs": [],
      "source": [
        "y_pred = y_pred*scale\n",
        "y_test = y_test*scale"
      ]
    },
    {
      "cell_type": "code",
      "execution_count": null,
      "metadata": {
        "id": "NsN4tns4A0lG"
      },
      "outputs": [
        {
          "name": "stdout",
          "output_type": "stream",
          "text": [
            "Saraburi RMSE = 3.1962012873265464\n"
          ]
        }
      ],
      "source": [
        "print(province+' RMSE =', math.sqrt(mean_squared_error(y_test, y_pred)) )"
      ]
    },
    {
      "cell_type": "code",
      "execution_count": null,
      "metadata": {
        "id": "KkwVJXVaeR4e"
      },
      "outputs": [
        {
          "data": {
            "image/png": "[encoded data removed]",
            "text/plain": [
              "<Figure size 1008x360 with 1 Axes>"
            ]
          },
          "metadata": {},
          "output_type": "display_data"
        }
      ],
      "source": [
        "# Visualising the results\n",
        "plt.figure(figsize=(14,5))\n",
        "plt.plot(y_test, color = 'red', label = 'Real')\n",
        "plt.plot(y_pred, color = 'blue', label = 'Predicted')\n",
        "plt.xlabel('Time')\n",
        "plt.ylabel('PM2.5')\n",
        "plt.legend()\n",
        "plt.show()"
      ]
    },
    {
      "cell_type": "code",
      "execution_count": null,
      "metadata": {
        "id": "_9BwFEag82WB"
      },
      "outputs": [],
      "source": [
        "import pickle\n",
        "\n",
        "with open('lstm_'+province.lower()+'.pickle', 'wb') as fp:\n",
        "    pickle.dump(y_pred, fp)"
      ]
    },
    {
      "cell_type": "code",
      "execution_count": null,
      "metadata": {
        "id": "X2NYaatgLJXQ"
      },
      "outputs": [],
      "source": [
        "df1 = pd.DataFrame(y_pred)\n",
        "df1.to_csv('lstm_'+province.lower()+'.csv')"
      ]
    },
    {
      "cell_type": "code",
      "execution_count": null,
      "metadata": {
        "id": "j6-u-OHuV6il"
      },
      "outputs": [],
      "source": []
    },
    {
      "cell_type": "markdown",
      "metadata": {},
      "source": [
        "# Saraburi"
      ]
    },
    {
      "cell_type": "code",
      "execution_count": null,
      "metadata": {
        "id": "9B3XlyHJWiP-"
      },
      "outputs": [],
      "source": [
        "provinces = ['BKK','Chiangmai','Khonkaen','Rayong','Saraburi','Surat']\n",
        "province = provinces[4]\n",
        "data_training = pd.read_csv(province+'/train/'+province.lower()+'_train_format.csv', date_parser = True)\n"
      ]
    },
    {
      "cell_type": "code",
      "execution_count": null,
      "metadata": {
        "colab": {
          "base_uri": "https://localhost:8080/",
          "height": 206
        },
        "id": "5FXLGXmedgqG",
        "outputId": "f2bfe5c4-5390-4397-bb7a-de16c5d64092"
      },
      "outputs": [
        {
          "data": {
            "text/html": [
              "<div>\n",
              "<style scoped>\n",
              "    .dataframe tbody tr th:only-of-type {\n",
              "        vertical-align: middle;\n",
              "    }\n",
              "\n",
              "    .dataframe tbody tr th {\n",
              "        vertical-align: top;\n",
              "    }\n",
              "\n",
              "    .dataframe thead th {\n",
              "        text-align: right;\n",
              "    }\n",
              "</style>\n",
              "<table border=\"1\" class=\"dataframe\">\n",
              "  <thead>\n",
              "    <tr style=\"text-align: right;\">\n",
              "      <th></th>\n",
              "      <th>PM2.5</th>\n",
              "      <th>temp</th>\n",
              "      <th>wind speed</th>\n",
              "      <th>wind dir</th>\n",
              "    </tr>\n",
              "  </thead>\n",
              "  <tbody>\n",
              "    <tr>\n",
              "      <th>0</th>\n",
              "      <td>22.0</td>\n",
              "      <td>25.0</td>\n",
              "      <td>38.0</td>\n",
              "      <td>250.0</td>\n",
              "    </tr>\n",
              "    <tr>\n",
              "      <th>1</th>\n",
              "      <td>16.0</td>\n",
              "      <td>25.0</td>\n",
              "      <td>38.0</td>\n",
              "      <td>250.0</td>\n",
              "    </tr>\n",
              "    <tr>\n",
              "      <th>2</th>\n",
              "      <td>13.0</td>\n",
              "      <td>25.0</td>\n",
              "      <td>38.0</td>\n",
              "      <td>250.0</td>\n",
              "    </tr>\n",
              "    <tr>\n",
              "      <th>3</th>\n",
              "      <td>18.0</td>\n",
              "      <td>25.0</td>\n",
              "      <td>38.0</td>\n",
              "      <td>250.0</td>\n",
              "    </tr>\n",
              "    <tr>\n",
              "      <th>4</th>\n",
              "      <td>29.0</td>\n",
              "      <td>25.0</td>\n",
              "      <td>38.0</td>\n",
              "      <td>250.0</td>\n",
              "    </tr>\n",
              "  </tbody>\n",
              "</table>\n",
              "</div>"
            ],
            "text/plain": [
              "   PM2.5  temp  wind speed  wind dir\n",
              "0   22.0  25.0        38.0     250.0\n",
              "1   16.0  25.0        38.0     250.0\n",
              "2   13.0  25.0        38.0     250.0\n",
              "3   18.0  25.0        38.0     250.0\n",
              "4   29.0  25.0        38.0     250.0"
            ]
          },
          "metadata": {},
          "output_type": "display_data"
        }
      ],
      "source": [
        "data_training = data_training.drop(['date_time', 'lat', 'long'], axis = 1)\n",
        "data_training.head()"
      ]
    },
    {
      "cell_type": "code",
      "execution_count": null,
      "metadata": {
        "colab": {
          "base_uri": "https://localhost:8080/",
          "height": 206
        },
        "id": "jONlufFv2NPo",
        "outputId": "c117c196-d411-4a06-c1f3-c5aeeef87c7e"
      },
      "outputs": [
        {
          "data": {
            "text/html": [
              "<div>\n",
              "<style scoped>\n",
              "    .dataframe tbody tr th:only-of-type {\n",
              "        vertical-align: middle;\n",
              "    }\n",
              "\n",
              "    .dataframe tbody tr th {\n",
              "        vertical-align: top;\n",
              "    }\n",
              "\n",
              "    .dataframe thead th {\n",
              "        text-align: right;\n",
              "    }\n",
              "</style>\n",
              "<table border=\"1\" class=\"dataframe\">\n",
              "  <thead>\n",
              "    <tr style=\"text-align: right;\">\n",
              "      <th></th>\n",
              "      <th>Unnamed: 0</th>\n",
              "      <th>date_time</th>\n",
              "      <th>PM2.5</th>\n",
              "      <th>temp</th>\n",
              "      <th>wind speed</th>\n",
              "      <th>wind dir</th>\n",
              "      <th>lat</th>\n",
              "      <th>long</th>\n",
              "    </tr>\n",
              "  </thead>\n",
              "  <tbody>\n",
              "    <tr>\n",
              "      <th>123</th>\n",
              "      <td>123</td>\n",
              "      <td>2020-07-06 03:00:00</td>\n",
              "      <td>NaN</td>\n",
              "      <td>25.3</td>\n",
              "      <td>17</td>\n",
              "      <td>260</td>\n",
              "      <td>14.685833</td>\n",
              "      <td>100.871996</td>\n",
              "    </tr>\n",
              "    <tr>\n",
              "      <th>5836</th>\n",
              "      <td>5836</td>\n",
              "      <td>2021-03-01 04:00:00</td>\n",
              "      <td>NaN</td>\n",
              "      <td>23.5</td>\n",
              "      <td>26</td>\n",
              "      <td>175</td>\n",
              "      <td>14.685833</td>\n",
              "      <td>100.871996</td>\n",
              "    </tr>\n",
              "    <tr>\n",
              "      <th>7344</th>\n",
              "      <td>7344</td>\n",
              "      <td>2021-05-03 00:00:00</td>\n",
              "      <td>27.0</td>\n",
              "      <td>27.7</td>\n",
              "      <td>5</td>\n",
              "      <td>290</td>\n",
              "      <td>14.685833</td>\n",
              "      <td>100.871996</td>\n",
              "    </tr>\n",
              "    <tr>\n",
              "      <th>655</th>\n",
              "      <td>655</td>\n",
              "      <td>2020-07-28 07:00:00</td>\n",
              "      <td>7.0</td>\n",
              "      <td>26.6</td>\n",
              "      <td>10</td>\n",
              "      <td>185</td>\n",
              "      <td>14.685833</td>\n",
              "      <td>100.871996</td>\n",
              "    </tr>\n",
              "    <tr>\n",
              "      <th>5422</th>\n",
              "      <td>5422</td>\n",
              "      <td>2021-02-11 22:00:00</td>\n",
              "      <td>NaN</td>\n",
              "      <td>25.4</td>\n",
              "      <td>3</td>\n",
              "      <td>70</td>\n",
              "      <td>14.685833</td>\n",
              "      <td>100.871996</td>\n",
              "    </tr>\n",
              "  </tbody>\n",
              "</table>\n",
              "</div>"
            ],
            "text/plain": [
              "      Unnamed: 0            date_time  PM2.5  temp  wind speed  wind dir  \\\n",
              "123          123  2020-07-06 03:00:00    NaN  25.3          17       260   \n",
              "5836        5836  2021-03-01 04:00:00    NaN  23.5          26       175   \n",
              "7344        7344  2021-05-03 00:00:00   27.0  27.7           5       290   \n",
              "655          655  2020-07-28 07:00:00    7.0  26.6          10       185   \n",
              "5422        5422  2021-02-11 22:00:00    NaN  25.4           3        70   \n",
              "\n",
              "            lat        long  \n",
              "123   14.685833  100.871996  \n",
              "5836  14.685833  100.871996  \n",
              "7344  14.685833  100.871996  \n",
              "655   14.685833  100.871996  \n",
              "5422  14.685833  100.871996  "
            ]
          },
          "metadata": {},
          "output_type": "display_data"
        }
      ],
      "source": [
        "data_test = pd.read_csv(province+'_clean.csv', date_parser = True)\n",
        "data_test.sample(5)"
      ]
    },
    {
      "cell_type": "code",
      "execution_count": null,
      "metadata": {
        "colab": {
          "base_uri": "https://localhost:8080/",
          "height": 206
        },
        "id": "ZM_Hn5LcUDqd",
        "outputId": "7c170d33-a52a-4b5e-f057-5d16a4355a2d"
      },
      "outputs": [
        {
          "data": {
            "text/html": [
              "<div>\n",
              "<style scoped>\n",
              "    .dataframe tbody tr th:only-of-type {\n",
              "        vertical-align: middle;\n",
              "    }\n",
              "\n",
              "    .dataframe tbody tr th {\n",
              "        vertical-align: top;\n",
              "    }\n",
              "\n",
              "    .dataframe thead th {\n",
              "        text-align: right;\n",
              "    }\n",
              "</style>\n",
              "<table border=\"1\" class=\"dataframe\">\n",
              "  <thead>\n",
              "    <tr style=\"text-align: right;\">\n",
              "      <th></th>\n",
              "      <th>date_time</th>\n",
              "      <th>PM2.5</th>\n",
              "      <th>temp</th>\n",
              "      <th>wind speed</th>\n",
              "      <th>wind dir</th>\n",
              "    </tr>\n",
              "  </thead>\n",
              "  <tbody>\n",
              "    <tr>\n",
              "      <th>0</th>\n",
              "      <td>2020-07-01 00:00:00</td>\n",
              "      <td>2.0</td>\n",
              "      <td>25.9</td>\n",
              "      <td>41</td>\n",
              "      <td>250</td>\n",
              "    </tr>\n",
              "    <tr>\n",
              "      <th>1</th>\n",
              "      <td>2020-07-01 01:00:00</td>\n",
              "      <td>NaN</td>\n",
              "      <td>25.5</td>\n",
              "      <td>41</td>\n",
              "      <td>255</td>\n",
              "    </tr>\n",
              "    <tr>\n",
              "      <th>2</th>\n",
              "      <td>2020-07-01 02:00:00</td>\n",
              "      <td>NaN</td>\n",
              "      <td>25.5</td>\n",
              "      <td>41</td>\n",
              "      <td>255</td>\n",
              "    </tr>\n",
              "    <tr>\n",
              "      <th>3</th>\n",
              "      <td>2020-07-01 03:00:00</td>\n",
              "      <td>3.0</td>\n",
              "      <td>25.5</td>\n",
              "      <td>41</td>\n",
              "      <td>255</td>\n",
              "    </tr>\n",
              "    <tr>\n",
              "      <th>4</th>\n",
              "      <td>2020-07-01 04:00:00</td>\n",
              "      <td>5.0</td>\n",
              "      <td>25.1</td>\n",
              "      <td>49</td>\n",
              "      <td>265</td>\n",
              "    </tr>\n",
              "  </tbody>\n",
              "</table>\n",
              "</div>"
            ],
            "text/plain": [
              "             date_time  PM2.5  temp  wind speed  wind dir\n",
              "0  2020-07-01 00:00:00    2.0  25.9          41       250\n",
              "1  2020-07-01 01:00:00    NaN  25.5          41       255\n",
              "2  2020-07-01 02:00:00    NaN  25.5          41       255\n",
              "3  2020-07-01 03:00:00    3.0  25.5          41       255\n",
              "4  2020-07-01 04:00:00    5.0  25.1          49       265"
            ]
          },
          "metadata": {},
          "output_type": "display_data"
        }
      ],
      "source": [
        "data_test = data_test.drop(['Unnamed: 0', 'lat', 'long'], axis = 1)\n",
        "data_test.head()"
      ]
    },
    {
      "cell_type": "code",
      "execution_count": null,
      "metadata": {
        "id": "khw4M2JsdiKT"
      },
      "outputs": [],
      "source": [
        "scaler = MinMaxScaler()\n",
        "data_training = scaler.fit_transform(data_training)\n",
        "scaler.inverse_transform(data_training)\n",
        "scale = 1/scaler.scale_\n"
      ]
    },
    {
      "cell_type": "code",
      "execution_count": null,
      "metadata": {
        "id": "W4926pfpdoE0"
      },
      "outputs": [],
      "source": [
        "X_train = []\n",
        "y_train = []\n",
        "\n",
        "for i in range(60, data_training.shape[0]):\n",
        "    X_train.append(data_training[i-60:i])\n",
        "    y_train.append(data_training[i, 0])\n",
        "\n",
        "X_train, y_train = np.array(X_train), np.array(y_train)\n",
        "X_train.shape"
      ]
    },
    {
      "cell_type": "code",
      "execution_count": null,
      "metadata": {
        "id": "6PwBHKiCdxBy"
      },
      "outputs": [],
      "source": [
        "modelLSTM = Sequential()\n",
        "\n",
        "modelLSTM.add(LSTM(units = 120, activation = 'relu',  input_shape = (X_train.shape[1], 4)))\n",
        "modelLSTM.add(Dropout(0.2))\n",
        "\n",
        "modelLSTM.add(Dense(units = 1))"
      ]
    },
    {
      "cell_type": "code",
      "execution_count": null,
      "metadata": {
        "colab": {
          "base_uri": "https://localhost:8080/"
        },
        "id": "OruphK2TdzFB",
        "outputId": "a1985c4e-d227-4c86-cb42-fe4f48a4b574"
      },
      "outputs": [
        {
          "name": "stdout",
          "output_type": "stream",
          "text": [
            "Model: \"sequential_8\"\n",
            "_________________________________________________________________\n",
            " Layer (type)                Output Shape              Param #   \n",
            "=================================================================\n",
            " lstm_11 (LSTM)              (None, 120)               60000     \n",
            "                                                                 \n",
            " dropout_11 (Dropout)        (None, 120)               0         \n",
            "                                                                 \n",
            " dense_9 (Dense)             (None, 1)                 121       \n",
            "                                                                 \n",
            "=================================================================\n",
            "Total params: 60,121\n",
            "Trainable params: 60,121\n",
            "Non-trainable params: 0\n",
            "_________________________________________________________________\n"
          ]
        }
      ],
      "source": [
        "modelLSTM.summary()"
      ]
    },
    {
      "cell_type": "code",
      "execution_count": null,
      "metadata": {
        "id": "F2jd8nTRp9kq"
      },
      "outputs": [],
      "source": [
        "#create callback\n",
        "filepath = 'my_best_modelLSTM_yourself.hdf5'\n",
        "checkpoint = ModelCheckpoint(filepath=filepath, \n",
        "                             monitor='loss',\n",
        "                             verbose=0, \n",
        "                             save_best_only=True,\n",
        "                             mode='min')\n",
        "\n",
        "earlystopping = EarlyStopping(\n",
        "    monitor='loss', \n",
        "    patience=3, \n",
        "    min_delta=0, \n",
        "    mode='auto'\n",
        ")\n",
        "\n",
        "reduce_lr = ReduceLROnPlateau(\n",
        "    monitor='loss', \n",
        "    factor=0.2,   \n",
        "    patience=2, \n",
        "    min_lr=0.001,\n",
        "    verbose=0\n",
        ")\n",
        "callbacks = [checkpoint, earlystopping, reduce_lr]"
      ]
    },
    {
      "cell_type": "code",
      "execution_count": null,
      "metadata": {
        "id": "7alsTCdPd5PY"
      },
      "outputs": [],
      "source": [
        "modelLSTM.compile(optimizer='adam', loss = 'mean_squared_error')"
      ]
    },
    {
      "cell_type": "code",
      "execution_count": null,
      "metadata": {
        "colab": {
          "base_uri": "https://localhost:8080/"
        },
        "id": "jJGUMaN7wafJ",
        "outputId": "99c99a14-509d-4f56-a2fc-b13512fb7507"
      },
      "outputs": [
        {
          "name": "stdout",
          "output_type": "stream",
          "text": [
            "Epoch 1/10\n",
            "821/821 [==============================] - 56s 67ms/step - loss: 9.2078e-04 - lr: 0.0010\n",
            "Epoch 2/10\n",
            "821/821 [==============================] - 58s 71ms/step - loss: 4.4753e-04 - lr: 0.0010\n",
            "Epoch 3/10\n",
            "821/821 [==============================] - 58s 71ms/step - loss: 3.4225e-04 - lr: 0.0010\n",
            "Epoch 4/10\n",
            "821/821 [==============================] - 59s 71ms/step - loss: 3.0990e-04 - lr: 0.0010\n",
            "Epoch 5/10\n",
            "821/821 [==============================] - 59s 72ms/step - loss: 3.0089e-04 - lr: 0.0010\n",
            "Epoch 6/10\n",
            "821/821 [==============================] - 58s 71ms/step - loss: 2.8285e-04 - lr: 0.0010\n",
            "Epoch 7/10\n",
            "821/821 [==============================] - 58s 70ms/step - loss: 2.9304e-04 - lr: 0.0010\n",
            "Epoch 8/10\n",
            "821/821 [==============================] - 62s 76ms/step - loss: 2.8004e-04 - lr: 0.0010\n",
            "Epoch 9/10\n",
            "821/821 [==============================] - 63s 77ms/step - loss: 2.7486e-04 - lr: 0.0010\n",
            "Epoch 10/10\n",
            "821/821 [==============================] - 64s 79ms/step - loss: 2.6738e-04 - lr: 0.0010\n"
          ]
        }
      ],
      "source": [
        "history = modelLSTM.fit(X_train, y_train, epochs=10, batch_size=32, callbacks=callbacks)"
      ]
    },
    {
      "cell_type": "code",
      "execution_count": null,
      "metadata": {
        "id": "lW-wyZdr_lPa"
      },
      "outputs": [],
      "source": [
        "data_training = pd.read_csv(province+'/train/'+province.lower()+'_train_format.csv', date_parser = True)\n",
        "data_training = data_training.drop(['date_time', 'lat', 'long'], axis = 1)\n",
        "data_test = data_test.drop(['date_time'], axis = 1)"
      ]
    },
    {
      "cell_type": "code",
      "execution_count": null,
      "metadata": {
        "id": "Sb-SV-wReAJL"
      },
      "outputs": [
        {
          "data": {
            "text/html": [
              "<div>\n",
              "<style scoped>\n",
              "    .dataframe tbody tr th:only-of-type {\n",
              "        vertical-align: middle;\n",
              "    }\n",
              "\n",
              "    .dataframe tbody tr th {\n",
              "        vertical-align: top;\n",
              "    }\n",
              "\n",
              "    .dataframe thead th {\n",
              "        text-align: right;\n",
              "    }\n",
              "</style>\n",
              "<table border=\"1\" class=\"dataframe\">\n",
              "  <thead>\n",
              "    <tr style=\"text-align: right;\">\n",
              "      <th></th>\n",
              "      <th>PM2.5</th>\n",
              "      <th>temp</th>\n",
              "      <th>wind speed</th>\n",
              "      <th>wind dir</th>\n",
              "    </tr>\n",
              "  </thead>\n",
              "  <tbody>\n",
              "    <tr>\n",
              "      <th>0</th>\n",
              "      <td>2.0</td>\n",
              "      <td>25.9</td>\n",
              "      <td>41</td>\n",
              "      <td>250</td>\n",
              "    </tr>\n",
              "    <tr>\n",
              "      <th>1</th>\n",
              "      <td>NaN</td>\n",
              "      <td>25.5</td>\n",
              "      <td>41</td>\n",
              "      <td>255</td>\n",
              "    </tr>\n",
              "    <tr>\n",
              "      <th>2</th>\n",
              "      <td>NaN</td>\n",
              "      <td>25.5</td>\n",
              "      <td>41</td>\n",
              "      <td>255</td>\n",
              "    </tr>\n",
              "    <tr>\n",
              "      <th>3</th>\n",
              "      <td>3.0</td>\n",
              "      <td>25.5</td>\n",
              "      <td>41</td>\n",
              "      <td>255</td>\n",
              "    </tr>\n",
              "    <tr>\n",
              "      <th>4</th>\n",
              "      <td>5.0</td>\n",
              "      <td>25.1</td>\n",
              "      <td>49</td>\n",
              "      <td>265</td>\n",
              "    </tr>\n",
              "  </tbody>\n",
              "</table>\n",
              "</div>"
            ],
            "text/plain": [
              "   PM2.5  temp  wind speed  wind dir\n",
              "0    2.0  25.9          41       250\n",
              "1    NaN  25.5          41       255\n",
              "2    NaN  25.5          41       255\n",
              "3    3.0  25.5          41       255\n",
              "4    5.0  25.1          49       265"
            ]
          },
          "metadata": {},
          "output_type": "display_data"
        }
      ],
      "source": [
        "data_test = data_test.drop(['date_time'], axis = 1)\n",
        "data_test.head()"
      ]
    },
    {
      "cell_type": "code",
      "execution_count": null,
      "metadata": {
        "id": "UpqWwdOaeD1K"
      },
      "outputs": [],
      "source": [
        "past_60_days = data_training.tail(60)"
      ]
    },
    {
      "cell_type": "code",
      "execution_count": null,
      "metadata": {
        "id": "TR2tRta0eEgF"
      },
      "outputs": [
        {
          "data": {
            "text/html": [
              "<div>\n",
              "<style scoped>\n",
              "    .dataframe tbody tr th:only-of-type {\n",
              "        vertical-align: middle;\n",
              "    }\n",
              "\n",
              "    .dataframe tbody tr th {\n",
              "        vertical-align: top;\n",
              "    }\n",
              "\n",
              "    .dataframe thead th {\n",
              "        text-align: right;\n",
              "    }\n",
              "</style>\n",
              "<table border=\"1\" class=\"dataframe\">\n",
              "  <thead>\n",
              "    <tr style=\"text-align: right;\">\n",
              "      <th></th>\n",
              "      <th>PM2.5</th>\n",
              "      <th>temp</th>\n",
              "      <th>wind speed</th>\n",
              "      <th>wind dir</th>\n",
              "    </tr>\n",
              "  </thead>\n",
              "  <tbody>\n",
              "    <tr>\n",
              "      <th>0</th>\n",
              "      <td>18.0</td>\n",
              "      <td>30.5</td>\n",
              "      <td>9.0</td>\n",
              "      <td>235.0</td>\n",
              "    </tr>\n",
              "    <tr>\n",
              "      <th>1</th>\n",
              "      <td>18.0</td>\n",
              "      <td>33.1</td>\n",
              "      <td>12.0</td>\n",
              "      <td>245.0</td>\n",
              "    </tr>\n",
              "    <tr>\n",
              "      <th>2</th>\n",
              "      <td>14.0</td>\n",
              "      <td>33.1</td>\n",
              "      <td>12.0</td>\n",
              "      <td>245.0</td>\n",
              "    </tr>\n",
              "    <tr>\n",
              "      <th>3</th>\n",
              "      <td>8.0</td>\n",
              "      <td>33.1</td>\n",
              "      <td>12.0</td>\n",
              "      <td>245.0</td>\n",
              "    </tr>\n",
              "    <tr>\n",
              "      <th>4</th>\n",
              "      <td>6.0</td>\n",
              "      <td>33.4</td>\n",
              "      <td>17.0</td>\n",
              "      <td>245.0</td>\n",
              "    </tr>\n",
              "  </tbody>\n",
              "</table>\n",
              "</div>"
            ],
            "text/plain": [
              "   PM2.5  temp  wind speed  wind dir\n",
              "0   18.0  30.5         9.0     235.0\n",
              "1   18.0  33.1        12.0     245.0\n",
              "2   14.0  33.1        12.0     245.0\n",
              "3    8.0  33.1        12.0     245.0\n",
              "4    6.0  33.4        17.0     245.0"
            ]
          },
          "metadata": {},
          "output_type": "display_data"
        }
      ],
      "source": [
        "df = past_60_days.append(data_test, ignore_index = True)\n",
        "df.head()"
      ]
    },
    {
      "cell_type": "code",
      "execution_count": null,
      "metadata": {
        "id": "zwRexsPQqvTy"
      },
      "outputs": [],
      "source": [
        "df.dropna(inplace=True)\n",
        "df.shape"
      ]
    },
    {
      "cell_type": "code",
      "execution_count": null,
      "metadata": {
        "id": "yRpQEcauq0oc"
      },
      "outputs": [
        {
          "data": {
            "text/plain": [
              "(7836, 4)"
            ]
          },
          "metadata": {},
          "output_type": "display_data"
        }
      ],
      "source": [
        "df.shape"
      ]
    },
    {
      "cell_type": "code",
      "execution_count": null,
      "metadata": {
        "id": "KKrjHeCMeGWX"
      },
      "outputs": [
        {
          "data": {
            "text/plain": [
              "array([[0.04187192, 0.6133829 , 0.0989011 , 0.65277778],\n",
              "       [0.04187192, 0.71003717, 0.13186813, 0.68055556],\n",
              "       [0.0320197 , 0.71003717, 0.13186813, 0.68055556],\n",
              "       ...,\n",
              "       [0.02955665, 0.58364312, 0.26373626, 0.65277778],\n",
              "       [0.0320197 , 0.58364312, 0.27472527, 0.66666667],\n",
              "       [0.0320197 , 0.58364312, 0.26373626, 0.69444444]])"
            ]
          },
          "metadata": {},
          "output_type": "display_data"
        }
      ],
      "source": [
        "inputs = scaler.transform(df)\n",
        "inputs"
      ]
    },
    {
      "cell_type": "code",
      "execution_count": null,
      "metadata": {
        "id": "x3WdrSMFeHlj"
      },
      "outputs": [],
      "source": [
        "X_test = []\n",
        "y_test = []\n",
        "\n",
        "for i in range(60, inputs.shape[0]):\n",
        "    X_test.append(inputs[i-60:i])\n",
        "    y_test.append(inputs[i, 0])"
      ]
    },
    {
      "cell_type": "code",
      "execution_count": null,
      "metadata": {
        "id": "1-l8uJ6beJN-"
      },
      "outputs": [
        {
          "data": {
            "text/plain": [
              "((7776, 60, 4), (7776,))"
            ]
          },
          "metadata": {},
          "output_type": "display_data"
        }
      ],
      "source": [
        "X_test, y_test = np.array(X_test), np.array(y_test)\n",
        "X_test.shape, y_test.shape"
      ]
    },
    {
      "cell_type": "code",
      "execution_count": null,
      "metadata": {
        "id": "OAbQp-tPeKvP"
      },
      "outputs": [],
      "source": [
        "y_pred = modelLSTM.predict(X_test)"
      ]
    },
    {
      "cell_type": "code",
      "execution_count": null,
      "metadata": {
        "id": "VO8T2VYEeO7q"
      },
      "outputs": [
        {
          "data": {
            "text/plain": [
              "406.0"
            ]
          },
          "metadata": {},
          "output_type": "display_data"
        }
      ],
      "source": [
        "scale = 1/scaler.scale_[0]\n",
        "y_pred = y_pred*scale\n",
        "y_test = y_test*scale"
      ]
    },
    {
      "cell_type": "code",
      "execution_count": null,
      "metadata": {
        "id": "6J1AmHFNeP6Z"
      },
      "outputs": [],
      "source": [
        "y_pred = y_pred*scale\n",
        "y_test = y_test*scale"
      ]
    },
    {
      "cell_type": "code",
      "execution_count": null,
      "metadata": {
        "id": "NsN4tns4A0lG"
      },
      "outputs": [
        {
          "name": "stdout",
          "output_type": "stream",
          "text": [
            "Saraburi RMSE = 3.1962012873265464\n"
          ]
        }
      ],
      "source": [
        "print(province+' RMSE =', math.sqrt(mean_squared_error(y_test, y_pred)) )"
      ]
    },
    {
      "cell_type": "code",
      "execution_count": null,
      "metadata": {
        "id": "KkwVJXVaeR4e"
      },
      "outputs": [
        {
          "data": {
            "image/png": "[encoded data removed]",
            "text/plain": [
              "<Figure size 1008x360 with 1 Axes>"
            ]
          },
          "metadata": {},
          "output_type": "display_data"
        }
      ],
      "source": [
        "# Visualising the results\n",
        "plt.figure(figsize=(14,5))\n",
        "plt.plot(y_test, color = 'red', label = 'Real')\n",
        "plt.plot(y_pred, color = 'blue', label = 'Predicted')\n",
        "plt.xlabel('Time')\n",
        "plt.ylabel('PM2.5')\n",
        "plt.legend()\n",
        "plt.show()"
      ]
    },
    {
      "cell_type": "code",
      "execution_count": null,
      "metadata": {
        "id": "_9BwFEag82WB"
      },
      "outputs": [],
      "source": [
        "import pickle\n",
        "\n",
        "with open('lstm_'+province.lower()+'.pickle', 'wb') as fp:\n",
        "    pickle.dump(y_pred, fp)"
      ]
    },
    {
      "cell_type": "code",
      "execution_count": null,
      "metadata": {
        "id": "X2NYaatgLJXQ"
      },
      "outputs": [],
      "source": [
        "df1 = pd.DataFrame(y_pred)\n",
        "df1.to_csv('lstm_'+province.lower()+'.csv')"
      ]
    },
    {
      "cell_type": "code",
      "execution_count": null,
      "metadata": {
        "id": "j6-u-OHuV6il"
      },
      "outputs": [],
      "source": []
    },
    {
      "cell_type": "markdown",
      "metadata": {},
      "source": [
        "# Surat"
      ]
    },
    {
      "cell_type": "code",
      "execution_count": 323,
      "metadata": {
        "id": "9B3XlyHJWiP-"
      },
      "outputs": [],
      "source": [
        "provinces = ['BKK','Chiangmai','Khonkaen','Rayong','Saraburi','Surat']\n",
        "province = provinces[5]\n",
        "data_training = pd.read_csv(province+'/train/'+province.lower()+'_train_format.csv', date_parser = True)\n"
      ]
    },
    {
      "cell_type": "code",
      "execution_count": 325,
      "metadata": {
        "colab": {
          "base_uri": "https://localhost:8080/",
          "height": 206
        },
        "id": "5FXLGXmedgqG",
        "outputId": "f2bfe5c4-5390-4397-bb7a-de16c5d64092"
      },
      "outputs": [
        {
          "data": {
            "text/html": [
              "<div>\n",
              "<style scoped>\n",
              "    .dataframe tbody tr th:only-of-type {\n",
              "        vertical-align: middle;\n",
              "    }\n",
              "\n",
              "    .dataframe tbody tr th {\n",
              "        vertical-align: top;\n",
              "    }\n",
              "\n",
              "    .dataframe thead th {\n",
              "        text-align: right;\n",
              "    }\n",
              "</style>\n",
              "<table border=\"1\" class=\"dataframe\">\n",
              "  <thead>\n",
              "    <tr style=\"text-align: right;\">\n",
              "      <th></th>\n",
              "      <th>PM2.5</th>\n",
              "      <th>temp</th>\n",
              "      <th>wind speed</th>\n",
              "      <th>wind dir</th>\n",
              "    </tr>\n",
              "  </thead>\n",
              "  <tbody>\n",
              "    <tr>\n",
              "      <th>0</th>\n",
              "      <td>22.0</td>\n",
              "      <td>25.0</td>\n",
              "      <td>38.0</td>\n",
              "      <td>250.0</td>\n",
              "    </tr>\n",
              "    <tr>\n",
              "      <th>1</th>\n",
              "      <td>16.0</td>\n",
              "      <td>25.0</td>\n",
              "      <td>38.0</td>\n",
              "      <td>250.0</td>\n",
              "    </tr>\n",
              "    <tr>\n",
              "      <th>2</th>\n",
              "      <td>13.0</td>\n",
              "      <td>25.0</td>\n",
              "      <td>38.0</td>\n",
              "      <td>250.0</td>\n",
              "    </tr>\n",
              "    <tr>\n",
              "      <th>3</th>\n",
              "      <td>18.0</td>\n",
              "      <td>25.0</td>\n",
              "      <td>38.0</td>\n",
              "      <td>250.0</td>\n",
              "    </tr>\n",
              "    <tr>\n",
              "      <th>4</th>\n",
              "      <td>29.0</td>\n",
              "      <td>25.0</td>\n",
              "      <td>38.0</td>\n",
              "      <td>250.0</td>\n",
              "    </tr>\n",
              "  </tbody>\n",
              "</table>\n",
              "</div>"
            ],
            "text/plain": [
              "   PM2.5  temp  wind speed  wind dir\n",
              "0   22.0  25.0        38.0     250.0\n",
              "1   16.0  25.0        38.0     250.0\n",
              "2   13.0  25.0        38.0     250.0\n",
              "3   18.0  25.0        38.0     250.0\n",
              "4   29.0  25.0        38.0     250.0"
            ]
          },
          "execution_count": 325,
          "metadata": {},
          "output_type": "execute_result"
        }
      ],
      "source": [
        "data_training = data_training.drop(['date_time', 'lat', 'long'], axis = 1)\n",
        "data_training.head()"
      ]
    },
    {
      "cell_type": "code",
      "execution_count": 326,
      "metadata": {
        "colab": {
          "base_uri": "https://localhost:8080/",
          "height": 206
        },
        "id": "jONlufFv2NPo",
        "outputId": "c117c196-d411-4a06-c1f3-c5aeeef87c7e"
      },
      "outputs": [
        {
          "data": {
            "text/html": [
              "<div>\n",
              "<style scoped>\n",
              "    .dataframe tbody tr th:only-of-type {\n",
              "        vertical-align: middle;\n",
              "    }\n",
              "\n",
              "    .dataframe tbody tr th {\n",
              "        vertical-align: top;\n",
              "    }\n",
              "\n",
              "    .dataframe thead th {\n",
              "        text-align: right;\n",
              "    }\n",
              "</style>\n",
              "<table border=\"1\" class=\"dataframe\">\n",
              "  <thead>\n",
              "    <tr style=\"text-align: right;\">\n",
              "      <th></th>\n",
              "      <th>Unnamed: 0</th>\n",
              "      <th>date_time</th>\n",
              "      <th>PM2.5</th>\n",
              "      <th>temp</th>\n",
              "      <th>wind speed</th>\n",
              "      <th>wind dir</th>\n",
              "      <th>lat</th>\n",
              "      <th>long</th>\n",
              "    </tr>\n",
              "  </thead>\n",
              "  <tbody>\n",
              "    <tr>\n",
              "      <th>123</th>\n",
              "      <td>123</td>\n",
              "      <td>2020-07-06 03:00:00</td>\n",
              "      <td>NaN</td>\n",
              "      <td>25.3</td>\n",
              "      <td>17</td>\n",
              "      <td>260</td>\n",
              "      <td>14.685833</td>\n",
              "      <td>100.871996</td>\n",
              "    </tr>\n",
              "    <tr>\n",
              "      <th>5836</th>\n",
              "      <td>5836</td>\n",
              "      <td>2021-03-01 04:00:00</td>\n",
              "      <td>NaN</td>\n",
              "      <td>23.5</td>\n",
              "      <td>26</td>\n",
              "      <td>175</td>\n",
              "      <td>14.685833</td>\n",
              "      <td>100.871996</td>\n",
              "    </tr>\n",
              "    <tr>\n",
              "      <th>7344</th>\n",
              "      <td>7344</td>\n",
              "      <td>2021-05-03 00:00:00</td>\n",
              "      <td>27.0</td>\n",
              "      <td>27.7</td>\n",
              "      <td>5</td>\n",
              "      <td>290</td>\n",
              "      <td>14.685833</td>\n",
              "      <td>100.871996</td>\n",
              "    </tr>\n",
              "    <tr>\n",
              "      <th>655</th>\n",
              "      <td>655</td>\n",
              "      <td>2020-07-28 07:00:00</td>\n",
              "      <td>7.0</td>\n",
              "      <td>26.6</td>\n",
              "      <td>10</td>\n",
              "      <td>185</td>\n",
              "      <td>14.685833</td>\n",
              "      <td>100.871996</td>\n",
              "    </tr>\n",
              "    <tr>\n",
              "      <th>5422</th>\n",
              "      <td>5422</td>\n",
              "      <td>2021-02-11 22:00:00</td>\n",
              "      <td>NaN</td>\n",
              "      <td>25.4</td>\n",
              "      <td>3</td>\n",
              "      <td>70</td>\n",
              "      <td>14.685833</td>\n",
              "      <td>100.871996</td>\n",
              "    </tr>\n",
              "  </tbody>\n",
              "</table>\n",
              "</div>"
            ],
            "text/plain": [
              "      Unnamed: 0            date_time  PM2.5  temp  wind speed  wind dir  \\\n",
              "123          123  2020-07-06 03:00:00    NaN  25.3          17       260   \n",
              "5836        5836  2021-03-01 04:00:00    NaN  23.5          26       175   \n",
              "7344        7344  2021-05-03 00:00:00   27.0  27.7           5       290   \n",
              "655          655  2020-07-28 07:00:00    7.0  26.6          10       185   \n",
              "5422        5422  2021-02-11 22:00:00    NaN  25.4           3        70   \n",
              "\n",
              "            lat        long  \n",
              "123   14.685833  100.871996  \n",
              "5836  14.685833  100.871996  \n",
              "7344  14.685833  100.871996  \n",
              "655   14.685833  100.871996  \n",
              "5422  14.685833  100.871996  "
            ]
          },
          "execution_count": 326,
          "metadata": {},
          "output_type": "execute_result"
        }
      ],
      "source": [
        "data_test = pd.read_csv(province+'_clean.csv', date_parser = True)\n",
        "data_test.sample(5)"
      ]
    },
    {
      "cell_type": "code",
      "execution_count": 327,
      "metadata": {
        "colab": {
          "base_uri": "https://localhost:8080/",
          "height": 206
        },
        "id": "ZM_Hn5LcUDqd",
        "outputId": "7c170d33-a52a-4b5e-f057-5d16a4355a2d"
      },
      "outputs": [
        {
          "data": {
            "text/html": [
              "<div>\n",
              "<style scoped>\n",
              "    .dataframe tbody tr th:only-of-type {\n",
              "        vertical-align: middle;\n",
              "    }\n",
              "\n",
              "    .dataframe tbody tr th {\n",
              "        vertical-align: top;\n",
              "    }\n",
              "\n",
              "    .dataframe thead th {\n",
              "        text-align: right;\n",
              "    }\n",
              "</style>\n",
              "<table border=\"1\" class=\"dataframe\">\n",
              "  <thead>\n",
              "    <tr style=\"text-align: right;\">\n",
              "      <th></th>\n",
              "      <th>date_time</th>\n",
              "      <th>PM2.5</th>\n",
              "      <th>temp</th>\n",
              "      <th>wind speed</th>\n",
              "      <th>wind dir</th>\n",
              "    </tr>\n",
              "  </thead>\n",
              "  <tbody>\n",
              "    <tr>\n",
              "      <th>0</th>\n",
              "      <td>2020-07-01 00:00:00</td>\n",
              "      <td>2.0</td>\n",
              "      <td>25.9</td>\n",
              "      <td>41</td>\n",
              "      <td>250</td>\n",
              "    </tr>\n",
              "    <tr>\n",
              "      <th>1</th>\n",
              "      <td>2020-07-01 01:00:00</td>\n",
              "      <td>NaN</td>\n",
              "      <td>25.5</td>\n",
              "      <td>41</td>\n",
              "      <td>255</td>\n",
              "    </tr>\n",
              "    <tr>\n",
              "      <th>2</th>\n",
              "      <td>2020-07-01 02:00:00</td>\n",
              "      <td>NaN</td>\n",
              "      <td>25.5</td>\n",
              "      <td>41</td>\n",
              "      <td>255</td>\n",
              "    </tr>\n",
              "    <tr>\n",
              "      <th>3</th>\n",
              "      <td>2020-07-01 03:00:00</td>\n",
              "      <td>3.0</td>\n",
              "      <td>25.5</td>\n",
              "      <td>41</td>\n",
              "      <td>255</td>\n",
              "    </tr>\n",
              "    <tr>\n",
              "      <th>4</th>\n",
              "      <td>2020-07-01 04:00:00</td>\n",
              "      <td>5.0</td>\n",
              "      <td>25.1</td>\n",
              "      <td>49</td>\n",
              "      <td>265</td>\n",
              "    </tr>\n",
              "  </tbody>\n",
              "</table>\n",
              "</div>"
            ],
            "text/plain": [
              "             date_time  PM2.5  temp  wind speed  wind dir\n",
              "0  2020-07-01 00:00:00    2.0  25.9          41       250\n",
              "1  2020-07-01 01:00:00    NaN  25.5          41       255\n",
              "2  2020-07-01 02:00:00    NaN  25.5          41       255\n",
              "3  2020-07-01 03:00:00    3.0  25.5          41       255\n",
              "4  2020-07-01 04:00:00    5.0  25.1          49       265"
            ]
          },
          "execution_count": 327,
          "metadata": {},
          "output_type": "execute_result"
        }
      ],
      "source": [
        "data_test = data_test.drop(['Unnamed: 0', 'lat', 'long'], axis = 1)\n",
        "data_test.head()"
      ]
    },
    {
      "cell_type": "code",
      "execution_count": 328,
      "metadata": {
        "id": "khw4M2JsdiKT"
      },
      "outputs": [],
      "source": [
        "scaler = MinMaxScaler()\n",
        "data_training = scaler.fit_transform(data_training)\n",
        "scaler.inverse_transform(data_training)\n",
        "scale = 1/scaler.scale_\n"
      ]
    },
    {
      "cell_type": "code",
      "execution_count": 330,
      "metadata": {
        "colab": {
          "base_uri": "https://localhost:8080/"
        },
        "id": "rvb9MZW42RyZ",
        "outputId": "ef485aaa-23d5-48ab-c27b-6d349993e831"
      },
      "outputs": [
        {
          "data": {
            "text/plain": [
              "array([[ 20.99753695,  10.4795539 ,  38.        , 250.        ],\n",
              "       [ 14.99753695,  10.4795539 ,  38.        , 250.        ],\n",
              "       [ 11.99753695,  10.4795539 ,  38.        , 250.        ],\n",
              "       ...,\n",
              "       [ 14.99753695,  12.8795539 ,  31.        , 245.        ],\n",
              "       [  9.99753695,  11.3795539 ,  41.        , 250.        ],\n",
              "       [  5.99753695,  11.3795539 ,  41.        , 250.        ]])"
            ]
          },
          "execution_count": 330,
          "metadata": {},
          "output_type": "execute_result"
        }
      ],
      "source": [
        "# temp = (data_training * scale) + scaler.min_\n",
        "# temp"
      ]
    },
    {
      "cell_type": "code",
      "execution_count": 332,
      "metadata": {
        "id": "W4926pfpdoE0"
      },
      "outputs": [],
      "source": [
        "X_train = []\n",
        "y_train = []\n",
        "\n",
        "for i in range(60, data_training.shape[0]):\n",
        "    X_train.append(data_training[i-60:i])\n",
        "    y_train.append(data_training[i, 0])\n",
        "\n",
        "X_train, y_train = np.array(X_train), np.array(y_train)\n",
        "X_train.shape"
      ]
    },
    {
      "cell_type": "code",
      "execution_count": 336,
      "metadata": {
        "id": "6PwBHKiCdxBy"
      },
      "outputs": [],
      "source": [
        "modelLSTM = Sequential()\n",
        "\n",
        "modelLSTM.add(LSTM(units = 120, activation = 'relu', return_sequences = True, input_shape = (X_train.shape[1], 4)))\n",
        "modelLSTM.add(Dropout(0.2))\n",
        "modelLSTM.add(LSTM(units = 240, activation = 'relu',  input_shape = (X_train.shape[1], 4)))\n",
        "modelLSTM.add(Dropout(0.2))\n",
        "\n",
        "\n",
        "\n",
        "modelLSTM.add(Dense(units = 1))"
      ]
    },
    {
      "cell_type": "code",
      "execution_count": 337,
      "metadata": {
        "colab": {
          "base_uri": "https://localhost:8080/"
        },
        "id": "OruphK2TdzFB",
        "outputId": "a1985c4e-d227-4c86-cb42-fe4f48a4b574"
      },
      "outputs": [
        {
          "name": "stdout",
          "output_type": "stream",
          "text": [
            "Model: \"sequential_8\"\n",
            "_________________________________________________________________\n",
            " Layer (type)                Output Shape              Param #   \n",
            "=================================================================\n",
            " lstm_11 (LSTM)              (None, 120)               60000     \n",
            "                                                                 \n",
            " dropout_11 (Dropout)        (None, 120)               0         \n",
            "                                                                 \n",
            " dense_9 (Dense)             (None, 1)                 121       \n",
            "                                                                 \n",
            "=================================================================\n",
            "Total params: 60,121\n",
            "Trainable params: 60,121\n",
            "Non-trainable params: 0\n",
            "_________________________________________________________________\n"
          ]
        }
      ],
      "source": [
        "modelLSTM.summary()"
      ]
    },
    {
      "cell_type": "code",
      "execution_count": 339,
      "metadata": {
        "id": "F2jd8nTRp9kq"
      },
      "outputs": [],
      "source": [
        "#create callback\n",
        "filepath = 'my_best_modelLSTM_yourself.hdf5'\n",
        "checkpoint = ModelCheckpoint(filepath=filepath, \n",
        "                             monitor='loss',\n",
        "                             verbose=0, \n",
        "                             save_best_only=True,\n",
        "                             mode='min')\n",
        "\n",
        "earlystopping = EarlyStopping(\n",
        "    monitor='loss', \n",
        "    patience=3, \n",
        "    min_delta=0, \n",
        "    mode='auto'\n",
        ")\n",
        "\n",
        "reduce_lr = ReduceLROnPlateau(\n",
        "    monitor='loss', \n",
        "    factor=0.2,   \n",
        "    patience=2, \n",
        "    min_lr=0.001,\n",
        "    verbose=0\n",
        ")\n",
        "callbacks = [checkpoint, earlystopping, reduce_lr]"
      ]
    },
    {
      "cell_type": "code",
      "execution_count": 340,
      "metadata": {
        "id": "7alsTCdPd5PY"
      },
      "outputs": [],
      "source": [
        "modelLSTM.compile(optimizer='adam', loss = 'mean_squared_error')"
      ]
    },
    {
      "cell_type": "code",
      "execution_count": 341,
      "metadata": {
        "colab": {
          "base_uri": "https://localhost:8080/"
        },
        "id": "jJGUMaN7wafJ",
        "outputId": "99c99a14-509d-4f56-a2fc-b13512fb7507"
      },
      "outputs": [
        {
          "name": "stdout",
          "output_type": "stream",
          "text": [
            "Epoch 1/10\n",
            "821/821 [==============================] - 56s 67ms/step - loss: 9.2078e-04 - lr: 0.0010\n",
            "Epoch 2/10\n",
            "821/821 [==============================] - 58s 71ms/step - loss: 4.4753e-04 - lr: 0.0010\n",
            "Epoch 3/10\n",
            "821/821 [==============================] - 58s 71ms/step - loss: 3.4225e-04 - lr: 0.0010\n",
            "Epoch 4/10\n",
            "821/821 [==============================] - 59s 71ms/step - loss: 3.0990e-04 - lr: 0.0010\n",
            "Epoch 5/10\n",
            "821/821 [==============================] - 59s 72ms/step - loss: 3.0089e-04 - lr: 0.0010\n",
            "Epoch 6/10\n",
            "821/821 [==============================] - 58s 71ms/step - loss: 2.8285e-04 - lr: 0.0010\n",
            "Epoch 7/10\n",
            "821/821 [==============================] - 58s 70ms/step - loss: 2.9304e-04 - lr: 0.0010\n",
            "Epoch 8/10\n",
            "821/821 [==============================] - 62s 76ms/step - loss: 2.8004e-04 - lr: 0.0010\n",
            "Epoch 9/10\n",
            "821/821 [==============================] - 63s 77ms/step - loss: 2.7486e-04 - lr: 0.0010\n",
            "Epoch 10/10\n",
            "821/821 [==============================] - 64s 79ms/step - loss: 2.6738e-04 - lr: 0.0010\n"
          ]
        }
      ],
      "source": [
        "history = modelLSTM.fit(X_train, y_train, epochs=15, batch_size=64, callbacks=callbacks)"
      ]
    },
    {
      "cell_type": "code",
      "execution_count": 342,
      "metadata": {
        "id": "lW-wyZdr_lPa"
      },
      "outputs": [],
      "source": [
        "data_training = pd.read_csv(province+'/train/'+province.lower()+'_train_format.csv', date_parser = True)\n",
        "data_training = data_training.drop(['date_time', 'lat', 'long'], axis = 1)\n",
        "data_test = data_test.drop(['date_time'], axis = 1)"
      ]
    },
    {
      "cell_type": "code",
      "execution_count": 344,
      "metadata": {
        "id": "Sb-SV-wReAJL"
      },
      "outputs": [
        {
          "data": {
            "text/html": [
              "<div>\n",
              "<style scoped>\n",
              "    .dataframe tbody tr th:only-of-type {\n",
              "        vertical-align: middle;\n",
              "    }\n",
              "\n",
              "    .dataframe tbody tr th {\n",
              "        vertical-align: top;\n",
              "    }\n",
              "\n",
              "    .dataframe thead th {\n",
              "        text-align: right;\n",
              "    }\n",
              "</style>\n",
              "<table border=\"1\" class=\"dataframe\">\n",
              "  <thead>\n",
              "    <tr style=\"text-align: right;\">\n",
              "      <th></th>\n",
              "      <th>PM2.5</th>\n",
              "      <th>temp</th>\n",
              "      <th>wind speed</th>\n",
              "      <th>wind dir</th>\n",
              "    </tr>\n",
              "  </thead>\n",
              "  <tbody>\n",
              "    <tr>\n",
              "      <th>0</th>\n",
              "      <td>2.0</td>\n",
              "      <td>25.9</td>\n",
              "      <td>41</td>\n",
              "      <td>250</td>\n",
              "    </tr>\n",
              "    <tr>\n",
              "      <th>1</th>\n",
              "      <td>NaN</td>\n",
              "      <td>25.5</td>\n",
              "      <td>41</td>\n",
              "      <td>255</td>\n",
              "    </tr>\n",
              "    <tr>\n",
              "      <th>2</th>\n",
              "      <td>NaN</td>\n",
              "      <td>25.5</td>\n",
              "      <td>41</td>\n",
              "      <td>255</td>\n",
              "    </tr>\n",
              "    <tr>\n",
              "      <th>3</th>\n",
              "      <td>3.0</td>\n",
              "      <td>25.5</td>\n",
              "      <td>41</td>\n",
              "      <td>255</td>\n",
              "    </tr>\n",
              "    <tr>\n",
              "      <th>4</th>\n",
              "      <td>5.0</td>\n",
              "      <td>25.1</td>\n",
              "      <td>49</td>\n",
              "      <td>265</td>\n",
              "    </tr>\n",
              "  </tbody>\n",
              "</table>\n",
              "</div>"
            ],
            "text/plain": [
              "   PM2.5  temp  wind speed  wind dir\n",
              "0    2.0  25.9          41       250\n",
              "1    NaN  25.5          41       255\n",
              "2    NaN  25.5          41       255\n",
              "3    3.0  25.5          41       255\n",
              "4    5.0  25.1          49       265"
            ]
          },
          "execution_count": 344,
          "metadata": {},
          "output_type": "execute_result"
        }
      ],
      "source": [
        "data_test = data_test.drop(['date_time'], axis = 1)\n",
        "data_test.head()"
      ]
    },
    {
      "cell_type": "code",
      "execution_count": 345,
      "metadata": {
        "id": "UpqWwdOaeD1K"
      },
      "outputs": [],
      "source": [
        "past_60_days = data_training.tail(90)"
      ]
    },
    {
      "cell_type": "code",
      "execution_count": 346,
      "metadata": {
        "id": "TR2tRta0eEgF"
      },
      "outputs": [
        {
          "data": {
            "text/html": [
              "<div>\n",
              "<style scoped>\n",
              "    .dataframe tbody tr th:only-of-type {\n",
              "        vertical-align: middle;\n",
              "    }\n",
              "\n",
              "    .dataframe tbody tr th {\n",
              "        vertical-align: top;\n",
              "    }\n",
              "\n",
              "    .dataframe thead th {\n",
              "        text-align: right;\n",
              "    }\n",
              "</style>\n",
              "<table border=\"1\" class=\"dataframe\">\n",
              "  <thead>\n",
              "    <tr style=\"text-align: right;\">\n",
              "      <th></th>\n",
              "      <th>PM2.5</th>\n",
              "      <th>temp</th>\n",
              "      <th>wind speed</th>\n",
              "      <th>wind dir</th>\n",
              "    </tr>\n",
              "  </thead>\n",
              "  <tbody>\n",
              "    <tr>\n",
              "      <th>0</th>\n",
              "      <td>18.0</td>\n",
              "      <td>30.5</td>\n",
              "      <td>9.0</td>\n",
              "      <td>235.0</td>\n",
              "    </tr>\n",
              "    <tr>\n",
              "      <th>1</th>\n",
              "      <td>18.0</td>\n",
              "      <td>33.1</td>\n",
              "      <td>12.0</td>\n",
              "      <td>245.0</td>\n",
              "    </tr>\n",
              "    <tr>\n",
              "      <th>2</th>\n",
              "      <td>14.0</td>\n",
              "      <td>33.1</td>\n",
              "      <td>12.0</td>\n",
              "      <td>245.0</td>\n",
              "    </tr>\n",
              "    <tr>\n",
              "      <th>3</th>\n",
              "      <td>8.0</td>\n",
              "      <td>33.1</td>\n",
              "      <td>12.0</td>\n",
              "      <td>245.0</td>\n",
              "    </tr>\n",
              "    <tr>\n",
              "      <th>4</th>\n",
              "      <td>6.0</td>\n",
              "      <td>33.4</td>\n",
              "      <td>17.0</td>\n",
              "      <td>245.0</td>\n",
              "    </tr>\n",
              "  </tbody>\n",
              "</table>\n",
              "</div>"
            ],
            "text/plain": [
              "   PM2.5  temp  wind speed  wind dir\n",
              "0   18.0  30.5         9.0     235.0\n",
              "1   18.0  33.1        12.0     245.0\n",
              "2   14.0  33.1        12.0     245.0\n",
              "3    8.0  33.1        12.0     245.0\n",
              "4    6.0  33.4        17.0     245.0"
            ]
          },
          "execution_count": 346,
          "metadata": {},
          "output_type": "execute_result"
        }
      ],
      "source": [
        "df = past_60_days.append(data_test, ignore_index = True)\n",
        "df.head()"
      ]
    },
    {
      "cell_type": "code",
      "execution_count": 347,
      "metadata": {
        "id": "zwRexsPQqvTy"
      },
      "outputs": [],
      "source": [
        "df.dropna(inplace=True)\n",
        "df.shape"
      ]
    },
    {
      "cell_type": "code",
      "execution_count": 348,
      "metadata": {
        "id": "yRpQEcauq0oc"
      },
      "outputs": [
        {
          "data": {
            "text/plain": [
              "(7836, 4)"
            ]
          },
          "execution_count": 348,
          "metadata": {},
          "output_type": "execute_result"
        }
      ],
      "source": [
        "df.shape"
      ]
    },
    {
      "cell_type": "code",
      "execution_count": 349,
      "metadata": {
        "id": "KKrjHeCMeGWX"
      },
      "outputs": [
        {
          "data": {
            "text/plain": [
              "array([[0.04187192, 0.6133829 , 0.0989011 , 0.65277778],\n",
              "       [0.04187192, 0.71003717, 0.13186813, 0.68055556],\n",
              "       [0.0320197 , 0.71003717, 0.13186813, 0.68055556],\n",
              "       ...,\n",
              "       [0.02955665, 0.58364312, 0.26373626, 0.65277778],\n",
              "       [0.0320197 , 0.58364312, 0.27472527, 0.66666667],\n",
              "       [0.0320197 , 0.58364312, 0.26373626, 0.69444444]])"
            ]
          },
          "execution_count": 349,
          "metadata": {},
          "output_type": "execute_result"
        }
      ],
      "source": [
        "inputs = scaler.transform(df)\n",
        "inputs"
      ]
    },
    {
      "cell_type": "code",
      "execution_count": 350,
      "metadata": {
        "id": "x3WdrSMFeHlj"
      },
      "outputs": [],
      "source": [
        "X_test = []\n",
        "y_test = []\n",
        "\n",
        "for i in range(90, inputs.shape[0]):\n",
        "    X_test.append(inputs[i-90:i])\n",
        "    y_test.append(inputs[i, 0])"
      ]
    },
    {
      "cell_type": "code",
      "execution_count": 351,
      "metadata": {
        "id": "1-l8uJ6beJN-"
      },
      "outputs": [
        {
          "data": {
            "text/plain": [
              "((7776, 60, 4), (7776,))"
            ]
          },
          "execution_count": 351,
          "metadata": {},
          "output_type": "execute_result"
        }
      ],
      "source": [
        "X_test, y_test = np.array(X_test), np.array(y_test)\n",
        "X_test.shape, y_test.shape"
      ]
    },
    {
      "cell_type": "code",
      "execution_count": 352,
      "metadata": {
        "id": "OAbQp-tPeKvP"
      },
      "outputs": [],
      "source": [
        "y_pred = modelLSTM.predict(X_test)"
      ]
    },
    {
      "cell_type": "code",
      "execution_count": 355,
      "metadata": {
        "id": "VO8T2VYEeO7q"
      },
      "outputs": [
        {
          "data": {
            "text/plain": [
              "406.0"
            ]
          },
          "execution_count": 355,
          "metadata": {},
          "output_type": "execute_result"
        }
      ],
      "source": [
        "scale = 1/scaler.scale_[0]\n",
        "y_pred = y_pred*scale\n",
        "y_test = y_test*scale"
      ]
    },
    {
      "cell_type": "code",
      "execution_count": 356,
      "metadata": {
        "id": "6J1AmHFNeP6Z"
      },
      "outputs": [],
      "source": [
        "y_pred = y_pred*scale\n",
        "y_test = y_test*scale"
      ]
    },
    {
      "cell_type": "code",
      "execution_count": 357,
      "metadata": {
        "id": "NsN4tns4A0lG"
      },
      "outputs": [
        {
          "name": "stdout",
          "output_type": "stream",
          "text": [
            "Saraburi RMSE = 3.1962012873265464\n"
          ]
        }
      ],
      "source": [
        "print(province+' RMSE =', math.sqrt(mean_squared_error(y_test, y_pred)) )"
      ]
    },
    {
      "cell_type": "code",
      "execution_count": 358,
      "metadata": {
        "id": "KkwVJXVaeR4e"
      },
      "outputs": [
        {
          "data": {
            "image/png": "[encoded data removed]",
            "text/plain": [
              "<Figure size 1008x360 with 1 Axes>"
            ]
          },
          "metadata": {
            "needs_background": "light"
          },
          "output_type": "display_data"
        }
      ],
      "source": [
        "# Visualising the results\n",
        "plt.figure(figsize=(14,5))\n",
        "plt.plot(y_test, color = 'red', label = 'Real')\n",
        "plt.plot(y_pred, color = 'blue', label = 'Predicted')\n",
        "plt.xlabel('Time')\n",
        "plt.ylabel('PM2.5')\n",
        "plt.legend()\n",
        "plt.show()"
      ]
    },
    {
      "cell_type": "code",
      "execution_count": 359,
      "metadata": {
        "id": "_9BwFEag82WB"
      },
      "outputs": [],
      "source": [
        "import pickle\n",
        "\n",
        "with open('lstm_'+province.lower()+'.pickle', 'wb') as fp:\n",
        "    pickle.dump(y_pred, fp)"
      ]
    },
    {
      "cell_type": "code",
      "execution_count": 360,
      "metadata": {
        "id": "X2NYaatgLJXQ"
      },
      "outputs": [],
      "source": [
        "df1 = pd.DataFrame(y_pred)\n",
        "df1.to_csv('lstm_'+province.lower()+'.csv')"
      ]
    },
    {
      "cell_type": "code",
      "execution_count": null,
      "metadata": {
        "id": "j6-u-OHuV6il"
      },
      "outputs": [],
      "source": []
    },
    {
      "cell_type": "markdown",
      "metadata": {},
      "source": [
        "# Submit"
      ]
    },
    {
      "cell_type": "code",
      "execution_count": null,
      "metadata": {},
      "outputs": [],
      "source": [
        "param_dict = {'BKK':[7.0, 70.0, 40.0, 100.0],\n",
        "'Chiangmai':[7.0, 50.0, 40.0, 100.0],\n",
        "'Rayong':[2.0, 50.0, 30.0, 40.0],\n",
        "'Saraburi':[3.0, 50.0, 20.0, 90.0],\n",
        "'Khonkaen':[1.0, 70.0, 30.0, 90.0],\n",
        "'Surat':[2.0, 60.0, 20.0, 30.0]}"
      ]
    },
    {
      "cell_type": "code",
      "execution_count": null,
      "metadata": {},
      "outputs": [],
      "source": [
        "ans = pd.DataFrame.from_dict({'Time':[],'Predicted':[],'PM2.5':[],'Province':[]})\n",
        "for key,value in param_dict.items():\n",
        "    \n",
        "    df1 = pd.read_csv(key+'_clean.csv')\n",
        "    df1.dropna(inplace=True)\n",
        "    df1.reset_index(inplace=True)\n",
        "    \n",
        "    df2 = pd.read_csv('lstm_'+key.lower()+'.csv')\n",
        "   \n",
        "\n",
        "    df3 =  pd.DataFrame()\n",
        "    df3['Predicted']=df1['date_time'].copy()\n",
        "    df3['PM2.5']=df2['0'].copy()\n",
        "\n",
        "\n",
        "    df3['Predicted'] = pd.to_datetime(df3['Predicted'])\n",
        "\n",
        "    submit=pd.read_csv('submit_time_format_2.csv')\n",
        "    submit['Predicted'] = pd.to_datetime(submit['Predicted'])\n",
        "    submit['Time'] = pd.to_datetime(submit['Time'])\n",
        "\n",
        "   \n",
        "    result = pd.merge(submit, df3, how=\"left\", on=[\"Predicted\"])\n",
        "\n",
        "    result['Province'] = key\n",
        "\n",
        "    \n",
        "    ans = pd.concat([ans,result])"
      ]
    },
    {
      "cell_type": "code",
      "execution_count": null,
      "metadata": {},
      "outputs": [],
      "source": [
        "ans.dropna(inplace=True)\n",
        "ans.reset_index(inplace=True)\n",
        "ans['PM2.5'].to_csv('kaggle_lstm.csv')"
      ]
    }
  ],
  "metadata": {
    "accelerator": "GPU",
    "colab": {
      "collapsed_sections": [],
      "name": "LSTM.ipynb",
      "provenance": []
    },
    "kernelspec": {
      "display_name": "Python 3",
      "name": "python3"
    },
    "language_info": {
      "codemirror_mode": {
        "name": "ipython",
        "version": 3
      },
      "file_extension": ".py",
      "mimetype": "text/x-python",
      "name": "python",
      "nbconvert_exporter": "python",
      "pygments_lexer": "ipython3",
      "version": "3.8.8"
    }
  },
  "nbformat": 4,
  "nbformat_minor": 0
}
