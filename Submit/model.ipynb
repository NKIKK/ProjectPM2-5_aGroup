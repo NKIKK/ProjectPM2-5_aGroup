{
  "cells": [
    {
      "cell_type": "code",
      "execution_count": 1,
      "metadata": {
        "id": "tXYt8kYNc-8I"
      },
      "outputs": [],
      "source": [
        "import numpy as np\n",
        "import matplotlib.pyplot as plt\n",
        "import pandas as pd\n",
        "from sklearn.preprocessing import MinMaxScaler\n",
        "import tensorflow as tf\n",
        "from tensorflow.keras import Sequential\n",
        "from tensorflow.keras.layers import Dense, LSTM, Dropout\n",
        "from tensorflow.keras.callbacks import EarlyStopping, ModelCheckpoint, ReduceLROnPlateau\n",
        "import math\n",
        "from sklearn.metrics import mean_squared_error"
      ]
    },
    {
      "cell_type": "markdown",
      "metadata": {},
      "source": [
        "# BKK"
      ]
    },
    {
      "cell_type": "code",
      "execution_count": 2,
      "metadata": {
        "id": "9B3XlyHJWiP-"
      },
      "outputs": [],
      "source": [
        "provinces = ['BKK','Chiangmai','Khonkaen','Rayong','Saraburi','Surat']\n",
        "province = provinces[0]\n",
        "data_training = pd.read_csv('../'+province+'/train/'+province.lower()+'_train_format.csv', date_parser = True)\n"
      ]
    },
    {
      "cell_type": "code",
      "execution_count": 3,
      "metadata": {
        "colab": {
          "base_uri": "https://localhost:8080/",
          "height": 206
        },
        "id": "5FXLGXmedgqG",
        "outputId": "f2bfe5c4-5390-4397-bb7a-de16c5d64092"
      },
      "outputs": [
        {
          "data": {
            "text/html": [
              "<div>\n",
              "<style scoped>\n",
              "    .dataframe tbody tr th:only-of-type {\n",
              "        vertical-align: middle;\n",
              "    }\n",
              "\n",
              "    .dataframe tbody tr th {\n",
              "        vertical-align: top;\n",
              "    }\n",
              "\n",
              "    .dataframe thead th {\n",
              "        text-align: right;\n",
              "    }\n",
              "</style>\n",
              "<table border=\"1\" class=\"dataframe\">\n",
              "  <thead>\n",
              "    <tr style=\"text-align: right;\">\n",
              "      <th></th>\n",
              "      <th>PM2.5</th>\n",
              "      <th>temp</th>\n",
              "      <th>wind speed</th>\n",
              "      <th>wind dir</th>\n",
              "    </tr>\n",
              "  </thead>\n",
              "  <tbody>\n",
              "    <tr>\n",
              "      <th>0</th>\n",
              "      <td>14.0</td>\n",
              "      <td>27.9</td>\n",
              "      <td>16.0</td>\n",
              "      <td>260.0</td>\n",
              "    </tr>\n",
              "    <tr>\n",
              "      <th>1</th>\n",
              "      <td>10.0</td>\n",
              "      <td>27.9</td>\n",
              "      <td>16.0</td>\n",
              "      <td>260.0</td>\n",
              "    </tr>\n",
              "    <tr>\n",
              "      <th>2</th>\n",
              "      <td>17.0</td>\n",
              "      <td>27.9</td>\n",
              "      <td>16.0</td>\n",
              "      <td>260.0</td>\n",
              "    </tr>\n",
              "    <tr>\n",
              "      <th>3</th>\n",
              "      <td>20.0</td>\n",
              "      <td>27.9</td>\n",
              "      <td>16.0</td>\n",
              "      <td>260.0</td>\n",
              "    </tr>\n",
              "    <tr>\n",
              "      <th>4</th>\n",
              "      <td>15.0</td>\n",
              "      <td>27.4</td>\n",
              "      <td>16.0</td>\n",
              "      <td>255.0</td>\n",
              "    </tr>\n",
              "  </tbody>\n",
              "</table>\n",
              "</div>"
            ],
            "text/plain": [
              "   PM2.5  temp  wind speed  wind dir\n",
              "0   14.0  27.9        16.0     260.0\n",
              "1   10.0  27.9        16.0     260.0\n",
              "2   17.0  27.9        16.0     260.0\n",
              "3   20.0  27.9        16.0     260.0\n",
              "4   15.0  27.4        16.0     255.0"
            ]
          },
          "execution_count": 3,
          "metadata": {},
          "output_type": "execute_result"
        }
      ],
      "source": [
        "data_training = data_training.drop(['date_time', 'lat', 'long'], axis = 1)\n",
        "data_training.head()"
      ]
    },
    {
      "cell_type": "code",
      "execution_count": 4,
      "metadata": {
        "colab": {
          "base_uri": "https://localhost:8080/",
          "height": 206
        },
        "id": "jONlufFv2NPo",
        "outputId": "c117c196-d411-4a06-c1f3-c5aeeef87c7e"
      },
      "outputs": [
        {
          "data": {
            "text/html": [
              "<div>\n",
              "<style scoped>\n",
              "    .dataframe tbody tr th:only-of-type {\n",
              "        vertical-align: middle;\n",
              "    }\n",
              "\n",
              "    .dataframe tbody tr th {\n",
              "        vertical-align: top;\n",
              "    }\n",
              "\n",
              "    .dataframe thead th {\n",
              "        text-align: right;\n",
              "    }\n",
              "</style>\n",
              "<table border=\"1\" class=\"dataframe\">\n",
              "  <thead>\n",
              "    <tr style=\"text-align: right;\">\n",
              "      <th></th>\n",
              "      <th>Unnamed: 0</th>\n",
              "      <th>date_time</th>\n",
              "      <th>PM2.5</th>\n",
              "      <th>temp</th>\n",
              "      <th>wind speed</th>\n",
              "      <th>wind dir</th>\n",
              "      <th>lat</th>\n",
              "      <th>long</th>\n",
              "    </tr>\n",
              "  </thead>\n",
              "  <tbody>\n",
              "    <tr>\n",
              "      <th>3315</th>\n",
              "      <td>3315</td>\n",
              "      <td>2020-11-16 03:00:00</td>\n",
              "      <td>29.0</td>\n",
              "      <td>26.4</td>\n",
              "      <td>19</td>\n",
              "      <td>50</td>\n",
              "      <td>13.729984</td>\n",
              "      <td>100.536443</td>\n",
              "    </tr>\n",
              "    <tr>\n",
              "      <th>5206</th>\n",
              "      <td>5206</td>\n",
              "      <td>2021-02-02 22:00:00</td>\n",
              "      <td>47.0</td>\n",
              "      <td>29.0</td>\n",
              "      <td>24</td>\n",
              "      <td>70</td>\n",
              "      <td>13.729984</td>\n",
              "      <td>100.536443</td>\n",
              "    </tr>\n",
              "    <tr>\n",
              "      <th>3989</th>\n",
              "      <td>3989</td>\n",
              "      <td>2020-12-14 05:00:00</td>\n",
              "      <td>43.0</td>\n",
              "      <td>27.4</td>\n",
              "      <td>8</td>\n",
              "      <td>80</td>\n",
              "      <td>13.729984</td>\n",
              "      <td>100.536443</td>\n",
              "    </tr>\n",
              "    <tr>\n",
              "      <th>3586</th>\n",
              "      <td>3586</td>\n",
              "      <td>2020-11-27 10:00:00</td>\n",
              "      <td>8.0</td>\n",
              "      <td>28.2</td>\n",
              "      <td>30</td>\n",
              "      <td>70</td>\n",
              "      <td>13.729984</td>\n",
              "      <td>100.536443</td>\n",
              "    </tr>\n",
              "    <tr>\n",
              "      <th>8238</th>\n",
              "      <td>8238</td>\n",
              "      <td>2021-06-09 06:00:00</td>\n",
              "      <td>13.0</td>\n",
              "      <td>27.4</td>\n",
              "      <td>48</td>\n",
              "      <td>255</td>\n",
              "      <td>13.729984</td>\n",
              "      <td>100.536443</td>\n",
              "    </tr>\n",
              "  </tbody>\n",
              "</table>\n",
              "</div>"
            ],
            "text/plain": [
              "      Unnamed: 0            date_time  PM2.5  temp  wind speed  wind dir  \\\n",
              "3315        3315  2020-11-16 03:00:00   29.0  26.4          19        50   \n",
              "5206        5206  2021-02-02 22:00:00   47.0  29.0          24        70   \n",
              "3989        3989  2020-12-14 05:00:00   43.0  27.4           8        80   \n",
              "3586        3586  2020-11-27 10:00:00    8.0  28.2          30        70   \n",
              "8238        8238  2021-06-09 06:00:00   13.0  27.4          48       255   \n",
              "\n",
              "            lat        long  \n",
              "3315  13.729984  100.536443  \n",
              "5206  13.729984  100.536443  \n",
              "3989  13.729984  100.536443  \n",
              "3586  13.729984  100.536443  \n",
              "8238  13.729984  100.536443  "
            ]
          },
          "execution_count": 4,
          "metadata": {},
          "output_type": "execute_result"
        }
      ],
      "source": [
        "data_test = pd.read_csv(province+'_clean.csv', date_parser = True)\n",
        "data_test.sample(5)"
      ]
    },
    {
      "cell_type": "code",
      "execution_count": 5,
      "metadata": {
        "colab": {
          "base_uri": "https://localhost:8080/",
          "height": 206
        },
        "id": "ZM_Hn5LcUDqd",
        "outputId": "7c170d33-a52a-4b5e-f057-5d16a4355a2d"
      },
      "outputs": [
        {
          "data": {
            "text/html": [
              "<div>\n",
              "<style scoped>\n",
              "    .dataframe tbody tr th:only-of-type {\n",
              "        vertical-align: middle;\n",
              "    }\n",
              "\n",
              "    .dataframe tbody tr th {\n",
              "        vertical-align: top;\n",
              "    }\n",
              "\n",
              "    .dataframe thead th {\n",
              "        text-align: right;\n",
              "    }\n",
              "</style>\n",
              "<table border=\"1\" class=\"dataframe\">\n",
              "  <thead>\n",
              "    <tr style=\"text-align: right;\">\n",
              "      <th></th>\n",
              "      <th>date_time</th>\n",
              "      <th>PM2.5</th>\n",
              "      <th>temp</th>\n",
              "      <th>wind speed</th>\n",
              "      <th>wind dir</th>\n",
              "    </tr>\n",
              "  </thead>\n",
              "  <tbody>\n",
              "    <tr>\n",
              "      <th>0</th>\n",
              "      <td>2020-07-01 00:00:00</td>\n",
              "      <td>9.0</td>\n",
              "      <td>29.4</td>\n",
              "      <td>35</td>\n",
              "      <td>270</td>\n",
              "    </tr>\n",
              "    <tr>\n",
              "      <th>1</th>\n",
              "      <td>2020-07-01 01:00:00</td>\n",
              "      <td>8.0</td>\n",
              "      <td>29.4</td>\n",
              "      <td>42</td>\n",
              "      <td>260</td>\n",
              "    </tr>\n",
              "    <tr>\n",
              "      <th>2</th>\n",
              "      <td>2020-07-01 02:00:00</td>\n",
              "      <td>12.0</td>\n",
              "      <td>28.5</td>\n",
              "      <td>42</td>\n",
              "      <td>260</td>\n",
              "    </tr>\n",
              "    <tr>\n",
              "      <th>3</th>\n",
              "      <td>2020-07-01 03:00:00</td>\n",
              "      <td>9.0</td>\n",
              "      <td>28.5</td>\n",
              "      <td>42</td>\n",
              "      <td>260</td>\n",
              "    </tr>\n",
              "    <tr>\n",
              "      <th>4</th>\n",
              "      <td>2020-07-01 04:00:00</td>\n",
              "      <td>8.0</td>\n",
              "      <td>28.3</td>\n",
              "      <td>55</td>\n",
              "      <td>270</td>\n",
              "    </tr>\n",
              "  </tbody>\n",
              "</table>\n",
              "</div>"
            ],
            "text/plain": [
              "             date_time  PM2.5  temp  wind speed  wind dir\n",
              "0  2020-07-01 00:00:00    9.0  29.4          35       270\n",
              "1  2020-07-01 01:00:00    8.0  29.4          42       260\n",
              "2  2020-07-01 02:00:00   12.0  28.5          42       260\n",
              "3  2020-07-01 03:00:00    9.0  28.5          42       260\n",
              "4  2020-07-01 04:00:00    8.0  28.3          55       270"
            ]
          },
          "execution_count": 5,
          "metadata": {},
          "output_type": "execute_result"
        }
      ],
      "source": [
        "data_test = data_test.drop(['Unnamed: 0', 'lat', 'long'], axis = 1)\n",
        "data_test.head()"
      ]
    },
    {
      "cell_type": "code",
      "execution_count": 6,
      "metadata": {
        "id": "khw4M2JsdiKT"
      },
      "outputs": [],
      "source": [
        "scaler = MinMaxScaler()\n",
        "data_training = scaler.fit_transform(data_training)\n",
        "scaler.inverse_transform(data_training)\n",
        "scale = 1/scaler.scale_\n"
      ]
    },
    {
      "cell_type": "code",
      "execution_count": 12,
      "metadata": {
        "id": "W4926pfpdoE0"
      },
      "outputs": [
        {
          "data": {
            "text/plain": [
              "(26244, 60, 4)"
            ]
          },
          "execution_count": 12,
          "metadata": {},
          "output_type": "execute_result"
        }
      ],
      "source": [
        "X_train = []\n",
        "y_train = []\n",
        "\n",
        "for i in range(60, data_training.shape[0]):\n",
        "    X_train.append(data_training[i-60:i])\n",
        "    a = []\n",
        "    for j in range(1,13):\n",
        "        #print(i,j,i-60+j*6)\n",
        "        a.append(data_training[min(i-60+j*6,data_training.shape[0]-1),0])\n",
        "    y_train.append(a)\n",
        "\n",
        "\n",
        "X_train, y_train = np.array(X_train), np.array(y_train)\n",
        "X_train.shape"
      ]
    },
    {
      "cell_type": "code",
      "execution_count": 15,
      "metadata": {
        "id": "6PwBHKiCdxBy"
      },
      "outputs": [],
      "source": [
        "modelLSTM = Sequential()\n",
        "\n",
        "modelLSTM.add(LSTM(units = 60, activation = 'relu', return_sequences = True, input_shape = (X_train.shape[1], 4)))\n",
        "modelLSTM.add(Dropout(0.2))\n",
        "modelLSTM.add(LSTM(units = 80, activation = 'relu' ,return_sequences = True))\n",
        "modelLSTM.add(Dropout(0.2))\n",
        "modelLSTM.add(LSTM(units = 120, activation = 'relu'))\n",
        "modelLSTM.add(Dropout(0.2))\n",
        "\n",
        "\n",
        "modelLSTM.add(Dense(units = 12))"
      ]
    },
    {
      "cell_type": "code",
      "execution_count": 16,
      "metadata": {
        "colab": {
          "base_uri": "https://localhost:8080/"
        },
        "id": "OruphK2TdzFB",
        "outputId": "a1985c4e-d227-4c86-cb42-fe4f48a4b574"
      },
      "outputs": [
        {
          "name": "stdout",
          "output_type": "stream",
          "text": [
            "Model: \"sequential_1\"\n",
            "_________________________________________________________________\n",
            " Layer (type)                Output Shape              Param #   \n",
            "=================================================================\n",
            " lstm_3 (LSTM)               (None, 60, 60)            15600     \n",
            "                                                                 \n",
            " dropout_3 (Dropout)         (None, 60, 60)            0         \n",
            "                                                                 \n",
            " lstm_4 (LSTM)               (None, 60, 80)            45120     \n",
            "                                                                 \n",
            " dropout_4 (Dropout)         (None, 60, 80)            0         \n",
            "                                                                 \n",
            " lstm_5 (LSTM)               (None, 120)               96480     \n",
            "                                                                 \n",
            " dropout_5 (Dropout)         (None, 120)               0         \n",
            "                                                                 \n",
            " dense_1 (Dense)             (None, 12)                1452      \n",
            "                                                                 \n",
            "=================================================================\n",
            "Total params: 158,652\n",
            "Trainable params: 158,652\n",
            "Non-trainable params: 0\n",
            "_________________________________________________________________\n"
          ]
        }
      ],
      "source": [
        "modelLSTM.summary()"
      ]
    },
    {
      "cell_type": "code",
      "execution_count": 17,
      "metadata": {
        "id": "F2jd8nTRp9kq"
      },
      "outputs": [],
      "source": [
        "#create callback\n",
        "filepath = province+'_modelLSTM_yourself.hdf5'\n",
        "checkpoint = ModelCheckpoint(filepath=filepath, \n",
        "                             monitor='loss',\n",
        "                             verbose=0, \n",
        "                             save_best_only=True,\n",
        "                             mode='min')\n",
        "\n",
        "earlystopping = EarlyStopping(\n",
        "    monitor='loss', \n",
        "    patience=3, \n",
        "    min_delta=0, \n",
        "    mode='auto'\n",
        ")\n",
        "\n",
        "reduce_lr = ReduceLROnPlateau(\n",
        "    monitor='loss', \n",
        "    factor=0.2,   \n",
        "    patience=2, \n",
        "    min_lr=0.001,\n",
        "    verbose=0\n",
        ")\n",
        "callbacks = [checkpoint, earlystopping, reduce_lr]"
      ]
    },
    {
      "cell_type": "code",
      "execution_count": 18,
      "metadata": {
        "id": "7alsTCdPd5PY"
      },
      "outputs": [],
      "source": [
        "modelLSTM.compile(optimizer='adam', loss = 'mean_squared_error')"
      ]
    },
    {
      "cell_type": "code",
      "execution_count": 19,
      "metadata": {
        "colab": {
          "base_uri": "https://localhost:8080/"
        },
        "id": "jJGUMaN7wafJ",
        "outputId": "99c99a14-509d-4f56-a2fc-b13512fb7507"
      },
      "outputs": [
        {
          "name": "stdout",
          "output_type": "stream",
          "text": [
            "Epoch 1/10\n",
            "821/821 [==============================] - 188s 223ms/step - loss: 0.0062 - lr: 0.0010\n",
            "Epoch 2/10\n",
            "821/821 [==============================] - 197s 240ms/step - loss: 0.0042 - lr: 0.0010\n",
            "Epoch 3/10\n",
            "821/821 [==============================] - 193s 236ms/step - loss: 0.0035 - lr: 0.0010\n",
            "Epoch 4/10\n",
            "821/821 [==============================] - 200s 243ms/step - loss: 0.0032 - lr: 0.0010\n",
            "Epoch 5/10\n",
            "821/821 [==============================] - 199s 242ms/step - loss: 0.0031 - lr: 0.0010\n",
            "Epoch 6/10\n",
            "821/821 [==============================] - 200s 243ms/step - loss: 0.0030 - lr: 0.0010\n",
            "Epoch 7/10\n",
            "821/821 [==============================] - 207s 252ms/step - loss: 0.0030 - lr: 0.0010\n",
            "Epoch 8/10\n",
            "821/821 [==============================] - 195s 238ms/step - loss: 0.0029 - lr: 0.0010\n",
            "Epoch 9/10\n",
            "821/821 [==============================] - 197s 239ms/step - loss: 0.0029 - lr: 0.0010\n",
            "Epoch 10/10\n",
            "821/821 [==============================] - 197s 240ms/step - loss: 0.0028 - lr: 0.0010\n"
          ]
        }
      ],
      "source": [
        "history = modelLSTM.fit(X_train, y_train, epochs=10, batch_size=32, callbacks=callbacks)"
      ]
    },
    {
      "cell_type": "code",
      "execution_count": 20,
      "metadata": {
        "id": "lW-wyZdr_lPa"
      },
      "outputs": [],
      "source": [
        "data_training = pd.read_csv('../'+province+'/train/'+province.lower()+'_train_format.csv', date_parser = True)\n",
        "data_training = data_training.drop(['date_time', 'lat', 'long'], axis = 1)\n",
        "data_test = data_test.drop(['date_time'], axis = 1)"
      ]
    },
    {
      "cell_type": "code",
      "execution_count": 21,
      "metadata": {
        "id": "UpqWwdOaeD1K"
      },
      "outputs": [],
      "source": [
        "past_60_days = data_training.tail(60)"
      ]
    },
    {
      "cell_type": "code",
      "execution_count": 22,
      "metadata": {
        "id": "TR2tRta0eEgF"
      },
      "outputs": [
        {
          "data": {
            "text/html": [
              "<div>\n",
              "<style scoped>\n",
              "    .dataframe tbody tr th:only-of-type {\n",
              "        vertical-align: middle;\n",
              "    }\n",
              "\n",
              "    .dataframe tbody tr th {\n",
              "        vertical-align: top;\n",
              "    }\n",
              "\n",
              "    .dataframe thead th {\n",
              "        text-align: right;\n",
              "    }\n",
              "</style>\n",
              "<table border=\"1\" class=\"dataframe\">\n",
              "  <thead>\n",
              "    <tr style=\"text-align: right;\">\n",
              "      <th></th>\n",
              "      <th>PM2.5</th>\n",
              "      <th>temp</th>\n",
              "      <th>wind speed</th>\n",
              "      <th>wind dir</th>\n",
              "    </tr>\n",
              "  </thead>\n",
              "  <tbody>\n",
              "    <tr>\n",
              "      <th>0</th>\n",
              "      <td>14.0</td>\n",
              "      <td>31.6</td>\n",
              "      <td>12.0</td>\n",
              "      <td>260.0</td>\n",
              "    </tr>\n",
              "    <tr>\n",
              "      <th>1</th>\n",
              "      <td>15.0</td>\n",
              "      <td>33.0</td>\n",
              "      <td>11.0</td>\n",
              "      <td>245.0</td>\n",
              "    </tr>\n",
              "    <tr>\n",
              "      <th>2</th>\n",
              "      <td>18.0</td>\n",
              "      <td>33.0</td>\n",
              "      <td>11.0</td>\n",
              "      <td>245.0</td>\n",
              "    </tr>\n",
              "    <tr>\n",
              "      <th>3</th>\n",
              "      <td>14.0</td>\n",
              "      <td>33.0</td>\n",
              "      <td>11.0</td>\n",
              "      <td>245.0</td>\n",
              "    </tr>\n",
              "    <tr>\n",
              "      <th>4</th>\n",
              "      <td>13.0</td>\n",
              "      <td>32.5</td>\n",
              "      <td>15.0</td>\n",
              "      <td>250.0</td>\n",
              "    </tr>\n",
              "  </tbody>\n",
              "</table>\n",
              "</div>"
            ],
            "text/plain": [
              "   PM2.5  temp  wind speed  wind dir\n",
              "0   14.0  31.6        12.0     260.0\n",
              "1   15.0  33.0        11.0     245.0\n",
              "2   18.0  33.0        11.0     245.0\n",
              "3   14.0  33.0        11.0     245.0\n",
              "4   13.0  32.5        15.0     250.0"
            ]
          },
          "execution_count": 22,
          "metadata": {},
          "output_type": "execute_result"
        }
      ],
      "source": [
        "df = past_60_days.append(data_test, ignore_index = True)\n",
        "df.head()"
      ]
    },
    {
      "cell_type": "code",
      "execution_count": 23,
      "metadata": {
        "id": "zwRexsPQqvTy"
      },
      "outputs": [
        {
          "data": {
            "text/plain": [
              "(7874, 4)"
            ]
          },
          "execution_count": 23,
          "metadata": {},
          "output_type": "execute_result"
        }
      ],
      "source": [
        "df.dropna(inplace=True)\n",
        "df.shape"
      ]
    },
    {
      "cell_type": "code",
      "execution_count": null,
      "metadata": {
        "id": "yRpQEcauq0oc"
      },
      "outputs": [],
      "source": [
        "df.shape"
      ]
    },
    {
      "cell_type": "code",
      "execution_count": 24,
      "metadata": {
        "id": "KKrjHeCMeGWX"
      },
      "outputs": [
        {
          "data": {
            "text/plain": [
              "array([[0.08661417, 0.68899522, 0.14117647, 0.72222222],\n",
              "       [0.09448819, 0.75598086, 0.12941176, 0.68055556],\n",
              "       [0.11811024, 0.75598086, 0.12941176, 0.68055556],\n",
              "       ...,\n",
              "       [0.08661417, 0.60287081, 0.23529412, 0.69444444],\n",
              "       [0.08661417, 0.56937799, 0.18823529, 0.68055556],\n",
              "       [0.08661417, 0.55980861, 0.16470588, 0.65277778]])"
            ]
          },
          "execution_count": 24,
          "metadata": {},
          "output_type": "execute_result"
        }
      ],
      "source": [
        "inputs = scaler.transform(df)\n",
        "inputs"
      ]
    },
    {
      "cell_type": "code",
      "execution_count": 25,
      "metadata": {
        "id": "x3WdrSMFeHlj"
      },
      "outputs": [],
      "source": [
        "X_test = []\n",
        "y_test = []\n",
        "\n",
        "for i in range(60, inputs.shape[0]):\n",
        "    X_test.append(inputs[i-60:i])\n",
        "    a = []\n",
        "    for j in range(1,13):\n",
        "        #print(i,j,i-60+j*6)\n",
        "        a.append(inputs[min(i-60+j*6,inputs.shape[0]-1),0])\n",
        "    y_test.append(a)"
      ]
    },
    {
      "cell_type": "code",
      "execution_count": 26,
      "metadata": {
        "id": "1-l8uJ6beJN-"
      },
      "outputs": [
        {
          "data": {
            "text/plain": [
              "((7814, 60, 4), (7814, 12))"
            ]
          },
          "execution_count": 26,
          "metadata": {},
          "output_type": "execute_result"
        }
      ],
      "source": [
        "X_test, y_test = np.array(X_test), np.array(y_test)\n",
        "X_test.shape, y_test.shape"
      ]
    },
    {
      "cell_type": "code",
      "execution_count": 27,
      "metadata": {
        "id": "OAbQp-tPeKvP"
      },
      "outputs": [],
      "source": [
        "y_pred = modelLSTM.predict(X_test)"
      ]
    },
    {
      "cell_type": "code",
      "execution_count": 28,
      "metadata": {
        "id": "VO8T2VYEeO7q"
      },
      "outputs": [],
      "source": [
        "scale = 1/scaler.scale_[0]\n",
        "y_pred = y_pred*scale\n",
        "y_test = y_test*scale"
      ]
    },
    {
      "cell_type": "code",
      "execution_count": 29,
      "metadata": {
        "id": "NsN4tns4A0lG"
      },
      "outputs": [
        {
          "name": "stdout",
          "output_type": "stream",
          "text": [
            "BKK RMSE = 2.909682321862461\n"
          ]
        }
      ],
      "source": [
        "print(province+' RMSE =', math.sqrt(mean_squared_error(y_test, y_pred)) )"
      ]
    },
    {
      "cell_type": "code",
      "execution_count": 30,
      "metadata": {
        "id": "KkwVJXVaeR4e"
      },
      "outputs": [
        {
          "data": {
            "image/png": "[encoded data removed]",
            "text/plain": [
              "<Figure size 1008x360 with 1 Axes>"
            ]
          },
          "metadata": {
            "needs_background": "light"
          },
          "output_type": "display_data"
        }
      ],
      "source": [
        "# Visualising the results\n",
        "plt.figure(figsize=(14,5))\n",
        "plt.plot(y_test, color = 'red', label = 'Real')\n",
        "plt.plot(y_pred, color = 'blue', label = 'Predicted')\n",
        "plt.xlabel('Time')\n",
        "plt.ylabel('PM2.5')\n",
        "plt.legend()\n",
        "plt.show()"
      ]
    },
    {
      "cell_type": "code",
      "execution_count": 31,
      "metadata": {},
      "outputs": [
        {
          "data": {
            "text/plain": [
              "(7814, 12)"
            ]
          },
          "execution_count": 31,
          "metadata": {},
          "output_type": "execute_result"
        }
      ],
      "source": [
        "y_test.shape"
      ]
    },
    {
      "cell_type": "code",
      "execution_count": 32,
      "metadata": {
        "id": "_9BwFEag82WB"
      },
      "outputs": [],
      "source": [
        "import pickle\n",
        "\n",
        "with open('lstm_'+province.lower()+'.pickle', 'wb') as fp:\n",
        "    pickle.dump(y_pred, fp)"
      ]
    },
    {
      "cell_type": "code",
      "execution_count": 33,
      "metadata": {
        "id": "X2NYaatgLJXQ"
      },
      "outputs": [],
      "source": [
        "df1 = pd.DataFrame(y_pred)\n",
        "df1.to_csv('lstm_'+province.lower()+'.csv')"
      ]
    },
    {
      "cell_type": "code",
      "execution_count": null,
      "metadata": {
        "id": "j6-u-OHuV6il"
      },
      "outputs": [],
      "source": []
    },
    {
      "cell_type": "markdown",
      "metadata": {},
      "source": [
        "# Chiangmai"
      ]
    },
    {
      "cell_type": "code",
      "execution_count": null,
      "metadata": {
        "id": "9B3XlyHJWiP-"
      },
      "outputs": [],
      "source": [
        "provinces = ['BKK','Chiangmai','Khonkaen','Rayong','Saraburi','Surat']\n",
        "province = provinces[1]\n",
        "data_training = pd.read_csv('../'+province+'/train/'+province.lower()+'_train_format.csv', date_parser = True)\n"
      ]
    },
    {
      "cell_type": "code",
      "execution_count": null,
      "metadata": {
        "colab": {
          "base_uri": "https://localhost:8080/",
          "height": 206
        },
        "id": "5FXLGXmedgqG",
        "outputId": "f2bfe5c4-5390-4397-bb7a-de16c5d64092"
      },
      "outputs": [],
      "source": [
        "data_training = data_training.drop(['date_time', 'lat', 'long'], axis = 1)\n",
        "data_training.head()"
      ]
    },
    {
      "cell_type": "code",
      "execution_count": null,
      "metadata": {
        "colab": {
          "base_uri": "https://localhost:8080/",
          "height": 206
        },
        "id": "jONlufFv2NPo",
        "outputId": "c117c196-d411-4a06-c1f3-c5aeeef87c7e"
      },
      "outputs": [],
      "source": [
        "data_test = pd.read_csv(province+'_clean.csv', date_parser = True)\n",
        "data_test.sample(5)"
      ]
    },
    {
      "cell_type": "code",
      "execution_count": null,
      "metadata": {
        "colab": {
          "base_uri": "https://localhost:8080/",
          "height": 206
        },
        "id": "ZM_Hn5LcUDqd",
        "outputId": "7c170d33-a52a-4b5e-f057-5d16a4355a2d"
      },
      "outputs": [],
      "source": [
        "data_test = data_test.drop(['Unnamed: 0', 'lat', 'long'], axis = 1)\n",
        "data_test.head()"
      ]
    },
    {
      "cell_type": "code",
      "execution_count": null,
      "metadata": {
        "id": "khw4M2JsdiKT"
      },
      "outputs": [],
      "source": [
        "scaler = MinMaxScaler()\n",
        "data_training = scaler.fit_transform(data_training)\n",
        "scaler.inverse_transform(data_training)\n",
        "scale = 1/scaler.scale_\n"
      ]
    },
    {
      "cell_type": "code",
      "execution_count": null,
      "metadata": {
        "id": "W4926pfpdoE0"
      },
      "outputs": [],
      "source": [
        "X_train = []\n",
        "y_train = []\n",
        "\n",
        "for i in range(60, data_training.shape[0]):\n",
        "    X_train.append(data_training[i-60:i])\n",
        "    a = []\n",
        "    for j in range(1,13):\n",
        "        #print(i,j,i-60+j*6)\n",
        "        a.append(data_training[min(i-60+j*6,data_training.shape[0]-1),0])\n",
        "    y_train.append(a)\n",
        "\n",
        "\n",
        "X_train, y_train = np.array(X_train), np.array(y_train)\n",
        "X_train.shape"
      ]
    },
    {
      "cell_type": "code",
      "execution_count": null,
      "metadata": {
        "id": "6PwBHKiCdxBy"
      },
      "outputs": [],
      "source": [
        "modelLSTM = Sequential()\n",
        "\n",
        "modelLSTM.add(LSTM(units = 60, activation = 'relu', return_sequences = True, input_shape = (X_train.shape[1], 4)))\n",
        "modelLSTM.add(Dropout(0.2))\n",
        "modelLSTM.add(LSTM(units = 80, activation = 'relu'))\n",
        "modelLSTM.add(Dropout(0.2))\n",
        "\n",
        "\n",
        "modelLSTM.add(Dense(units = 12))"
      ]
    },
    {
      "cell_type": "code",
      "execution_count": null,
      "metadata": {
        "colab": {
          "base_uri": "https://localhost:8080/"
        },
        "id": "OruphK2TdzFB",
        "outputId": "a1985c4e-d227-4c86-cb42-fe4f48a4b574"
      },
      "outputs": [],
      "source": [
        "modelLSTM.summary()"
      ]
    },
    {
      "cell_type": "code",
      "execution_count": null,
      "metadata": {
        "id": "F2jd8nTRp9kq"
      },
      "outputs": [],
      "source": [
        "#create callback\n",
        "filepath = province+'_best_modelLSTM_yourself.hdf5'\n",
        "checkpoint = ModelCheckpoint(filepath=filepath, \n",
        "                             monitor='loss',\n",
        "                             verbose=0, \n",
        "                             save_best_only=True,\n",
        "                             mode='min')\n",
        "\n",
        "earlystopping = EarlyStopping(\n",
        "    monitor='loss', \n",
        "    patience=3, \n",
        "    min_delta=0, \n",
        "    mode='auto'\n",
        ")\n",
        "\n",
        "reduce_lr = ReduceLROnPlateau(\n",
        "    monitor='loss', \n",
        "    factor=0.2,   \n",
        "    patience=2, \n",
        "    min_lr=0.001,\n",
        "    verbose=0\n",
        ")\n",
        "callbacks = [checkpoint, earlystopping, reduce_lr]"
      ]
    },
    {
      "cell_type": "code",
      "execution_count": null,
      "metadata": {
        "id": "7alsTCdPd5PY"
      },
      "outputs": [],
      "source": [
        "modelLSTM.compile(optimizer='adam', loss = 'mean_squared_error')"
      ]
    },
    {
      "cell_type": "code",
      "execution_count": null,
      "metadata": {
        "colab": {
          "base_uri": "https://localhost:8080/"
        },
        "id": "jJGUMaN7wafJ",
        "outputId": "99c99a14-509d-4f56-a2fc-b13512fb7507"
      },
      "outputs": [],
      "source": [
        "history = modelLSTM.fit(X_train, y_train, epochs=10, batch_size=32, callbacks=callbacks)"
      ]
    },
    {
      "cell_type": "code",
      "execution_count": null,
      "metadata": {
        "id": "lW-wyZdr_lPa"
      },
      "outputs": [],
      "source": [
        "data_training = pd.read_csv('../'+province+'/train/'+province.lower()+'_train_format.csv', date_parser = True)\n",
        "data_training = data_training.drop(['date_time', 'lat', 'long'], axis = 1)\n",
        "data_test = data_test.drop(['date_time'], axis = 1)"
      ]
    },
    {
      "cell_type": "code",
      "execution_count": null,
      "metadata": {
        "id": "UpqWwdOaeD1K"
      },
      "outputs": [],
      "source": [
        "past_60_days = data_training.tail(60)"
      ]
    },
    {
      "cell_type": "code",
      "execution_count": null,
      "metadata": {
        "id": "TR2tRta0eEgF"
      },
      "outputs": [],
      "source": [
        "df = past_60_days.append(data_test, ignore_index = True)\n",
        "df.head()"
      ]
    },
    {
      "cell_type": "code",
      "execution_count": null,
      "metadata": {
        "id": "zwRexsPQqvTy"
      },
      "outputs": [],
      "source": [
        "df.dropna(inplace=True)\n",
        "df.shape"
      ]
    },
    {
      "cell_type": "code",
      "execution_count": null,
      "metadata": {
        "id": "yRpQEcauq0oc"
      },
      "outputs": [],
      "source": [
        "df.shape"
      ]
    },
    {
      "cell_type": "code",
      "execution_count": null,
      "metadata": {
        "id": "KKrjHeCMeGWX"
      },
      "outputs": [],
      "source": [
        "inputs = scaler.transform(df)\n",
        "inputs"
      ]
    },
    {
      "cell_type": "code",
      "execution_count": null,
      "metadata": {
        "id": "x3WdrSMFeHlj"
      },
      "outputs": [],
      "source": [
        "X_test = []\n",
        "y_test = []\n",
        "\n",
        "for i in range(60, inputs.shape[0]):\n",
        "    X_test.append(inputs[i-60:i])\n",
        "    a = []\n",
        "    for j in range(1,13):\n",
        "        #print(i,j,i-60+j*6)\n",
        "        a.append(inputs[min(i-60+j*6,inputs.shape[0]-1),0])\n",
        "    y_test.append(a)"
      ]
    },
    {
      "cell_type": "code",
      "execution_count": null,
      "metadata": {
        "id": "1-l8uJ6beJN-"
      },
      "outputs": [],
      "source": [
        "X_test, y_test = np.array(X_test), np.array(y_test)\n",
        "X_test.shape, y_test.shape"
      ]
    },
    {
      "cell_type": "code",
      "execution_count": null,
      "metadata": {
        "id": "OAbQp-tPeKvP"
      },
      "outputs": [],
      "source": [
        "y_pred = modelLSTM.predict(X_test)"
      ]
    },
    {
      "cell_type": "code",
      "execution_count": null,
      "metadata": {
        "id": "VO8T2VYEeO7q"
      },
      "outputs": [],
      "source": [
        "scale = 1/scaler.scale_[0]\n",
        "y_pred = y_pred*scale\n",
        "y_test = y_test*scale"
      ]
    },
    {
      "cell_type": "code",
      "execution_count": null,
      "metadata": {
        "id": "NsN4tns4A0lG"
      },
      "outputs": [],
      "source": [
        "print(province+' RMSE =', math.sqrt(mean_squared_error(y_test, y_pred)) )"
      ]
    },
    {
      "cell_type": "code",
      "execution_count": null,
      "metadata": {
        "id": "KkwVJXVaeR4e"
      },
      "outputs": [],
      "source": [
        "# Visualising the results\n",
        "plt.figure(figsize=(14,5))\n",
        "plt.plot(y_test, color = 'red', label = 'Real')\n",
        "plt.plot(y_pred, color = 'blue', label = 'Predicted')\n",
        "plt.xlabel('Time')\n",
        "plt.ylabel('PM2.5')\n",
        "plt.legend()\n",
        "plt.show()"
      ]
    },
    {
      "cell_type": "code",
      "execution_count": null,
      "metadata": {
        "id": "_9BwFEag82WB"
      },
      "outputs": [],
      "source": [
        "import pickle\n",
        "\n",
        "with open('lstm_'+province.lower()+'.pickle', 'wb') as fp:\n",
        "    pickle.dump(y_pred, fp)"
      ]
    },
    {
      "cell_type": "code",
      "execution_count": null,
      "metadata": {
        "id": "X2NYaatgLJXQ"
      },
      "outputs": [],
      "source": [
        "df1 = pd.DataFrame(y_pred)\n",
        "df1.to_csv('lstm_'+province.lower()+'.csv')"
      ]
    },
    {
      "cell_type": "code",
      "execution_count": null,
      "metadata": {
        "id": "j6-u-OHuV6il"
      },
      "outputs": [],
      "source": []
    },
    {
      "cell_type": "markdown",
      "metadata": {},
      "source": [
        "# Khonkaen"
      ]
    },
    {
      "cell_type": "code",
      "execution_count": null,
      "metadata": {
        "id": "9B3XlyHJWiP-"
      },
      "outputs": [],
      "source": [
        "provinces = ['BKK','Chiangmai','Khonkaen','Rayong','Saraburi','Surat']\n",
        "province = provinces[2]\n",
        "data_training = pd.read_csv('../'+province+'/train/'+province.lower()+'_train_format.csv', date_parser = True)\n"
      ]
    },
    {
      "cell_type": "code",
      "execution_count": null,
      "metadata": {
        "colab": {
          "base_uri": "https://localhost:8080/",
          "height": 206
        },
        "id": "5FXLGXmedgqG",
        "outputId": "f2bfe5c4-5390-4397-bb7a-de16c5d64092"
      },
      "outputs": [],
      "source": [
        "data_training = data_training.drop(['date_time', 'lat', 'long'], axis = 1)\n",
        "data_training.head()"
      ]
    },
    {
      "cell_type": "code",
      "execution_count": null,
      "metadata": {
        "colab": {
          "base_uri": "https://localhost:8080/",
          "height": 206
        },
        "id": "jONlufFv2NPo",
        "outputId": "c117c196-d411-4a06-c1f3-c5aeeef87c7e"
      },
      "outputs": [],
      "source": [
        "data_test = pd.read_csv(province+'_clean.csv', date_parser = True)\n",
        "data_test.sample(5)"
      ]
    },
    {
      "cell_type": "code",
      "execution_count": null,
      "metadata": {
        "colab": {
          "base_uri": "https://localhost:8080/",
          "height": 206
        },
        "id": "ZM_Hn5LcUDqd",
        "outputId": "7c170d33-a52a-4b5e-f057-5d16a4355a2d"
      },
      "outputs": [],
      "source": [
        "data_test = data_test.drop(['Unnamed: 0', 'lat', 'long'], axis = 1)\n",
        "data_test.head()"
      ]
    },
    {
      "cell_type": "code",
      "execution_count": null,
      "metadata": {
        "id": "khw4M2JsdiKT"
      },
      "outputs": [],
      "source": [
        "scaler = MinMaxScaler()\n",
        "data_training = scaler.fit_transform(data_training)\n",
        "scaler.inverse_transform(data_training)\n",
        "scale = 1/scaler.scale_\n"
      ]
    },
    {
      "cell_type": "code",
      "execution_count": null,
      "metadata": {
        "id": "W4926pfpdoE0"
      },
      "outputs": [],
      "source": [
        "X_train = []\n",
        "y_train = []\n",
        "\n",
        "for i in range(60, data_training.shape[0]):\n",
        "    X_train.append(data_training[i-60:i])\n",
        "    a = []\n",
        "    for j in range(1,13):\n",
        "        #print(i,j,i-60+j*6)\n",
        "        a.append(data_training[min(i-60+j*6,data_training.shape[0]-1),0])\n",
        "    y_train.append(a)\n",
        "\n",
        "\n",
        "X_train, y_train = np.array(X_train), np.array(y_train)\n",
        "X_train.shape"
      ]
    },
    {
      "cell_type": "code",
      "execution_count": null,
      "metadata": {
        "id": "6PwBHKiCdxBy"
      },
      "outputs": [],
      "source": [
        "modelLSTM = Sequential()\n",
        "\n",
        "modelLSTM.add(LSTM(units = 100, activation = 'relu', input_shape = (X_train.shape[1], 4)))\n",
        "modelLSTM.add(Dropout(0.2))\n",
        "\n",
        "\n",
        "modelLSTM.add(Dense(units = 12))"
      ]
    },
    {
      "cell_type": "code",
      "execution_count": null,
      "metadata": {
        "colab": {
          "base_uri": "https://localhost:8080/"
        },
        "id": "OruphK2TdzFB",
        "outputId": "a1985c4e-d227-4c86-cb42-fe4f48a4b574"
      },
      "outputs": [],
      "source": [
        "modelLSTM.summary()"
      ]
    },
    {
      "cell_type": "code",
      "execution_count": null,
      "metadata": {
        "id": "F2jd8nTRp9kq"
      },
      "outputs": [],
      "source": [
        "#create callback\n",
        "filepath = province+'_best_modelLSTM_yourself.hdf5'\n",
        "checkpoint = ModelCheckpoint(filepath=filepath, \n",
        "                             monitor='loss',\n",
        "                             verbose=0, \n",
        "                             save_best_only=True,\n",
        "                             mode='min')\n",
        "\n",
        "earlystopping = EarlyStopping(\n",
        "    monitor='loss', \n",
        "    patience=3, \n",
        "    min_delta=0, \n",
        "    mode='auto'\n",
        ")\n",
        "\n",
        "reduce_lr = ReduceLROnPlateau(\n",
        "    monitor='loss', \n",
        "    factor=0.2,   \n",
        "    patience=2, \n",
        "    min_lr=0.001,\n",
        "    verbose=0\n",
        ")\n",
        "callbacks = [checkpoint, earlystopping, reduce_lr]"
      ]
    },
    {
      "cell_type": "code",
      "execution_count": null,
      "metadata": {
        "id": "7alsTCdPd5PY"
      },
      "outputs": [],
      "source": [
        "modelLSTM.compile(optimizer='adam', loss = 'mean_squared_error')"
      ]
    },
    {
      "cell_type": "code",
      "execution_count": null,
      "metadata": {
        "colab": {
          "base_uri": "https://localhost:8080/"
        },
        "id": "jJGUMaN7wafJ",
        "outputId": "99c99a14-509d-4f56-a2fc-b13512fb7507"
      },
      "outputs": [],
      "source": [
        "history = modelLSTM.fit(X_train, y_train, epochs=10, batch_size=8, callbacks=callbacks)"
      ]
    },
    {
      "cell_type": "code",
      "execution_count": null,
      "metadata": {
        "id": "lW-wyZdr_lPa"
      },
      "outputs": [],
      "source": [
        "data_training = pd.read_csv('../'+province+'/train/'+province.lower()+'_train_format.csv', date_parser = True)\n",
        "data_training = data_training.drop(['date_time', 'lat', 'long'], axis = 1)\n",
        "data_test = data_test.drop(['date_time'], axis = 1)"
      ]
    },
    {
      "cell_type": "code",
      "execution_count": null,
      "metadata": {
        "id": "Sb-SV-wReAJL"
      },
      "outputs": [],
      "source": [
        "data_test = data_test.drop(['date_time'], axis = 1)\n",
        "data_test.head()"
      ]
    },
    {
      "cell_type": "code",
      "execution_count": null,
      "metadata": {
        "id": "UpqWwdOaeD1K"
      },
      "outputs": [],
      "source": [
        "past_60_days = data_training.tail(60)"
      ]
    },
    {
      "cell_type": "code",
      "execution_count": null,
      "metadata": {
        "id": "TR2tRta0eEgF"
      },
      "outputs": [],
      "source": [
        "df = past_60_days.append(data_test, ignore_index = True)\n",
        "df.head()"
      ]
    },
    {
      "cell_type": "code",
      "execution_count": null,
      "metadata": {
        "id": "zwRexsPQqvTy"
      },
      "outputs": [],
      "source": [
        "df.dropna(inplace=True)\n",
        "df.shape"
      ]
    },
    {
      "cell_type": "code",
      "execution_count": null,
      "metadata": {
        "id": "yRpQEcauq0oc"
      },
      "outputs": [],
      "source": [
        "df.shape"
      ]
    },
    {
      "cell_type": "code",
      "execution_count": null,
      "metadata": {
        "id": "KKrjHeCMeGWX"
      },
      "outputs": [],
      "source": [
        "inputs = scaler.transform(df)\n",
        "inputs"
      ]
    },
    {
      "cell_type": "code",
      "execution_count": null,
      "metadata": {
        "id": "x3WdrSMFeHlj"
      },
      "outputs": [],
      "source": [
        "X_test = []\n",
        "y_test = []\n",
        "\n",
        "for i in range(60, inputs.shape[0]):\n",
        "    X_test.append(inputs[i-60:i])\n",
        "    a = []\n",
        "    for j in range(1,13):\n",
        "        #print(i,j,i-60+j*6)\n",
        "        a.append(inputs[min(i-60+j*6,inputs.shape[0]-1),0])\n",
        "    y_test.append(a)"
      ]
    },
    {
      "cell_type": "code",
      "execution_count": null,
      "metadata": {
        "id": "1-l8uJ6beJN-"
      },
      "outputs": [],
      "source": [
        "X_test, y_test = np.array(X_test), np.array(y_test)\n",
        "X_test.shape, y_test.shape"
      ]
    },
    {
      "cell_type": "code",
      "execution_count": null,
      "metadata": {
        "id": "OAbQp-tPeKvP"
      },
      "outputs": [],
      "source": [
        "y_pred = modelLSTM.predict(X_test)"
      ]
    },
    {
      "cell_type": "code",
      "execution_count": null,
      "metadata": {
        "id": "VO8T2VYEeO7q"
      },
      "outputs": [],
      "source": [
        "scale = 1/scaler.scale_[0]\n",
        "y_pred = y_pred*scale\n",
        "y_test = y_test*scale"
      ]
    },
    {
      "cell_type": "code",
      "execution_count": null,
      "metadata": {
        "id": "NsN4tns4A0lG"
      },
      "outputs": [],
      "source": [
        "print(province+' RMSE =', math.sqrt(mean_squared_error(y_test, y_pred)) )"
      ]
    },
    {
      "cell_type": "code",
      "execution_count": null,
      "metadata": {
        "id": "KkwVJXVaeR4e"
      },
      "outputs": [],
      "source": [
        "# Visualising the results\n",
        "plt.figure(figsize=(14,5))\n",
        "plt.plot(y_test, color = 'red', label = 'Real')\n",
        "plt.plot(y_pred, color = 'blue', label = 'Predicted')\n",
        "plt.xlabel('Time')\n",
        "plt.ylabel('PM2.5')\n",
        "plt.legend()\n",
        "plt.show()"
      ]
    },
    {
      "cell_type": "code",
      "execution_count": null,
      "metadata": {
        "id": "_9BwFEag82WB"
      },
      "outputs": [],
      "source": [
        "import pickle\n",
        "\n",
        "with open('lstm_'+province.lower()+'.pickle', 'wb') as fp:\n",
        "    pickle.dump(y_pred, fp)"
      ]
    },
    {
      "cell_type": "code",
      "execution_count": null,
      "metadata": {
        "id": "X2NYaatgLJXQ"
      },
      "outputs": [],
      "source": [
        "df1 = pd.DataFrame(y_pred)\n",
        "df1.to_csv('lstm_'+province.lower()+'.csv')"
      ]
    },
    {
      "cell_type": "code",
      "execution_count": null,
      "metadata": {
        "id": "j6-u-OHuV6il"
      },
      "outputs": [],
      "source": []
    },
    {
      "cell_type": "markdown",
      "metadata": {},
      "source": [
        "# Rayong"
      ]
    },
    {
      "cell_type": "code",
      "execution_count": null,
      "metadata": {
        "id": "9B3XlyHJWiP-"
      },
      "outputs": [],
      "source": [
        "provinces = ['BKK','Chiangmai','Khonkaen','Rayong','Saraburi','Surat']\n",
        "province = provinces[3]\n",
        "data_training = pd.read_csv('../'+province+'/train/'+province.lower()+'_train_format.csv', date_parser = True)\n"
      ]
    },
    {
      "cell_type": "code",
      "execution_count": null,
      "metadata": {
        "colab": {
          "base_uri": "https://localhost:8080/",
          "height": 206
        },
        "id": "5FXLGXmedgqG",
        "outputId": "f2bfe5c4-5390-4397-bb7a-de16c5d64092"
      },
      "outputs": [],
      "source": [
        "data_training = data_training.drop(['date_time', 'lat', 'long'], axis = 1)\n",
        "data_training.head()"
      ]
    },
    {
      "cell_type": "code",
      "execution_count": null,
      "metadata": {
        "colab": {
          "base_uri": "https://localhost:8080/",
          "height": 206
        },
        "id": "jONlufFv2NPo",
        "outputId": "c117c196-d411-4a06-c1f3-c5aeeef87c7e"
      },
      "outputs": [],
      "source": [
        "data_test = pd.read_csv(province+'_clean.csv', date_parser = True)\n",
        "data_test.sample(5)"
      ]
    },
    {
      "cell_type": "code",
      "execution_count": null,
      "metadata": {
        "colab": {
          "base_uri": "https://localhost:8080/",
          "height": 206
        },
        "id": "ZM_Hn5LcUDqd",
        "outputId": "7c170d33-a52a-4b5e-f057-5d16a4355a2d"
      },
      "outputs": [],
      "source": [
        "data_test = data_test.drop(['Unnamed: 0', 'lat', 'long'], axis = 1)\n",
        "data_test.head()"
      ]
    },
    {
      "cell_type": "code",
      "execution_count": null,
      "metadata": {
        "id": "khw4M2JsdiKT"
      },
      "outputs": [],
      "source": [
        "scaler = MinMaxScaler()\n",
        "data_training = scaler.fit_transform(data_training)\n",
        "scaler.inverse_transform(data_training)\n",
        "scale = 1/scaler.scale_\n"
      ]
    },
    {
      "cell_type": "code",
      "execution_count": null,
      "metadata": {
        "id": "W4926pfpdoE0"
      },
      "outputs": [],
      "source": [
        "X_train = []\n",
        "y_train = []\n",
        "\n",
        "for i in range(60, data_training.shape[0]):\n",
        "    X_train.append(data_training[i-60:i])\n",
        "    a = []\n",
        "    for j in range(1,13):\n",
        "        #print(i,j,i-60+j*6)\n",
        "        a.append(data_training[min(i-60+j*6,data_training.shape[0]-1),0])\n",
        "    y_train.append(a)\n",
        "\n",
        "\n",
        "X_train, y_train = np.array(X_train), np.array(y_train)\n",
        "X_train.shape"
      ]
    },
    {
      "cell_type": "code",
      "execution_count": null,
      "metadata": {
        "id": "6PwBHKiCdxBy"
      },
      "outputs": [],
      "source": [
        "modelLSTM = Sequential()\n",
        "\n",
        "modelLSTM.add(LSTM(units = 60, activation = 'relu', return_sequences = True, input_shape = (X_train.shape[1], 4)))\n",
        "modelLSTM.add(Dropout(0.2))\n",
        "\n",
        "modelLSTM.add(LSTM(units = 120, activation = 'relu'))\n",
        "modelLSTM.add(Dropout(0.2))\n",
        "\n",
        "\n",
        "modelLSTM.add(Dense(units = 12))"
      ]
    },
    {
      "cell_type": "code",
      "execution_count": null,
      "metadata": {
        "colab": {
          "base_uri": "https://localhost:8080/"
        },
        "id": "OruphK2TdzFB",
        "outputId": "a1985c4e-d227-4c86-cb42-fe4f48a4b574"
      },
      "outputs": [],
      "source": [
        "modelLSTM.summary()"
      ]
    },
    {
      "cell_type": "code",
      "execution_count": null,
      "metadata": {
        "id": "F2jd8nTRp9kq"
      },
      "outputs": [],
      "source": [
        "#create callback\n",
        "filepath = province+'_best_modelLSTM_yourself.hdf5'\n",
        "checkpoint = ModelCheckpoint(filepath=filepath, \n",
        "                             monitor='loss',\n",
        "                             verbose=0, \n",
        "                             save_best_only=True,\n",
        "                             mode='min')\n",
        "\n",
        "earlystopping = EarlyStopping(\n",
        "    monitor='loss', \n",
        "    patience=3, \n",
        "    min_delta=0, \n",
        "    mode='auto'\n",
        ")\n",
        "\n",
        "reduce_lr = ReduceLROnPlateau(\n",
        "    monitor='loss', \n",
        "    factor=0.2,   \n",
        "    patience=2, \n",
        "    min_lr=0.001,\n",
        "    verbose=0\n",
        ")\n",
        "callbacks = [checkpoint, earlystopping, reduce_lr]"
      ]
    },
    {
      "cell_type": "code",
      "execution_count": null,
      "metadata": {
        "id": "7alsTCdPd5PY"
      },
      "outputs": [],
      "source": [
        "modelLSTM.compile(optimizer='adam', loss = 'mean_squared_error')"
      ]
    },
    {
      "cell_type": "code",
      "execution_count": null,
      "metadata": {
        "colab": {
          "base_uri": "https://localhost:8080/"
        },
        "id": "jJGUMaN7wafJ",
        "outputId": "99c99a14-509d-4f56-a2fc-b13512fb7507"
      },
      "outputs": [],
      "source": [
        "history = modelLSTM.fit(X_train, y_train, epochs=10, batch_size=32, callbacks=callbacks)"
      ]
    },
    {
      "cell_type": "code",
      "execution_count": null,
      "metadata": {
        "id": "lW-wyZdr_lPa"
      },
      "outputs": [],
      "source": [
        "data_training = pd.read_csv('../'+province+'/train/'+province.lower()+'_train_format.csv', date_parser = True)\n",
        "data_training = data_training.drop(['date_time', 'lat', 'long'], axis = 1)\n",
        "data_test = data_test.drop(['date_time'], axis = 1)"
      ]
    },
    {
      "cell_type": "code",
      "execution_count": null,
      "metadata": {},
      "outputs": [],
      "source": [
        "data_test.head()"
      ]
    },
    {
      "cell_type": "code",
      "execution_count": null,
      "metadata": {
        "id": "UpqWwdOaeD1K"
      },
      "outputs": [],
      "source": [
        "past_60_days = data_training.tail(60)"
      ]
    },
    {
      "cell_type": "code",
      "execution_count": null,
      "metadata": {
        "id": "TR2tRta0eEgF"
      },
      "outputs": [],
      "source": [
        "df = past_60_days.append(data_test, ignore_index = True)\n",
        "df.head()"
      ]
    },
    {
      "cell_type": "code",
      "execution_count": null,
      "metadata": {
        "id": "zwRexsPQqvTy"
      },
      "outputs": [],
      "source": [
        "df.dropna(inplace=True)\n",
        "df.shape"
      ]
    },
    {
      "cell_type": "code",
      "execution_count": null,
      "metadata": {
        "id": "yRpQEcauq0oc"
      },
      "outputs": [],
      "source": [
        "df.shape"
      ]
    },
    {
      "cell_type": "code",
      "execution_count": null,
      "metadata": {
        "id": "KKrjHeCMeGWX"
      },
      "outputs": [],
      "source": [
        "inputs = scaler.transform(df)\n",
        "inputs"
      ]
    },
    {
      "cell_type": "code",
      "execution_count": null,
      "metadata": {
        "id": "x3WdrSMFeHlj"
      },
      "outputs": [],
      "source": [
        "X_test = []\n",
        "y_test = []\n",
        "\n",
        "for i in range(60, inputs.shape[0]):\n",
        "    X_test.append(inputs[i-60:i])\n",
        "    a = []\n",
        "    for j in range(1,13):\n",
        "        #print(i,j,i-60+j*6)\n",
        "        a.append(inputs[min(i-60+j*6,inputs.shape[0]-1),0])\n",
        "    y_test.append(a)"
      ]
    },
    {
      "cell_type": "code",
      "execution_count": null,
      "metadata": {
        "id": "1-l8uJ6beJN-"
      },
      "outputs": [],
      "source": [
        "X_test, y_test = np.array(X_test), np.array(y_test)\n",
        "X_test.shape, y_test.shape"
      ]
    },
    {
      "cell_type": "code",
      "execution_count": null,
      "metadata": {
        "id": "OAbQp-tPeKvP"
      },
      "outputs": [],
      "source": [
        "y_pred = modelLSTM.predict(X_test)"
      ]
    },
    {
      "cell_type": "code",
      "execution_count": null,
      "metadata": {
        "id": "VO8T2VYEeO7q"
      },
      "outputs": [],
      "source": [
        "scale = 1/scaler.scale_[0]\n",
        "y_pred = y_pred*scale\n",
        "y_test = y_test*scale"
      ]
    },
    {
      "cell_type": "code",
      "execution_count": null,
      "metadata": {
        "id": "NsN4tns4A0lG"
      },
      "outputs": [],
      "source": [
        "print(province+' RMSE =', math.sqrt(mean_squared_error(y_test, y_pred)) )"
      ]
    },
    {
      "cell_type": "code",
      "execution_count": null,
      "metadata": {
        "id": "KkwVJXVaeR4e"
      },
      "outputs": [],
      "source": [
        "# Visualising the results\n",
        "plt.figure(figsize=(14,5))\n",
        "plt.plot(y_test, color = 'red', label = 'Real')\n",
        "plt.plot(y_pred, color = 'blue', label = 'Predicted')\n",
        "plt.xlabel('Time')\n",
        "plt.ylabel('PM2.5')\n",
        "plt.legend()\n",
        "plt.show()"
      ]
    },
    {
      "cell_type": "code",
      "execution_count": null,
      "metadata": {
        "id": "_9BwFEag82WB"
      },
      "outputs": [],
      "source": [
        "import pickle\n",
        "\n",
        "with open('lstm_'+province.lower()+'.pickle', 'wb') as fp:\n",
        "    pickle.dump(y_pred, fp)"
      ]
    },
    {
      "cell_type": "code",
      "execution_count": null,
      "metadata": {
        "id": "X2NYaatgLJXQ"
      },
      "outputs": [],
      "source": [
        "df1 = pd.DataFrame(y_pred)\n",
        "df1.to_csv('lstm_'+province.lower()+'.csv')"
      ]
    },
    {
      "cell_type": "code",
      "execution_count": null,
      "metadata": {
        "id": "j6-u-OHuV6il"
      },
      "outputs": [],
      "source": []
    },
    {
      "cell_type": "markdown",
      "metadata": {},
      "source": [
        "# Saraburi"
      ]
    },
    {
      "cell_type": "code",
      "execution_count": null,
      "metadata": {
        "id": "9B3XlyHJWiP-"
      },
      "outputs": [],
      "source": [
        "provinces = ['BKK','Chiangmai','Khonkaen','Rayong','Saraburi','Surat']\n",
        "province = provinces[4]\n",
        "data_training = pd.read_csv('../'+province+'/train/'+province.lower()+'_train_format.csv', date_parser = True)\n"
      ]
    },
    {
      "cell_type": "code",
      "execution_count": null,
      "metadata": {
        "colab": {
          "base_uri": "https://localhost:8080/",
          "height": 206
        },
        "id": "5FXLGXmedgqG",
        "outputId": "f2bfe5c4-5390-4397-bb7a-de16c5d64092"
      },
      "outputs": [],
      "source": [
        "data_training = data_training.drop(['date_time', 'lat', 'long'], axis = 1)\n",
        "data_training.head()"
      ]
    },
    {
      "cell_type": "code",
      "execution_count": null,
      "metadata": {
        "colab": {
          "base_uri": "https://localhost:8080/",
          "height": 206
        },
        "id": "jONlufFv2NPo",
        "outputId": "c117c196-d411-4a06-c1f3-c5aeeef87c7e"
      },
      "outputs": [],
      "source": [
        "data_test = pd.read_csv(province+'_clean.csv', date_parser = True)\n",
        "data_test.sample(5)"
      ]
    },
    {
      "cell_type": "code",
      "execution_count": null,
      "metadata": {
        "colab": {
          "base_uri": "https://localhost:8080/",
          "height": 206
        },
        "id": "ZM_Hn5LcUDqd",
        "outputId": "7c170d33-a52a-4b5e-f057-5d16a4355a2d"
      },
      "outputs": [],
      "source": [
        "data_test = data_test.drop(['Unnamed: 0', 'lat', 'long'], axis = 1)\n",
        "data_test.head()"
      ]
    },
    {
      "cell_type": "code",
      "execution_count": null,
      "metadata": {
        "id": "khw4M2JsdiKT"
      },
      "outputs": [],
      "source": [
        "scaler = MinMaxScaler()\n",
        "data_training = scaler.fit_transform(data_training)\n",
        "scaler.inverse_transform(data_training)\n",
        "scale = 1/scaler.scale_\n"
      ]
    },
    {
      "cell_type": "code",
      "execution_count": null,
      "metadata": {
        "id": "W4926pfpdoE0"
      },
      "outputs": [],
      "source": [
        "X_train = []\n",
        "y_train = []\n",
        "\n",
        "for i in range(60, data_training.shape[0]):\n",
        "    X_train.append(data_training[i-60:i])\n",
        "    a = []\n",
        "    for j in range(1,13):\n",
        "        #print(i,j,i-60+j*6)\n",
        "        a.append(data_training[min(i-60+j*6,data_training.shape[0]-1),0])\n",
        "    y_train.append(a)\n",
        "\n",
        "\n",
        "X_train, y_train = np.array(X_train), np.array(y_train)\n",
        "X_train.shape"
      ]
    },
    {
      "cell_type": "code",
      "execution_count": null,
      "metadata": {
        "id": "6PwBHKiCdxBy"
      },
      "outputs": [],
      "source": [
        "modelLSTM = Sequential()\n",
        "\n",
        "modelLSTM.add(LSTM(units = 120, activation = 'relu',  input_shape = (X_train.shape[1], 4)))\n",
        "modelLSTM.add(Dropout(0.2))\n",
        "\n",
        "modelLSTM.add(Dense(units = 12))"
      ]
    },
    {
      "cell_type": "code",
      "execution_count": null,
      "metadata": {
        "colab": {
          "base_uri": "https://localhost:8080/"
        },
        "id": "OruphK2TdzFB",
        "outputId": "a1985c4e-d227-4c86-cb42-fe4f48a4b574"
      },
      "outputs": [],
      "source": [
        "modelLSTM.summary()"
      ]
    },
    {
      "cell_type": "code",
      "execution_count": null,
      "metadata": {
        "id": "F2jd8nTRp9kq"
      },
      "outputs": [],
      "source": [
        "#create callback\n",
        "filepath = province+'_best_modelLSTM_yourself.hdf5'\n",
        "checkpoint = ModelCheckpoint(filepath=filepath, \n",
        "                             monitor='loss',\n",
        "                             verbose=0, \n",
        "                             save_best_only=True,\n",
        "                             mode='min')\n",
        "\n",
        "earlystopping = EarlyStopping(\n",
        "    monitor='loss', \n",
        "    patience=3, \n",
        "    min_delta=0, \n",
        "    mode='auto'\n",
        ")\n",
        "\n",
        "reduce_lr = ReduceLROnPlateau(\n",
        "    monitor='loss', \n",
        "    factor=0.2,   \n",
        "    patience=2, \n",
        "    min_lr=0.001,\n",
        "    verbose=0\n",
        ")\n",
        "callbacks = [checkpoint, earlystopping, reduce_lr]"
      ]
    },
    {
      "cell_type": "code",
      "execution_count": null,
      "metadata": {
        "id": "7alsTCdPd5PY"
      },
      "outputs": [],
      "source": [
        "modelLSTM.compile(optimizer='adam', loss = 'mean_squared_error')"
      ]
    },
    {
      "cell_type": "code",
      "execution_count": null,
      "metadata": {
        "colab": {
          "base_uri": "https://localhost:8080/"
        },
        "id": "jJGUMaN7wafJ",
        "outputId": "99c99a14-509d-4f56-a2fc-b13512fb7507"
      },
      "outputs": [],
      "source": [
        "history = modelLSTM.fit(X_train, y_train, epochs=10, batch_size=32, callbacks=callbacks)"
      ]
    },
    {
      "cell_type": "code",
      "execution_count": null,
      "metadata": {
        "id": "lW-wyZdr_lPa"
      },
      "outputs": [],
      "source": [
        "data_training = pd.read_csv('../'+province+'/train/'+province.lower()+'_train_format.csv', date_parser = True)\n",
        "data_training = data_training.drop(['date_time', 'lat', 'long'], axis = 1)\n",
        "data_test = data_test.drop(['date_time'], axis = 1)"
      ]
    },
    {
      "cell_type": "code",
      "execution_count": null,
      "metadata": {
        "id": "UpqWwdOaeD1K"
      },
      "outputs": [],
      "source": [
        "past_60_days = data_training.tail(60)"
      ]
    },
    {
      "cell_type": "code",
      "execution_count": null,
      "metadata": {
        "id": "TR2tRta0eEgF"
      },
      "outputs": [],
      "source": [
        "df = past_60_days.append(data_test, ignore_index = True)\n",
        "df.head()"
      ]
    },
    {
      "cell_type": "code",
      "execution_count": null,
      "metadata": {
        "id": "zwRexsPQqvTy"
      },
      "outputs": [],
      "source": [
        "df.dropna(inplace=True)\n",
        "df.shape"
      ]
    },
    {
      "cell_type": "code",
      "execution_count": null,
      "metadata": {
        "id": "yRpQEcauq0oc"
      },
      "outputs": [],
      "source": [
        "df.shape"
      ]
    },
    {
      "cell_type": "code",
      "execution_count": null,
      "metadata": {
        "id": "KKrjHeCMeGWX"
      },
      "outputs": [],
      "source": [
        "inputs = scaler.transform(df)\n",
        "inputs"
      ]
    },
    {
      "cell_type": "code",
      "execution_count": null,
      "metadata": {
        "id": "x3WdrSMFeHlj"
      },
      "outputs": [],
      "source": [
        "X_test = []\n",
        "y_test = []\n",
        "\n",
        "for i in range(60, inputs.shape[0]):\n",
        "    X_test.append(inputs[i-60:i])\n",
        "    a = []\n",
        "    for j in range(1,13):\n",
        "        #print(i,j,i-60+j*6)\n",
        "        a.append(inputs[min(i-60+j*6,inputs.shape[0]-1),0])\n",
        "    y_test.append(a)"
      ]
    },
    {
      "cell_type": "code",
      "execution_count": null,
      "metadata": {
        "id": "1-l8uJ6beJN-"
      },
      "outputs": [],
      "source": [
        "X_test, y_test = np.array(X_test), np.array(y_test)\n",
        "X_test.shape, y_test.shape"
      ]
    },
    {
      "cell_type": "code",
      "execution_count": null,
      "metadata": {
        "id": "OAbQp-tPeKvP"
      },
      "outputs": [],
      "source": [
        "y_pred = modelLSTM.predict(X_test)"
      ]
    },
    {
      "cell_type": "code",
      "execution_count": null,
      "metadata": {
        "id": "VO8T2VYEeO7q"
      },
      "outputs": [],
      "source": [
        "scale = 1/scaler.scale_[0]\n",
        "y_pred = y_pred*scale\n",
        "y_test = y_test*scale"
      ]
    },
    {
      "cell_type": "code",
      "execution_count": null,
      "metadata": {
        "id": "NsN4tns4A0lG"
      },
      "outputs": [],
      "source": [
        "print(province+' RMSE =', math.sqrt(mean_squared_error(y_test, y_pred)) )"
      ]
    },
    {
      "cell_type": "code",
      "execution_count": null,
      "metadata": {
        "id": "KkwVJXVaeR4e"
      },
      "outputs": [],
      "source": [
        "# Visualising the results\n",
        "plt.figure(figsize=(14,5))\n",
        "plt.plot(y_test, color = 'red', label = 'Real')\n",
        "plt.plot(y_pred, color = 'blue', label = 'Predicted')\n",
        "plt.xlabel('Time')\n",
        "plt.ylabel('PM2.5')\n",
        "plt.legend()\n",
        "plt.show()"
      ]
    },
    {
      "cell_type": "code",
      "execution_count": null,
      "metadata": {
        "id": "_9BwFEag82WB"
      },
      "outputs": [],
      "source": [
        "import pickle\n",
        "\n",
        "with open('lstm_'+province.lower()+'.pickle', 'wb') as fp:\n",
        "    pickle.dump(y_pred, fp)"
      ]
    },
    {
      "cell_type": "code",
      "execution_count": null,
      "metadata": {
        "id": "X2NYaatgLJXQ"
      },
      "outputs": [],
      "source": [
        "df1 = pd.DataFrame(y_pred)\n",
        "df1.to_csv('lstm_'+province.lower()+'.csv')"
      ]
    },
    {
      "cell_type": "code",
      "execution_count": null,
      "metadata": {
        "id": "j6-u-OHuV6il"
      },
      "outputs": [],
      "source": []
    },
    {
      "cell_type": "markdown",
      "metadata": {},
      "source": [
        "# Surat"
      ]
    },
    {
      "cell_type": "code",
      "execution_count": null,
      "metadata": {
        "id": "9B3XlyHJWiP-"
      },
      "outputs": [],
      "source": [
        "provinces = ['BKK','Chiangmai','Khonkaen','Rayong','Saraburi','Surat']\n",
        "province = provinces[5]\n",
        "data_training = pd.read_csv('../'+province+'/train/'+province.lower()+'_train_format.csv', date_parser = True)\n"
      ]
    },
    {
      "cell_type": "code",
      "execution_count": null,
      "metadata": {
        "colab": {
          "base_uri": "https://localhost:8080/",
          "height": 206
        },
        "id": "5FXLGXmedgqG",
        "outputId": "f2bfe5c4-5390-4397-bb7a-de16c5d64092"
      },
      "outputs": [],
      "source": [
        "data_training = data_training.drop(['date_time', 'lat', 'long'], axis = 1)\n",
        "data_training.head()"
      ]
    },
    {
      "cell_type": "code",
      "execution_count": null,
      "metadata": {
        "colab": {
          "base_uri": "https://localhost:8080/",
          "height": 206
        },
        "id": "jONlufFv2NPo",
        "outputId": "c117c196-d411-4a06-c1f3-c5aeeef87c7e"
      },
      "outputs": [],
      "source": [
        "data_test = pd.read_csv(province+'_clean.csv', date_parser = True)\n",
        "data_test.sample(5)"
      ]
    },
    {
      "cell_type": "code",
      "execution_count": null,
      "metadata": {
        "colab": {
          "base_uri": "https://localhost:8080/",
          "height": 206
        },
        "id": "ZM_Hn5LcUDqd",
        "outputId": "7c170d33-a52a-4b5e-f057-5d16a4355a2d"
      },
      "outputs": [],
      "source": [
        "data_test = data_test.drop(['Unnamed: 0', 'lat', 'long'], axis = 1)\n",
        "data_test.head()"
      ]
    },
    {
      "cell_type": "code",
      "execution_count": null,
      "metadata": {
        "id": "khw4M2JsdiKT"
      },
      "outputs": [],
      "source": [
        "scaler = MinMaxScaler()\n",
        "data_training = scaler.fit_transform(data_training)\n",
        "scaler.inverse_transform(data_training)\n",
        "scale = 1/scaler.scale_\n"
      ]
    },
    {
      "cell_type": "code",
      "execution_count": null,
      "metadata": {
        "id": "W4926pfpdoE0"
      },
      "outputs": [],
      "source": [
        "X_train = []\n",
        "y_train = []\n",
        "\n",
        "for i in range(60, data_training.shape[0]):\n",
        "    X_train.append(data_training[i-60:i])\n",
        "    a = []\n",
        "    for j in range(1,13):\n",
        "        #print(i,j,i-60+j*6)\n",
        "        a.append(data_training[min(i-60+j*6,data_training.shape[0]-1),0])\n",
        "    y_train.append(a)\n",
        "\n",
        "\n",
        "X_train, y_train = np.array(X_train), np.array(y_train)\n",
        "X_train.shape"
      ]
    },
    {
      "cell_type": "code",
      "execution_count": null,
      "metadata": {
        "id": "6PwBHKiCdxBy"
      },
      "outputs": [],
      "source": [
        "modelLSTM = Sequential()\n",
        "\n",
        "modelLSTM.add(LSTM(units = 120, activation = 'relu', return_sequences = True, input_shape = (X_train.shape[1], 4)))\n",
        "modelLSTM.add(Dropout(0.2))\n",
        "modelLSTM.add(LSTM(units = 240, activation = 'relu'))\n",
        "modelLSTM.add(Dropout(0.2))\n",
        "\n",
        "\n",
        "\n",
        "modelLSTM.add(Dense(units = 12))"
      ]
    },
    {
      "cell_type": "code",
      "execution_count": null,
      "metadata": {
        "colab": {
          "base_uri": "https://localhost:8080/"
        },
        "id": "OruphK2TdzFB",
        "outputId": "a1985c4e-d227-4c86-cb42-fe4f48a4b574"
      },
      "outputs": [],
      "source": [
        "modelLSTM.summary()"
      ]
    },
    {
      "cell_type": "code",
      "execution_count": null,
      "metadata": {
        "id": "F2jd8nTRp9kq"
      },
      "outputs": [],
      "source": [
        "#create callback\n",
        "filepath = province+'_best_modelLSTM_yourself.hdf5'\n",
        "checkpoint = ModelCheckpoint(filepath=filepath, \n",
        "                             monitor='loss',\n",
        "                             verbose=0, \n",
        "                             save_best_only=True,\n",
        "                             mode='min')\n",
        "\n",
        "earlystopping = EarlyStopping(\n",
        "    monitor='loss', \n",
        "    patience=3, \n",
        "    min_delta=0, \n",
        "    mode='auto'\n",
        ")\n",
        "\n",
        "reduce_lr = ReduceLROnPlateau(\n",
        "    monitor='loss', \n",
        "    factor=0.2,   \n",
        "    patience=2, \n",
        "    min_lr=0.001,\n",
        "    verbose=0\n",
        ")\n",
        "callbacks = [checkpoint, earlystopping, reduce_lr]"
      ]
    },
    {
      "cell_type": "code",
      "execution_count": null,
      "metadata": {
        "id": "7alsTCdPd5PY"
      },
      "outputs": [],
      "source": [
        "modelLSTM.compile(optimizer='adam', loss = 'mean_squared_error')"
      ]
    },
    {
      "cell_type": "code",
      "execution_count": null,
      "metadata": {
        "colab": {
          "base_uri": "https://localhost:8080/"
        },
        "id": "jJGUMaN7wafJ",
        "outputId": "99c99a14-509d-4f56-a2fc-b13512fb7507"
      },
      "outputs": [],
      "source": [
        "history = modelLSTM.fit(X_train, y_train, epochs=15, batch_size=64, callbacks=callbacks)"
      ]
    },
    {
      "cell_type": "code",
      "execution_count": null,
      "metadata": {
        "id": "lW-wyZdr_lPa"
      },
      "outputs": [],
      "source": [
        "data_training = pd.read_csv('../'+province+'/train/'+province.lower()+'_train_format.csv', date_parser = True)\n",
        "data_training = data_training.drop(['date_time', 'lat', 'long'], axis = 1)\n",
        "data_test = data_test.drop(['date_time'], axis = 1)"
      ]
    },
    {
      "cell_type": "code",
      "execution_count": null,
      "metadata": {
        "id": "UpqWwdOaeD1K"
      },
      "outputs": [],
      "source": [
        "past_60_days = data_training.tail(90)"
      ]
    },
    {
      "cell_type": "code",
      "execution_count": null,
      "metadata": {
        "id": "TR2tRta0eEgF"
      },
      "outputs": [],
      "source": [
        "df = past_60_days.append(data_test, ignore_index = True)\n",
        "df.head()"
      ]
    },
    {
      "cell_type": "code",
      "execution_count": null,
      "metadata": {
        "id": "zwRexsPQqvTy"
      },
      "outputs": [],
      "source": [
        "df.dropna(inplace=True)\n",
        "df.shape"
      ]
    },
    {
      "cell_type": "code",
      "execution_count": null,
      "metadata": {
        "id": "yRpQEcauq0oc"
      },
      "outputs": [],
      "source": [
        "df.shape"
      ]
    },
    {
      "cell_type": "code",
      "execution_count": null,
      "metadata": {
        "id": "KKrjHeCMeGWX"
      },
      "outputs": [],
      "source": [
        "inputs = scaler.transform(df)\n",
        "inputs"
      ]
    },
    {
      "cell_type": "code",
      "execution_count": null,
      "metadata": {
        "id": "x3WdrSMFeHlj"
      },
      "outputs": [],
      "source": [
        "X_test = []\n",
        "y_test = []\n",
        "\n",
        "for i in range(60, inputs.shape[0]):\n",
        "    X_test.append(inputs[i-60:i])\n",
        "    a = []\n",
        "    for j in range(1,13):\n",
        "        #print(i,j,i-60+j*6)\n",
        "        a.append(inputs[min(i-60+j*6,inputs.shape[0]-1),0])\n",
        "    y_test.append(a)"
      ]
    },
    {
      "cell_type": "code",
      "execution_count": null,
      "metadata": {
        "id": "1-l8uJ6beJN-"
      },
      "outputs": [],
      "source": [
        "X_test, y_test = np.array(X_test), np.array(y_test)\n",
        "X_test.shape, y_test.shape"
      ]
    },
    {
      "cell_type": "code",
      "execution_count": null,
      "metadata": {
        "id": "OAbQp-tPeKvP"
      },
      "outputs": [],
      "source": [
        "y_pred = modelLSTM.predict(X_test)"
      ]
    },
    {
      "cell_type": "code",
      "execution_count": null,
      "metadata": {
        "id": "VO8T2VYEeO7q"
      },
      "outputs": [],
      "source": [
        "scale = 1/scaler.scale_[0]\n",
        "y_pred = y_pred*scale\n",
        "y_test = y_test*scale"
      ]
    },
    {
      "cell_type": "code",
      "execution_count": null,
      "metadata": {
        "id": "NsN4tns4A0lG"
      },
      "outputs": [],
      "source": [
        "print(province+' RMSE =', math.sqrt(mean_squared_error(y_test, y_pred)) )"
      ]
    },
    {
      "cell_type": "code",
      "execution_count": null,
      "metadata": {
        "id": "KkwVJXVaeR4e"
      },
      "outputs": [],
      "source": [
        "# Visualising the results\n",
        "plt.figure(figsize=(14,5))\n",
        "plt.plot(y_test, color = 'red', label = 'Real')\n",
        "plt.plot(y_pred, color = 'blue', label = 'Predicted')\n",
        "plt.xlabel('Time')\n",
        "plt.ylabel('PM2.5')\n",
        "plt.legend()\n",
        "plt.show()"
      ]
    },
    {
      "cell_type": "code",
      "execution_count": null,
      "metadata": {
        "id": "_9BwFEag82WB"
      },
      "outputs": [],
      "source": [
        "import pickle\n",
        "\n",
        "with open('lstm_'+province.lower()+'.pickle', 'wb') as fp:\n",
        "    pickle.dump(y_pred, fp)"
      ]
    },
    {
      "cell_type": "code",
      "execution_count": null,
      "metadata": {
        "id": "X2NYaatgLJXQ"
      },
      "outputs": [],
      "source": [
        "df1 = pd.DataFrame(y_pred)\n",
        "df1.to_csv('lstm_'+province.lower()+'.csv')"
      ]
    },
    {
      "cell_type": "code",
      "execution_count": null,
      "metadata": {
        "id": "j6-u-OHuV6il"
      },
      "outputs": [],
      "source": []
    },
    {
      "cell_type": "markdown",
      "metadata": {},
      "source": [
        "# Submit"
      ]
    },
    {
      "cell_type": "code",
      "execution_count": null,
      "metadata": {},
      "outputs": [],
      "source": [
        "param_dict = {'BKK':[7.0, 70.0, 40.0, 100.0],\n",
        "'Chiangmai':[7.0, 50.0, 40.0, 100.0],\n",
        "'Rayong':[2.0, 50.0, 30.0, 40.0],\n",
        "'Saraburi':[3.0, 50.0, 20.0, 90.0],\n",
        "'Khonkaen':[1.0, 70.0, 30.0, 90.0],\n",
        "'Surat':[2.0, 60.0, 20.0, 30.0]}"
      ]
    },
    {
      "cell_type": "code",
      "execution_count": null,
      "metadata": {},
      "outputs": [],
      "source": [
        "ans = pd.DataFrame.from_dict({'Time':[],'Predicted':[],'PM2.5':[],'Province':[]})\n",
        "for key,value in param_dict.items():\n",
        "    \n",
        "    df1 = pd.read_csv(key+'_clean.csv')\n",
        "    df1.dropna(inplace=True)\n",
        "    df1.reset_index(inplace=True)\n",
        "    \n",
        "    df2 = pd.read_csv('lstm_'+key.lower()+'.csv')\n",
        "   \n",
        "\n",
        "    df3 =  pd.DataFrame()\n",
        "    df3['Predicted']=df1['date_time'].copy()\n",
        "    df3['PM2.5']=df2['0'].copy()\n",
        "\n",
        "\n",
        "    df3['Predicted'] = pd.to_datetime(df3['Predicted'])\n",
        "\n",
        "    submit=pd.read_csv('submit_time_format_2.csv')\n",
        "    submit['Predicted'] = pd.to_datetime(submit['Predicted'])\n",
        "    submit['Time'] = pd.to_datetime(submit['Time'])\n",
        "\n",
        "   \n",
        "    result = pd.merge(submit, df3, how=\"left\", on=[\"Predicted\"])\n",
        "\n",
        "    result['Province'] = key\n",
        "\n",
        "    \n",
        "    ans = pd.concat([ans,result])"
      ]
    },
    {
      "cell_type": "code",
      "execution_count": null,
      "metadata": {},
      "outputs": [],
      "source": [
        "ans.dropna(inplace=True)\n",
        "ans.reset_index(inplace=True)\n",
        "ans['PM2.5'].to_csv('kaggle_lstm.csv')"
      ]
    }
  ],
  "metadata": {
    "accelerator": "GPU",
    "colab": {
      "collapsed_sections": [],
      "name": "LSTM.ipynb",
      "provenance": []
    },
    "kernelspec": {
      "display_name": "Python 3",
      "name": "python3"
    },
    "language_info": {
      "codemirror_mode": {
        "name": "ipython",
        "version": 3
      },
      "file_extension": ".py",
      "mimetype": "text/x-python",
      "name": "python",
      "nbconvert_exporter": "python",
      "pygments_lexer": "ipython3",
      "version": "3.8.8"
    }
  },
  "nbformat": 4,
  "nbformat_minor": 0
}
