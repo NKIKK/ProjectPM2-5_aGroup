{
  "cells": [
    {
      "cell_type": "code",
      "execution_count": 124,
      "metadata": {
        "colab": {
          "base_uri": "https://localhost:8080/"
        },
        "id": "hma9CCJCtdye",
        "outputId": "673f70f8-4c1d-4e62-e525-fe90db0614ab"
      },
      "outputs": [],
      "source": [
        "#!nvidia-smi"
      ]
    },
    {
      "cell_type": "code",
      "execution_count": 125,
      "metadata": {
        "id": "tXYt8kYNc-8I"
      },
      "outputs": [],
      "source": [
        "import numpy as np\n",
        "import matplotlib.pyplot as plt\n",
        "import pandas as pd\n",
        "from sklearn.preprocessing import MinMaxScaler"
      ]
    },
    {
      "cell_type": "markdown",
      "metadata": {
        "id": "kma2WK2H5j47"
      },
      "source": [
        "## Train/test split"
      ]
    },
    {
      "cell_type": "code",
      "execution_count": 126,
      "metadata": {
        "id": "9B3XlyHJWiP-"
      },
      "outputs": [],
      "source": [
        "provinces = ['BKK','Chiangmai','Khonkaen','Rayong','Saraburi','Surat']\n",
        "province = provinces[2]"
      ]
    },
    {
      "cell_type": "code",
      "execution_count": 127,
      "metadata": {
        "colab": {
          "base_uri": "https://localhost:8080/",
          "height": 206
        },
        "id": "U-lSoEO_dfa-",
        "outputId": "3f98e52c-aecf-41f6-8b80-29b60ba6df7d"
      },
      "outputs": [
        {
          "data": {
            "text/html": [
              "<div>\n",
              "<style scoped>\n",
              "    .dataframe tbody tr th:only-of-type {\n",
              "        vertical-align: middle;\n",
              "    }\n",
              "\n",
              "    .dataframe tbody tr th {\n",
              "        vertical-align: top;\n",
              "    }\n",
              "\n",
              "    .dataframe thead th {\n",
              "        text-align: right;\n",
              "    }\n",
              "</style>\n",
              "<table border=\"1\" class=\"dataframe\">\n",
              "  <thead>\n",
              "    <tr style=\"text-align: right;\">\n",
              "      <th></th>\n",
              "      <th>date_time</th>\n",
              "      <th>PM2.5</th>\n",
              "      <th>temp</th>\n",
              "      <th>wind speed</th>\n",
              "      <th>wind dir</th>\n",
              "      <th>lat</th>\n",
              "      <th>long</th>\n",
              "    </tr>\n",
              "  </thead>\n",
              "  <tbody>\n",
              "    <tr>\n",
              "      <th>815</th>\n",
              "      <td>2017-08-03 23:00:00</td>\n",
              "      <td>6.0</td>\n",
              "      <td>28.2</td>\n",
              "      <td>41.0</td>\n",
              "      <td>265.0</td>\n",
              "      <td>16.445329</td>\n",
              "      <td>102.835251</td>\n",
              "    </tr>\n",
              "    <tr>\n",
              "      <th>18963</th>\n",
              "      <td>2019-08-30 03:00:00</td>\n",
              "      <td>19.0</td>\n",
              "      <td>24.8</td>\n",
              "      <td>41.0</td>\n",
              "      <td>310.0</td>\n",
              "      <td>16.445329</td>\n",
              "      <td>102.835251</td>\n",
              "    </tr>\n",
              "    <tr>\n",
              "      <th>20333</th>\n",
              "      <td>2019-10-26 05:00:00</td>\n",
              "      <td>22.0</td>\n",
              "      <td>23.4</td>\n",
              "      <td>40.0</td>\n",
              "      <td>70.0</td>\n",
              "      <td>16.445329</td>\n",
              "      <td>102.835251</td>\n",
              "    </tr>\n",
              "    <tr>\n",
              "      <th>1425</th>\n",
              "      <td>2017-08-29 09:00:00</td>\n",
              "      <td>6.0</td>\n",
              "      <td>24.6</td>\n",
              "      <td>17.0</td>\n",
              "      <td>265.0</td>\n",
              "      <td>16.445329</td>\n",
              "      <td>102.835251</td>\n",
              "    </tr>\n",
              "    <tr>\n",
              "      <th>10896</th>\n",
              "      <td>2018-09-28 00:00:00</td>\n",
              "      <td>37.0</td>\n",
              "      <td>28.4</td>\n",
              "      <td>9.0</td>\n",
              "      <td>210.0</td>\n",
              "      <td>16.445329</td>\n",
              "      <td>102.835251</td>\n",
              "    </tr>\n",
              "  </tbody>\n",
              "</table>\n",
              "</div>"
            ],
            "text/plain": [
              "                 date_time  PM2.5  temp  wind speed  wind dir        lat  \\\n",
              "815    2017-08-03 23:00:00    6.0  28.2        41.0     265.0  16.445329   \n",
              "18963  2019-08-30 03:00:00   19.0  24.8        41.0     310.0  16.445329   \n",
              "20333  2019-10-26 05:00:00   22.0  23.4        40.0      70.0  16.445329   \n",
              "1425   2017-08-29 09:00:00    6.0  24.6        17.0     265.0  16.445329   \n",
              "10896  2018-09-28 00:00:00   37.0  28.4         9.0     210.0  16.445329   \n",
              "\n",
              "             long  \n",
              "815    102.835251  \n",
              "18963  102.835251  \n",
              "20333  102.835251  \n",
              "1425   102.835251  \n",
              "10896  102.835251  "
            ]
          },
          "execution_count": 127,
          "metadata": {},
          "output_type": "execute_result"
        }
      ],
      "source": [
        "data_training = pd.read_csv(province+'/train/'+province.lower()+'_train_format.csv', date_parser = True)\n",
        "data_training.sample(5)"
      ]
    },
    {
      "cell_type": "code",
      "execution_count": 128,
      "metadata": {
        "colab": {
          "base_uri": "https://localhost:8080/",
          "height": 206
        },
        "id": "5FXLGXmedgqG",
        "outputId": "f2bfe5c4-5390-4397-bb7a-de16c5d64092"
      },
      "outputs": [
        {
          "data": {
            "text/html": [
              "<div>\n",
              "<style scoped>\n",
              "    .dataframe tbody tr th:only-of-type {\n",
              "        vertical-align: middle;\n",
              "    }\n",
              "\n",
              "    .dataframe tbody tr th {\n",
              "        vertical-align: top;\n",
              "    }\n",
              "\n",
              "    .dataframe thead th {\n",
              "        text-align: right;\n",
              "    }\n",
              "</style>\n",
              "<table border=\"1\" class=\"dataframe\">\n",
              "  <thead>\n",
              "    <tr style=\"text-align: right;\">\n",
              "      <th></th>\n",
              "      <th>PM2.5</th>\n",
              "      <th>temp</th>\n",
              "      <th>wind speed</th>\n",
              "      <th>wind dir</th>\n",
              "    </tr>\n",
              "  </thead>\n",
              "  <tbody>\n",
              "    <tr>\n",
              "      <th>0</th>\n",
              "      <td>5.0</td>\n",
              "      <td>26.5</td>\n",
              "      <td>28.0</td>\n",
              "      <td>235.0</td>\n",
              "    </tr>\n",
              "    <tr>\n",
              "      <th>1</th>\n",
              "      <td>7.0</td>\n",
              "      <td>26.5</td>\n",
              "      <td>28.0</td>\n",
              "      <td>235.0</td>\n",
              "    </tr>\n",
              "    <tr>\n",
              "      <th>2</th>\n",
              "      <td>4.0</td>\n",
              "      <td>26.5</td>\n",
              "      <td>28.0</td>\n",
              "      <td>235.0</td>\n",
              "    </tr>\n",
              "    <tr>\n",
              "      <th>3</th>\n",
              "      <td>9.0</td>\n",
              "      <td>26.5</td>\n",
              "      <td>28.0</td>\n",
              "      <td>235.0</td>\n",
              "    </tr>\n",
              "    <tr>\n",
              "      <th>4</th>\n",
              "      <td>8.0</td>\n",
              "      <td>25.8</td>\n",
              "      <td>29.0</td>\n",
              "      <td>245.0</td>\n",
              "    </tr>\n",
              "  </tbody>\n",
              "</table>\n",
              "</div>"
            ],
            "text/plain": [
              "   PM2.5  temp  wind speed  wind dir\n",
              "0    5.0  26.5        28.0     235.0\n",
              "1    7.0  26.5        28.0     235.0\n",
              "2    4.0  26.5        28.0     235.0\n",
              "3    9.0  26.5        28.0     235.0\n",
              "4    8.0  25.8        29.0     245.0"
            ]
          },
          "execution_count": 128,
          "metadata": {},
          "output_type": "execute_result"
        }
      ],
      "source": [
        "data_training = data_training.drop(['date_time', 'lat', 'long'], axis = 1)\n",
        "data_training.head()"
      ]
    },
    {
      "cell_type": "code",
      "execution_count": 129,
      "metadata": {
        "colab": {
          "base_uri": "https://localhost:8080/",
          "height": 206
        },
        "id": "jONlufFv2NPo",
        "outputId": "c117c196-d411-4a06-c1f3-c5aeeef87c7e"
      },
      "outputs": [
        {
          "data": {
            "text/html": [
              "<div>\n",
              "<style scoped>\n",
              "    .dataframe tbody tr th:only-of-type {\n",
              "        vertical-align: middle;\n",
              "    }\n",
              "\n",
              "    .dataframe tbody tr th {\n",
              "        vertical-align: top;\n",
              "    }\n",
              "\n",
              "    .dataframe thead th {\n",
              "        text-align: right;\n",
              "    }\n",
              "</style>\n",
              "<table border=\"1\" class=\"dataframe\">\n",
              "  <thead>\n",
              "    <tr style=\"text-align: right;\">\n",
              "      <th></th>\n",
              "      <th>Unnamed: 0</th>\n",
              "      <th>date_time</th>\n",
              "      <th>PM2.5</th>\n",
              "      <th>temp</th>\n",
              "      <th>wind speed</th>\n",
              "      <th>wind dir</th>\n",
              "      <th>lat</th>\n",
              "      <th>long</th>\n",
              "    </tr>\n",
              "  </thead>\n",
              "  <tbody>\n",
              "    <tr>\n",
              "      <th>6631</th>\n",
              "      <td>6631</td>\n",
              "      <td>2021-04-03 07:00:00</td>\n",
              "      <td>32.0</td>\n",
              "      <td>27.2</td>\n",
              "      <td>13</td>\n",
              "      <td>170</td>\n",
              "      <td>16.445329</td>\n",
              "      <td>102.835251</td>\n",
              "    </tr>\n",
              "    <tr>\n",
              "      <th>3429</th>\n",
              "      <td>3429</td>\n",
              "      <td>2020-11-20 21:00:00</td>\n",
              "      <td>33.0</td>\n",
              "      <td>27.5</td>\n",
              "      <td>4</td>\n",
              "      <td>15</td>\n",
              "      <td>16.445329</td>\n",
              "      <td>102.835251</td>\n",
              "    </tr>\n",
              "    <tr>\n",
              "      <th>5920</th>\n",
              "      <td>5920</td>\n",
              "      <td>2021-03-04 16:00:00</td>\n",
              "      <td>33.0</td>\n",
              "      <td>32.1</td>\n",
              "      <td>8</td>\n",
              "      <td>210</td>\n",
              "      <td>16.445329</td>\n",
              "      <td>102.835251</td>\n",
              "    </tr>\n",
              "    <tr>\n",
              "      <th>1004</th>\n",
              "      <td>1004</td>\n",
              "      <td>2020-08-11 20:00:00</td>\n",
              "      <td>22.0</td>\n",
              "      <td>28.2</td>\n",
              "      <td>4</td>\n",
              "      <td>275</td>\n",
              "      <td>16.445329</td>\n",
              "      <td>102.835251</td>\n",
              "    </tr>\n",
              "    <tr>\n",
              "      <th>3247</th>\n",
              "      <td>3247</td>\n",
              "      <td>2020-11-13 07:00:00</td>\n",
              "      <td>38.0</td>\n",
              "      <td>19.5</td>\n",
              "      <td>25</td>\n",
              "      <td>55</td>\n",
              "      <td>16.445329</td>\n",
              "      <td>102.835251</td>\n",
              "    </tr>\n",
              "  </tbody>\n",
              "</table>\n",
              "</div>"
            ],
            "text/plain": [
              "      Unnamed: 0            date_time  PM2.5  temp  wind speed  wind dir  \\\n",
              "6631        6631  2021-04-03 07:00:00   32.0  27.2          13       170   \n",
              "3429        3429  2020-11-20 21:00:00   33.0  27.5           4        15   \n",
              "5920        5920  2021-03-04 16:00:00   33.0  32.1           8       210   \n",
              "1004        1004  2020-08-11 20:00:00   22.0  28.2           4       275   \n",
              "3247        3247  2020-11-13 07:00:00   38.0  19.5          25        55   \n",
              "\n",
              "            lat        long  \n",
              "6631  16.445329  102.835251  \n",
              "3429  16.445329  102.835251  \n",
              "5920  16.445329  102.835251  \n",
              "1004  16.445329  102.835251  \n",
              "3247  16.445329  102.835251  "
            ]
          },
          "execution_count": 129,
          "metadata": {},
          "output_type": "execute_result"
        }
      ],
      "source": [
        "data_test = pd.read_csv(province+'_clean.csv', date_parser = True)\n",
        "data_test.sample(5)"
      ]
    },
    {
      "cell_type": "code",
      "execution_count": 130,
      "metadata": {
        "colab": {
          "base_uri": "https://localhost:8080/",
          "height": 206
        },
        "id": "ZM_Hn5LcUDqd",
        "outputId": "7c170d33-a52a-4b5e-f057-5d16a4355a2d"
      },
      "outputs": [
        {
          "data": {
            "text/html": [
              "<div>\n",
              "<style scoped>\n",
              "    .dataframe tbody tr th:only-of-type {\n",
              "        vertical-align: middle;\n",
              "    }\n",
              "\n",
              "    .dataframe tbody tr th {\n",
              "        vertical-align: top;\n",
              "    }\n",
              "\n",
              "    .dataframe thead th {\n",
              "        text-align: right;\n",
              "    }\n",
              "</style>\n",
              "<table border=\"1\" class=\"dataframe\">\n",
              "  <thead>\n",
              "    <tr style=\"text-align: right;\">\n",
              "      <th></th>\n",
              "      <th>date_time</th>\n",
              "      <th>PM2.5</th>\n",
              "      <th>temp</th>\n",
              "      <th>wind speed</th>\n",
              "      <th>wind dir</th>\n",
              "    </tr>\n",
              "  </thead>\n",
              "  <tbody>\n",
              "    <tr>\n",
              "      <th>0</th>\n",
              "      <td>2020-07-01 00:00:00</td>\n",
              "      <td>11.0</td>\n",
              "      <td>27.6</td>\n",
              "      <td>21</td>\n",
              "      <td>230</td>\n",
              "    </tr>\n",
              "    <tr>\n",
              "      <th>1</th>\n",
              "      <td>2020-07-01 01:00:00</td>\n",
              "      <td>14.0</td>\n",
              "      <td>26.7</td>\n",
              "      <td>37</td>\n",
              "      <td>240</td>\n",
              "    </tr>\n",
              "    <tr>\n",
              "      <th>2</th>\n",
              "      <td>2020-07-01 02:00:00</td>\n",
              "      <td>15.0</td>\n",
              "      <td>26.7</td>\n",
              "      <td>37</td>\n",
              "      <td>240</td>\n",
              "    </tr>\n",
              "    <tr>\n",
              "      <th>3</th>\n",
              "      <td>2020-07-01 03:00:00</td>\n",
              "      <td>11.0</td>\n",
              "      <td>26.7</td>\n",
              "      <td>37</td>\n",
              "      <td>240</td>\n",
              "    </tr>\n",
              "    <tr>\n",
              "      <th>4</th>\n",
              "      <td>2020-07-01 04:00:00</td>\n",
              "      <td>9.0</td>\n",
              "      <td>25.5</td>\n",
              "      <td>39</td>\n",
              "      <td>255</td>\n",
              "    </tr>\n",
              "  </tbody>\n",
              "</table>\n",
              "</div>"
            ],
            "text/plain": [
              "             date_time  PM2.5  temp  wind speed  wind dir\n",
              "0  2020-07-01 00:00:00   11.0  27.6          21       230\n",
              "1  2020-07-01 01:00:00   14.0  26.7          37       240\n",
              "2  2020-07-01 02:00:00   15.0  26.7          37       240\n",
              "3  2020-07-01 03:00:00   11.0  26.7          37       240\n",
              "4  2020-07-01 04:00:00    9.0  25.5          39       255"
            ]
          },
          "execution_count": 130,
          "metadata": {},
          "output_type": "execute_result"
        }
      ],
      "source": [
        "data_test = data_test.drop(['Unnamed: 0', 'lat', 'long'], axis = 1)\n",
        "data_test.head()"
      ]
    },
    {
      "cell_type": "markdown",
      "metadata": {
        "id": "g_HAazl2m2A8"
      },
      "source": [
        "## Normalize data"
      ]
    },
    {
      "cell_type": "code",
      "execution_count": 131,
      "metadata": {
        "id": "khw4M2JsdiKT"
      },
      "outputs": [],
      "source": [
        "scaler = MinMaxScaler()\n",
        "data_training = scaler.fit_transform(data_training)"
      ]
    },
    {
      "cell_type": "code",
      "execution_count": 132,
      "metadata": {
        "colab": {
          "base_uri": "https://localhost:8080/"
        },
        "id": "Kmz-nS6w4cPU",
        "outputId": "15b1312a-438d-4226-d41b-90ca1698b11e"
      },
      "outputs": [
        {
          "data": {
            "text/plain": [
              "array([[  5. ,  26.5,  28. , 235. ],\n",
              "       [  7. ,  26.5,  28. , 235. ],\n",
              "       [  4. ,  26.5,  28. , 235. ],\n",
              "       ...,\n",
              "       [ 22. ,  29.6,  20. , 235. ],\n",
              "       [ 20. ,  29.6,  21. , 230. ],\n",
              "       [ 13. ,  29.6,  21. , 230. ]])"
            ]
          },
          "execution_count": 132,
          "metadata": {},
          "output_type": "execute_result"
        }
      ],
      "source": [
        "scaler.inverse_transform(data_training)"
      ]
    },
    {
      "cell_type": "code",
      "execution_count": 133,
      "metadata": {
        "colab": {
          "base_uri": "https://localhost:8080/"
        },
        "id": "rvb9MZW42RyZ",
        "outputId": "ef485aaa-23d5-48ab-c27b-6d349993e831"
      },
      "outputs": [
        {
          "data": {
            "text/plain": [
              "array([[  3.99418605,  15.77088608,  28.        , 235.        ],\n",
              "       [  5.99418605,  15.77088608,  28.        , 235.        ],\n",
              "       [  2.99418605,  15.77088608,  28.        , 235.        ],\n",
              "       ...,\n",
              "       [ 20.99418605,  18.87088608,  20.        , 235.        ],\n",
              "       [ 18.99418605,  18.87088608,  21.        , 230.        ],\n",
              "       [ 11.99418605,  18.87088608,  21.        , 230.        ]])"
            ]
          },
          "execution_count": 133,
          "metadata": {},
          "output_type": "execute_result"
        }
      ],
      "source": [
        "scale = 1/scaler.scale_\n",
        "temp = (data_training * scale) + scaler.min_\n",
        "temp"
      ]
    },
    {
      "cell_type": "code",
      "execution_count": 134,
      "metadata": {
        "colab": {
          "base_uri": "https://localhost:8080/"
        },
        "id": "XTv34OA1dlRq",
        "outputId": "2282af71-9e98-4171-e44e-4acee54e27aa"
      },
      "outputs": [
        {
          "data": {
            "text/plain": [
              "array([[0.02325581, 0.50949367, 0.32941176, 0.65277778],\n",
              "       [0.03488372, 0.50949367, 0.32941176, 0.65277778],\n",
              "       [0.01744186, 0.50949367, 0.32941176, 0.65277778],\n",
              "       [0.04651163, 0.50949367, 0.32941176, 0.65277778],\n",
              "       [0.04069767, 0.48734177, 0.34117647, 0.68055556],\n",
              "       [0.02906977, 0.48734177, 0.34117647, 0.68055556],\n",
              "       [0.04069767, 0.48734177, 0.34117647, 0.68055556],\n",
              "       [0.02906977, 0.50949367, 0.32941176, 0.68055556],\n",
              "       [0.03488372, 0.50949367, 0.32941176, 0.68055556],\n",
              "       [0.03488372, 0.50949367, 0.32941176, 0.68055556]])"
            ]
          },
          "execution_count": 134,
          "metadata": {},
          "output_type": "execute_result"
        }
      ],
      "source": [
        "data_training[0:10]"
      ]
    },
    {
      "cell_type": "code",
      "execution_count": 135,
      "metadata": {
        "id": "W4926pfpdoE0"
      },
      "outputs": [],
      "source": [
        "X_train = []\n",
        "y_train = []\n",
        "\n",
        "for i in range(60, data_training.shape[0]):\n",
        "    X_train.append(data_training[i-60:i])\n",
        "    y_train.append(data_training[i, 0])\n",
        "\n",
        "X_train, y_train = np.array(X_train), np.array(y_train)"
      ]
    },
    {
      "cell_type": "code",
      "execution_count": 136,
      "metadata": {
        "colab": {
          "base_uri": "https://localhost:8080/"
        },
        "id": "HO6hoNDRdsQI",
        "outputId": "03f59c3b-878e-443c-eedd-24f4a28d6ff7"
      },
      "outputs": [
        {
          "data": {
            "text/plain": [
              "(26244, 60, 4)"
            ]
          },
          "execution_count": 136,
          "metadata": {},
          "output_type": "execute_result"
        }
      ],
      "source": [
        "X_train.shape"
      ]
    },
    {
      "cell_type": "markdown",
      "metadata": {
        "id": "KTABZEIKjCTN"
      },
      "source": [
        "# Building Model1: LSTM"
      ]
    },
    {
      "cell_type": "code",
      "execution_count": 137,
      "metadata": {
        "id": "T5ByHACkduvK"
      },
      "outputs": [],
      "source": [
        "import tensorflow as tf\n",
        "from tensorflow.keras import Sequential\n",
        "from tensorflow.keras.layers import Dense, LSTM, Dropout"
      ]
    },
    {
      "cell_type": "code",
      "execution_count": 138,
      "metadata": {
        "colab": {
          "base_uri": "https://localhost:8080/",
          "height": 35
        },
        "id": "Zw2TuO9j5tAT",
        "outputId": "a75290c1-c563-448a-ec0b-95a0332fe87f"
      },
      "outputs": [
        {
          "data": {
            "text/plain": [
              "'2.8.0'"
            ]
          },
          "execution_count": 138,
          "metadata": {},
          "output_type": "execute_result"
        }
      ],
      "source": [
        "tf.__version__"
      ]
    },
    {
      "cell_type": "code",
      "execution_count": 139,
      "metadata": {
        "id": "6PwBHKiCdxBy"
      },
      "outputs": [],
      "source": [
        "modelLSTM = Sequential()\n",
        "\n",
        "modelLSTM.add(LSTM(units = 60, activation = 'relu', return_sequences = True, input_shape = (X_train.shape[1], 4)))\n",
        "modelLSTM.add(Dropout(0.2))\n",
        "\n",
        "# modelLSTM.add(LSTM(units = 60, activation = 'relu', return_sequences = True))\n",
        "# modelLSTM.add(Dropout(0.2))\n",
        "\n",
        "# modelLSTM.add(LSTM(units = 80, activation = 'relu', return_sequences = True))\n",
        "# modelLSTM.add(Dropout(0.2))\n",
        "\n",
        "\n",
        "# modelLSTM.add(LSTM(units = 160, activation = 'relu', return_sequences = True))\n",
        "# modelLSTM.add(Dropout(0.2))\n",
        "# modelLSTM.add(LSTM(units = 160, activation = 'relu', return_sequences = True))\n",
        "# modelLSTM.add(Dropout(0.2))\n",
        "# modelLSTM.add(LSTM(units = 160, activation = 'relu', return_sequences = True))\n",
        "# modelLSTM.add(Dropout(0.2))\n",
        "\n",
        "\n",
        "modelLSTM.add(LSTM(units = 120, activation = 'relu'))\n",
        "modelLSTM.add(Dropout(0.2))\n",
        "\n",
        "\n",
        "\n",
        "modelLSTM.add(Dense(units = 1))"
      ]
    },
    {
      "cell_type": "code",
      "execution_count": 140,
      "metadata": {
        "colab": {
          "base_uri": "https://localhost:8080/"
        },
        "id": "OruphK2TdzFB",
        "outputId": "a1985c4e-d227-4c86-cb42-fe4f48a4b574"
      },
      "outputs": [
        {
          "name": "stdout",
          "output_type": "stream",
          "text": [
            "Model: \"sequential_3\"\n",
            "_________________________________________________________________\n",
            " Layer (type)                Output Shape              Param #   \n",
            "=================================================================\n",
            " lstm_12 (LSTM)              (None, 60, 60)            15600     \n",
            "                                                                 \n",
            " dropout_12 (Dropout)        (None, 60, 60)            0         \n",
            "                                                                 \n",
            " lstm_13 (LSTM)              (None, 120)               86880     \n",
            "                                                                 \n",
            " dropout_13 (Dropout)        (None, 120)               0         \n",
            "                                                                 \n",
            " dense_3 (Dense)             (None, 1)                 121       \n",
            "                                                                 \n",
            "=================================================================\n",
            "Total params: 102,601\n",
            "Trainable params: 102,601\n",
            "Non-trainable params: 0\n",
            "_________________________________________________________________\n"
          ]
        }
      ],
      "source": [
        "modelLSTM.summary()"
      ]
    },
    {
      "cell_type": "code",
      "execution_count": 141,
      "metadata": {
        "id": "JFWU6JktosN_"
      },
      "outputs": [],
      "source": [
        "from tensorflow.keras.callbacks import EarlyStopping, ModelCheckpoint, ReduceLROnPlateau"
      ]
    },
    {
      "cell_type": "code",
      "execution_count": 142,
      "metadata": {
        "id": "F2jd8nTRp9kq"
      },
      "outputs": [],
      "source": [
        "#create callback\n",
        "filepath = 'my_best_modelLSTM_yourself.hdf5'\n",
        "checkpoint = ModelCheckpoint(filepath=filepath, \n",
        "                             monitor='loss',\n",
        "                             verbose=0, \n",
        "                             save_best_only=True,\n",
        "                             mode='min')\n",
        "\n",
        "earlystopping = EarlyStopping(\n",
        "    monitor='loss', \n",
        "    patience=3, \n",
        "    min_delta=0, \n",
        "    mode='auto'\n",
        ")\n",
        "\n",
        "reduce_lr = ReduceLROnPlateau(\n",
        "    monitor='loss', \n",
        "    factor=0.2,   \n",
        "    patience=2, \n",
        "    min_lr=0.001,\n",
        "    verbose=0\n",
        ")\n",
        "callbacks = [checkpoint, earlystopping, reduce_lr]"
      ]
    },
    {
      "cell_type": "code",
      "execution_count": 143,
      "metadata": {
        "id": "7alsTCdPd5PY"
      },
      "outputs": [],
      "source": [
        "modelLSTM.compile(optimizer='adam', loss = 'mean_squared_error')"
      ]
    },
    {
      "cell_type": "code",
      "execution_count": 144,
      "metadata": {
        "colab": {
          "base_uri": "https://localhost:8080/"
        },
        "id": "jJGUMaN7wafJ",
        "outputId": "99c99a14-509d-4f56-a2fc-b13512fb7507"
      },
      "outputs": [
        {
          "name": "stdout",
          "output_type": "stream",
          "text": [
            "Epoch 1/10\n",
            "821/821 [==============================] - 93s 104ms/step - loss: 0.0037 - lr: 0.0010\n",
            "Epoch 2/10\n",
            "821/821 [==============================] - 93s 113ms/step - loss: 0.0021 - lr: 0.0010\n",
            "Epoch 3/10\n",
            "821/821 [==============================] - 94s 115ms/step - loss: 0.0017 - lr: 0.0010\n",
            "Epoch 4/10\n",
            "821/821 [==============================] - 95s 115ms/step - loss: 0.0015 - lr: 0.0010\n",
            "Epoch 5/10\n",
            "821/821 [==============================] - 95s 116ms/step - loss: 0.0015 - lr: 0.0010\n",
            "Epoch 6/10\n",
            "821/821 [==============================] - 94s 115ms/step - loss: 0.0014 - lr: 0.0010\n",
            "Epoch 7/10\n",
            "821/821 [==============================] - 94s 115ms/step - loss: 0.0014 - lr: 0.0010\n",
            "Epoch 8/10\n",
            "821/821 [==============================] - 94s 114ms/step - loss: 0.0014 - lr: 0.0010\n",
            "Epoch 9/10\n",
            "821/821 [==============================] - 94s 115ms/step - loss: 0.0014 - lr: 0.0010\n",
            "Epoch 10/10\n",
            "821/821 [==============================] - 94s 115ms/step - loss: 0.0014 - lr: 0.0010\n"
          ]
        }
      ],
      "source": [
        "history = modelLSTM.fit(X_train, y_train, epochs=10, batch_size=32, callbacks=callbacks)"
      ]
    },
    {
      "cell_type": "markdown",
      "metadata": {
        "id": "L72hkQl5d-8Q"
      },
      "source": [
        "# Testing"
      ]
    },
    {
      "cell_type": "code",
      "execution_count": 145,
      "metadata": {
        "id": "lW-wyZdr_lPa"
      },
      "outputs": [],
      "source": [
        "data_training = pd.read_csv(province+'/train/'+province.lower()+'_train_format.csv', date_parser = True)\n",
        "data_training = data_training.drop(['date_time', 'lat', 'long'], axis = 1)"
      ]
    },
    {
      "cell_type": "code",
      "execution_count": 146,
      "metadata": {
        "id": "A8CcvG9azYVw"
      },
      "outputs": [
        {
          "data": {
            "text/html": [
              "<div>\n",
              "<style scoped>\n",
              "    .dataframe tbody tr th:only-of-type {\n",
              "        vertical-align: middle;\n",
              "    }\n",
              "\n",
              "    .dataframe tbody tr th {\n",
              "        vertical-align: top;\n",
              "    }\n",
              "\n",
              "    .dataframe thead th {\n",
              "        text-align: right;\n",
              "    }\n",
              "</style>\n",
              "<table border=\"1\" class=\"dataframe\">\n",
              "  <thead>\n",
              "    <tr style=\"text-align: right;\">\n",
              "      <th></th>\n",
              "      <th>PM2.5</th>\n",
              "      <th>temp</th>\n",
              "      <th>wind speed</th>\n",
              "      <th>wind dir</th>\n",
              "    </tr>\n",
              "  </thead>\n",
              "  <tbody>\n",
              "    <tr>\n",
              "      <th>26244</th>\n",
              "      <td>13.0</td>\n",
              "      <td>29.6</td>\n",
              "      <td>15.0</td>\n",
              "      <td>195.0</td>\n",
              "    </tr>\n",
              "    <tr>\n",
              "      <th>26245</th>\n",
              "      <td>20.0</td>\n",
              "      <td>29.6</td>\n",
              "      <td>7.0</td>\n",
              "      <td>200.0</td>\n",
              "    </tr>\n",
              "    <tr>\n",
              "      <th>26246</th>\n",
              "      <td>16.0</td>\n",
              "      <td>29.6</td>\n",
              "      <td>7.0</td>\n",
              "      <td>200.0</td>\n",
              "    </tr>\n",
              "    <tr>\n",
              "      <th>26247</th>\n",
              "      <td>9.0</td>\n",
              "      <td>29.6</td>\n",
              "      <td>7.0</td>\n",
              "      <td>200.0</td>\n",
              "    </tr>\n",
              "    <tr>\n",
              "      <th>26248</th>\n",
              "      <td>16.0</td>\n",
              "      <td>29.6</td>\n",
              "      <td>7.0</td>\n",
              "      <td>200.0</td>\n",
              "    </tr>\n",
              "    <tr>\n",
              "      <th>26249</th>\n",
              "      <td>13.0</td>\n",
              "      <td>29.6</td>\n",
              "      <td>7.0</td>\n",
              "      <td>200.0</td>\n",
              "    </tr>\n",
              "    <tr>\n",
              "      <th>26250</th>\n",
              "      <td>14.0</td>\n",
              "      <td>29.6</td>\n",
              "      <td>7.0</td>\n",
              "      <td>200.0</td>\n",
              "    </tr>\n",
              "    <tr>\n",
              "      <th>26251</th>\n",
              "      <td>19.0</td>\n",
              "      <td>29.6</td>\n",
              "      <td>13.0</td>\n",
              "      <td>180.0</td>\n",
              "    </tr>\n",
              "    <tr>\n",
              "      <th>26252</th>\n",
              "      <td>35.0</td>\n",
              "      <td>29.6</td>\n",
              "      <td>13.0</td>\n",
              "      <td>180.0</td>\n",
              "    </tr>\n",
              "    <tr>\n",
              "      <th>26253</th>\n",
              "      <td>23.0</td>\n",
              "      <td>29.6</td>\n",
              "      <td>13.0</td>\n",
              "      <td>180.0</td>\n",
              "    </tr>\n",
              "    <tr>\n",
              "      <th>26254</th>\n",
              "      <td>23.0</td>\n",
              "      <td>29.6</td>\n",
              "      <td>19.0</td>\n",
              "      <td>170.0</td>\n",
              "    </tr>\n",
              "    <tr>\n",
              "      <th>26255</th>\n",
              "      <td>17.0</td>\n",
              "      <td>29.6</td>\n",
              "      <td>19.0</td>\n",
              "      <td>170.0</td>\n",
              "    </tr>\n",
              "    <tr>\n",
              "      <th>26256</th>\n",
              "      <td>14.0</td>\n",
              "      <td>29.6</td>\n",
              "      <td>19.0</td>\n",
              "      <td>170.0</td>\n",
              "    </tr>\n",
              "    <tr>\n",
              "      <th>26257</th>\n",
              "      <td>19.0</td>\n",
              "      <td>29.6</td>\n",
              "      <td>14.0</td>\n",
              "      <td>175.0</td>\n",
              "    </tr>\n",
              "    <tr>\n",
              "      <th>26258</th>\n",
              "      <td>15.0</td>\n",
              "      <td>29.6</td>\n",
              "      <td>14.0</td>\n",
              "      <td>175.0</td>\n",
              "    </tr>\n",
              "    <tr>\n",
              "      <th>26259</th>\n",
              "      <td>21.0</td>\n",
              "      <td>29.6</td>\n",
              "      <td>14.0</td>\n",
              "      <td>175.0</td>\n",
              "    </tr>\n",
              "    <tr>\n",
              "      <th>26260</th>\n",
              "      <td>15.0</td>\n",
              "      <td>29.6</td>\n",
              "      <td>20.0</td>\n",
              "      <td>210.0</td>\n",
              "    </tr>\n",
              "    <tr>\n",
              "      <th>26261</th>\n",
              "      <td>16.0</td>\n",
              "      <td>29.6</td>\n",
              "      <td>20.0</td>\n",
              "      <td>210.0</td>\n",
              "    </tr>\n",
              "    <tr>\n",
              "      <th>26262</th>\n",
              "      <td>22.0</td>\n",
              "      <td>29.6</td>\n",
              "      <td>20.0</td>\n",
              "      <td>210.0</td>\n",
              "    </tr>\n",
              "    <tr>\n",
              "      <th>26263</th>\n",
              "      <td>17.0</td>\n",
              "      <td>29.6</td>\n",
              "      <td>10.0</td>\n",
              "      <td>240.0</td>\n",
              "    </tr>\n",
              "    <tr>\n",
              "      <th>26264</th>\n",
              "      <td>21.0</td>\n",
              "      <td>29.6</td>\n",
              "      <td>10.0</td>\n",
              "      <td>240.0</td>\n",
              "    </tr>\n",
              "    <tr>\n",
              "      <th>26265</th>\n",
              "      <td>17.0</td>\n",
              "      <td>29.6</td>\n",
              "      <td>10.0</td>\n",
              "      <td>240.0</td>\n",
              "    </tr>\n",
              "    <tr>\n",
              "      <th>26266</th>\n",
              "      <td>22.0</td>\n",
              "      <td>29.6</td>\n",
              "      <td>11.0</td>\n",
              "      <td>250.0</td>\n",
              "    </tr>\n",
              "    <tr>\n",
              "      <th>26267</th>\n",
              "      <td>22.0</td>\n",
              "      <td>29.6</td>\n",
              "      <td>11.0</td>\n",
              "      <td>250.0</td>\n",
              "    </tr>\n",
              "    <tr>\n",
              "      <th>26268</th>\n",
              "      <td>19.0</td>\n",
              "      <td>29.6</td>\n",
              "      <td>11.0</td>\n",
              "      <td>250.0</td>\n",
              "    </tr>\n",
              "    <tr>\n",
              "      <th>26269</th>\n",
              "      <td>20.0</td>\n",
              "      <td>29.6</td>\n",
              "      <td>10.0</td>\n",
              "      <td>220.0</td>\n",
              "    </tr>\n",
              "    <tr>\n",
              "      <th>26270</th>\n",
              "      <td>18.0</td>\n",
              "      <td>29.6</td>\n",
              "      <td>10.0</td>\n",
              "      <td>220.0</td>\n",
              "    </tr>\n",
              "    <tr>\n",
              "      <th>26271</th>\n",
              "      <td>20.0</td>\n",
              "      <td>29.6</td>\n",
              "      <td>10.0</td>\n",
              "      <td>220.0</td>\n",
              "    </tr>\n",
              "    <tr>\n",
              "      <th>26272</th>\n",
              "      <td>15.0</td>\n",
              "      <td>29.6</td>\n",
              "      <td>12.0</td>\n",
              "      <td>215.0</td>\n",
              "    </tr>\n",
              "    <tr>\n",
              "      <th>26273</th>\n",
              "      <td>13.0</td>\n",
              "      <td>29.6</td>\n",
              "      <td>12.0</td>\n",
              "      <td>215.0</td>\n",
              "    </tr>\n",
              "    <tr>\n",
              "      <th>26274</th>\n",
              "      <td>17.0</td>\n",
              "      <td>29.6</td>\n",
              "      <td>12.0</td>\n",
              "      <td>215.0</td>\n",
              "    </tr>\n",
              "    <tr>\n",
              "      <th>26275</th>\n",
              "      <td>17.0</td>\n",
              "      <td>29.6</td>\n",
              "      <td>18.0</td>\n",
              "      <td>195.0</td>\n",
              "    </tr>\n",
              "    <tr>\n",
              "      <th>26276</th>\n",
              "      <td>20.0</td>\n",
              "      <td>29.6</td>\n",
              "      <td>18.0</td>\n",
              "      <td>195.0</td>\n",
              "    </tr>\n",
              "    <tr>\n",
              "      <th>26277</th>\n",
              "      <td>18.0</td>\n",
              "      <td>29.6</td>\n",
              "      <td>18.0</td>\n",
              "      <td>195.0</td>\n",
              "    </tr>\n",
              "    <tr>\n",
              "      <th>26278</th>\n",
              "      <td>15.0</td>\n",
              "      <td>29.6</td>\n",
              "      <td>21.0</td>\n",
              "      <td>205.0</td>\n",
              "    </tr>\n",
              "    <tr>\n",
              "      <th>26279</th>\n",
              "      <td>11.0</td>\n",
              "      <td>29.6</td>\n",
              "      <td>21.0</td>\n",
              "      <td>205.0</td>\n",
              "    </tr>\n",
              "    <tr>\n",
              "      <th>26280</th>\n",
              "      <td>12.0</td>\n",
              "      <td>29.6</td>\n",
              "      <td>21.0</td>\n",
              "      <td>205.0</td>\n",
              "    </tr>\n",
              "    <tr>\n",
              "      <th>26281</th>\n",
              "      <td>14.0</td>\n",
              "      <td>29.6</td>\n",
              "      <td>31.0</td>\n",
              "      <td>215.0</td>\n",
              "    </tr>\n",
              "    <tr>\n",
              "      <th>26282</th>\n",
              "      <td>11.0</td>\n",
              "      <td>29.6</td>\n",
              "      <td>31.0</td>\n",
              "      <td>215.0</td>\n",
              "    </tr>\n",
              "    <tr>\n",
              "      <th>26283</th>\n",
              "      <td>19.0</td>\n",
              "      <td>29.6</td>\n",
              "      <td>31.0</td>\n",
              "      <td>215.0</td>\n",
              "    </tr>\n",
              "    <tr>\n",
              "      <th>26284</th>\n",
              "      <td>15.0</td>\n",
              "      <td>29.6</td>\n",
              "      <td>31.0</td>\n",
              "      <td>220.0</td>\n",
              "    </tr>\n",
              "    <tr>\n",
              "      <th>26285</th>\n",
              "      <td>13.0</td>\n",
              "      <td>29.6</td>\n",
              "      <td>31.0</td>\n",
              "      <td>220.0</td>\n",
              "    </tr>\n",
              "    <tr>\n",
              "      <th>26286</th>\n",
              "      <td>14.0</td>\n",
              "      <td>29.6</td>\n",
              "      <td>31.0</td>\n",
              "      <td>220.0</td>\n",
              "    </tr>\n",
              "    <tr>\n",
              "      <th>26287</th>\n",
              "      <td>15.0</td>\n",
              "      <td>29.6</td>\n",
              "      <td>20.0</td>\n",
              "      <td>235.0</td>\n",
              "    </tr>\n",
              "    <tr>\n",
              "      <th>26288</th>\n",
              "      <td>15.0</td>\n",
              "      <td>29.6</td>\n",
              "      <td>20.0</td>\n",
              "      <td>235.0</td>\n",
              "    </tr>\n",
              "    <tr>\n",
              "      <th>26289</th>\n",
              "      <td>15.0</td>\n",
              "      <td>29.6</td>\n",
              "      <td>20.0</td>\n",
              "      <td>235.0</td>\n",
              "    </tr>\n",
              "    <tr>\n",
              "      <th>26290</th>\n",
              "      <td>17.0</td>\n",
              "      <td>29.6</td>\n",
              "      <td>18.0</td>\n",
              "      <td>255.0</td>\n",
              "    </tr>\n",
              "    <tr>\n",
              "      <th>26291</th>\n",
              "      <td>13.0</td>\n",
              "      <td>29.6</td>\n",
              "      <td>18.0</td>\n",
              "      <td>255.0</td>\n",
              "    </tr>\n",
              "    <tr>\n",
              "      <th>26292</th>\n",
              "      <td>12.0</td>\n",
              "      <td>29.6</td>\n",
              "      <td>18.0</td>\n",
              "      <td>255.0</td>\n",
              "    </tr>\n",
              "    <tr>\n",
              "      <th>26293</th>\n",
              "      <td>16.0</td>\n",
              "      <td>29.6</td>\n",
              "      <td>22.0</td>\n",
              "      <td>230.0</td>\n",
              "    </tr>\n",
              "    <tr>\n",
              "      <th>26294</th>\n",
              "      <td>13.0</td>\n",
              "      <td>29.6</td>\n",
              "      <td>22.0</td>\n",
              "      <td>230.0</td>\n",
              "    </tr>\n",
              "    <tr>\n",
              "      <th>26295</th>\n",
              "      <td>11.0</td>\n",
              "      <td>29.6</td>\n",
              "      <td>22.0</td>\n",
              "      <td>230.0</td>\n",
              "    </tr>\n",
              "    <tr>\n",
              "      <th>26296</th>\n",
              "      <td>11.0</td>\n",
              "      <td>29.6</td>\n",
              "      <td>21.0</td>\n",
              "      <td>240.0</td>\n",
              "    </tr>\n",
              "    <tr>\n",
              "      <th>26297</th>\n",
              "      <td>12.0</td>\n",
              "      <td>29.6</td>\n",
              "      <td>21.0</td>\n",
              "      <td>240.0</td>\n",
              "    </tr>\n",
              "    <tr>\n",
              "      <th>26298</th>\n",
              "      <td>17.0</td>\n",
              "      <td>29.6</td>\n",
              "      <td>21.0</td>\n",
              "      <td>240.0</td>\n",
              "    </tr>\n",
              "    <tr>\n",
              "      <th>26299</th>\n",
              "      <td>13.0</td>\n",
              "      <td>29.6</td>\n",
              "      <td>20.0</td>\n",
              "      <td>235.0</td>\n",
              "    </tr>\n",
              "    <tr>\n",
              "      <th>26300</th>\n",
              "      <td>18.0</td>\n",
              "      <td>29.6</td>\n",
              "      <td>20.0</td>\n",
              "      <td>235.0</td>\n",
              "    </tr>\n",
              "    <tr>\n",
              "      <th>26301</th>\n",
              "      <td>22.0</td>\n",
              "      <td>29.6</td>\n",
              "      <td>20.0</td>\n",
              "      <td>235.0</td>\n",
              "    </tr>\n",
              "    <tr>\n",
              "      <th>26302</th>\n",
              "      <td>20.0</td>\n",
              "      <td>29.6</td>\n",
              "      <td>21.0</td>\n",
              "      <td>230.0</td>\n",
              "    </tr>\n",
              "    <tr>\n",
              "      <th>26303</th>\n",
              "      <td>13.0</td>\n",
              "      <td>29.6</td>\n",
              "      <td>21.0</td>\n",
              "      <td>230.0</td>\n",
              "    </tr>\n",
              "  </tbody>\n",
              "</table>\n",
              "</div>"
            ],
            "text/plain": [
              "       PM2.5  temp  wind speed  wind dir\n",
              "26244   13.0  29.6        15.0     195.0\n",
              "26245   20.0  29.6         7.0     200.0\n",
              "26246   16.0  29.6         7.0     200.0\n",
              "26247    9.0  29.6         7.0     200.0\n",
              "26248   16.0  29.6         7.0     200.0\n",
              "26249   13.0  29.6         7.0     200.0\n",
              "26250   14.0  29.6         7.0     200.0\n",
              "26251   19.0  29.6        13.0     180.0\n",
              "26252   35.0  29.6        13.0     180.0\n",
              "26253   23.0  29.6        13.0     180.0\n",
              "26254   23.0  29.6        19.0     170.0\n",
              "26255   17.0  29.6        19.0     170.0\n",
              "26256   14.0  29.6        19.0     170.0\n",
              "26257   19.0  29.6        14.0     175.0\n",
              "26258   15.0  29.6        14.0     175.0\n",
              "26259   21.0  29.6        14.0     175.0\n",
              "26260   15.0  29.6        20.0     210.0\n",
              "26261   16.0  29.6        20.0     210.0\n",
              "26262   22.0  29.6        20.0     210.0\n",
              "26263   17.0  29.6        10.0     240.0\n",
              "26264   21.0  29.6        10.0     240.0\n",
              "26265   17.0  29.6        10.0     240.0\n",
              "26266   22.0  29.6        11.0     250.0\n",
              "26267   22.0  29.6        11.0     250.0\n",
              "26268   19.0  29.6        11.0     250.0\n",
              "26269   20.0  29.6        10.0     220.0\n",
              "26270   18.0  29.6        10.0     220.0\n",
              "26271   20.0  29.6        10.0     220.0\n",
              "26272   15.0  29.6        12.0     215.0\n",
              "26273   13.0  29.6        12.0     215.0\n",
              "26274   17.0  29.6        12.0     215.0\n",
              "26275   17.0  29.6        18.0     195.0\n",
              "26276   20.0  29.6        18.0     195.0\n",
              "26277   18.0  29.6        18.0     195.0\n",
              "26278   15.0  29.6        21.0     205.0\n",
              "26279   11.0  29.6        21.0     205.0\n",
              "26280   12.0  29.6        21.0     205.0\n",
              "26281   14.0  29.6        31.0     215.0\n",
              "26282   11.0  29.6        31.0     215.0\n",
              "26283   19.0  29.6        31.0     215.0\n",
              "26284   15.0  29.6        31.0     220.0\n",
              "26285   13.0  29.6        31.0     220.0\n",
              "26286   14.0  29.6        31.0     220.0\n",
              "26287   15.0  29.6        20.0     235.0\n",
              "26288   15.0  29.6        20.0     235.0\n",
              "26289   15.0  29.6        20.0     235.0\n",
              "26290   17.0  29.6        18.0     255.0\n",
              "26291   13.0  29.6        18.0     255.0\n",
              "26292   12.0  29.6        18.0     255.0\n",
              "26293   16.0  29.6        22.0     230.0\n",
              "26294   13.0  29.6        22.0     230.0\n",
              "26295   11.0  29.6        22.0     230.0\n",
              "26296   11.0  29.6        21.0     240.0\n",
              "26297   12.0  29.6        21.0     240.0\n",
              "26298   17.0  29.6        21.0     240.0\n",
              "26299   13.0  29.6        20.0     235.0\n",
              "26300   18.0  29.6        20.0     235.0\n",
              "26301   22.0  29.6        20.0     235.0\n",
              "26302   20.0  29.6        21.0     230.0\n",
              "26303   13.0  29.6        21.0     230.0"
            ]
          },
          "execution_count": 146,
          "metadata": {},
          "output_type": "execute_result"
        }
      ],
      "source": [
        "data_training.tail(60)"
      ]
    },
    {
      "cell_type": "code",
      "execution_count": 147,
      "metadata": {
        "id": "Sb-SV-wReAJL"
      },
      "outputs": [
        {
          "data": {
            "text/html": [
              "<div>\n",
              "<style scoped>\n",
              "    .dataframe tbody tr th:only-of-type {\n",
              "        vertical-align: middle;\n",
              "    }\n",
              "\n",
              "    .dataframe tbody tr th {\n",
              "        vertical-align: top;\n",
              "    }\n",
              "\n",
              "    .dataframe thead th {\n",
              "        text-align: right;\n",
              "    }\n",
              "</style>\n",
              "<table border=\"1\" class=\"dataframe\">\n",
              "  <thead>\n",
              "    <tr style=\"text-align: right;\">\n",
              "      <th></th>\n",
              "      <th>PM2.5</th>\n",
              "      <th>temp</th>\n",
              "      <th>wind speed</th>\n",
              "      <th>wind dir</th>\n",
              "    </tr>\n",
              "  </thead>\n",
              "  <tbody>\n",
              "    <tr>\n",
              "      <th>0</th>\n",
              "      <td>11.0</td>\n",
              "      <td>27.6</td>\n",
              "      <td>21</td>\n",
              "      <td>230</td>\n",
              "    </tr>\n",
              "    <tr>\n",
              "      <th>1</th>\n",
              "      <td>14.0</td>\n",
              "      <td>26.7</td>\n",
              "      <td>37</td>\n",
              "      <td>240</td>\n",
              "    </tr>\n",
              "    <tr>\n",
              "      <th>2</th>\n",
              "      <td>15.0</td>\n",
              "      <td>26.7</td>\n",
              "      <td>37</td>\n",
              "      <td>240</td>\n",
              "    </tr>\n",
              "    <tr>\n",
              "      <th>3</th>\n",
              "      <td>11.0</td>\n",
              "      <td>26.7</td>\n",
              "      <td>37</td>\n",
              "      <td>240</td>\n",
              "    </tr>\n",
              "    <tr>\n",
              "      <th>4</th>\n",
              "      <td>9.0</td>\n",
              "      <td>25.5</td>\n",
              "      <td>39</td>\n",
              "      <td>255</td>\n",
              "    </tr>\n",
              "  </tbody>\n",
              "</table>\n",
              "</div>"
            ],
            "text/plain": [
              "   PM2.5  temp  wind speed  wind dir\n",
              "0   11.0  27.6          21       230\n",
              "1   14.0  26.7          37       240\n",
              "2   15.0  26.7          37       240\n",
              "3   11.0  26.7          37       240\n",
              "4    9.0  25.5          39       255"
            ]
          },
          "execution_count": 147,
          "metadata": {},
          "output_type": "execute_result"
        }
      ],
      "source": [
        "data_test = data_test.drop(['date_time'], axis = 1)\n",
        "data_test.head()"
      ]
    },
    {
      "cell_type": "markdown",
      "metadata": {
        "id": "srd1b_HckIVw"
      },
      "source": [
        "## Prepare testing data"
      ]
    },
    {
      "cell_type": "code",
      "execution_count": 148,
      "metadata": {
        "id": "UpqWwdOaeD1K"
      },
      "outputs": [],
      "source": [
        "past_60_days = data_training.tail(60)"
      ]
    },
    {
      "cell_type": "code",
      "execution_count": 149,
      "metadata": {
        "id": "TR2tRta0eEgF"
      },
      "outputs": [
        {
          "data": {
            "text/html": [
              "<div>\n",
              "<style scoped>\n",
              "    .dataframe tbody tr th:only-of-type {\n",
              "        vertical-align: middle;\n",
              "    }\n",
              "\n",
              "    .dataframe tbody tr th {\n",
              "        vertical-align: top;\n",
              "    }\n",
              "\n",
              "    .dataframe thead th {\n",
              "        text-align: right;\n",
              "    }\n",
              "</style>\n",
              "<table border=\"1\" class=\"dataframe\">\n",
              "  <thead>\n",
              "    <tr style=\"text-align: right;\">\n",
              "      <th></th>\n",
              "      <th>PM2.5</th>\n",
              "      <th>temp</th>\n",
              "      <th>wind speed</th>\n",
              "      <th>wind dir</th>\n",
              "    </tr>\n",
              "  </thead>\n",
              "  <tbody>\n",
              "    <tr>\n",
              "      <th>0</th>\n",
              "      <td>13.0</td>\n",
              "      <td>29.6</td>\n",
              "      <td>15.0</td>\n",
              "      <td>195.0</td>\n",
              "    </tr>\n",
              "    <tr>\n",
              "      <th>1</th>\n",
              "      <td>20.0</td>\n",
              "      <td>29.6</td>\n",
              "      <td>7.0</td>\n",
              "      <td>200.0</td>\n",
              "    </tr>\n",
              "    <tr>\n",
              "      <th>2</th>\n",
              "      <td>16.0</td>\n",
              "      <td>29.6</td>\n",
              "      <td>7.0</td>\n",
              "      <td>200.0</td>\n",
              "    </tr>\n",
              "    <tr>\n",
              "      <th>3</th>\n",
              "      <td>9.0</td>\n",
              "      <td>29.6</td>\n",
              "      <td>7.0</td>\n",
              "      <td>200.0</td>\n",
              "    </tr>\n",
              "    <tr>\n",
              "      <th>4</th>\n",
              "      <td>16.0</td>\n",
              "      <td>29.6</td>\n",
              "      <td>7.0</td>\n",
              "      <td>200.0</td>\n",
              "    </tr>\n",
              "  </tbody>\n",
              "</table>\n",
              "</div>"
            ],
            "text/plain": [
              "   PM2.5  temp  wind speed  wind dir\n",
              "0   13.0  29.6        15.0     195.0\n",
              "1   20.0  29.6         7.0     200.0\n",
              "2   16.0  29.6         7.0     200.0\n",
              "3    9.0  29.6         7.0     200.0\n",
              "4   16.0  29.6         7.0     200.0"
            ]
          },
          "execution_count": 149,
          "metadata": {},
          "output_type": "execute_result"
        }
      ],
      "source": [
        "df = past_60_days.append(data_test, ignore_index = True)\n",
        "df.head()"
      ]
    },
    {
      "cell_type": "code",
      "execution_count": 150,
      "metadata": {
        "id": "zwRexsPQqvTy"
      },
      "outputs": [],
      "source": [
        "df.dropna(inplace=True)"
      ]
    },
    {
      "cell_type": "code",
      "execution_count": 151,
      "metadata": {
        "id": "yRpQEcauq0oc"
      },
      "outputs": [
        {
          "data": {
            "text/plain": [
              "(7909, 4)"
            ]
          },
          "execution_count": 151,
          "metadata": {},
          "output_type": "execute_result"
        }
      ],
      "source": [
        "df.shape"
      ]
    },
    {
      "cell_type": "code",
      "execution_count": 152,
      "metadata": {
        "id": "KKrjHeCMeGWX"
      },
      "outputs": [
        {
          "data": {
            "text/plain": [
              "array([[0.06976744, 0.60759494, 0.17647059, 0.54166667],\n",
              "       [0.11046512, 0.60759494, 0.08235294, 0.55555556],\n",
              "       [0.0872093 , 0.60759494, 0.08235294, 0.55555556],\n",
              "       ...,\n",
              "       [0.0872093 , 0.7056962 , 0.36470588, 0.625     ],\n",
              "       [0.0872093 , 0.7056962 , 0.32941176, 0.61111111],\n",
              "       [0.0872093 , 0.53797468, 0.34117647, 0.63888889]])"
            ]
          },
          "execution_count": 152,
          "metadata": {},
          "output_type": "execute_result"
        }
      ],
      "source": [
        "inputs = scaler.transform(df)\n",
        "inputs"
      ]
    },
    {
      "cell_type": "code",
      "execution_count": 153,
      "metadata": {
        "id": "x3WdrSMFeHlj"
      },
      "outputs": [],
      "source": [
        "X_test = []\n",
        "y_test = []\n",
        "\n",
        "for i in range(60, inputs.shape[0]):\n",
        "    X_test.append(inputs[i-60:i])\n",
        "    y_test.append(inputs[i, 0])"
      ]
    },
    {
      "cell_type": "code",
      "execution_count": 154,
      "metadata": {
        "id": "1-l8uJ6beJN-"
      },
      "outputs": [
        {
          "data": {
            "text/plain": [
              "((7849, 60, 4), (7849,))"
            ]
          },
          "execution_count": 154,
          "metadata": {},
          "output_type": "execute_result"
        }
      ],
      "source": [
        "X_test, y_test = np.array(X_test), np.array(y_test)\n",
        "X_test.shape, y_test.shape"
      ]
    },
    {
      "cell_type": "markdown",
      "metadata": {
        "id": "ygbCO5D8kMzd"
      },
      "source": [
        "## Model prediction"
      ]
    },
    {
      "cell_type": "code",
      "execution_count": 155,
      "metadata": {
        "id": "OAbQp-tPeKvP"
      },
      "outputs": [],
      "source": [
        "y_pred = modelLSTM.predict(X_test)"
      ]
    },
    {
      "cell_type": "code",
      "execution_count": 156,
      "metadata": {
        "id": "Irrq6QPerRXc"
      },
      "outputs": [
        {
          "data": {
            "text/plain": [
              "array([[0.07530355],\n",
              "       [0.06838642],\n",
              "       [0.07309756],\n",
              "       ...,\n",
              "       [0.09028094],\n",
              "       [0.08669953],\n",
              "       [0.08295111]], dtype=float32)"
            ]
          },
          "execution_count": 156,
          "metadata": {},
          "output_type": "execute_result"
        }
      ],
      "source": [
        "y_pred"
      ]
    },
    {
      "cell_type": "code",
      "execution_count": 157,
      "metadata": {
        "id": "mW1siKnzgP5K"
      },
      "outputs": [
        {
          "data": {
            "text/plain": [
              "array([0.00581395, 0.03164557, 0.01176471, 0.00277778])"
            ]
          },
          "execution_count": 157,
          "metadata": {},
          "output_type": "execute_result"
        }
      ],
      "source": [
        "scaler.scale_"
      ]
    },
    {
      "cell_type": "code",
      "execution_count": 158,
      "metadata": {
        "id": "VO8T2VYEeO7q"
      },
      "outputs": [
        {
          "data": {
            "text/plain": [
              "172.0"
            ]
          },
          "execution_count": 158,
          "metadata": {},
          "output_type": "execute_result"
        }
      ],
      "source": [
        "scale = 1/scaler.scale_[0]\n",
        "scale"
      ]
    },
    {
      "cell_type": "code",
      "execution_count": 159,
      "metadata": {
        "id": "6J1AmHFNeP6Z"
      },
      "outputs": [],
      "source": [
        "y_pred = y_pred*scale\n",
        "y_test = y_test*scale"
      ]
    },
    {
      "cell_type": "code",
      "execution_count": 160,
      "metadata": {
        "id": "NsN4tns4A0lG"
      },
      "outputs": [
        {
          "name": "stdout",
          "output_type": "stream",
          "text": [
            "Khonkaen RMSE = 3.210122758468848\n"
          ]
        }
      ],
      "source": [
        "import math\n",
        "from sklearn.metrics import mean_squared_error\n",
        "\n",
        "print(province+' RMSE =', math.sqrt(mean_squared_error(y_test, y_pred)) )"
      ]
    },
    {
      "cell_type": "code",
      "execution_count": 161,
      "metadata": {
        "id": "KkwVJXVaeR4e"
      },
      "outputs": [
        {
          "data": {
            "image/png": "[encoded data removed]",
            "text/plain": [
              "<Figure size 1008x360 with 1 Axes>"
            ]
          },
          "metadata": {
            "needs_background": "light"
          },
          "output_type": "display_data"
        }
      ],
      "source": [
        "# Visualising the results\n",
        "plt.figure(figsize=(14,5))\n",
        "plt.plot(y_test, color = 'red', label = 'Real')\n",
        "plt.plot(y_pred, color = 'blue', label = 'Predicted')\n",
        "plt.xlabel('Time')\n",
        "plt.ylabel('PM2.5')\n",
        "plt.legend()\n",
        "plt.show()"
      ]
    },
    {
      "cell_type": "code",
      "execution_count": 162,
      "metadata": {
        "id": "_9BwFEag82WB"
      },
      "outputs": [],
      "source": [
        "import pickle\n",
        "\n",
        "with open('lstm_'+province.lower()+'_4.pickle', 'wb') as fp:\n",
        "    pickle.dump(y_pred, fp)"
      ]
    },
    {
      "cell_type": "code",
      "execution_count": 163,
      "metadata": {
        "id": "X2NYaatgLJXQ"
      },
      "outputs": [],
      "source": [
        "df1 = pd.DataFrame(y_pred)"
      ]
    },
    {
      "cell_type": "code",
      "execution_count": 164,
      "metadata": {
        "id": "YErb_X68VpfD"
      },
      "outputs": [],
      "source": [
        "df1.to_csv('lstm_'+province.lower()+'_4.csv')"
      ]
    },
    {
      "cell_type": "code",
      "execution_count": null,
      "metadata": {
        "id": "j6-u-OHuV6il"
      },
      "outputs": [],
      "source": []
    }
  ],
  "metadata": {
    "accelerator": "GPU",
    "colab": {
      "collapsed_sections": [],
      "name": "LSTM.ipynb",
      "provenance": []
    },
    "kernelspec": {
      "display_name": "Python 3",
      "name": "python3"
    },
    "language_info": {
      "codemirror_mode": {
        "name": "ipython",
        "version": 3
      },
      "file_extension": ".py",
      "mimetype": "text/x-python",
      "name": "python",
      "nbconvert_exporter": "python",
      "pygments_lexer": "ipython3",
      "version": "3.8.8"
    }
  },
  "nbformat": 4,
  "nbformat_minor": 0
}
