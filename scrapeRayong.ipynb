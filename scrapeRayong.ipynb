{
 "cells": [
  {
   "cell_type": "code",
   "execution_count": 24,
   "metadata": {},
   "outputs": [],
   "source": [
    "from selenium import webdriver\n",
    "from selenium.webdriver.chrome.service import Service as ChromeService\n",
    "from webdriver_manager.chrome import ChromeDriverManager\n",
    "\n",
    "import time\n",
    "import os\n",
    "\n",
    "import pandas as pd"
   ]
  },
  {
   "cell_type": "code",
   "execution_count": 25,
   "metadata": {},
   "outputs": [
    {
     "name": "stderr",
     "output_type": "stream",
     "text": [
      "\n",
      "\n",
      "====== WebDriver manager ======\n",
      "Current google-chrome version is 99.0.4844\n",
      "Get LATEST chromedriver version for 99.0.4844 google-chrome\n",
      "Trying to download new driver from https://chromedriver.storage.googleapis.com/99.0.4844.51/chromedriver_win32.zip\n",
      "Driver has been saved in cache [C:\\Users\\napha\\.wdm\\drivers\\chromedriver\\win32\\99.0.4844.51]\n"
     ]
    }
   ],
   "source": [
    "service = ChromeService(executable_path=ChromeDriverManager().install())\n",
    "driver = webdriver.Chrome(service=service)"
   ]
  },
  {
   "cell_type": "code",
   "execution_count": 26,
   "metadata": {},
   "outputs": [
    {
     "data": {
      "text/html": [
       "<div>\n",
       "<style scoped>\n",
       "    .dataframe tbody tr th:only-of-type {\n",
       "        vertical-align: middle;\n",
       "    }\n",
       "\n",
       "    .dataframe tbody tr th {\n",
       "        vertical-align: top;\n",
       "    }\n",
       "\n",
       "    .dataframe thead th {\n",
       "        text-align: right;\n",
       "    }\n",
       "</style>\n",
       "<table border=\"1\" class=\"dataframe\">\n",
       "  <thead>\n",
       "    <tr style=\"text-align: right;\">\n",
       "      <th></th>\n",
       "      <th>date</th>\n",
       "      <th>PM2.5</th>\n",
       "    </tr>\n",
       "  </thead>\n",
       "  <tbody>\n",
       "    <tr>\n",
       "      <th>0</th>\n",
       "      <td>2020-07-01 00:00:00</td>\n",
       "      <td>5.0</td>\n",
       "    </tr>\n",
       "    <tr>\n",
       "      <th>1</th>\n",
       "      <td>2020-07-01 01:00:00</td>\n",
       "      <td>3.0</td>\n",
       "    </tr>\n",
       "    <tr>\n",
       "      <th>2</th>\n",
       "      <td>2020-07-01 02:00:00</td>\n",
       "      <td>2.0</td>\n",
       "    </tr>\n",
       "    <tr>\n",
       "      <th>3</th>\n",
       "      <td>2020-07-01 03:00:00</td>\n",
       "      <td>4.0</td>\n",
       "    </tr>\n",
       "    <tr>\n",
       "      <th>4</th>\n",
       "      <td>2020-07-01 04:00:00</td>\n",
       "      <td>3.0</td>\n",
       "    </tr>\n",
       "  </tbody>\n",
       "</table>\n",
       "</div>"
      ],
      "text/plain": [
       "                  date  PM2.5\n",
       "0  2020-07-01 00:00:00    5.0\n",
       "1  2020-07-01 01:00:00    3.0\n",
       "2  2020-07-01 02:00:00    2.0\n",
       "3  2020-07-01 03:00:00    4.0\n",
       "4  2020-07-01 04:00:00    3.0"
      ]
     },
     "execution_count": 26,
     "metadata": {},
     "output_type": "execute_result"
    }
   ],
   "source": [
    "data = pd.read_csv('./Rayong/test/rayong_test.csv')\n",
    "data.columns = [\"date\",\"PM2.5\"]\n",
    "data.head()"
   ]
  },
  {
   "cell_type": "code",
   "execution_count": 27,
   "metadata": {},
   "outputs": [
    {
     "data": {
      "text/html": [
       "<div>\n",
       "<style scoped>\n",
       "    .dataframe tbody tr th:only-of-type {\n",
       "        vertical-align: middle;\n",
       "    }\n",
       "\n",
       "    .dataframe tbody tr th {\n",
       "        vertical-align: top;\n",
       "    }\n",
       "\n",
       "    .dataframe thead th {\n",
       "        text-align: right;\n",
       "    }\n",
       "</style>\n",
       "<table border=\"1\" class=\"dataframe\">\n",
       "  <thead>\n",
       "    <tr style=\"text-align: right;\">\n",
       "      <th></th>\n",
       "      <th>date</th>\n",
       "      <th>PM2.5</th>\n",
       "      <th>date_utc</th>\n",
       "      <th>url_date</th>\n",
       "    </tr>\n",
       "  </thead>\n",
       "  <tbody>\n",
       "    <tr>\n",
       "      <th>0</th>\n",
       "      <td>2020-07-01 00:00:00</td>\n",
       "      <td>5.0</td>\n",
       "      <td>2020-06-30 17:00:00</td>\n",
       "      <td>2020/06/30/1700Z</td>\n",
       "    </tr>\n",
       "    <tr>\n",
       "      <th>1</th>\n",
       "      <td>2020-07-01 01:00:00</td>\n",
       "      <td>3.0</td>\n",
       "      <td>2020-06-30 18:00:00</td>\n",
       "      <td>2020/06/30/1800Z</td>\n",
       "    </tr>\n",
       "    <tr>\n",
       "      <th>2</th>\n",
       "      <td>2020-07-01 02:00:00</td>\n",
       "      <td>2.0</td>\n",
       "      <td>2020-06-30 19:00:00</td>\n",
       "      <td>2020/06/30/1900Z</td>\n",
       "    </tr>\n",
       "    <tr>\n",
       "      <th>3</th>\n",
       "      <td>2020-07-01 03:00:00</td>\n",
       "      <td>4.0</td>\n",
       "      <td>2020-06-30 20:00:00</td>\n",
       "      <td>2020/06/30/2000Z</td>\n",
       "    </tr>\n",
       "    <tr>\n",
       "      <th>4</th>\n",
       "      <td>2020-07-01 04:00:00</td>\n",
       "      <td>3.0</td>\n",
       "      <td>2020-06-30 21:00:00</td>\n",
       "      <td>2020/06/30/2100Z</td>\n",
       "    </tr>\n",
       "  </tbody>\n",
       "</table>\n",
       "</div>"
      ],
      "text/plain": [
       "                  date  PM2.5            date_utc          url_date\n",
       "0  2020-07-01 00:00:00    5.0 2020-06-30 17:00:00  2020/06/30/1700Z\n",
       "1  2020-07-01 01:00:00    3.0 2020-06-30 18:00:00  2020/06/30/1800Z\n",
       "2  2020-07-01 02:00:00    2.0 2020-06-30 19:00:00  2020/06/30/1900Z\n",
       "3  2020-07-01 03:00:00    4.0 2020-06-30 20:00:00  2020/06/30/2000Z\n",
       "4  2020-07-01 04:00:00    3.0 2020-06-30 21:00:00  2020/06/30/2100Z"
      ]
     },
     "execution_count": 27,
     "metadata": {},
     "output_type": "execute_result"
    }
   ],
   "source": [
    "from datetime import datetime, timedelta\n",
    "data['date_utc'] = pd.to_datetime(data['date']) - timedelta(hours=7)\n",
    "data['url_date'] = data['date_utc'].apply(lambda x : x.strftime(\"%Y/%m/%d/%H%M\")+\"Z\")\n",
    "data.head()"
   ]
  },
  {
   "cell_type": "code",
   "execution_count": 28,
   "metadata": {},
   "outputs": [],
   "source": [
    "from selenium.webdriver.common.by import By"
   ]
  },
  {
   "cell_type": "code",
   "execution_count": 29,
   "metadata": {},
   "outputs": [],
   "source": [
    "def getTemp(lat,long,date):\n",
    "    url = 'https://earth.nullschool.net/#'+date+'/wind/surface/level/anim=off/overlay=temp/orthographic/loc='+long+','+lat\n",
    "    driver.get(url=url)\n",
    "    time.sleep(2)\n",
    "    html = driver.execute_script(\"return document.documentElement.outerHTML\")\n",
    "\n",
    "    all_link = driver.find_elements(by=By.CSS_SELECTOR, value='#spotlight-panel.panel.card')\n",
    "    for link in all_link:\n",
    "        # print( link.text.split(\"\\n\")[-2])\n",
    "        return link.text.split(\"\\n\")[-2]"
   ]
  },
  {
   "cell_type": "code",
   "execution_count": 31,
   "metadata": {},
   "outputs": [],
   "source": [
    "def getWind(lat,long,date):\n",
    "    url = 'https://earth.nullschool.net/#'+date+'/wind/isobaric/850hPa/anim=off/orthographic/loc='+long+','+lat\n",
    "    driver.get(url=url)\n",
    "    time.sleep(2)\n",
    "    html = driver.execute_script(\"return document.documentElement.outerHTML\")\n",
    "\n",
    "    all_link = driver.find_elements(by=By.CSS_SELECTOR, value='#spotlight-panel.panel.card')\n",
    "    for link in all_link:\n",
    "        # print(link.text.split(\"\\n\")[2])\n",
    "        return link.text.split(\"\\n\")[2]"
   ]
  },
  {
   "cell_type": "code",
   "execution_count": 38,
   "metadata": {},
   "outputs": [],
   "source": [
    "data['temp'] = data['url_date'].apply(lambda x : getTemp('12.671521','101.275875',x))"
   ]
  },
  {
   "cell_type": "code",
   "execution_count": null,
   "metadata": {},
   "outputs": [],
   "source": [
    "data['wind'] = data['url_date'].apply(lambda x : getWind('12.671521','101.275875',x))"
   ]
  },
  {
   "cell_type": "code",
   "execution_count": null,
   "metadata": {},
   "outputs": [],
   "source": [
    "data.to_csv('scrapeRayong.csv')"
   ]
  }
 ],
 "metadata": {
  "interpreter": {
   "hash": "cfe73bf78b7d84eec880e3952d097e9c9b597196a2017f555ec4a3e4e5c8379c"
  },
  "kernelspec": {
   "display_name": "Python 3.10.2 64-bit (windows store)",
   "language": "python",
   "name": "python3"
  },
  "language_info": {
   "codemirror_mode": {
    "name": "ipython",
    "version": 3
   },
   "file_extension": ".py",
   "mimetype": "text/x-python",
   "name": "python",
   "nbconvert_exporter": "python",
   "pygments_lexer": "ipython3",
   "version": "3.10.2"
  },
  "orig_nbformat": 4
 },
 "nbformat": 4,
 "nbformat_minor": 2
}
