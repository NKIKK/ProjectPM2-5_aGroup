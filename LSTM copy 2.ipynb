{
  "cells": [
    {
      "cell_type": "code",
      "execution_count": 83,
      "metadata": {
        "colab": {
          "base_uri": "https://localhost:8080/"
        },
        "id": "hma9CCJCtdye",
        "outputId": "673f70f8-4c1d-4e62-e525-fe90db0614ab"
      },
      "outputs": [],
      "source": [
        "#!nvidia-smi"
      ]
    },
    {
      "cell_type": "code",
      "execution_count": 84,
      "metadata": {
        "id": "tXYt8kYNc-8I"
      },
      "outputs": [],
      "source": [
        "import numpy as np\n",
        "import matplotlib.pyplot as plt\n",
        "import pandas as pd\n",
        "from sklearn.preprocessing import MinMaxScaler"
      ]
    },
    {
      "cell_type": "markdown",
      "metadata": {
        "id": "kma2WK2H5j47"
      },
      "source": [
        "## Train/test split"
      ]
    },
    {
      "cell_type": "code",
      "execution_count": 85,
      "metadata": {
        "id": "9B3XlyHJWiP-"
      },
      "outputs": [],
      "source": [
        "provinces = ['BKK','Chiangmai','Khonkaen','Rayong','Saraburi','Surat']\n",
        "province = provinces[0]"
      ]
    },
    {
      "cell_type": "code",
      "execution_count": 86,
      "metadata": {
        "colab": {
          "base_uri": "https://localhost:8080/",
          "height": 206
        },
        "id": "U-lSoEO_dfa-",
        "outputId": "3f98e52c-aecf-41f6-8b80-29b60ba6df7d"
      },
      "outputs": [
        {
          "data": {
            "text/html": [
              "<div>\n",
              "<style scoped>\n",
              "    .dataframe tbody tr th:only-of-type {\n",
              "        vertical-align: middle;\n",
              "    }\n",
              "\n",
              "    .dataframe tbody tr th {\n",
              "        vertical-align: top;\n",
              "    }\n",
              "\n",
              "    .dataframe thead th {\n",
              "        text-align: right;\n",
              "    }\n",
              "</style>\n",
              "<table border=\"1\" class=\"dataframe\">\n",
              "  <thead>\n",
              "    <tr style=\"text-align: right;\">\n",
              "      <th></th>\n",
              "      <th>date_time</th>\n",
              "      <th>PM2.5</th>\n",
              "      <th>temp</th>\n",
              "      <th>wind speed</th>\n",
              "      <th>wind dir</th>\n",
              "      <th>lat</th>\n",
              "      <th>long</th>\n",
              "    </tr>\n",
              "  </thead>\n",
              "  <tbody>\n",
              "    <tr>\n",
              "      <th>6331</th>\n",
              "      <td>2018-03-21 19:00:00</td>\n",
              "      <td>28.0</td>\n",
              "      <td>31.3</td>\n",
              "      <td>3.0</td>\n",
              "      <td>30.0</td>\n",
              "      <td>13.729984</td>\n",
              "      <td>100.536443</td>\n",
              "    </tr>\n",
              "    <tr>\n",
              "      <th>17973</th>\n",
              "      <td>2019-07-19 21:00:00</td>\n",
              "      <td>10.0</td>\n",
              "      <td>30.6</td>\n",
              "      <td>5.0</td>\n",
              "      <td>265.0</td>\n",
              "      <td>13.729984</td>\n",
              "      <td>100.536443</td>\n",
              "    </tr>\n",
              "    <tr>\n",
              "      <th>374</th>\n",
              "      <td>2017-07-16 14:00:00</td>\n",
              "      <td>15.0</td>\n",
              "      <td>30.5</td>\n",
              "      <td>43.0</td>\n",
              "      <td>275.0</td>\n",
              "      <td>13.729984</td>\n",
              "      <td>100.536443</td>\n",
              "    </tr>\n",
              "    <tr>\n",
              "      <th>3082</th>\n",
              "      <td>2017-11-06 10:00:00</td>\n",
              "      <td>53.0</td>\n",
              "      <td>22.8</td>\n",
              "      <td>47.0</td>\n",
              "      <td>100.0</td>\n",
              "      <td>13.729984</td>\n",
              "      <td>100.536443</td>\n",
              "    </tr>\n",
              "    <tr>\n",
              "      <th>5443</th>\n",
              "      <td>2018-02-12 19:00:00</td>\n",
              "      <td>45.0</td>\n",
              "      <td>30.2</td>\n",
              "      <td>23.0</td>\n",
              "      <td>70.0</td>\n",
              "      <td>13.729984</td>\n",
              "      <td>100.536443</td>\n",
              "    </tr>\n",
              "  </tbody>\n",
              "</table>\n",
              "</div>"
            ],
            "text/plain": [
              "                 date_time  PM2.5  temp  wind speed  wind dir        lat  \\\n",
              "6331   2018-03-21 19:00:00   28.0  31.3         3.0      30.0  13.729984   \n",
              "17973  2019-07-19 21:00:00   10.0  30.6         5.0     265.0  13.729984   \n",
              "374    2017-07-16 14:00:00   15.0  30.5        43.0     275.0  13.729984   \n",
              "3082   2017-11-06 10:00:00   53.0  22.8        47.0     100.0  13.729984   \n",
              "5443   2018-02-12 19:00:00   45.0  30.2        23.0      70.0  13.729984   \n",
              "\n",
              "             long  \n",
              "6331   100.536443  \n",
              "17973  100.536443  \n",
              "374    100.536443  \n",
              "3082   100.536443  \n",
              "5443   100.536443  "
            ]
          },
          "execution_count": 86,
          "metadata": {},
          "output_type": "execute_result"
        }
      ],
      "source": [
        "data_training = pd.read_csv(province+'/train/'+province.lower()+'_train_format.csv', date_parser = True)\n",
        "data_training.sample(5)"
      ]
    },
    {
      "cell_type": "code",
      "execution_count": 87,
      "metadata": {
        "colab": {
          "base_uri": "https://localhost:8080/",
          "height": 206
        },
        "id": "5FXLGXmedgqG",
        "outputId": "f2bfe5c4-5390-4397-bb7a-de16c5d64092"
      },
      "outputs": [
        {
          "data": {
            "text/html": [
              "<div>\n",
              "<style scoped>\n",
              "    .dataframe tbody tr th:only-of-type {\n",
              "        vertical-align: middle;\n",
              "    }\n",
              "\n",
              "    .dataframe tbody tr th {\n",
              "        vertical-align: top;\n",
              "    }\n",
              "\n",
              "    .dataframe thead th {\n",
              "        text-align: right;\n",
              "    }\n",
              "</style>\n",
              "<table border=\"1\" class=\"dataframe\">\n",
              "  <thead>\n",
              "    <tr style=\"text-align: right;\">\n",
              "      <th></th>\n",
              "      <th>PM2.5</th>\n",
              "      <th>temp</th>\n",
              "      <th>wind speed</th>\n",
              "      <th>wind dir</th>\n",
              "    </tr>\n",
              "  </thead>\n",
              "  <tbody>\n",
              "    <tr>\n",
              "      <th>0</th>\n",
              "      <td>14.0</td>\n",
              "      <td>27.9</td>\n",
              "      <td>16.0</td>\n",
              "      <td>260.0</td>\n",
              "    </tr>\n",
              "    <tr>\n",
              "      <th>1</th>\n",
              "      <td>10.0</td>\n",
              "      <td>27.9</td>\n",
              "      <td>16.0</td>\n",
              "      <td>260.0</td>\n",
              "    </tr>\n",
              "    <tr>\n",
              "      <th>2</th>\n",
              "      <td>17.0</td>\n",
              "      <td>27.9</td>\n",
              "      <td>16.0</td>\n",
              "      <td>260.0</td>\n",
              "    </tr>\n",
              "    <tr>\n",
              "      <th>3</th>\n",
              "      <td>20.0</td>\n",
              "      <td>27.9</td>\n",
              "      <td>16.0</td>\n",
              "      <td>260.0</td>\n",
              "    </tr>\n",
              "    <tr>\n",
              "      <th>4</th>\n",
              "      <td>15.0</td>\n",
              "      <td>27.4</td>\n",
              "      <td>16.0</td>\n",
              "      <td>255.0</td>\n",
              "    </tr>\n",
              "  </tbody>\n",
              "</table>\n",
              "</div>"
            ],
            "text/plain": [
              "   PM2.5  temp  wind speed  wind dir\n",
              "0   14.0  27.9        16.0     260.0\n",
              "1   10.0  27.9        16.0     260.0\n",
              "2   17.0  27.9        16.0     260.0\n",
              "3   20.0  27.9        16.0     260.0\n",
              "4   15.0  27.4        16.0     255.0"
            ]
          },
          "execution_count": 87,
          "metadata": {},
          "output_type": "execute_result"
        }
      ],
      "source": [
        "data_training = data_training.drop(['date_time', 'lat', 'long'], axis = 1)\n",
        "data_training.head()"
      ]
    },
    {
      "cell_type": "code",
      "execution_count": 88,
      "metadata": {
        "colab": {
          "base_uri": "https://localhost:8080/",
          "height": 206
        },
        "id": "jONlufFv2NPo",
        "outputId": "c117c196-d411-4a06-c1f3-c5aeeef87c7e"
      },
      "outputs": [
        {
          "data": {
            "text/html": [
              "<div>\n",
              "<style scoped>\n",
              "    .dataframe tbody tr th:only-of-type {\n",
              "        vertical-align: middle;\n",
              "    }\n",
              "\n",
              "    .dataframe tbody tr th {\n",
              "        vertical-align: top;\n",
              "    }\n",
              "\n",
              "    .dataframe thead th {\n",
              "        text-align: right;\n",
              "    }\n",
              "</style>\n",
              "<table border=\"1\" class=\"dataframe\">\n",
              "  <thead>\n",
              "    <tr style=\"text-align: right;\">\n",
              "      <th></th>\n",
              "      <th>Unnamed: 0</th>\n",
              "      <th>date_time</th>\n",
              "      <th>PM2.5</th>\n",
              "      <th>temp</th>\n",
              "      <th>wind speed</th>\n",
              "      <th>wind dir</th>\n",
              "      <th>lat</th>\n",
              "      <th>long</th>\n",
              "    </tr>\n",
              "  </thead>\n",
              "  <tbody>\n",
              "    <tr>\n",
              "      <th>80</th>\n",
              "      <td>80</td>\n",
              "      <td>2020-07-04 08:00:00</td>\n",
              "      <td>27.0</td>\n",
              "      <td>27.9</td>\n",
              "      <td>31</td>\n",
              "      <td>255</td>\n",
              "      <td>13.729984</td>\n",
              "      <td>100.536443</td>\n",
              "    </tr>\n",
              "    <tr>\n",
              "      <th>5357</th>\n",
              "      <td>5357</td>\n",
              "      <td>2021-02-09 05:00:00</td>\n",
              "      <td>32.0</td>\n",
              "      <td>25.9</td>\n",
              "      <td>19</td>\n",
              "      <td>210</td>\n",
              "      <td>13.729984</td>\n",
              "      <td>100.536443</td>\n",
              "    </tr>\n",
              "    <tr>\n",
              "      <th>7265</th>\n",
              "      <td>7265</td>\n",
              "      <td>2021-04-29 17:00:00</td>\n",
              "      <td>18.0</td>\n",
              "      <td>28.6</td>\n",
              "      <td>13</td>\n",
              "      <td>170</td>\n",
              "      <td>13.729984</td>\n",
              "      <td>100.536443</td>\n",
              "    </tr>\n",
              "    <tr>\n",
              "      <th>8363</th>\n",
              "      <td>8363</td>\n",
              "      <td>2021-06-14 11:00:00</td>\n",
              "      <td>16.0</td>\n",
              "      <td>31.0</td>\n",
              "      <td>36</td>\n",
              "      <td>255</td>\n",
              "      <td>13.729984</td>\n",
              "      <td>100.536443</td>\n",
              "    </tr>\n",
              "    <tr>\n",
              "      <th>7366</th>\n",
              "      <td>7366</td>\n",
              "      <td>2021-05-03 22:00:00</td>\n",
              "      <td>20.0</td>\n",
              "      <td>30.6</td>\n",
              "      <td>5</td>\n",
              "      <td>75</td>\n",
              "      <td>13.729984</td>\n",
              "      <td>100.536443</td>\n",
              "    </tr>\n",
              "  </tbody>\n",
              "</table>\n",
              "</div>"
            ],
            "text/plain": [
              "      Unnamed: 0            date_time  PM2.5  temp  wind speed  wind dir  \\\n",
              "80            80  2020-07-04 08:00:00   27.0  27.9          31       255   \n",
              "5357        5357  2021-02-09 05:00:00   32.0  25.9          19       210   \n",
              "7265        7265  2021-04-29 17:00:00   18.0  28.6          13       170   \n",
              "8363        8363  2021-06-14 11:00:00   16.0  31.0          36       255   \n",
              "7366        7366  2021-05-03 22:00:00   20.0  30.6           5        75   \n",
              "\n",
              "            lat        long  \n",
              "80    13.729984  100.536443  \n",
              "5357  13.729984  100.536443  \n",
              "7265  13.729984  100.536443  \n",
              "8363  13.729984  100.536443  \n",
              "7366  13.729984  100.536443  "
            ]
          },
          "execution_count": 88,
          "metadata": {},
          "output_type": "execute_result"
        }
      ],
      "source": [
        "data_test = pd.read_csv(province+'_clean.csv', date_parser = True)\n",
        "data_test.sample(5)"
      ]
    },
    {
      "cell_type": "code",
      "execution_count": 89,
      "metadata": {
        "colab": {
          "base_uri": "https://localhost:8080/",
          "height": 206
        },
        "id": "ZM_Hn5LcUDqd",
        "outputId": "7c170d33-a52a-4b5e-f057-5d16a4355a2d"
      },
      "outputs": [
        {
          "data": {
            "text/html": [
              "<div>\n",
              "<style scoped>\n",
              "    .dataframe tbody tr th:only-of-type {\n",
              "        vertical-align: middle;\n",
              "    }\n",
              "\n",
              "    .dataframe tbody tr th {\n",
              "        vertical-align: top;\n",
              "    }\n",
              "\n",
              "    .dataframe thead th {\n",
              "        text-align: right;\n",
              "    }\n",
              "</style>\n",
              "<table border=\"1\" class=\"dataframe\">\n",
              "  <thead>\n",
              "    <tr style=\"text-align: right;\">\n",
              "      <th></th>\n",
              "      <th>date_time</th>\n",
              "      <th>PM2.5</th>\n",
              "      <th>temp</th>\n",
              "      <th>wind speed</th>\n",
              "      <th>wind dir</th>\n",
              "    </tr>\n",
              "  </thead>\n",
              "  <tbody>\n",
              "    <tr>\n",
              "      <th>0</th>\n",
              "      <td>2020-07-01 00:00:00</td>\n",
              "      <td>9.0</td>\n",
              "      <td>29.4</td>\n",
              "      <td>35</td>\n",
              "      <td>270</td>\n",
              "    </tr>\n",
              "    <tr>\n",
              "      <th>1</th>\n",
              "      <td>2020-07-01 01:00:00</td>\n",
              "      <td>8.0</td>\n",
              "      <td>29.4</td>\n",
              "      <td>42</td>\n",
              "      <td>260</td>\n",
              "    </tr>\n",
              "    <tr>\n",
              "      <th>2</th>\n",
              "      <td>2020-07-01 02:00:00</td>\n",
              "      <td>12.0</td>\n",
              "      <td>28.5</td>\n",
              "      <td>42</td>\n",
              "      <td>260</td>\n",
              "    </tr>\n",
              "    <tr>\n",
              "      <th>3</th>\n",
              "      <td>2020-07-01 03:00:00</td>\n",
              "      <td>9.0</td>\n",
              "      <td>28.5</td>\n",
              "      <td>42</td>\n",
              "      <td>260</td>\n",
              "    </tr>\n",
              "    <tr>\n",
              "      <th>4</th>\n",
              "      <td>2020-07-01 04:00:00</td>\n",
              "      <td>8.0</td>\n",
              "      <td>28.3</td>\n",
              "      <td>55</td>\n",
              "      <td>270</td>\n",
              "    </tr>\n",
              "  </tbody>\n",
              "</table>\n",
              "</div>"
            ],
            "text/plain": [
              "             date_time  PM2.5  temp  wind speed  wind dir\n",
              "0  2020-07-01 00:00:00    9.0  29.4          35       270\n",
              "1  2020-07-01 01:00:00    8.0  29.4          42       260\n",
              "2  2020-07-01 02:00:00   12.0  28.5          42       260\n",
              "3  2020-07-01 03:00:00    9.0  28.5          42       260\n",
              "4  2020-07-01 04:00:00    8.0  28.3          55       270"
            ]
          },
          "execution_count": 89,
          "metadata": {},
          "output_type": "execute_result"
        }
      ],
      "source": [
        "data_test = data_test.drop(['Unnamed: 0', 'lat', 'long'], axis = 1)\n",
        "data_test.head()"
      ]
    },
    {
      "cell_type": "markdown",
      "metadata": {
        "id": "g_HAazl2m2A8"
      },
      "source": [
        "## Normalize data"
      ]
    },
    {
      "cell_type": "code",
      "execution_count": 90,
      "metadata": {
        "id": "khw4M2JsdiKT"
      },
      "outputs": [],
      "source": [
        "scaler = MinMaxScaler()\n",
        "data_training = scaler.fit_transform(data_training)"
      ]
    },
    {
      "cell_type": "code",
      "execution_count": 91,
      "metadata": {
        "colab": {
          "base_uri": "https://localhost:8080/"
        },
        "id": "Kmz-nS6w4cPU",
        "outputId": "15b1312a-438d-4226-d41b-90ca1698b11e"
      },
      "outputs": [
        {
          "data": {
            "text/plain": [
              "array([[ 14. ,  27.9,  16. , 260. ],\n",
              "       [ 10. ,  27.9,  16. , 260. ],\n",
              "       [ 17. ,  27.9,  16. , 260. ],\n",
              "       ...,\n",
              "       [ 17. ,  30.3,  36. , 265. ],\n",
              "       [  5. ,  29.4,  35. , 270. ],\n",
              "       [  7. ,  29.4,  35. , 270. ]])"
            ]
          },
          "execution_count": 91,
          "metadata": {},
          "output_type": "execute_result"
        }
      ],
      "source": [
        "scaler.inverse_transform(data_training)"
      ]
    },
    {
      "cell_type": "code",
      "execution_count": 92,
      "metadata": {
        "colab": {
          "base_uri": "https://localhost:8080/"
        },
        "id": "rvb9MZW42RyZ",
        "outputId": "ef485aaa-23d5-48ab-c27b-6d349993e831"
      },
      "outputs": [
        {
          "data": {
            "text/plain": [
              "array([[ 10.97637795,   9.87703349,  16.        , 260.        ],\n",
              "       [  6.97637795,   9.87703349,  16.        , 260.        ],\n",
              "       [ 13.97637795,   9.87703349,  16.        , 260.        ],\n",
              "       ...,\n",
              "       [ 13.97637795,  12.27703349,  36.        , 265.        ],\n",
              "       [  1.97637795,  11.37703349,  35.        , 270.        ],\n",
              "       [  3.97637795,  11.37703349,  35.        , 270.        ]])"
            ]
          },
          "execution_count": 92,
          "metadata": {},
          "output_type": "execute_result"
        }
      ],
      "source": [
        "scale = 1/scaler.scale_\n",
        "temp = (data_training * scale) + scaler.min_\n",
        "temp"
      ]
    },
    {
      "cell_type": "code",
      "execution_count": 93,
      "metadata": {
        "colab": {
          "base_uri": "https://localhost:8080/"
        },
        "id": "XTv34OA1dlRq",
        "outputId": "2282af71-9e98-4171-e44e-4acee54e27aa"
      },
      "outputs": [
        {
          "data": {
            "text/plain": [
              "array([[0.08661417, 0.51196172, 0.18823529, 0.72222222],\n",
              "       [0.05511811, 0.51196172, 0.18823529, 0.72222222],\n",
              "       [0.11023622, 0.51196172, 0.18823529, 0.72222222],\n",
              "       [0.13385827, 0.51196172, 0.18823529, 0.72222222],\n",
              "       [0.09448819, 0.48803828, 0.18823529, 0.70833333],\n",
              "       [0.1023622 , 0.48803828, 0.18823529, 0.70833333],\n",
              "       [0.15748031, 0.48803828, 0.18823529, 0.70833333],\n",
              "       [0.15748031, 0.51674641, 0.2       , 0.65277778],\n",
              "       [0.19685039, 0.51674641, 0.2       , 0.65277778],\n",
              "       [0.18897638, 0.51674641, 0.2       , 0.65277778]])"
            ]
          },
          "execution_count": 93,
          "metadata": {},
          "output_type": "execute_result"
        }
      ],
      "source": [
        "data_training[0:10]"
      ]
    },
    {
      "cell_type": "code",
      "execution_count": 94,
      "metadata": {
        "id": "W4926pfpdoE0"
      },
      "outputs": [],
      "source": [
        "X_train = []\n",
        "y_train = []\n",
        "\n",
        "for i in range(60, data_training.shape[0]):\n",
        "    X_train.append(data_training[i-60:i])\n",
        "    y_train.append(data_training[i, 0])\n",
        "\n",
        "X_train, y_train = np.array(X_train), np.array(y_train)"
      ]
    },
    {
      "cell_type": "code",
      "execution_count": 95,
      "metadata": {
        "colab": {
          "base_uri": "https://localhost:8080/"
        },
        "id": "HO6hoNDRdsQI",
        "outputId": "03f59c3b-878e-443c-eedd-24f4a28d6ff7"
      },
      "outputs": [
        {
          "data": {
            "text/plain": [
              "(26244, 60, 4)"
            ]
          },
          "execution_count": 95,
          "metadata": {},
          "output_type": "execute_result"
        }
      ],
      "source": [
        "X_train.shape"
      ]
    },
    {
      "cell_type": "markdown",
      "metadata": {
        "id": "KTABZEIKjCTN"
      },
      "source": [
        "# Building Model1: LSTM"
      ]
    },
    {
      "cell_type": "code",
      "execution_count": 96,
      "metadata": {
        "id": "T5ByHACkduvK"
      },
      "outputs": [],
      "source": [
        "import tensorflow as tf\n",
        "from tensorflow.keras import Sequential\n",
        "from tensorflow.keras.layers import Dense, LSTM, Dropout"
      ]
    },
    {
      "cell_type": "code",
      "execution_count": 97,
      "metadata": {
        "colab": {
          "base_uri": "https://localhost:8080/",
          "height": 35
        },
        "id": "Zw2TuO9j5tAT",
        "outputId": "a75290c1-c563-448a-ec0b-95a0332fe87f"
      },
      "outputs": [
        {
          "data": {
            "text/plain": [
              "'2.8.0'"
            ]
          },
          "execution_count": 97,
          "metadata": {},
          "output_type": "execute_result"
        }
      ],
      "source": [
        "tf.__version__"
      ]
    },
    {
      "cell_type": "code",
      "execution_count": 98,
      "metadata": {
        "id": "6PwBHKiCdxBy"
      },
      "outputs": [],
      "source": [
        "modelLSTM = Sequential()\n",
        "\n",
        "modelLSTM.add(LSTM(units = 60, activation = 'relu', return_sequences = True, input_shape = (X_train.shape[1], 4)))\n",
        "modelLSTM.add(Dropout(0.2))\n",
        "\n",
        "# modelLSTM.add(LSTM(units = 60, activation = 'relu', return_sequences = True))\n",
        "# modelLSTM.add(Dropout(0.2))\n",
        "\n",
        "modelLSTM.add(LSTM(units = 80, activation = 'relu', return_sequences = True))\n",
        "modelLSTM.add(Dropout(0.2))\n",
        "\n",
        "\n",
        "# modelLSTM.add(LSTM(units = 160, activation = 'relu', return_sequences = True))\n",
        "# modelLSTM.add(Dropout(0.2))\n",
        "# modelLSTM.add(LSTM(units = 160, activation = 'relu', return_sequences = True))\n",
        "# modelLSTM.add(Dropout(0.2))\n",
        "# modelLSTM.add(LSTM(units = 160, activation = 'relu', return_sequences = True))\n",
        "# modelLSTM.add(Dropout(0.2))\n",
        "\n",
        "\n",
        "modelLSTM.add(LSTM(units = 120, activation = 'relu'))\n",
        "modelLSTM.add(Dropout(0.2))\n",
        "\n",
        "\n",
        "\n",
        "modelLSTM.add(Dense(units = 1))"
      ]
    },
    {
      "cell_type": "code",
      "execution_count": 99,
      "metadata": {
        "colab": {
          "base_uri": "https://localhost:8080/"
        },
        "id": "OruphK2TdzFB",
        "outputId": "a1985c4e-d227-4c86-cb42-fe4f48a4b574"
      },
      "outputs": [
        {
          "name": "stdout",
          "output_type": "stream",
          "text": [
            "Model: \"sequential_2\"\n",
            "_________________________________________________________________\n",
            " Layer (type)                Output Shape              Param #   \n",
            "=================================================================\n",
            " lstm_5 (LSTM)               (None, 60, 60)            15600     \n",
            "                                                                 \n",
            " dropout_5 (Dropout)         (None, 60, 60)            0         \n",
            "                                                                 \n",
            " lstm_6 (LSTM)               (None, 60, 80)            45120     \n",
            "                                                                 \n",
            " dropout_6 (Dropout)         (None, 60, 80)            0         \n",
            "                                                                 \n",
            " lstm_7 (LSTM)               (None, 120)               96480     \n",
            "                                                                 \n",
            " dropout_7 (Dropout)         (None, 120)               0         \n",
            "                                                                 \n",
            " dense_2 (Dense)             (None, 1)                 121       \n",
            "                                                                 \n",
            "=================================================================\n",
            "Total params: 157,321\n",
            "Trainable params: 157,321\n",
            "Non-trainable params: 0\n",
            "_________________________________________________________________\n"
          ]
        }
      ],
      "source": [
        "modelLSTM.summary()"
      ]
    },
    {
      "cell_type": "code",
      "execution_count": 100,
      "metadata": {
        "id": "JFWU6JktosN_"
      },
      "outputs": [],
      "source": [
        "from tensorflow.keras.callbacks import EarlyStopping, ModelCheckpoint, ReduceLROnPlateau"
      ]
    },
    {
      "cell_type": "code",
      "execution_count": 101,
      "metadata": {
        "id": "F2jd8nTRp9kq"
      },
      "outputs": [],
      "source": [
        "#create callback\n",
        "filepath = 'my_best_modelLSTM_yourself.hdf5'\n",
        "checkpoint = ModelCheckpoint(filepath=filepath, \n",
        "                             monitor='loss',\n",
        "                             verbose=0, \n",
        "                             save_best_only=True,\n",
        "                             mode='min')\n",
        "\n",
        "earlystopping = EarlyStopping(\n",
        "    monitor='loss', \n",
        "    patience=3, \n",
        "    min_delta=0, \n",
        "    mode='auto'\n",
        ")\n",
        "\n",
        "reduce_lr = ReduceLROnPlateau(\n",
        "    monitor='loss', \n",
        "    factor=0.2,   \n",
        "    patience=2, \n",
        "    min_lr=0.001,\n",
        "    verbose=0\n",
        ")\n",
        "callbacks = [checkpoint, earlystopping, reduce_lr]"
      ]
    },
    {
      "cell_type": "code",
      "execution_count": 102,
      "metadata": {
        "id": "7alsTCdPd5PY"
      },
      "outputs": [],
      "source": [
        "modelLSTM.compile(optimizer='adam', loss = 'mean_squared_error')"
      ]
    },
    {
      "cell_type": "code",
      "execution_count": 103,
      "metadata": {
        "colab": {
          "base_uri": "https://localhost:8080/"
        },
        "id": "jJGUMaN7wafJ",
        "outputId": "99c99a14-509d-4f56-a2fc-b13512fb7507"
      },
      "outputs": [
        {
          "name": "stdout",
          "output_type": "stream",
          "text": [
            "Epoch 1/10\n",
            "821/821 [==============================] - 179s 213ms/step - loss: 0.0059 - lr: 0.0010\n",
            "Epoch 2/10\n",
            "821/821 [==============================] - 183s 222ms/step - loss: 0.0032 - lr: 0.0010\n",
            "Epoch 3/10\n",
            "821/821 [==============================] - 174s 212ms/step - loss: 0.0027 - lr: 0.0010\n",
            "Epoch 4/10\n",
            "821/821 [==============================] - 180s 219ms/step - loss: 0.0025 - lr: 0.0010\n",
            "Epoch 5/10\n",
            "821/821 [==============================] - 163s 199ms/step - loss: 0.0024 - lr: 0.0010\n",
            "Epoch 6/10\n",
            "821/821 [==============================] - 184s 224ms/step - loss: 0.0023 - lr: 0.0010\n",
            "Epoch 7/10\n",
            "821/821 [==============================] - 174s 212ms/step - loss: 0.0022 - lr: 0.0010\n",
            "Epoch 8/10\n",
            "821/821 [==============================] - 174s 212ms/step - loss: 0.0022 - lr: 0.0010\n",
            "Epoch 9/10\n",
            "821/821 [==============================] - 155s 188ms/step - loss: 0.0022 - lr: 0.0010\n",
            "Epoch 10/10\n",
            "821/821 [==============================] - 141s 171ms/step - loss: 0.0021 - lr: 0.0010\n"
          ]
        }
      ],
      "source": [
        "history = modelLSTM.fit(X_train, y_train, epochs=10, batch_size=32, callbacks=callbacks)"
      ]
    },
    {
      "cell_type": "markdown",
      "metadata": {
        "id": "L72hkQl5d-8Q"
      },
      "source": [
        "# Testing"
      ]
    },
    {
      "cell_type": "code",
      "execution_count": 104,
      "metadata": {
        "id": "lW-wyZdr_lPa"
      },
      "outputs": [],
      "source": [
        "data_training = pd.read_csv(province+'/train/'+province.lower()+'_train_format.csv', date_parser = True)\n",
        "data_training = data_training.drop(['date_time', 'lat', 'long'], axis = 1)"
      ]
    },
    {
      "cell_type": "code",
      "execution_count": 105,
      "metadata": {
        "id": "A8CcvG9azYVw"
      },
      "outputs": [
        {
          "data": {
            "text/html": [
              "<div>\n",
              "<style scoped>\n",
              "    .dataframe tbody tr th:only-of-type {\n",
              "        vertical-align: middle;\n",
              "    }\n",
              "\n",
              "    .dataframe tbody tr th {\n",
              "        vertical-align: top;\n",
              "    }\n",
              "\n",
              "    .dataframe thead th {\n",
              "        text-align: right;\n",
              "    }\n",
              "</style>\n",
              "<table border=\"1\" class=\"dataframe\">\n",
              "  <thead>\n",
              "    <tr style=\"text-align: right;\">\n",
              "      <th></th>\n",
              "      <th>PM2.5</th>\n",
              "      <th>temp</th>\n",
              "      <th>wind speed</th>\n",
              "      <th>wind dir</th>\n",
              "    </tr>\n",
              "  </thead>\n",
              "  <tbody>\n",
              "    <tr>\n",
              "      <th>26244</th>\n",
              "      <td>14.0</td>\n",
              "      <td>31.6</td>\n",
              "      <td>12.0</td>\n",
              "      <td>260.0</td>\n",
              "    </tr>\n",
              "    <tr>\n",
              "      <th>26245</th>\n",
              "      <td>15.0</td>\n",
              "      <td>33.0</td>\n",
              "      <td>11.0</td>\n",
              "      <td>245.0</td>\n",
              "    </tr>\n",
              "    <tr>\n",
              "      <th>26246</th>\n",
              "      <td>18.0</td>\n",
              "      <td>33.0</td>\n",
              "      <td>11.0</td>\n",
              "      <td>245.0</td>\n",
              "    </tr>\n",
              "    <tr>\n",
              "      <th>26247</th>\n",
              "      <td>14.0</td>\n",
              "      <td>33.0</td>\n",
              "      <td>11.0</td>\n",
              "      <td>245.0</td>\n",
              "    </tr>\n",
              "    <tr>\n",
              "      <th>26248</th>\n",
              "      <td>13.0</td>\n",
              "      <td>32.5</td>\n",
              "      <td>15.0</td>\n",
              "      <td>250.0</td>\n",
              "    </tr>\n",
              "    <tr>\n",
              "      <th>26249</th>\n",
              "      <td>9.0</td>\n",
              "      <td>32.5</td>\n",
              "      <td>15.0</td>\n",
              "      <td>250.0</td>\n",
              "    </tr>\n",
              "    <tr>\n",
              "      <th>26250</th>\n",
              "      <td>9.0</td>\n",
              "      <td>32.5</td>\n",
              "      <td>15.0</td>\n",
              "      <td>250.0</td>\n",
              "    </tr>\n",
              "    <tr>\n",
              "      <th>26251</th>\n",
              "      <td>10.0</td>\n",
              "      <td>30.7</td>\n",
              "      <td>17.0</td>\n",
              "      <td>285.0</td>\n",
              "    </tr>\n",
              "    <tr>\n",
              "      <th>26252</th>\n",
              "      <td>7.0</td>\n",
              "      <td>30.7</td>\n",
              "      <td>17.0</td>\n",
              "      <td>285.0</td>\n",
              "    </tr>\n",
              "    <tr>\n",
              "      <th>26253</th>\n",
              "      <td>10.0</td>\n",
              "      <td>30.7</td>\n",
              "      <td>17.0</td>\n",
              "      <td>285.0</td>\n",
              "    </tr>\n",
              "    <tr>\n",
              "      <th>26254</th>\n",
              "      <td>8.0</td>\n",
              "      <td>29.1</td>\n",
              "      <td>14.0</td>\n",
              "      <td>240.0</td>\n",
              "    </tr>\n",
              "    <tr>\n",
              "      <th>26255</th>\n",
              "      <td>7.0</td>\n",
              "      <td>29.1</td>\n",
              "      <td>14.0</td>\n",
              "      <td>240.0</td>\n",
              "    </tr>\n",
              "    <tr>\n",
              "      <th>26256</th>\n",
              "      <td>9.0</td>\n",
              "      <td>29.1</td>\n",
              "      <td>14.0</td>\n",
              "      <td>240.0</td>\n",
              "    </tr>\n",
              "    <tr>\n",
              "      <th>26257</th>\n",
              "      <td>10.0</td>\n",
              "      <td>27.8</td>\n",
              "      <td>16.0</td>\n",
              "      <td>240.0</td>\n",
              "    </tr>\n",
              "    <tr>\n",
              "      <th>26258</th>\n",
              "      <td>12.0</td>\n",
              "      <td>27.8</td>\n",
              "      <td>16.0</td>\n",
              "      <td>240.0</td>\n",
              "    </tr>\n",
              "    <tr>\n",
              "      <th>26259</th>\n",
              "      <td>11.0</td>\n",
              "      <td>27.8</td>\n",
              "      <td>16.0</td>\n",
              "      <td>240.0</td>\n",
              "    </tr>\n",
              "    <tr>\n",
              "      <th>26260</th>\n",
              "      <td>12.0</td>\n",
              "      <td>27.3</td>\n",
              "      <td>18.0</td>\n",
              "      <td>280.0</td>\n",
              "    </tr>\n",
              "    <tr>\n",
              "      <th>26261</th>\n",
              "      <td>18.0</td>\n",
              "      <td>27.3</td>\n",
              "      <td>18.0</td>\n",
              "      <td>280.0</td>\n",
              "    </tr>\n",
              "    <tr>\n",
              "      <th>26262</th>\n",
              "      <td>10.0</td>\n",
              "      <td>27.3</td>\n",
              "      <td>18.0</td>\n",
              "      <td>280.0</td>\n",
              "    </tr>\n",
              "    <tr>\n",
              "      <th>26263</th>\n",
              "      <td>15.0</td>\n",
              "      <td>28.2</td>\n",
              "      <td>20.0</td>\n",
              "      <td>275.0</td>\n",
              "    </tr>\n",
              "    <tr>\n",
              "      <th>26264</th>\n",
              "      <td>15.0</td>\n",
              "      <td>28.2</td>\n",
              "      <td>20.0</td>\n",
              "      <td>275.0</td>\n",
              "    </tr>\n",
              "    <tr>\n",
              "      <th>26265</th>\n",
              "      <td>9.0</td>\n",
              "      <td>28.2</td>\n",
              "      <td>20.0</td>\n",
              "      <td>275.0</td>\n",
              "    </tr>\n",
              "    <tr>\n",
              "      <th>26266</th>\n",
              "      <td>14.0</td>\n",
              "      <td>30.2</td>\n",
              "      <td>17.0</td>\n",
              "      <td>290.0</td>\n",
              "    </tr>\n",
              "    <tr>\n",
              "      <th>26267</th>\n",
              "      <td>13.0</td>\n",
              "      <td>30.2</td>\n",
              "      <td>17.0</td>\n",
              "      <td>290.0</td>\n",
              "    </tr>\n",
              "    <tr>\n",
              "      <th>26268</th>\n",
              "      <td>16.0</td>\n",
              "      <td>30.2</td>\n",
              "      <td>17.0</td>\n",
              "      <td>290.0</td>\n",
              "    </tr>\n",
              "    <tr>\n",
              "      <th>26269</th>\n",
              "      <td>12.0</td>\n",
              "      <td>32.5</td>\n",
              "      <td>16.0</td>\n",
              "      <td>265.0</td>\n",
              "    </tr>\n",
              "    <tr>\n",
              "      <th>26270</th>\n",
              "      <td>17.0</td>\n",
              "      <td>32.5</td>\n",
              "      <td>16.0</td>\n",
              "      <td>265.0</td>\n",
              "    </tr>\n",
              "    <tr>\n",
              "      <th>26271</th>\n",
              "      <td>19.0</td>\n",
              "      <td>32.5</td>\n",
              "      <td>16.0</td>\n",
              "      <td>265.0</td>\n",
              "    </tr>\n",
              "    <tr>\n",
              "      <th>26272</th>\n",
              "      <td>11.0</td>\n",
              "      <td>32.2</td>\n",
              "      <td>19.0</td>\n",
              "      <td>270.0</td>\n",
              "    </tr>\n",
              "    <tr>\n",
              "      <th>26273</th>\n",
              "      <td>17.0</td>\n",
              "      <td>32.2</td>\n",
              "      <td>19.0</td>\n",
              "      <td>270.0</td>\n",
              "    </tr>\n",
              "    <tr>\n",
              "      <th>26274</th>\n",
              "      <td>8.0</td>\n",
              "      <td>32.2</td>\n",
              "      <td>19.0</td>\n",
              "      <td>270.0</td>\n",
              "    </tr>\n",
              "    <tr>\n",
              "      <th>26275</th>\n",
              "      <td>8.0</td>\n",
              "      <td>30.0</td>\n",
              "      <td>26.0</td>\n",
              "      <td>250.0</td>\n",
              "    </tr>\n",
              "    <tr>\n",
              "      <th>26276</th>\n",
              "      <td>14.0</td>\n",
              "      <td>30.0</td>\n",
              "      <td>26.0</td>\n",
              "      <td>250.0</td>\n",
              "    </tr>\n",
              "    <tr>\n",
              "      <th>26277</th>\n",
              "      <td>10.0</td>\n",
              "      <td>30.0</td>\n",
              "      <td>26.0</td>\n",
              "      <td>250.0</td>\n",
              "    </tr>\n",
              "    <tr>\n",
              "      <th>26278</th>\n",
              "      <td>9.0</td>\n",
              "      <td>29.6</td>\n",
              "      <td>27.0</td>\n",
              "      <td>270.0</td>\n",
              "    </tr>\n",
              "    <tr>\n",
              "      <th>26279</th>\n",
              "      <td>12.0</td>\n",
              "      <td>29.6</td>\n",
              "      <td>27.0</td>\n",
              "      <td>270.0</td>\n",
              "    </tr>\n",
              "    <tr>\n",
              "      <th>26280</th>\n",
              "      <td>9.0</td>\n",
              "      <td>29.6</td>\n",
              "      <td>27.0</td>\n",
              "      <td>270.0</td>\n",
              "    </tr>\n",
              "    <tr>\n",
              "      <th>26281</th>\n",
              "      <td>13.0</td>\n",
              "      <td>28.6</td>\n",
              "      <td>21.0</td>\n",
              "      <td>250.0</td>\n",
              "    </tr>\n",
              "    <tr>\n",
              "      <th>26282</th>\n",
              "      <td>10.0</td>\n",
              "      <td>28.6</td>\n",
              "      <td>21.0</td>\n",
              "      <td>250.0</td>\n",
              "    </tr>\n",
              "    <tr>\n",
              "      <th>26283</th>\n",
              "      <td>10.0</td>\n",
              "      <td>28.6</td>\n",
              "      <td>21.0</td>\n",
              "      <td>250.0</td>\n",
              "    </tr>\n",
              "    <tr>\n",
              "      <th>26284</th>\n",
              "      <td>13.0</td>\n",
              "      <td>28.0</td>\n",
              "      <td>24.0</td>\n",
              "      <td>255.0</td>\n",
              "    </tr>\n",
              "    <tr>\n",
              "      <th>26285</th>\n",
              "      <td>10.0</td>\n",
              "      <td>28.0</td>\n",
              "      <td>24.0</td>\n",
              "      <td>255.0</td>\n",
              "    </tr>\n",
              "    <tr>\n",
              "      <th>26286</th>\n",
              "      <td>14.0</td>\n",
              "      <td>28.0</td>\n",
              "      <td>24.0</td>\n",
              "      <td>255.0</td>\n",
              "    </tr>\n",
              "    <tr>\n",
              "      <th>26287</th>\n",
              "      <td>17.0</td>\n",
              "      <td>28.5</td>\n",
              "      <td>22.0</td>\n",
              "      <td>255.0</td>\n",
              "    </tr>\n",
              "    <tr>\n",
              "      <th>26288</th>\n",
              "      <td>15.0</td>\n",
              "      <td>28.5</td>\n",
              "      <td>22.0</td>\n",
              "      <td>255.0</td>\n",
              "    </tr>\n",
              "    <tr>\n",
              "      <th>26289</th>\n",
              "      <td>13.0</td>\n",
              "      <td>28.5</td>\n",
              "      <td>22.0</td>\n",
              "      <td>255.0</td>\n",
              "    </tr>\n",
              "    <tr>\n",
              "      <th>26290</th>\n",
              "      <td>14.0</td>\n",
              "      <td>30.8</td>\n",
              "      <td>24.0</td>\n",
              "      <td>250.0</td>\n",
              "    </tr>\n",
              "    <tr>\n",
              "      <th>26291</th>\n",
              "      <td>14.0</td>\n",
              "      <td>30.8</td>\n",
              "      <td>24.0</td>\n",
              "      <td>250.0</td>\n",
              "    </tr>\n",
              "    <tr>\n",
              "      <th>26292</th>\n",
              "      <td>17.0</td>\n",
              "      <td>30.8</td>\n",
              "      <td>24.0</td>\n",
              "      <td>250.0</td>\n",
              "    </tr>\n",
              "    <tr>\n",
              "      <th>26293</th>\n",
              "      <td>12.0</td>\n",
              "      <td>32.0</td>\n",
              "      <td>23.0</td>\n",
              "      <td>250.0</td>\n",
              "    </tr>\n",
              "    <tr>\n",
              "      <th>26294</th>\n",
              "      <td>13.0</td>\n",
              "      <td>32.0</td>\n",
              "      <td>23.0</td>\n",
              "      <td>250.0</td>\n",
              "    </tr>\n",
              "    <tr>\n",
              "      <th>26295</th>\n",
              "      <td>12.0</td>\n",
              "      <td>32.0</td>\n",
              "      <td>23.0</td>\n",
              "      <td>250.0</td>\n",
              "    </tr>\n",
              "    <tr>\n",
              "      <th>26296</th>\n",
              "      <td>9.0</td>\n",
              "      <td>32.1</td>\n",
              "      <td>37.0</td>\n",
              "      <td>255.0</td>\n",
              "    </tr>\n",
              "    <tr>\n",
              "      <th>26297</th>\n",
              "      <td>8.0</td>\n",
              "      <td>32.1</td>\n",
              "      <td>37.0</td>\n",
              "      <td>255.0</td>\n",
              "    </tr>\n",
              "    <tr>\n",
              "      <th>26298</th>\n",
              "      <td>11.0</td>\n",
              "      <td>32.1</td>\n",
              "      <td>37.0</td>\n",
              "      <td>255.0</td>\n",
              "    </tr>\n",
              "    <tr>\n",
              "      <th>26299</th>\n",
              "      <td>15.0</td>\n",
              "      <td>30.3</td>\n",
              "      <td>36.0</td>\n",
              "      <td>265.0</td>\n",
              "    </tr>\n",
              "    <tr>\n",
              "      <th>26300</th>\n",
              "      <td>14.0</td>\n",
              "      <td>30.3</td>\n",
              "      <td>36.0</td>\n",
              "      <td>265.0</td>\n",
              "    </tr>\n",
              "    <tr>\n",
              "      <th>26301</th>\n",
              "      <td>17.0</td>\n",
              "      <td>30.3</td>\n",
              "      <td>36.0</td>\n",
              "      <td>265.0</td>\n",
              "    </tr>\n",
              "    <tr>\n",
              "      <th>26302</th>\n",
              "      <td>5.0</td>\n",
              "      <td>29.4</td>\n",
              "      <td>35.0</td>\n",
              "      <td>270.0</td>\n",
              "    </tr>\n",
              "    <tr>\n",
              "      <th>26303</th>\n",
              "      <td>7.0</td>\n",
              "      <td>29.4</td>\n",
              "      <td>35.0</td>\n",
              "      <td>270.0</td>\n",
              "    </tr>\n",
              "  </tbody>\n",
              "</table>\n",
              "</div>"
            ],
            "text/plain": [
              "       PM2.5  temp  wind speed  wind dir\n",
              "26244   14.0  31.6        12.0     260.0\n",
              "26245   15.0  33.0        11.0     245.0\n",
              "26246   18.0  33.0        11.0     245.0\n",
              "26247   14.0  33.0        11.0     245.0\n",
              "26248   13.0  32.5        15.0     250.0\n",
              "26249    9.0  32.5        15.0     250.0\n",
              "26250    9.0  32.5        15.0     250.0\n",
              "26251   10.0  30.7        17.0     285.0\n",
              "26252    7.0  30.7        17.0     285.0\n",
              "26253   10.0  30.7        17.0     285.0\n",
              "26254    8.0  29.1        14.0     240.0\n",
              "26255    7.0  29.1        14.0     240.0\n",
              "26256    9.0  29.1        14.0     240.0\n",
              "26257   10.0  27.8        16.0     240.0\n",
              "26258   12.0  27.8        16.0     240.0\n",
              "26259   11.0  27.8        16.0     240.0\n",
              "26260   12.0  27.3        18.0     280.0\n",
              "26261   18.0  27.3        18.0     280.0\n",
              "26262   10.0  27.3        18.0     280.0\n",
              "26263   15.0  28.2        20.0     275.0\n",
              "26264   15.0  28.2        20.0     275.0\n",
              "26265    9.0  28.2        20.0     275.0\n",
              "26266   14.0  30.2        17.0     290.0\n",
              "26267   13.0  30.2        17.0     290.0\n",
              "26268   16.0  30.2        17.0     290.0\n",
              "26269   12.0  32.5        16.0     265.0\n",
              "26270   17.0  32.5        16.0     265.0\n",
              "26271   19.0  32.5        16.0     265.0\n",
              "26272   11.0  32.2        19.0     270.0\n",
              "26273   17.0  32.2        19.0     270.0\n",
              "26274    8.0  32.2        19.0     270.0\n",
              "26275    8.0  30.0        26.0     250.0\n",
              "26276   14.0  30.0        26.0     250.0\n",
              "26277   10.0  30.0        26.0     250.0\n",
              "26278    9.0  29.6        27.0     270.0\n",
              "26279   12.0  29.6        27.0     270.0\n",
              "26280    9.0  29.6        27.0     270.0\n",
              "26281   13.0  28.6        21.0     250.0\n",
              "26282   10.0  28.6        21.0     250.0\n",
              "26283   10.0  28.6        21.0     250.0\n",
              "26284   13.0  28.0        24.0     255.0\n",
              "26285   10.0  28.0        24.0     255.0\n",
              "26286   14.0  28.0        24.0     255.0\n",
              "26287   17.0  28.5        22.0     255.0\n",
              "26288   15.0  28.5        22.0     255.0\n",
              "26289   13.0  28.5        22.0     255.0\n",
              "26290   14.0  30.8        24.0     250.0\n",
              "26291   14.0  30.8        24.0     250.0\n",
              "26292   17.0  30.8        24.0     250.0\n",
              "26293   12.0  32.0        23.0     250.0\n",
              "26294   13.0  32.0        23.0     250.0\n",
              "26295   12.0  32.0        23.0     250.0\n",
              "26296    9.0  32.1        37.0     255.0\n",
              "26297    8.0  32.1        37.0     255.0\n",
              "26298   11.0  32.1        37.0     255.0\n",
              "26299   15.0  30.3        36.0     265.0\n",
              "26300   14.0  30.3        36.0     265.0\n",
              "26301   17.0  30.3        36.0     265.0\n",
              "26302    5.0  29.4        35.0     270.0\n",
              "26303    7.0  29.4        35.0     270.0"
            ]
          },
          "execution_count": 105,
          "metadata": {},
          "output_type": "execute_result"
        }
      ],
      "source": [
        "data_training.tail(60)"
      ]
    },
    {
      "cell_type": "code",
      "execution_count": 106,
      "metadata": {
        "id": "Sb-SV-wReAJL"
      },
      "outputs": [
        {
          "data": {
            "text/html": [
              "<div>\n",
              "<style scoped>\n",
              "    .dataframe tbody tr th:only-of-type {\n",
              "        vertical-align: middle;\n",
              "    }\n",
              "\n",
              "    .dataframe tbody tr th {\n",
              "        vertical-align: top;\n",
              "    }\n",
              "\n",
              "    .dataframe thead th {\n",
              "        text-align: right;\n",
              "    }\n",
              "</style>\n",
              "<table border=\"1\" class=\"dataframe\">\n",
              "  <thead>\n",
              "    <tr style=\"text-align: right;\">\n",
              "      <th></th>\n",
              "      <th>PM2.5</th>\n",
              "      <th>temp</th>\n",
              "      <th>wind speed</th>\n",
              "      <th>wind dir</th>\n",
              "    </tr>\n",
              "  </thead>\n",
              "  <tbody>\n",
              "    <tr>\n",
              "      <th>0</th>\n",
              "      <td>9.0</td>\n",
              "      <td>29.4</td>\n",
              "      <td>35</td>\n",
              "      <td>270</td>\n",
              "    </tr>\n",
              "    <tr>\n",
              "      <th>1</th>\n",
              "      <td>8.0</td>\n",
              "      <td>29.4</td>\n",
              "      <td>42</td>\n",
              "      <td>260</td>\n",
              "    </tr>\n",
              "    <tr>\n",
              "      <th>2</th>\n",
              "      <td>12.0</td>\n",
              "      <td>28.5</td>\n",
              "      <td>42</td>\n",
              "      <td>260</td>\n",
              "    </tr>\n",
              "    <tr>\n",
              "      <th>3</th>\n",
              "      <td>9.0</td>\n",
              "      <td>28.5</td>\n",
              "      <td>42</td>\n",
              "      <td>260</td>\n",
              "    </tr>\n",
              "    <tr>\n",
              "      <th>4</th>\n",
              "      <td>8.0</td>\n",
              "      <td>28.3</td>\n",
              "      <td>55</td>\n",
              "      <td>270</td>\n",
              "    </tr>\n",
              "  </tbody>\n",
              "</table>\n",
              "</div>"
            ],
            "text/plain": [
              "   PM2.5  temp  wind speed  wind dir\n",
              "0    9.0  29.4          35       270\n",
              "1    8.0  29.4          42       260\n",
              "2   12.0  28.5          42       260\n",
              "3    9.0  28.5          42       260\n",
              "4    8.0  28.3          55       270"
            ]
          },
          "execution_count": 106,
          "metadata": {},
          "output_type": "execute_result"
        }
      ],
      "source": [
        "data_test = data_test.drop(['date_time'], axis = 1)\n",
        "data_test.head()"
      ]
    },
    {
      "cell_type": "markdown",
      "metadata": {
        "id": "srd1b_HckIVw"
      },
      "source": [
        "## Prepare testing data"
      ]
    },
    {
      "cell_type": "code",
      "execution_count": 107,
      "metadata": {
        "id": "UpqWwdOaeD1K"
      },
      "outputs": [],
      "source": [
        "past_60_days = data_training.tail(60)"
      ]
    },
    {
      "cell_type": "code",
      "execution_count": 108,
      "metadata": {
        "id": "TR2tRta0eEgF"
      },
      "outputs": [
        {
          "data": {
            "text/html": [
              "<div>\n",
              "<style scoped>\n",
              "    .dataframe tbody tr th:only-of-type {\n",
              "        vertical-align: middle;\n",
              "    }\n",
              "\n",
              "    .dataframe tbody tr th {\n",
              "        vertical-align: top;\n",
              "    }\n",
              "\n",
              "    .dataframe thead th {\n",
              "        text-align: right;\n",
              "    }\n",
              "</style>\n",
              "<table border=\"1\" class=\"dataframe\">\n",
              "  <thead>\n",
              "    <tr style=\"text-align: right;\">\n",
              "      <th></th>\n",
              "      <th>PM2.5</th>\n",
              "      <th>temp</th>\n",
              "      <th>wind speed</th>\n",
              "      <th>wind dir</th>\n",
              "    </tr>\n",
              "  </thead>\n",
              "  <tbody>\n",
              "    <tr>\n",
              "      <th>0</th>\n",
              "      <td>14.0</td>\n",
              "      <td>31.6</td>\n",
              "      <td>12.0</td>\n",
              "      <td>260.0</td>\n",
              "    </tr>\n",
              "    <tr>\n",
              "      <th>1</th>\n",
              "      <td>15.0</td>\n",
              "      <td>33.0</td>\n",
              "      <td>11.0</td>\n",
              "      <td>245.0</td>\n",
              "    </tr>\n",
              "    <tr>\n",
              "      <th>2</th>\n",
              "      <td>18.0</td>\n",
              "      <td>33.0</td>\n",
              "      <td>11.0</td>\n",
              "      <td>245.0</td>\n",
              "    </tr>\n",
              "    <tr>\n",
              "      <th>3</th>\n",
              "      <td>14.0</td>\n",
              "      <td>33.0</td>\n",
              "      <td>11.0</td>\n",
              "      <td>245.0</td>\n",
              "    </tr>\n",
              "    <tr>\n",
              "      <th>4</th>\n",
              "      <td>13.0</td>\n",
              "      <td>32.5</td>\n",
              "      <td>15.0</td>\n",
              "      <td>250.0</td>\n",
              "    </tr>\n",
              "  </tbody>\n",
              "</table>\n",
              "</div>"
            ],
            "text/plain": [
              "   PM2.5  temp  wind speed  wind dir\n",
              "0   14.0  31.6        12.0     260.0\n",
              "1   15.0  33.0        11.0     245.0\n",
              "2   18.0  33.0        11.0     245.0\n",
              "3   14.0  33.0        11.0     245.0\n",
              "4   13.0  32.5        15.0     250.0"
            ]
          },
          "execution_count": 108,
          "metadata": {},
          "output_type": "execute_result"
        }
      ],
      "source": [
        "df = past_60_days.append(data_test, ignore_index = True)\n",
        "df.head()"
      ]
    },
    {
      "cell_type": "code",
      "execution_count": 109,
      "metadata": {
        "id": "zwRexsPQqvTy"
      },
      "outputs": [],
      "source": [
        "df.dropna(inplace=True)"
      ]
    },
    {
      "cell_type": "code",
      "execution_count": 110,
      "metadata": {
        "id": "yRpQEcauq0oc"
      },
      "outputs": [
        {
          "data": {
            "text/plain": [
              "(7874, 4)"
            ]
          },
          "execution_count": 110,
          "metadata": {},
          "output_type": "execute_result"
        }
      ],
      "source": [
        "df.shape"
      ]
    },
    {
      "cell_type": "code",
      "execution_count": 111,
      "metadata": {
        "id": "KKrjHeCMeGWX"
      },
      "outputs": [
        {
          "data": {
            "text/plain": [
              "array([[0.08661417, 0.68899522, 0.14117647, 0.72222222],\n",
              "       [0.09448819, 0.75598086, 0.12941176, 0.68055556],\n",
              "       [0.11811024, 0.75598086, 0.12941176, 0.68055556],\n",
              "       ...,\n",
              "       [0.08661417, 0.60287081, 0.23529412, 0.69444444],\n",
              "       [0.08661417, 0.56937799, 0.18823529, 0.68055556],\n",
              "       [0.08661417, 0.55980861, 0.16470588, 0.65277778]])"
            ]
          },
          "execution_count": 111,
          "metadata": {},
          "output_type": "execute_result"
        }
      ],
      "source": [
        "inputs = scaler.transform(df)\n",
        "inputs"
      ]
    },
    {
      "cell_type": "code",
      "execution_count": 112,
      "metadata": {
        "id": "x3WdrSMFeHlj"
      },
      "outputs": [],
      "source": [
        "X_test = []\n",
        "y_test = []\n",
        "\n",
        "for i in range(60, inputs.shape[0]):\n",
        "    X_test.append(inputs[i-60:i])\n",
        "    y_test.append(inputs[i, 0])"
      ]
    },
    {
      "cell_type": "code",
      "execution_count": 113,
      "metadata": {
        "id": "1-l8uJ6beJN-"
      },
      "outputs": [
        {
          "data": {
            "text/plain": [
              "((7814, 60, 4), (7814,))"
            ]
          },
          "execution_count": 113,
          "metadata": {},
          "output_type": "execute_result"
        }
      ],
      "source": [
        "X_test, y_test = np.array(X_test), np.array(y_test)\n",
        "X_test.shape, y_test.shape"
      ]
    },
    {
      "cell_type": "markdown",
      "metadata": {
        "id": "ygbCO5D8kMzd"
      },
      "source": [
        "## Model prediction"
      ]
    },
    {
      "cell_type": "code",
      "execution_count": 114,
      "metadata": {
        "id": "OAbQp-tPeKvP"
      },
      "outputs": [],
      "source": [
        "y_pred = modelLSTM.predict(X_test)"
      ]
    },
    {
      "cell_type": "code",
      "execution_count": 115,
      "metadata": {
        "id": "Irrq6QPerRXc"
      },
      "outputs": [
        {
          "data": {
            "text/plain": [
              "array([[0.07012574],\n",
              "       [0.07356675],\n",
              "       [0.07220539],\n",
              "       ...,\n",
              "       [0.09042338],\n",
              "       [0.0894975 ],\n",
              "       [0.09149192]], dtype=float32)"
            ]
          },
          "execution_count": 115,
          "metadata": {},
          "output_type": "execute_result"
        }
      ],
      "source": [
        "y_pred"
      ]
    },
    {
      "cell_type": "code",
      "execution_count": 116,
      "metadata": {
        "id": "mW1siKnzgP5K"
      },
      "outputs": [
        {
          "data": {
            "text/plain": [
              "array([0.00787402, 0.04784689, 0.01176471, 0.00277778])"
            ]
          },
          "execution_count": 116,
          "metadata": {},
          "output_type": "execute_result"
        }
      ],
      "source": [
        "scaler.scale_"
      ]
    },
    {
      "cell_type": "code",
      "execution_count": 117,
      "metadata": {
        "id": "VO8T2VYEeO7q"
      },
      "outputs": [
        {
          "data": {
            "text/plain": [
              "127.0"
            ]
          },
          "execution_count": 117,
          "metadata": {},
          "output_type": "execute_result"
        }
      ],
      "source": [
        "scale = 1/scaler.scale_[0]\n",
        "scale"
      ]
    },
    {
      "cell_type": "code",
      "execution_count": 118,
      "metadata": {
        "id": "6J1AmHFNeP6Z"
      },
      "outputs": [],
      "source": [
        "y_pred = y_pred*scale\n",
        "y_test = y_test*scale"
      ]
    },
    {
      "cell_type": "code",
      "execution_count": 119,
      "metadata": {
        "id": "NsN4tns4A0lG"
      },
      "outputs": [
        {
          "name": "stdout",
          "output_type": "stream",
          "text": [
            "BKK RMSE = 2.765100764624348\n"
          ]
        }
      ],
      "source": [
        "import math\n",
        "from sklearn.metrics import mean_squared_error\n",
        "\n",
        "print(province+' RMSE =', math.sqrt(mean_squared_error(y_test, y_pred)) )"
      ]
    },
    {
      "cell_type": "code",
      "execution_count": 120,
      "metadata": {
        "id": "KkwVJXVaeR4e"
      },
      "outputs": [
        {
          "data": {
            "image/png": "[encoded data removed]",
            "text/plain": [
              "<Figure size 1008x360 with 1 Axes>"
            ]
          },
          "metadata": {
            "needs_background": "light"
          },
          "output_type": "display_data"
        }
      ],
      "source": [
        "# Visualising the results\n",
        "plt.figure(figsize=(14,5))\n",
        "plt.plot(y_test, color = 'red', label = 'Real')\n",
        "plt.plot(y_pred, color = 'blue', label = 'Predicted')\n",
        "plt.xlabel('Time')\n",
        "plt.ylabel('PM2.5')\n",
        "plt.legend()\n",
        "plt.show()"
      ]
    },
    {
      "cell_type": "code",
      "execution_count": 121,
      "metadata": {
        "id": "_9BwFEag82WB"
      },
      "outputs": [],
      "source": [
        "import pickle\n",
        "\n",
        "with open('lstm_'+province.lower()+'_2.pickle', 'wb') as fp:\n",
        "    pickle.dump(y_pred, fp)"
      ]
    },
    {
      "cell_type": "code",
      "execution_count": 122,
      "metadata": {
        "id": "X2NYaatgLJXQ"
      },
      "outputs": [],
      "source": [
        "df1 = pd.DataFrame(y_pred)"
      ]
    },
    {
      "cell_type": "code",
      "execution_count": 123,
      "metadata": {
        "id": "YErb_X68VpfD"
      },
      "outputs": [],
      "source": [
        "df1.to_csv('lstm_'+province.lower()+'_2.csv')"
      ]
    },
    {
      "cell_type": "code",
      "execution_count": null,
      "metadata": {
        "id": "j6-u-OHuV6il"
      },
      "outputs": [],
      "source": []
    }
  ],
  "metadata": {
    "accelerator": "GPU",
    "colab": {
      "collapsed_sections": [],
      "name": "LSTM.ipynb",
      "provenance": []
    },
    "kernelspec": {
      "display_name": "Python 3",
      "name": "python3"
    },
    "language_info": {
      "codemirror_mode": {
        "name": "ipython",
        "version": 3
      },
      "file_extension": ".py",
      "mimetype": "text/x-python",
      "name": "python",
      "nbconvert_exporter": "python",
      "pygments_lexer": "ipython3",
      "version": "3.8.8"
    }
  },
  "nbformat": 4,
  "nbformat_minor": 0
}
