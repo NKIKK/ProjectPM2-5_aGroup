{
  "cells": [
    {
      "cell_type": "code",
      "execution_count": 97,
      "metadata": {
        "colab": {
          "base_uri": "https://localhost:8080/"
        },
        "id": "hma9CCJCtdye",
        "outputId": "673f70f8-4c1d-4e62-e525-fe90db0614ab"
      },
      "outputs": [],
      "source": [
        "#!nvidia-smi"
      ]
    },
    {
      "cell_type": "code",
      "execution_count": 98,
      "metadata": {
        "id": "tXYt8kYNc-8I"
      },
      "outputs": [],
      "source": [
        "import numpy as np\n",
        "import matplotlib.pyplot as plt\n",
        "import pandas as pd\n",
        "from sklearn.preprocessing import MinMaxScaler"
      ]
    },
    {
      "cell_type": "markdown",
      "metadata": {
        "id": "kma2WK2H5j47"
      },
      "source": [
        "## Train/test split"
      ]
    },
    {
      "cell_type": "code",
      "execution_count": 99,
      "metadata": {
        "id": "9B3XlyHJWiP-"
      },
      "outputs": [],
      "source": [
        "provinces = ['BKK','Chiangmai','Khonkaen','Rayong','Saraburi','Surat']\n",
        "province = provinces[4]"
      ]
    },
    {
      "cell_type": "code",
      "execution_count": 100,
      "metadata": {
        "colab": {
          "base_uri": "https://localhost:8080/",
          "height": 206
        },
        "id": "U-lSoEO_dfa-",
        "outputId": "3f98e52c-aecf-41f6-8b80-29b60ba6df7d"
      },
      "outputs": [
        {
          "data": {
            "text/html": [
              "<div>\n",
              "<style scoped>\n",
              "    .dataframe tbody tr th:only-of-type {\n",
              "        vertical-align: middle;\n",
              "    }\n",
              "\n",
              "    .dataframe tbody tr th {\n",
              "        vertical-align: top;\n",
              "    }\n",
              "\n",
              "    .dataframe thead th {\n",
              "        text-align: right;\n",
              "    }\n",
              "</style>\n",
              "<table border=\"1\" class=\"dataframe\">\n",
              "  <thead>\n",
              "    <tr style=\"text-align: right;\">\n",
              "      <th></th>\n",
              "      <th>date_time</th>\n",
              "      <th>PM2.5</th>\n",
              "      <th>temp</th>\n",
              "      <th>wind speed</th>\n",
              "      <th>wind dir</th>\n",
              "      <th>lat</th>\n",
              "      <th>long</th>\n",
              "    </tr>\n",
              "  </thead>\n",
              "  <tbody>\n",
              "    <tr>\n",
              "      <th>8430</th>\n",
              "      <td>2018-06-17 06:00:00</td>\n",
              "      <td>14.0</td>\n",
              "      <td>25.7</td>\n",
              "      <td>38.0</td>\n",
              "      <td>270.0</td>\n",
              "      <td>14.685833</td>\n",
              "      <td>100.871996</td>\n",
              "    </tr>\n",
              "    <tr>\n",
              "      <th>7623</th>\n",
              "      <td>2018-05-14 15:00:00</td>\n",
              "      <td>17.0</td>\n",
              "      <td>36.9</td>\n",
              "      <td>3.0</td>\n",
              "      <td>160.0</td>\n",
              "      <td>14.685833</td>\n",
              "      <td>100.871996</td>\n",
              "    </tr>\n",
              "    <tr>\n",
              "      <th>5814</th>\n",
              "      <td>2018-02-28 06:00:00</td>\n",
              "      <td>47.0</td>\n",
              "      <td>27.1</td>\n",
              "      <td>9.0</td>\n",
              "      <td>170.0</td>\n",
              "      <td>14.685833</td>\n",
              "      <td>100.871996</td>\n",
              "    </tr>\n",
              "    <tr>\n",
              "      <th>17814</th>\n",
              "      <td>2019-07-13 06:00:00</td>\n",
              "      <td>20.0</td>\n",
              "      <td>24.7</td>\n",
              "      <td>32.0</td>\n",
              "      <td>280.0</td>\n",
              "      <td>14.685833</td>\n",
              "      <td>100.871996</td>\n",
              "    </tr>\n",
              "    <tr>\n",
              "      <th>6563</th>\n",
              "      <td>2018-03-31 11:00:00</td>\n",
              "      <td>37.0</td>\n",
              "      <td>33.4</td>\n",
              "      <td>9.0</td>\n",
              "      <td>130.0</td>\n",
              "      <td>14.685833</td>\n",
              "      <td>100.871996</td>\n",
              "    </tr>\n",
              "  </tbody>\n",
              "</table>\n",
              "</div>"
            ],
            "text/plain": [
              "                 date_time  PM2.5  temp  wind speed  wind dir        lat  \\\n",
              "8430   2018-06-17 06:00:00   14.0  25.7        38.0     270.0  14.685833   \n",
              "7623   2018-05-14 15:00:00   17.0  36.9         3.0     160.0  14.685833   \n",
              "5814   2018-02-28 06:00:00   47.0  27.1         9.0     170.0  14.685833   \n",
              "17814  2019-07-13 06:00:00   20.0  24.7        32.0     280.0  14.685833   \n",
              "6563   2018-03-31 11:00:00   37.0  33.4         9.0     130.0  14.685833   \n",
              "\n",
              "             long  \n",
              "8430   100.871996  \n",
              "7623   100.871996  \n",
              "5814   100.871996  \n",
              "17814  100.871996  \n",
              "6563   100.871996  "
            ]
          },
          "execution_count": 100,
          "metadata": {},
          "output_type": "execute_result"
        }
      ],
      "source": [
        "data_training = pd.read_csv(province+'/train/'+province.lower()+'_train_format.csv', date_parser = True)\n",
        "data_training.sample(5)"
      ]
    },
    {
      "cell_type": "code",
      "execution_count": 101,
      "metadata": {
        "colab": {
          "base_uri": "https://localhost:8080/",
          "height": 206
        },
        "id": "5FXLGXmedgqG",
        "outputId": "f2bfe5c4-5390-4397-bb7a-de16c5d64092"
      },
      "outputs": [
        {
          "data": {
            "text/html": [
              "<div>\n",
              "<style scoped>\n",
              "    .dataframe tbody tr th:only-of-type {\n",
              "        vertical-align: middle;\n",
              "    }\n",
              "\n",
              "    .dataframe tbody tr th {\n",
              "        vertical-align: top;\n",
              "    }\n",
              "\n",
              "    .dataframe thead th {\n",
              "        text-align: right;\n",
              "    }\n",
              "</style>\n",
              "<table border=\"1\" class=\"dataframe\">\n",
              "  <thead>\n",
              "    <tr style=\"text-align: right;\">\n",
              "      <th></th>\n",
              "      <th>PM2.5</th>\n",
              "      <th>temp</th>\n",
              "      <th>wind speed</th>\n",
              "      <th>wind dir</th>\n",
              "    </tr>\n",
              "  </thead>\n",
              "  <tbody>\n",
              "    <tr>\n",
              "      <th>0</th>\n",
              "      <td>22.0</td>\n",
              "      <td>25.0</td>\n",
              "      <td>38.0</td>\n",
              "      <td>250.0</td>\n",
              "    </tr>\n",
              "    <tr>\n",
              "      <th>1</th>\n",
              "      <td>16.0</td>\n",
              "      <td>25.0</td>\n",
              "      <td>38.0</td>\n",
              "      <td>250.0</td>\n",
              "    </tr>\n",
              "    <tr>\n",
              "      <th>2</th>\n",
              "      <td>13.0</td>\n",
              "      <td>25.0</td>\n",
              "      <td>38.0</td>\n",
              "      <td>250.0</td>\n",
              "    </tr>\n",
              "    <tr>\n",
              "      <th>3</th>\n",
              "      <td>18.0</td>\n",
              "      <td>25.0</td>\n",
              "      <td>38.0</td>\n",
              "      <td>250.0</td>\n",
              "    </tr>\n",
              "    <tr>\n",
              "      <th>4</th>\n",
              "      <td>29.0</td>\n",
              "      <td>25.0</td>\n",
              "      <td>38.0</td>\n",
              "      <td>250.0</td>\n",
              "    </tr>\n",
              "  </tbody>\n",
              "</table>\n",
              "</div>"
            ],
            "text/plain": [
              "   PM2.5  temp  wind speed  wind dir\n",
              "0   22.0  25.0        38.0     250.0\n",
              "1   16.0  25.0        38.0     250.0\n",
              "2   13.0  25.0        38.0     250.0\n",
              "3   18.0  25.0        38.0     250.0\n",
              "4   29.0  25.0        38.0     250.0"
            ]
          },
          "execution_count": 101,
          "metadata": {},
          "output_type": "execute_result"
        }
      ],
      "source": [
        "data_training = data_training.drop(['date_time', 'lat', 'long'], axis = 1)\n",
        "data_training.head()"
      ]
    },
    {
      "cell_type": "code",
      "execution_count": 102,
      "metadata": {
        "colab": {
          "base_uri": "https://localhost:8080/",
          "height": 206
        },
        "id": "jONlufFv2NPo",
        "outputId": "c117c196-d411-4a06-c1f3-c5aeeef87c7e"
      },
      "outputs": [
        {
          "data": {
            "text/html": [
              "<div>\n",
              "<style scoped>\n",
              "    .dataframe tbody tr th:only-of-type {\n",
              "        vertical-align: middle;\n",
              "    }\n",
              "\n",
              "    .dataframe tbody tr th {\n",
              "        vertical-align: top;\n",
              "    }\n",
              "\n",
              "    .dataframe thead th {\n",
              "        text-align: right;\n",
              "    }\n",
              "</style>\n",
              "<table border=\"1\" class=\"dataframe\">\n",
              "  <thead>\n",
              "    <tr style=\"text-align: right;\">\n",
              "      <th></th>\n",
              "      <th>Unnamed: 0</th>\n",
              "      <th>date_time</th>\n",
              "      <th>PM2.5</th>\n",
              "      <th>temp</th>\n",
              "      <th>wind speed</th>\n",
              "      <th>wind dir</th>\n",
              "      <th>lat</th>\n",
              "      <th>long</th>\n",
              "    </tr>\n",
              "  </thead>\n",
              "  <tbody>\n",
              "    <tr>\n",
              "      <th>7909</th>\n",
              "      <td>7909</td>\n",
              "      <td>2021-05-26 13:00:00</td>\n",
              "      <td>19.0</td>\n",
              "      <td>31.6</td>\n",
              "      <td>20</td>\n",
              "      <td>250</td>\n",
              "      <td>14.685833</td>\n",
              "      <td>100.871996</td>\n",
              "    </tr>\n",
              "    <tr>\n",
              "      <th>1938</th>\n",
              "      <td>1938</td>\n",
              "      <td>2020-09-19 18:00:00</td>\n",
              "      <td>11.0</td>\n",
              "      <td>25.8</td>\n",
              "      <td>42</td>\n",
              "      <td>220</td>\n",
              "      <td>14.685833</td>\n",
              "      <td>100.871996</td>\n",
              "    </tr>\n",
              "    <tr>\n",
              "      <th>2760</th>\n",
              "      <td>2760</td>\n",
              "      <td>2020-10-24 00:00:00</td>\n",
              "      <td>32.0</td>\n",
              "      <td>22.5</td>\n",
              "      <td>20</td>\n",
              "      <td>60</td>\n",
              "      <td>14.685833</td>\n",
              "      <td>100.871996</td>\n",
              "    </tr>\n",
              "    <tr>\n",
              "      <th>6428</th>\n",
              "      <td>6428</td>\n",
              "      <td>2021-03-25 20:00:00</td>\n",
              "      <td>66.0</td>\n",
              "      <td>31.8</td>\n",
              "      <td>8</td>\n",
              "      <td>100</td>\n",
              "      <td>14.685833</td>\n",
              "      <td>100.871996</td>\n",
              "    </tr>\n",
              "    <tr>\n",
              "      <th>3495</th>\n",
              "      <td>3495</td>\n",
              "      <td>2020-11-23 15:00:00</td>\n",
              "      <td>31.0</td>\n",
              "      <td>30.6</td>\n",
              "      <td>34</td>\n",
              "      <td>70</td>\n",
              "      <td>14.685833</td>\n",
              "      <td>100.871996</td>\n",
              "    </tr>\n",
              "  </tbody>\n",
              "</table>\n",
              "</div>"
            ],
            "text/plain": [
              "      Unnamed: 0            date_time  PM2.5  temp  wind speed  wind dir  \\\n",
              "7909        7909  2021-05-26 13:00:00   19.0  31.6          20       250   \n",
              "1938        1938  2020-09-19 18:00:00   11.0  25.8          42       220   \n",
              "2760        2760  2020-10-24 00:00:00   32.0  22.5          20        60   \n",
              "6428        6428  2021-03-25 20:00:00   66.0  31.8           8       100   \n",
              "3495        3495  2020-11-23 15:00:00   31.0  30.6          34        70   \n",
              "\n",
              "            lat        long  \n",
              "7909  14.685833  100.871996  \n",
              "1938  14.685833  100.871996  \n",
              "2760  14.685833  100.871996  \n",
              "6428  14.685833  100.871996  \n",
              "3495  14.685833  100.871996  "
            ]
          },
          "execution_count": 102,
          "metadata": {},
          "output_type": "execute_result"
        }
      ],
      "source": [
        "data_test = pd.read_csv(province+'_clean.csv', date_parser = True)\n",
        "data_test.sample(5)"
      ]
    },
    {
      "cell_type": "code",
      "execution_count": 103,
      "metadata": {
        "colab": {
          "base_uri": "https://localhost:8080/",
          "height": 206
        },
        "id": "ZM_Hn5LcUDqd",
        "outputId": "7c170d33-a52a-4b5e-f057-5d16a4355a2d"
      },
      "outputs": [
        {
          "data": {
            "text/html": [
              "<div>\n",
              "<style scoped>\n",
              "    .dataframe tbody tr th:only-of-type {\n",
              "        vertical-align: middle;\n",
              "    }\n",
              "\n",
              "    .dataframe tbody tr th {\n",
              "        vertical-align: top;\n",
              "    }\n",
              "\n",
              "    .dataframe thead th {\n",
              "        text-align: right;\n",
              "    }\n",
              "</style>\n",
              "<table border=\"1\" class=\"dataframe\">\n",
              "  <thead>\n",
              "    <tr style=\"text-align: right;\">\n",
              "      <th></th>\n",
              "      <th>date_time</th>\n",
              "      <th>PM2.5</th>\n",
              "      <th>temp</th>\n",
              "      <th>wind speed</th>\n",
              "      <th>wind dir</th>\n",
              "    </tr>\n",
              "  </thead>\n",
              "  <tbody>\n",
              "    <tr>\n",
              "      <th>0</th>\n",
              "      <td>2020-07-01 00:00:00</td>\n",
              "      <td>2.0</td>\n",
              "      <td>25.9</td>\n",
              "      <td>41</td>\n",
              "      <td>250</td>\n",
              "    </tr>\n",
              "    <tr>\n",
              "      <th>1</th>\n",
              "      <td>2020-07-01 01:00:00</td>\n",
              "      <td>NaN</td>\n",
              "      <td>25.5</td>\n",
              "      <td>41</td>\n",
              "      <td>255</td>\n",
              "    </tr>\n",
              "    <tr>\n",
              "      <th>2</th>\n",
              "      <td>2020-07-01 02:00:00</td>\n",
              "      <td>NaN</td>\n",
              "      <td>25.5</td>\n",
              "      <td>41</td>\n",
              "      <td>255</td>\n",
              "    </tr>\n",
              "    <tr>\n",
              "      <th>3</th>\n",
              "      <td>2020-07-01 03:00:00</td>\n",
              "      <td>3.0</td>\n",
              "      <td>25.5</td>\n",
              "      <td>41</td>\n",
              "      <td>255</td>\n",
              "    </tr>\n",
              "    <tr>\n",
              "      <th>4</th>\n",
              "      <td>2020-07-01 04:00:00</td>\n",
              "      <td>5.0</td>\n",
              "      <td>25.1</td>\n",
              "      <td>49</td>\n",
              "      <td>265</td>\n",
              "    </tr>\n",
              "  </tbody>\n",
              "</table>\n",
              "</div>"
            ],
            "text/plain": [
              "             date_time  PM2.5  temp  wind speed  wind dir\n",
              "0  2020-07-01 00:00:00    2.0  25.9          41       250\n",
              "1  2020-07-01 01:00:00    NaN  25.5          41       255\n",
              "2  2020-07-01 02:00:00    NaN  25.5          41       255\n",
              "3  2020-07-01 03:00:00    3.0  25.5          41       255\n",
              "4  2020-07-01 04:00:00    5.0  25.1          49       265"
            ]
          },
          "execution_count": 103,
          "metadata": {},
          "output_type": "execute_result"
        }
      ],
      "source": [
        "data_test = data_test.drop(['Unnamed: 0', 'lat', 'long'], axis = 1)\n",
        "data_test.head()"
      ]
    },
    {
      "cell_type": "markdown",
      "metadata": {
        "id": "g_HAazl2m2A8"
      },
      "source": [
        "## Normalize data"
      ]
    },
    {
      "cell_type": "code",
      "execution_count": 104,
      "metadata": {
        "id": "khw4M2JsdiKT"
      },
      "outputs": [],
      "source": [
        "scaler = MinMaxScaler()\n",
        "data_training = scaler.fit_transform(data_training)"
      ]
    },
    {
      "cell_type": "code",
      "execution_count": 105,
      "metadata": {
        "colab": {
          "base_uri": "https://localhost:8080/"
        },
        "id": "Kmz-nS6w4cPU",
        "outputId": "15b1312a-438d-4226-d41b-90ca1698b11e"
      },
      "outputs": [
        {
          "data": {
            "text/plain": [
              "array([[ 22. ,  25. ,  38. , 250. ],\n",
              "       [ 16. ,  25. ,  38. , 250. ],\n",
              "       [ 13. ,  25. ,  38. , 250. ],\n",
              "       ...,\n",
              "       [ 16. ,  27.4,  31. , 245. ],\n",
              "       [ 11. ,  25.9,  41. , 250. ],\n",
              "       [  7. ,  25.9,  41. , 250. ]])"
            ]
          },
          "execution_count": 105,
          "metadata": {},
          "output_type": "execute_result"
        }
      ],
      "source": [
        "scaler.inverse_transform(data_training)"
      ]
    },
    {
      "cell_type": "code",
      "execution_count": 106,
      "metadata": {
        "colab": {
          "base_uri": "https://localhost:8080/"
        },
        "id": "rvb9MZW42RyZ",
        "outputId": "ef485aaa-23d5-48ab-c27b-6d349993e831"
      },
      "outputs": [
        {
          "data": {
            "text/plain": [
              "array([[ 20.99753695,  10.4795539 ,  38.        , 250.        ],\n",
              "       [ 14.99753695,  10.4795539 ,  38.        , 250.        ],\n",
              "       [ 11.99753695,  10.4795539 ,  38.        , 250.        ],\n",
              "       ...,\n",
              "       [ 14.99753695,  12.8795539 ,  31.        , 245.        ],\n",
              "       [  9.99753695,  11.3795539 ,  41.        , 250.        ],\n",
              "       [  5.99753695,  11.3795539 ,  41.        , 250.        ]])"
            ]
          },
          "execution_count": 106,
          "metadata": {},
          "output_type": "execute_result"
        }
      ],
      "source": [
        "scale = 1/scaler.scale_\n",
        "temp = (data_training * scale) + scaler.min_\n",
        "temp"
      ]
    },
    {
      "cell_type": "code",
      "execution_count": 107,
      "metadata": {
        "colab": {
          "base_uri": "https://localhost:8080/"
        },
        "id": "XTv34OA1dlRq",
        "outputId": "2282af71-9e98-4171-e44e-4acee54e27aa"
      },
      "outputs": [
        {
          "data": {
            "text/plain": [
              "array([[0.05172414, 0.40892193, 0.41758242, 0.69444444],\n",
              "       [0.03694581, 0.40892193, 0.41758242, 0.69444444],\n",
              "       [0.02955665, 0.40892193, 0.41758242, 0.69444444],\n",
              "       [0.04187192, 0.40892193, 0.41758242, 0.69444444],\n",
              "       [0.06896552, 0.40892193, 0.41758242, 0.69444444],\n",
              "       [0.07635468, 0.40892193, 0.41758242, 0.69444444],\n",
              "       [0.0862069 , 0.40892193, 0.41758242, 0.69444444],\n",
              "       [0.06650246, 0.40892193, 0.41758242, 0.69444444],\n",
              "       [0.04187192, 0.40892193, 0.41758242, 0.69444444],\n",
              "       [0.02216749, 0.40892193, 0.41758242, 0.69444444]])"
            ]
          },
          "execution_count": 107,
          "metadata": {},
          "output_type": "execute_result"
        }
      ],
      "source": [
        "data_training[0:10]"
      ]
    },
    {
      "cell_type": "code",
      "execution_count": 108,
      "metadata": {
        "id": "W4926pfpdoE0"
      },
      "outputs": [],
      "source": [
        "X_train = []\n",
        "y_train = []\n",
        "\n",
        "for i in range(60, data_training.shape[0]):\n",
        "    X_train.append(data_training[i-60:i])\n",
        "    y_train.append(data_training[i, 0])\n",
        "\n",
        "X_train, y_train = np.array(X_train), np.array(y_train)"
      ]
    },
    {
      "cell_type": "code",
      "execution_count": 109,
      "metadata": {
        "colab": {
          "base_uri": "https://localhost:8080/"
        },
        "id": "HO6hoNDRdsQI",
        "outputId": "03f59c3b-878e-443c-eedd-24f4a28d6ff7"
      },
      "outputs": [
        {
          "data": {
            "text/plain": [
              "(26244, 60, 4)"
            ]
          },
          "execution_count": 109,
          "metadata": {},
          "output_type": "execute_result"
        }
      ],
      "source": [
        "X_train.shape"
      ]
    },
    {
      "cell_type": "markdown",
      "metadata": {
        "id": "KTABZEIKjCTN"
      },
      "source": [
        "# Building Model1: LSTM"
      ]
    },
    {
      "cell_type": "code",
      "execution_count": 110,
      "metadata": {
        "id": "T5ByHACkduvK"
      },
      "outputs": [],
      "source": [
        "import tensorflow as tf\n",
        "from tensorflow.keras import Sequential\n",
        "from tensorflow.keras.layers import Dense, LSTM, Dropout"
      ]
    },
    {
      "cell_type": "code",
      "execution_count": 111,
      "metadata": {
        "colab": {
          "base_uri": "https://localhost:8080/",
          "height": 35
        },
        "id": "Zw2TuO9j5tAT",
        "outputId": "a75290c1-c563-448a-ec0b-95a0332fe87f"
      },
      "outputs": [
        {
          "data": {
            "text/plain": [
              "'2.8.0'"
            ]
          },
          "execution_count": 111,
          "metadata": {},
          "output_type": "execute_result"
        }
      ],
      "source": [
        "tf.__version__"
      ]
    },
    {
      "cell_type": "code",
      "execution_count": 112,
      "metadata": {
        "id": "6PwBHKiCdxBy"
      },
      "outputs": [],
      "source": [
        "modelLSTM = Sequential()\n",
        "\n",
        "modelLSTM.add(LSTM(units = 80, activation = 'relu', input_shape = (X_train.shape[1], 4)))\n",
        "modelLSTM.add(Dropout(0.2))\n",
        "# modelLSTM.add(LSTM(units = 80, activation = 'relu', return_sequences = True, input_shape = (X_train.shape[1], 4)))\n",
        "# modelLSTM.add(Dropout(0.2))\n",
        "\n",
        "# modelLSTM.add(LSTM(units = 60, activation = 'relu', return_sequences = True))\n",
        "# modelLSTM.add(Dropout(0.2))\n",
        "\n",
        "# modelLSTM.add(LSTM(units = 80, activation = 'relu', return_sequences = True))\n",
        "# modelLSTM.add(Dropout(0.2))\n",
        "\n",
        "\n",
        "# modelLSTM.add(LSTM(units = 160, activation = 'relu', return_sequences = True))\n",
        "# modelLSTM.add(Dropout(0.2))\n",
        "# modelLSTM.add(LSTM(units = 160, activation = 'relu', return_sequences = True))\n",
        "# modelLSTM.add(Dropout(0.2))\n",
        "# modelLSTM.add(LSTM(units = 160, activation = 'relu', return_sequences = True))\n",
        "# modelLSTM.add(Dropout(0.2))\n",
        "\n",
        "\n",
        "# modelLSTM.add(LSTM(units = 120, activation = 'relu'))\n",
        "# modelLSTM.add(Dropout(0.2))\n",
        "\n",
        "\n",
        "\n",
        "modelLSTM.add(Dense(units = 1))"
      ]
    },
    {
      "cell_type": "code",
      "execution_count": 113,
      "metadata": {
        "colab": {
          "base_uri": "https://localhost:8080/"
        },
        "id": "OruphK2TdzFB",
        "outputId": "a1985c4e-d227-4c86-cb42-fe4f48a4b574"
      },
      "outputs": [
        {
          "name": "stdout",
          "output_type": "stream",
          "text": [
            "Model: \"sequential_4\"\n",
            "_________________________________________________________________\n",
            " Layer (type)                Output Shape              Param #   \n",
            "=================================================================\n",
            " lstm_6 (LSTM)               (None, 80)                27200     \n",
            "                                                                 \n",
            " dropout_6 (Dropout)         (None, 80)                0         \n",
            "                                                                 \n",
            " dense_4 (Dense)             (None, 1)                 81        \n",
            "                                                                 \n",
            "=================================================================\n",
            "Total params: 27,281\n",
            "Trainable params: 27,281\n",
            "Non-trainable params: 0\n",
            "_________________________________________________________________\n"
          ]
        }
      ],
      "source": [
        "modelLSTM.summary()"
      ]
    },
    {
      "cell_type": "code",
      "execution_count": 114,
      "metadata": {
        "id": "JFWU6JktosN_"
      },
      "outputs": [],
      "source": [
        "from tensorflow.keras.callbacks import EarlyStopping, ModelCheckpoint, ReduceLROnPlateau"
      ]
    },
    {
      "cell_type": "code",
      "execution_count": 115,
      "metadata": {
        "id": "F2jd8nTRp9kq"
      },
      "outputs": [],
      "source": [
        "#create callback\n",
        "filepath = 'my_best_modelLSTM_yourself.hdf5'\n",
        "checkpoint = ModelCheckpoint(filepath=filepath, \n",
        "                             monitor='loss',\n",
        "                             verbose=0, \n",
        "                             save_best_only=True,\n",
        "                             mode='min')\n",
        "\n",
        "earlystopping = EarlyStopping(\n",
        "    monitor='loss', \n",
        "    patience=3, \n",
        "    min_delta=0, \n",
        "    mode='auto'\n",
        ")\n",
        "\n",
        "reduce_lr = ReduceLROnPlateau(\n",
        "    monitor='loss', \n",
        "    factor=0.2,   \n",
        "    patience=2, \n",
        "    min_lr=0.001,\n",
        "    verbose=0\n",
        ")\n",
        "callbacks = [checkpoint, earlystopping, reduce_lr]"
      ]
    },
    {
      "cell_type": "code",
      "execution_count": 116,
      "metadata": {
        "id": "7alsTCdPd5PY"
      },
      "outputs": [],
      "source": [
        "modelLSTM.compile(optimizer='adam', loss = 'mean_squared_error')"
      ]
    },
    {
      "cell_type": "code",
      "execution_count": 117,
      "metadata": {
        "colab": {
          "base_uri": "https://localhost:8080/"
        },
        "id": "jJGUMaN7wafJ",
        "outputId": "99c99a14-509d-4f56-a2fc-b13512fb7507"
      },
      "outputs": [
        {
          "name": "stdout",
          "output_type": "stream",
          "text": [
            "Epoch 1/10\n",
            "821/821 [==============================] - 41s 48ms/step - loss: 0.0012 - lr: 0.0010\n",
            "Epoch 2/10\n",
            "821/821 [==============================] - 41s 50ms/step - loss: 5.6525e-04 - lr: 0.0010\n",
            "Epoch 3/10\n",
            "821/821 [==============================] - 41s 50ms/step - loss: 4.0741e-04 - lr: 0.0010\n",
            "Epoch 4/10\n",
            "821/821 [==============================] - 38s 47ms/step - loss: 3.4752e-04 - lr: 0.0010\n",
            "Epoch 5/10\n",
            "821/821 [==============================] - 47s 57ms/step - loss: 3.2006e-04 - lr: 0.0010\n",
            "Epoch 6/10\n",
            "821/821 [==============================] - 45s 55ms/step - loss: 3.0873e-04 - lr: 0.0010\n",
            "Epoch 7/10\n",
            "821/821 [==============================] - 42s 52ms/step - loss: 3.1152e-04 - lr: 0.0010\n",
            "Epoch 8/10\n",
            "821/821 [==============================] - 41s 50ms/step - loss: 3.0000e-04 - lr: 0.0010\n",
            "Epoch 9/10\n",
            "821/821 [==============================] - 45s 55ms/step - loss: 2.9069e-04 - lr: 0.0010\n",
            "Epoch 10/10\n",
            "821/821 [==============================] - 45s 54ms/step - loss: 2.8244e-04 - lr: 0.0010\n"
          ]
        }
      ],
      "source": [
        "history = modelLSTM.fit(X_train, y_train, epochs=10, batch_size=32, callbacks=callbacks)"
      ]
    },
    {
      "cell_type": "markdown",
      "metadata": {
        "id": "L72hkQl5d-8Q"
      },
      "source": [
        "# Testing"
      ]
    },
    {
      "cell_type": "code",
      "execution_count": 118,
      "metadata": {
        "id": "lW-wyZdr_lPa"
      },
      "outputs": [],
      "source": [
        "data_training = pd.read_csv(province+'/train/'+province.lower()+'_train_format.csv', date_parser = True)\n",
        "data_training = data_training.drop(['date_time', 'lat', 'long'], axis = 1)"
      ]
    },
    {
      "cell_type": "code",
      "execution_count": 119,
      "metadata": {
        "id": "A8CcvG9azYVw"
      },
      "outputs": [
        {
          "data": {
            "text/html": [
              "<div>\n",
              "<style scoped>\n",
              "    .dataframe tbody tr th:only-of-type {\n",
              "        vertical-align: middle;\n",
              "    }\n",
              "\n",
              "    .dataframe tbody tr th {\n",
              "        vertical-align: top;\n",
              "    }\n",
              "\n",
              "    .dataframe thead th {\n",
              "        text-align: right;\n",
              "    }\n",
              "</style>\n",
              "<table border=\"1\" class=\"dataframe\">\n",
              "  <thead>\n",
              "    <tr style=\"text-align: right;\">\n",
              "      <th></th>\n",
              "      <th>PM2.5</th>\n",
              "      <th>temp</th>\n",
              "      <th>wind speed</th>\n",
              "      <th>wind dir</th>\n",
              "    </tr>\n",
              "  </thead>\n",
              "  <tbody>\n",
              "    <tr>\n",
              "      <th>26244</th>\n",
              "      <td>18.0</td>\n",
              "      <td>30.5</td>\n",
              "      <td>9.0</td>\n",
              "      <td>235.0</td>\n",
              "    </tr>\n",
              "    <tr>\n",
              "      <th>26245</th>\n",
              "      <td>18.0</td>\n",
              "      <td>33.1</td>\n",
              "      <td>12.0</td>\n",
              "      <td>245.0</td>\n",
              "    </tr>\n",
              "    <tr>\n",
              "      <th>26246</th>\n",
              "      <td>14.0</td>\n",
              "      <td>33.1</td>\n",
              "      <td>12.0</td>\n",
              "      <td>245.0</td>\n",
              "    </tr>\n",
              "    <tr>\n",
              "      <th>26247</th>\n",
              "      <td>8.0</td>\n",
              "      <td>33.1</td>\n",
              "      <td>12.0</td>\n",
              "      <td>245.0</td>\n",
              "    </tr>\n",
              "    <tr>\n",
              "      <th>26248</th>\n",
              "      <td>6.0</td>\n",
              "      <td>33.4</td>\n",
              "      <td>17.0</td>\n",
              "      <td>245.0</td>\n",
              "    </tr>\n",
              "    <tr>\n",
              "      <th>26249</th>\n",
              "      <td>11.0</td>\n",
              "      <td>33.4</td>\n",
              "      <td>17.0</td>\n",
              "      <td>245.0</td>\n",
              "    </tr>\n",
              "    <tr>\n",
              "      <th>26250</th>\n",
              "      <td>19.0</td>\n",
              "      <td>33.4</td>\n",
              "      <td>17.0</td>\n",
              "      <td>245.0</td>\n",
              "    </tr>\n",
              "    <tr>\n",
              "      <th>26251</th>\n",
              "      <td>24.0</td>\n",
              "      <td>28.1</td>\n",
              "      <td>22.0</td>\n",
              "      <td>250.0</td>\n",
              "    </tr>\n",
              "    <tr>\n",
              "      <th>26252</th>\n",
              "      <td>14.0</td>\n",
              "      <td>28.1</td>\n",
              "      <td>22.0</td>\n",
              "      <td>250.0</td>\n",
              "    </tr>\n",
              "    <tr>\n",
              "      <th>26253</th>\n",
              "      <td>6.0</td>\n",
              "      <td>28.1</td>\n",
              "      <td>22.0</td>\n",
              "      <td>250.0</td>\n",
              "    </tr>\n",
              "    <tr>\n",
              "      <th>26254</th>\n",
              "      <td>5.0</td>\n",
              "      <td>25.3</td>\n",
              "      <td>22.0</td>\n",
              "      <td>240.0</td>\n",
              "    </tr>\n",
              "    <tr>\n",
              "      <th>26255</th>\n",
              "      <td>8.0</td>\n",
              "      <td>25.3</td>\n",
              "      <td>22.0</td>\n",
              "      <td>240.0</td>\n",
              "    </tr>\n",
              "    <tr>\n",
              "      <th>26256</th>\n",
              "      <td>11.0</td>\n",
              "      <td>25.3</td>\n",
              "      <td>22.0</td>\n",
              "      <td>240.0</td>\n",
              "    </tr>\n",
              "    <tr>\n",
              "      <th>26257</th>\n",
              "      <td>10.0</td>\n",
              "      <td>25.6</td>\n",
              "      <td>27.0</td>\n",
              "      <td>240.0</td>\n",
              "    </tr>\n",
              "    <tr>\n",
              "      <th>26258</th>\n",
              "      <td>4.0</td>\n",
              "      <td>25.6</td>\n",
              "      <td>27.0</td>\n",
              "      <td>240.0</td>\n",
              "    </tr>\n",
              "    <tr>\n",
              "      <th>26259</th>\n",
              "      <td>4.0</td>\n",
              "      <td>25.6</td>\n",
              "      <td>27.0</td>\n",
              "      <td>240.0</td>\n",
              "    </tr>\n",
              "    <tr>\n",
              "      <th>26260</th>\n",
              "      <td>1.0</td>\n",
              "      <td>24.9</td>\n",
              "      <td>24.0</td>\n",
              "      <td>255.0</td>\n",
              "    </tr>\n",
              "    <tr>\n",
              "      <th>26261</th>\n",
              "      <td>8.0</td>\n",
              "      <td>24.9</td>\n",
              "      <td>24.0</td>\n",
              "      <td>255.0</td>\n",
              "    </tr>\n",
              "    <tr>\n",
              "      <th>26262</th>\n",
              "      <td>17.0</td>\n",
              "      <td>24.9</td>\n",
              "      <td>24.0</td>\n",
              "      <td>255.0</td>\n",
              "    </tr>\n",
              "    <tr>\n",
              "      <th>26263</th>\n",
              "      <td>22.0</td>\n",
              "      <td>26.1</td>\n",
              "      <td>18.0</td>\n",
              "      <td>255.0</td>\n",
              "    </tr>\n",
              "    <tr>\n",
              "      <th>26264</th>\n",
              "      <td>16.0</td>\n",
              "      <td>26.1</td>\n",
              "      <td>18.0</td>\n",
              "      <td>255.0</td>\n",
              "    </tr>\n",
              "    <tr>\n",
              "      <th>26265</th>\n",
              "      <td>9.0</td>\n",
              "      <td>26.1</td>\n",
              "      <td>18.0</td>\n",
              "      <td>255.0</td>\n",
              "    </tr>\n",
              "    <tr>\n",
              "      <th>26266</th>\n",
              "      <td>6.0</td>\n",
              "      <td>30.4</td>\n",
              "      <td>16.0</td>\n",
              "      <td>265.0</td>\n",
              "    </tr>\n",
              "    <tr>\n",
              "      <th>26267</th>\n",
              "      <td>11.0</td>\n",
              "      <td>30.4</td>\n",
              "      <td>16.0</td>\n",
              "      <td>265.0</td>\n",
              "    </tr>\n",
              "    <tr>\n",
              "      <th>26268</th>\n",
              "      <td>17.0</td>\n",
              "      <td>30.4</td>\n",
              "      <td>16.0</td>\n",
              "      <td>265.0</td>\n",
              "    </tr>\n",
              "    <tr>\n",
              "      <th>26269</th>\n",
              "      <td>20.0</td>\n",
              "      <td>32.5</td>\n",
              "      <td>18.0</td>\n",
              "      <td>240.0</td>\n",
              "    </tr>\n",
              "    <tr>\n",
              "      <th>26270</th>\n",
              "      <td>15.0</td>\n",
              "      <td>32.5</td>\n",
              "      <td>18.0</td>\n",
              "      <td>240.0</td>\n",
              "    </tr>\n",
              "    <tr>\n",
              "      <th>26271</th>\n",
              "      <td>12.0</td>\n",
              "      <td>32.5</td>\n",
              "      <td>18.0</td>\n",
              "      <td>240.0</td>\n",
              "    </tr>\n",
              "    <tr>\n",
              "      <th>26272</th>\n",
              "      <td>10.0</td>\n",
              "      <td>32.2</td>\n",
              "      <td>23.0</td>\n",
              "      <td>240.0</td>\n",
              "    </tr>\n",
              "    <tr>\n",
              "      <th>26273</th>\n",
              "      <td>8.0</td>\n",
              "      <td>32.2</td>\n",
              "      <td>23.0</td>\n",
              "      <td>240.0</td>\n",
              "    </tr>\n",
              "    <tr>\n",
              "      <th>26274</th>\n",
              "      <td>9.0</td>\n",
              "      <td>32.2</td>\n",
              "      <td>23.0</td>\n",
              "      <td>240.0</td>\n",
              "    </tr>\n",
              "    <tr>\n",
              "      <th>26275</th>\n",
              "      <td>12.0</td>\n",
              "      <td>27.4</td>\n",
              "      <td>33.0</td>\n",
              "      <td>255.0</td>\n",
              "    </tr>\n",
              "    <tr>\n",
              "      <th>26276</th>\n",
              "      <td>12.0</td>\n",
              "      <td>27.4</td>\n",
              "      <td>33.0</td>\n",
              "      <td>255.0</td>\n",
              "    </tr>\n",
              "    <tr>\n",
              "      <th>26277</th>\n",
              "      <td>8.0</td>\n",
              "      <td>27.4</td>\n",
              "      <td>33.0</td>\n",
              "      <td>255.0</td>\n",
              "    </tr>\n",
              "    <tr>\n",
              "      <th>26278</th>\n",
              "      <td>5.0</td>\n",
              "      <td>26.1</td>\n",
              "      <td>34.0</td>\n",
              "      <td>245.0</td>\n",
              "    </tr>\n",
              "    <tr>\n",
              "      <th>26279</th>\n",
              "      <td>4.0</td>\n",
              "      <td>26.1</td>\n",
              "      <td>34.0</td>\n",
              "      <td>245.0</td>\n",
              "    </tr>\n",
              "    <tr>\n",
              "      <th>26280</th>\n",
              "      <td>4.0</td>\n",
              "      <td>26.1</td>\n",
              "      <td>34.0</td>\n",
              "      <td>245.0</td>\n",
              "    </tr>\n",
              "    <tr>\n",
              "      <th>26281</th>\n",
              "      <td>1.0</td>\n",
              "      <td>25.6</td>\n",
              "      <td>32.0</td>\n",
              "      <td>240.0</td>\n",
              "    </tr>\n",
              "    <tr>\n",
              "      <th>26282</th>\n",
              "      <td>6.0</td>\n",
              "      <td>25.6</td>\n",
              "      <td>32.0</td>\n",
              "      <td>240.0</td>\n",
              "    </tr>\n",
              "    <tr>\n",
              "      <th>26283</th>\n",
              "      <td>8.0</td>\n",
              "      <td>25.6</td>\n",
              "      <td>32.0</td>\n",
              "      <td>240.0</td>\n",
              "    </tr>\n",
              "    <tr>\n",
              "      <th>26284</th>\n",
              "      <td>6.0</td>\n",
              "      <td>25.2</td>\n",
              "      <td>34.0</td>\n",
              "      <td>250.0</td>\n",
              "    </tr>\n",
              "    <tr>\n",
              "      <th>26285</th>\n",
              "      <td>6.0</td>\n",
              "      <td>25.2</td>\n",
              "      <td>34.0</td>\n",
              "      <td>250.0</td>\n",
              "    </tr>\n",
              "    <tr>\n",
              "      <th>26286</th>\n",
              "      <td>5.0</td>\n",
              "      <td>25.2</td>\n",
              "      <td>34.0</td>\n",
              "      <td>250.0</td>\n",
              "    </tr>\n",
              "    <tr>\n",
              "      <th>26287</th>\n",
              "      <td>6.0</td>\n",
              "      <td>26.2</td>\n",
              "      <td>31.0</td>\n",
              "      <td>255.0</td>\n",
              "    </tr>\n",
              "    <tr>\n",
              "      <th>26288</th>\n",
              "      <td>5.0</td>\n",
              "      <td>26.2</td>\n",
              "      <td>31.0</td>\n",
              "      <td>255.0</td>\n",
              "    </tr>\n",
              "    <tr>\n",
              "      <th>26289</th>\n",
              "      <td>2.0</td>\n",
              "      <td>26.2</td>\n",
              "      <td>31.0</td>\n",
              "      <td>255.0</td>\n",
              "    </tr>\n",
              "    <tr>\n",
              "      <th>26290</th>\n",
              "      <td>3.0</td>\n",
              "      <td>30.3</td>\n",
              "      <td>35.0</td>\n",
              "      <td>255.0</td>\n",
              "    </tr>\n",
              "    <tr>\n",
              "      <th>26291</th>\n",
              "      <td>5.0</td>\n",
              "      <td>30.3</td>\n",
              "      <td>35.0</td>\n",
              "      <td>255.0</td>\n",
              "    </tr>\n",
              "    <tr>\n",
              "      <th>26292</th>\n",
              "      <td>6.0</td>\n",
              "      <td>30.3</td>\n",
              "      <td>35.0</td>\n",
              "      <td>255.0</td>\n",
              "    </tr>\n",
              "    <tr>\n",
              "      <th>26293</th>\n",
              "      <td>6.0</td>\n",
              "      <td>32.9</td>\n",
              "      <td>25.0</td>\n",
              "      <td>240.0</td>\n",
              "    </tr>\n",
              "    <tr>\n",
              "      <th>26294</th>\n",
              "      <td>7.0</td>\n",
              "      <td>32.9</td>\n",
              "      <td>25.0</td>\n",
              "      <td>240.0</td>\n",
              "    </tr>\n",
              "    <tr>\n",
              "      <th>26295</th>\n",
              "      <td>9.0</td>\n",
              "      <td>32.9</td>\n",
              "      <td>25.0</td>\n",
              "      <td>240.0</td>\n",
              "    </tr>\n",
              "    <tr>\n",
              "      <th>26296</th>\n",
              "      <td>10.0</td>\n",
              "      <td>31.8</td>\n",
              "      <td>27.0</td>\n",
              "      <td>255.0</td>\n",
              "    </tr>\n",
              "    <tr>\n",
              "      <th>26297</th>\n",
              "      <td>11.0</td>\n",
              "      <td>31.8</td>\n",
              "      <td>27.0</td>\n",
              "      <td>255.0</td>\n",
              "    </tr>\n",
              "    <tr>\n",
              "      <th>26298</th>\n",
              "      <td>11.0</td>\n",
              "      <td>31.8</td>\n",
              "      <td>27.0</td>\n",
              "      <td>255.0</td>\n",
              "    </tr>\n",
              "    <tr>\n",
              "      <th>26299</th>\n",
              "      <td>17.0</td>\n",
              "      <td>27.4</td>\n",
              "      <td>31.0</td>\n",
              "      <td>245.0</td>\n",
              "    </tr>\n",
              "    <tr>\n",
              "      <th>26300</th>\n",
              "      <td>19.0</td>\n",
              "      <td>27.4</td>\n",
              "      <td>31.0</td>\n",
              "      <td>245.0</td>\n",
              "    </tr>\n",
              "    <tr>\n",
              "      <th>26301</th>\n",
              "      <td>16.0</td>\n",
              "      <td>27.4</td>\n",
              "      <td>31.0</td>\n",
              "      <td>245.0</td>\n",
              "    </tr>\n",
              "    <tr>\n",
              "      <th>26302</th>\n",
              "      <td>11.0</td>\n",
              "      <td>25.9</td>\n",
              "      <td>41.0</td>\n",
              "      <td>250.0</td>\n",
              "    </tr>\n",
              "    <tr>\n",
              "      <th>26303</th>\n",
              "      <td>7.0</td>\n",
              "      <td>25.9</td>\n",
              "      <td>41.0</td>\n",
              "      <td>250.0</td>\n",
              "    </tr>\n",
              "  </tbody>\n",
              "</table>\n",
              "</div>"
            ],
            "text/plain": [
              "       PM2.5  temp  wind speed  wind dir\n",
              "26244   18.0  30.5         9.0     235.0\n",
              "26245   18.0  33.1        12.0     245.0\n",
              "26246   14.0  33.1        12.0     245.0\n",
              "26247    8.0  33.1        12.0     245.0\n",
              "26248    6.0  33.4        17.0     245.0\n",
              "26249   11.0  33.4        17.0     245.0\n",
              "26250   19.0  33.4        17.0     245.0\n",
              "26251   24.0  28.1        22.0     250.0\n",
              "26252   14.0  28.1        22.0     250.0\n",
              "26253    6.0  28.1        22.0     250.0\n",
              "26254    5.0  25.3        22.0     240.0\n",
              "26255    8.0  25.3        22.0     240.0\n",
              "26256   11.0  25.3        22.0     240.0\n",
              "26257   10.0  25.6        27.0     240.0\n",
              "26258    4.0  25.6        27.0     240.0\n",
              "26259    4.0  25.6        27.0     240.0\n",
              "26260    1.0  24.9        24.0     255.0\n",
              "26261    8.0  24.9        24.0     255.0\n",
              "26262   17.0  24.9        24.0     255.0\n",
              "26263   22.0  26.1        18.0     255.0\n",
              "26264   16.0  26.1        18.0     255.0\n",
              "26265    9.0  26.1        18.0     255.0\n",
              "26266    6.0  30.4        16.0     265.0\n",
              "26267   11.0  30.4        16.0     265.0\n",
              "26268   17.0  30.4        16.0     265.0\n",
              "26269   20.0  32.5        18.0     240.0\n",
              "26270   15.0  32.5        18.0     240.0\n",
              "26271   12.0  32.5        18.0     240.0\n",
              "26272   10.0  32.2        23.0     240.0\n",
              "26273    8.0  32.2        23.0     240.0\n",
              "26274    9.0  32.2        23.0     240.0\n",
              "26275   12.0  27.4        33.0     255.0\n",
              "26276   12.0  27.4        33.0     255.0\n",
              "26277    8.0  27.4        33.0     255.0\n",
              "26278    5.0  26.1        34.0     245.0\n",
              "26279    4.0  26.1        34.0     245.0\n",
              "26280    4.0  26.1        34.0     245.0\n",
              "26281    1.0  25.6        32.0     240.0\n",
              "26282    6.0  25.6        32.0     240.0\n",
              "26283    8.0  25.6        32.0     240.0\n",
              "26284    6.0  25.2        34.0     250.0\n",
              "26285    6.0  25.2        34.0     250.0\n",
              "26286    5.0  25.2        34.0     250.0\n",
              "26287    6.0  26.2        31.0     255.0\n",
              "26288    5.0  26.2        31.0     255.0\n",
              "26289    2.0  26.2        31.0     255.0\n",
              "26290    3.0  30.3        35.0     255.0\n",
              "26291    5.0  30.3        35.0     255.0\n",
              "26292    6.0  30.3        35.0     255.0\n",
              "26293    6.0  32.9        25.0     240.0\n",
              "26294    7.0  32.9        25.0     240.0\n",
              "26295    9.0  32.9        25.0     240.0\n",
              "26296   10.0  31.8        27.0     255.0\n",
              "26297   11.0  31.8        27.0     255.0\n",
              "26298   11.0  31.8        27.0     255.0\n",
              "26299   17.0  27.4        31.0     245.0\n",
              "26300   19.0  27.4        31.0     245.0\n",
              "26301   16.0  27.4        31.0     245.0\n",
              "26302   11.0  25.9        41.0     250.0\n",
              "26303    7.0  25.9        41.0     250.0"
            ]
          },
          "execution_count": 119,
          "metadata": {},
          "output_type": "execute_result"
        }
      ],
      "source": [
        "data_training.tail(60)"
      ]
    },
    {
      "cell_type": "code",
      "execution_count": 120,
      "metadata": {
        "id": "Sb-SV-wReAJL"
      },
      "outputs": [
        {
          "data": {
            "text/html": [
              "<div>\n",
              "<style scoped>\n",
              "    .dataframe tbody tr th:only-of-type {\n",
              "        vertical-align: middle;\n",
              "    }\n",
              "\n",
              "    .dataframe tbody tr th {\n",
              "        vertical-align: top;\n",
              "    }\n",
              "\n",
              "    .dataframe thead th {\n",
              "        text-align: right;\n",
              "    }\n",
              "</style>\n",
              "<table border=\"1\" class=\"dataframe\">\n",
              "  <thead>\n",
              "    <tr style=\"text-align: right;\">\n",
              "      <th></th>\n",
              "      <th>PM2.5</th>\n",
              "      <th>temp</th>\n",
              "      <th>wind speed</th>\n",
              "      <th>wind dir</th>\n",
              "    </tr>\n",
              "  </thead>\n",
              "  <tbody>\n",
              "    <tr>\n",
              "      <th>0</th>\n",
              "      <td>2.0</td>\n",
              "      <td>25.9</td>\n",
              "      <td>41</td>\n",
              "      <td>250</td>\n",
              "    </tr>\n",
              "    <tr>\n",
              "      <th>1</th>\n",
              "      <td>NaN</td>\n",
              "      <td>25.5</td>\n",
              "      <td>41</td>\n",
              "      <td>255</td>\n",
              "    </tr>\n",
              "    <tr>\n",
              "      <th>2</th>\n",
              "      <td>NaN</td>\n",
              "      <td>25.5</td>\n",
              "      <td>41</td>\n",
              "      <td>255</td>\n",
              "    </tr>\n",
              "    <tr>\n",
              "      <th>3</th>\n",
              "      <td>3.0</td>\n",
              "      <td>25.5</td>\n",
              "      <td>41</td>\n",
              "      <td>255</td>\n",
              "    </tr>\n",
              "    <tr>\n",
              "      <th>4</th>\n",
              "      <td>5.0</td>\n",
              "      <td>25.1</td>\n",
              "      <td>49</td>\n",
              "      <td>265</td>\n",
              "    </tr>\n",
              "  </tbody>\n",
              "</table>\n",
              "</div>"
            ],
            "text/plain": [
              "   PM2.5  temp  wind speed  wind dir\n",
              "0    2.0  25.9          41       250\n",
              "1    NaN  25.5          41       255\n",
              "2    NaN  25.5          41       255\n",
              "3    3.0  25.5          41       255\n",
              "4    5.0  25.1          49       265"
            ]
          },
          "execution_count": 120,
          "metadata": {},
          "output_type": "execute_result"
        }
      ],
      "source": [
        "data_test = data_test.drop(['date_time'], axis = 1)\n",
        "data_test.head()"
      ]
    },
    {
      "cell_type": "markdown",
      "metadata": {
        "id": "srd1b_HckIVw"
      },
      "source": [
        "## Prepare testing data"
      ]
    },
    {
      "cell_type": "code",
      "execution_count": 121,
      "metadata": {
        "id": "UpqWwdOaeD1K"
      },
      "outputs": [],
      "source": [
        "past_60_days = data_training.tail(60)"
      ]
    },
    {
      "cell_type": "code",
      "execution_count": 122,
      "metadata": {
        "id": "TR2tRta0eEgF"
      },
      "outputs": [
        {
          "data": {
            "text/html": [
              "<div>\n",
              "<style scoped>\n",
              "    .dataframe tbody tr th:only-of-type {\n",
              "        vertical-align: middle;\n",
              "    }\n",
              "\n",
              "    .dataframe tbody tr th {\n",
              "        vertical-align: top;\n",
              "    }\n",
              "\n",
              "    .dataframe thead th {\n",
              "        text-align: right;\n",
              "    }\n",
              "</style>\n",
              "<table border=\"1\" class=\"dataframe\">\n",
              "  <thead>\n",
              "    <tr style=\"text-align: right;\">\n",
              "      <th></th>\n",
              "      <th>PM2.5</th>\n",
              "      <th>temp</th>\n",
              "      <th>wind speed</th>\n",
              "      <th>wind dir</th>\n",
              "    </tr>\n",
              "  </thead>\n",
              "  <tbody>\n",
              "    <tr>\n",
              "      <th>0</th>\n",
              "      <td>18.0</td>\n",
              "      <td>30.5</td>\n",
              "      <td>9.0</td>\n",
              "      <td>235.0</td>\n",
              "    </tr>\n",
              "    <tr>\n",
              "      <th>1</th>\n",
              "      <td>18.0</td>\n",
              "      <td>33.1</td>\n",
              "      <td>12.0</td>\n",
              "      <td>245.0</td>\n",
              "    </tr>\n",
              "    <tr>\n",
              "      <th>2</th>\n",
              "      <td>14.0</td>\n",
              "      <td>33.1</td>\n",
              "      <td>12.0</td>\n",
              "      <td>245.0</td>\n",
              "    </tr>\n",
              "    <tr>\n",
              "      <th>3</th>\n",
              "      <td>8.0</td>\n",
              "      <td>33.1</td>\n",
              "      <td>12.0</td>\n",
              "      <td>245.0</td>\n",
              "    </tr>\n",
              "    <tr>\n",
              "      <th>4</th>\n",
              "      <td>6.0</td>\n",
              "      <td>33.4</td>\n",
              "      <td>17.0</td>\n",
              "      <td>245.0</td>\n",
              "    </tr>\n",
              "  </tbody>\n",
              "</table>\n",
              "</div>"
            ],
            "text/plain": [
              "   PM2.5  temp  wind speed  wind dir\n",
              "0   18.0  30.5         9.0     235.0\n",
              "1   18.0  33.1        12.0     245.0\n",
              "2   14.0  33.1        12.0     245.0\n",
              "3    8.0  33.1        12.0     245.0\n",
              "4    6.0  33.4        17.0     245.0"
            ]
          },
          "execution_count": 122,
          "metadata": {},
          "output_type": "execute_result"
        }
      ],
      "source": [
        "df = past_60_days.append(data_test, ignore_index = True)\n",
        "df.head()"
      ]
    },
    {
      "cell_type": "code",
      "execution_count": 123,
      "metadata": {
        "id": "zwRexsPQqvTy"
      },
      "outputs": [],
      "source": [
        "df.dropna(inplace=True)"
      ]
    },
    {
      "cell_type": "code",
      "execution_count": 124,
      "metadata": {
        "id": "yRpQEcauq0oc"
      },
      "outputs": [
        {
          "data": {
            "text/plain": [
              "(7836, 4)"
            ]
          },
          "execution_count": 124,
          "metadata": {},
          "output_type": "execute_result"
        }
      ],
      "source": [
        "df.shape"
      ]
    },
    {
      "cell_type": "code",
      "execution_count": 125,
      "metadata": {
        "id": "KKrjHeCMeGWX"
      },
      "outputs": [
        {
          "data": {
            "text/plain": [
              "array([[0.04187192, 0.6133829 , 0.0989011 , 0.65277778],\n",
              "       [0.04187192, 0.71003717, 0.13186813, 0.68055556],\n",
              "       [0.0320197 , 0.71003717, 0.13186813, 0.68055556],\n",
              "       ...,\n",
              "       [0.02955665, 0.58364312, 0.26373626, 0.65277778],\n",
              "       [0.0320197 , 0.58364312, 0.27472527, 0.66666667],\n",
              "       [0.0320197 , 0.58364312, 0.26373626, 0.69444444]])"
            ]
          },
          "execution_count": 125,
          "metadata": {},
          "output_type": "execute_result"
        }
      ],
      "source": [
        "inputs = scaler.transform(df)\n",
        "inputs"
      ]
    },
    {
      "cell_type": "code",
      "execution_count": 126,
      "metadata": {
        "id": "x3WdrSMFeHlj"
      },
      "outputs": [],
      "source": [
        "X_test = []\n",
        "y_test = []\n",
        "\n",
        "for i in range(60, inputs.shape[0]):\n",
        "    X_test.append(inputs[i-60:i])\n",
        "    y_test.append(inputs[i, 0])"
      ]
    },
    {
      "cell_type": "code",
      "execution_count": 127,
      "metadata": {
        "id": "1-l8uJ6beJN-"
      },
      "outputs": [
        {
          "data": {
            "text/plain": [
              "((7776, 60, 4), (7776,))"
            ]
          },
          "execution_count": 127,
          "metadata": {},
          "output_type": "execute_result"
        }
      ],
      "source": [
        "X_test, y_test = np.array(X_test), np.array(y_test)\n",
        "X_test.shape, y_test.shape"
      ]
    },
    {
      "cell_type": "markdown",
      "metadata": {
        "id": "ygbCO5D8kMzd"
      },
      "source": [
        "## Model prediction"
      ]
    },
    {
      "cell_type": "code",
      "execution_count": 128,
      "metadata": {
        "id": "OAbQp-tPeKvP"
      },
      "outputs": [],
      "source": [
        "y_pred = modelLSTM.predict(X_test)"
      ]
    },
    {
      "cell_type": "code",
      "execution_count": 129,
      "metadata": {
        "id": "Irrq6QPerRXc"
      },
      "outputs": [
        {
          "data": {
            "text/plain": [
              "array([[0.02098501],\n",
              "       [0.01260849],\n",
              "       [0.01809518],\n",
              "       ...,\n",
              "       [0.03141929],\n",
              "       [0.0337723 ],\n",
              "       [0.03483813]], dtype=float32)"
            ]
          },
          "execution_count": 129,
          "metadata": {},
          "output_type": "execute_result"
        }
      ],
      "source": [
        "y_pred"
      ]
    },
    {
      "cell_type": "code",
      "execution_count": 130,
      "metadata": {
        "id": "mW1siKnzgP5K"
      },
      "outputs": [
        {
          "data": {
            "text/plain": [
              "array([0.00246305, 0.03717472, 0.01098901, 0.00277778])"
            ]
          },
          "execution_count": 130,
          "metadata": {},
          "output_type": "execute_result"
        }
      ],
      "source": [
        "scaler.scale_"
      ]
    },
    {
      "cell_type": "code",
      "execution_count": 131,
      "metadata": {
        "id": "VO8T2VYEeO7q"
      },
      "outputs": [
        {
          "data": {
            "text/plain": [
              "406.0"
            ]
          },
          "execution_count": 131,
          "metadata": {},
          "output_type": "execute_result"
        }
      ],
      "source": [
        "scale = 1/scaler.scale_[0]\n",
        "scale"
      ]
    },
    {
      "cell_type": "code",
      "execution_count": 132,
      "metadata": {
        "id": "6J1AmHFNeP6Z"
      },
      "outputs": [],
      "source": [
        "y_pred = y_pred*scale\n",
        "y_test = y_test*scale"
      ]
    },
    {
      "cell_type": "code",
      "execution_count": 133,
      "metadata": {
        "id": "NsN4tns4A0lG"
      },
      "outputs": [
        {
          "name": "stdout",
          "output_type": "stream",
          "text": [
            "Saraburi RMSE = 3.254322378896372\n"
          ]
        }
      ],
      "source": [
        "import math\n",
        "from sklearn.metrics import mean_squared_error\n",
        "\n",
        "print(province+' RMSE =', math.sqrt(mean_squared_error(y_test, y_pred)) )"
      ]
    },
    {
      "cell_type": "code",
      "execution_count": 134,
      "metadata": {
        "id": "KkwVJXVaeR4e"
      },
      "outputs": [
        {
          "data": {
            "image/png": "[encoded data removed]",
            "text/plain": [
              "<Figure size 1008x360 with 1 Axes>"
            ]
          },
          "metadata": {
            "needs_background": "light"
          },
          "output_type": "display_data"
        }
      ],
      "source": [
        "# Visualising the results\n",
        "plt.figure(figsize=(14,5))\n",
        "plt.plot(y_test, color = 'red', label = 'Real')\n",
        "plt.plot(y_pred, color = 'blue', label = 'Predicted')\n",
        "plt.xlabel('Time')\n",
        "plt.ylabel('PM2.5')\n",
        "plt.legend()\n",
        "plt.show()"
      ]
    },
    {
      "cell_type": "code",
      "execution_count": 135,
      "metadata": {
        "id": "_9BwFEag82WB"
      },
      "outputs": [],
      "source": [
        "import pickle\n",
        "\n",
        "with open('lstm_'+province.lower()+'_6.pickle', 'wb') as fp:\n",
        "    pickle.dump(y_pred, fp)"
      ]
    },
    {
      "cell_type": "code",
      "execution_count": 136,
      "metadata": {
        "id": "X2NYaatgLJXQ"
      },
      "outputs": [],
      "source": [
        "df1 = pd.DataFrame(y_pred)"
      ]
    },
    {
      "cell_type": "code",
      "execution_count": 137,
      "metadata": {
        "id": "YErb_X68VpfD"
      },
      "outputs": [],
      "source": [
        "df1.to_csv('lstm_'+province.lower()+'_6.csv')"
      ]
    },
    {
      "cell_type": "code",
      "execution_count": null,
      "metadata": {
        "id": "j6-u-OHuV6il"
      },
      "outputs": [],
      "source": []
    }
  ],
  "metadata": {
    "accelerator": "GPU",
    "colab": {
      "collapsed_sections": [],
      "name": "LSTM.ipynb",
      "provenance": []
    },
    "kernelspec": {
      "display_name": "Python 3",
      "name": "python3"
    },
    "language_info": {
      "codemirror_mode": {
        "name": "ipython",
        "version": 3
      },
      "file_extension": ".py",
      "mimetype": "text/x-python",
      "name": "python",
      "nbconvert_exporter": "python",
      "pygments_lexer": "ipython3",
      "version": "3.8.8"
    }
  },
  "nbformat": 4,
  "nbformat_minor": 0
}
