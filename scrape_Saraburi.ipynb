{
 "cells": [
  {
   "cell_type": "code",
   "execution_count": 1,
   "metadata": {},
   "outputs": [],
   "source": [
    "from selenium import webdriver\n",
    "from selenium.webdriver.chrome.service import Service as ChromeService\n",
    "from webdriver_manager.chrome import ChromeDriverManager\n",
    "\n",
    "import time\n",
    "import os\n",
    "import pandas as pd\n",
    "from datetime import datetime, timedelta\n",
    "from selenium.webdriver.common.by import By"
   ]
  },
  {
   "cell_type": "code",
   "execution_count": 45,
   "metadata": {},
   "outputs": [],
   "source": [
    "from selenium.webdriver.support.wait import WebDriverWait"
   ]
  },
  {
   "cell_type": "code",
   "execution_count": 2,
   "metadata": {},
   "outputs": [
    {
     "name": "stderr",
     "output_type": "stream",
     "text": [
      "\n",
      "\n",
      "====== WebDriver manager ======\n",
      "Current google-chrome version is 99.0.4844\n",
      "Get LATEST chromedriver version for 99.0.4844 google-chrome\n",
      "Trying to download new driver from https://chromedriver.storage.googleapis.com/99.0.4844.51/chromedriver_mac64.zip\n",
      "Driver has been saved in cache [/Users/sasipim/.wdm/drivers/chromedriver/mac64/99.0.4844.51]\n"
     ]
    }
   ],
   "source": [
    "service = ChromeService(executable_path=ChromeDriverManager().install())\n",
    "driver = webdriver.Chrome(service=service)"
   ]
  },
  {
   "cell_type": "code",
   "execution_count": 76,
   "metadata": {},
   "outputs": [],
   "source": [
    "from tqdm.notebook import tqdm_notebook\n",
    "tqdm_notebook.pandas()"
   ]
  },
  {
   "cell_type": "code",
   "execution_count": 10,
   "metadata": {},
   "outputs": [],
   "source": [
    "PATH = './Saraburi/test/saraburi_test.csv'\n",
    "SAVE_PATH = './Saraburi/test/saraburi_test_wind_temp.csv'\n",
    "LAT = '14.685833'\n",
    "LONG = '100.871996'"
   ]
  },
  {
   "cell_type": "code",
   "execution_count": 9,
   "metadata": {},
   "outputs": [
    {
     "data": {
      "text/html": [
       "<div>\n",
       "<style scoped>\n",
       "    .dataframe tbody tr th:only-of-type {\n",
       "        vertical-align: middle;\n",
       "    }\n",
       "\n",
       "    .dataframe tbody tr th {\n",
       "        vertical-align: top;\n",
       "    }\n",
       "\n",
       "    .dataframe thead th {\n",
       "        text-align: right;\n",
       "    }\n",
       "</style>\n",
       "<table border=\"1\" class=\"dataframe\">\n",
       "  <thead>\n",
       "    <tr style=\"text-align: right;\">\n",
       "      <th></th>\n",
       "      <th>date</th>\n",
       "      <th>PM2.5</th>\n",
       "    </tr>\n",
       "  </thead>\n",
       "  <tbody>\n",
       "    <tr>\n",
       "      <th>0</th>\n",
       "      <td>2020-07-01 00:00:00</td>\n",
       "      <td>2.0</td>\n",
       "    </tr>\n",
       "    <tr>\n",
       "      <th>1</th>\n",
       "      <td>2020-07-01 01:00:00</td>\n",
       "      <td>NaN</td>\n",
       "    </tr>\n",
       "    <tr>\n",
       "      <th>2</th>\n",
       "      <td>2020-07-01 02:00:00</td>\n",
       "      <td>NaN</td>\n",
       "    </tr>\n",
       "    <tr>\n",
       "      <th>3</th>\n",
       "      <td>2020-07-01 03:00:00</td>\n",
       "      <td>3.0</td>\n",
       "    </tr>\n",
       "    <tr>\n",
       "      <th>4</th>\n",
       "      <td>2020-07-01 04:00:00</td>\n",
       "      <td>5.0</td>\n",
       "    </tr>\n",
       "  </tbody>\n",
       "</table>\n",
       "</div>"
      ],
      "text/plain": [
       "                  date  PM2.5\n",
       "0  2020-07-01 00:00:00    2.0\n",
       "1  2020-07-01 01:00:00    NaN\n",
       "2  2020-07-01 02:00:00    NaN\n",
       "3  2020-07-01 03:00:00    3.0\n",
       "4  2020-07-01 04:00:00    5.0"
      ]
     },
     "execution_count": 9,
     "metadata": {},
     "output_type": "execute_result"
    }
   ],
   "source": [
    "data = pd.read_csv(PATH)\n",
    "data = data.rename(columns={\"Unnamed: 0\": \"date\"})\n",
    "data.head()"
   ]
  },
  {
   "cell_type": "code",
   "execution_count": 11,
   "metadata": {},
   "outputs": [],
   "source": [
    "data['date_utc'] = pd.to_datetime(data['date']) - timedelta(hours=7)\n",
    "data['url_date'] = data['date_utc'].apply(lambda x : x.strftime(\"%Y/%m/%d/%H%M\")+\"Z\")"
   ]
  },
  {
   "cell_type": "code",
   "execution_count": 80,
   "metadata": {},
   "outputs": [],
   "source": [
    "def getTemp(lat,long,date):\n",
    "    url = \"https://earth.nullschool.net/#\"+date+'/wind/surface/level/overlay=temp/orthographic=97.73,-347.68,3906/loc='+ long+ ','+lat\n",
    "    driver.get(url=url)\n",
    "    time.sleep(2)\n",
    "    html = driver.execute_script(\"return document.documentElement.outerHTML\")\n",
    "    # element = WebDriverWait(driver, 20).until(lambda x: x.find_elements(by=By.CSS_SELECTOR, value='#spotlight-panel.panel.card'))\n",
    "    all_link = driver.find_elements(by=By.CSS_SELECTOR, value='#spotlight-panel.panel.card')\n",
    "    for link in all_link:\n",
    "        return link.text.split(\"\\n\")[-2]"
   ]
  },
  {
   "cell_type": "code",
   "execution_count": 81,
   "metadata": {},
   "outputs": [],
   "source": [
    "def getWind(lat,long,date):\n",
    "    url = \"https://earth.nullschool.net/#\"+date+'/wind/isobaric/850hPa/orthographic=97.73,-347.68,3906/loc='+ long+ ','+lat\n",
    "    driver.get(url=url)\n",
    "    time.sleep(2)\n",
    "    html = driver.execute_script(\"return document.documentElement.outerHTML\")\n",
    "    # element = WebDriverWait(driver, 20).until(lambda x: x.find_elements(by=By.CSS_SELECTOR, value='#spotlight-panel.panel.card'))\n",
    "    all_link = driver.find_elements(by=By.CSS_SELECTOR, value='#spotlight-panel.panel.card')\n",
    "    for link in all_link:\n",
    "        return link.text.split(\"\\n\")[-2]"
   ]
  },
  {
   "cell_type": "code",
   "execution_count": 68,
   "metadata": {},
   "outputs": [
    {
     "data": {
      "text/plain": [
       "'255° @ 41'"
      ]
     },
     "execution_count": 68,
     "metadata": {},
     "output_type": "execute_result"
    }
   ],
   "source": [
    "x = data['url_date'][4]\n",
    "p = getWind(LAT,LONG,x)\n",
    "p"
   ]
  },
  {
   "cell_type": "code",
   "execution_count": 82,
   "metadata": {},
   "outputs": [
    {
     "data": {
      "application/vnd.jupyter.widget-view+json": {
       "model_id": "a109243a939747a0b5bd053ec7624b2a",
       "version_major": 2,
       "version_minor": 0
      },
      "text/plain": [
       "  0%|          | 0/8784 [00:00<?, ?it/s]"
      ]
     },
     "metadata": {},
     "output_type": "display_data"
    }
   ],
   "source": [
    "data['temp'] = data['url_date'].progress_apply(lambda x : getTemp(LAT,LONG,x))"
   ]
  },
  {
   "cell_type": "code",
   "execution_count": 83,
   "metadata": {},
   "outputs": [
    {
     "data": {
      "application/vnd.jupyter.widget-view+json": {
       "model_id": "ff888ec7df724dabb6fec7056fb3a355",
       "version_major": 2,
       "version_minor": 0
      },
      "text/plain": [
       "  0%|          | 0/8784 [00:00<?, ?it/s]"
      ]
     },
     "metadata": {},
     "output_type": "display_data"
    }
   ],
   "source": [
    "data['wind']=data['url_date'].progress_apply(lambda x : getWind(LAT,LONG,x))"
   ]
  },
  {
   "cell_type": "code",
   "execution_count": 84,
   "metadata": {},
   "outputs": [],
   "source": [
    "data.to_csv(SAVE_PATH,index=False)"
   ]
  },
  {
   "cell_type": "code",
   "execution_count": 86,
   "metadata": {},
   "outputs": [
    {
     "data": {
      "text/html": [
       "<div>\n",
       "<style scoped>\n",
       "    .dataframe tbody tr th:only-of-type {\n",
       "        vertical-align: middle;\n",
       "    }\n",
       "\n",
       "    .dataframe tbody tr th {\n",
       "        vertical-align: top;\n",
       "    }\n",
       "\n",
       "    .dataframe thead th {\n",
       "        text-align: right;\n",
       "    }\n",
       "</style>\n",
       "<table border=\"1\" class=\"dataframe\">\n",
       "  <thead>\n",
       "    <tr style=\"text-align: right;\">\n",
       "      <th></th>\n",
       "      <th>date</th>\n",
       "      <th>PM2.5</th>\n",
       "      <th>date_utc</th>\n",
       "      <th>url_date</th>\n",
       "      <th>temp</th>\n",
       "      <th>wind</th>\n",
       "    </tr>\n",
       "  </thead>\n",
       "  <tbody>\n",
       "    <tr>\n",
       "      <th>0</th>\n",
       "      <td>2020-07-01 00:00:00</td>\n",
       "      <td>2.0</td>\n",
       "      <td>2020-06-30 17:00:00</td>\n",
       "      <td>2020/06/30/1700Z</td>\n",
       "      <td>25.9</td>\n",
       "      <td>250° @ 41</td>\n",
       "    </tr>\n",
       "    <tr>\n",
       "      <th>1</th>\n",
       "      <td>2020-07-01 01:00:00</td>\n",
       "      <td>NaN</td>\n",
       "      <td>2020-06-30 18:00:00</td>\n",
       "      <td>2020/06/30/1800Z</td>\n",
       "      <td>25.5</td>\n",
       "      <td>255° @ 41</td>\n",
       "    </tr>\n",
       "    <tr>\n",
       "      <th>2</th>\n",
       "      <td>2020-07-01 02:00:00</td>\n",
       "      <td>NaN</td>\n",
       "      <td>2020-06-30 19:00:00</td>\n",
       "      <td>2020/06/30/1900Z</td>\n",
       "      <td>25.5</td>\n",
       "      <td>255° @ 41</td>\n",
       "    </tr>\n",
       "    <tr>\n",
       "      <th>3</th>\n",
       "      <td>2020-07-01 03:00:00</td>\n",
       "      <td>3.0</td>\n",
       "      <td>2020-06-30 20:00:00</td>\n",
       "      <td>2020/06/30/2000Z</td>\n",
       "      <td>25.5</td>\n",
       "      <td>255° @ 41</td>\n",
       "    </tr>\n",
       "    <tr>\n",
       "      <th>4</th>\n",
       "      <td>2020-07-01 04:00:00</td>\n",
       "      <td>5.0</td>\n",
       "      <td>2020-06-30 21:00:00</td>\n",
       "      <td>2020/06/30/2100Z</td>\n",
       "      <td>25.1</td>\n",
       "      <td>265° @ 49</td>\n",
       "    </tr>\n",
       "    <tr>\n",
       "      <th>...</th>\n",
       "      <td>...</td>\n",
       "      <td>...</td>\n",
       "      <td>...</td>\n",
       "      <td>...</td>\n",
       "      <td>...</td>\n",
       "      <td>...</td>\n",
       "    </tr>\n",
       "    <tr>\n",
       "      <th>8779</th>\n",
       "      <td>2021-07-01 19:00:00</td>\n",
       "      <td>NaN</td>\n",
       "      <td>2021-07-01 12:00:00</td>\n",
       "      <td>2021/07/01/1200Z</td>\n",
       "      <td>29.7</td>\n",
       "      <td>245° @ 22</td>\n",
       "    </tr>\n",
       "    <tr>\n",
       "      <th>8780</th>\n",
       "      <td>2021-07-01 20:00:00</td>\n",
       "      <td>13.0</td>\n",
       "      <td>2021-07-01 13:00:00</td>\n",
       "      <td>2021/07/01/1300Z</td>\n",
       "      <td>29.7</td>\n",
       "      <td>235° @ 24</td>\n",
       "    </tr>\n",
       "    <tr>\n",
       "      <th>8781</th>\n",
       "      <td>2021-07-01 21:00:00</td>\n",
       "      <td>NaN</td>\n",
       "      <td>2021-07-01 14:00:00</td>\n",
       "      <td>2021/07/01/1400Z</td>\n",
       "      <td>29.7</td>\n",
       "      <td>240° @ 22</td>\n",
       "    </tr>\n",
       "    <tr>\n",
       "      <th>8782</th>\n",
       "      <td>2021-07-01 22:00:00</td>\n",
       "      <td>14.0</td>\n",
       "      <td>2021-07-01 15:00:00</td>\n",
       "      <td>2021/07/01/1500Z</td>\n",
       "      <td>29.7</td>\n",
       "      <td>240° @ 25</td>\n",
       "    </tr>\n",
       "    <tr>\n",
       "      <th>8783</th>\n",
       "      <td>2021-07-01 23:00:00</td>\n",
       "      <td>14.0</td>\n",
       "      <td>2021-07-01 16:00:00</td>\n",
       "      <td>2021/07/01/1600Z</td>\n",
       "      <td>29.7</td>\n",
       "      <td>250° @ 24</td>\n",
       "    </tr>\n",
       "  </tbody>\n",
       "</table>\n",
       "<p>8784 rows × 6 columns</p>\n",
       "</div>"
      ],
      "text/plain": [
       "                     date  PM2.5             date_utc          url_date  temp  \\\n",
       "0     2020-07-01 00:00:00    2.0  2020-06-30 17:00:00  2020/06/30/1700Z  25.9   \n",
       "1     2020-07-01 01:00:00    NaN  2020-06-30 18:00:00  2020/06/30/1800Z  25.5   \n",
       "2     2020-07-01 02:00:00    NaN  2020-06-30 19:00:00  2020/06/30/1900Z  25.5   \n",
       "3     2020-07-01 03:00:00    3.0  2020-06-30 20:00:00  2020/06/30/2000Z  25.5   \n",
       "4     2020-07-01 04:00:00    5.0  2020-06-30 21:00:00  2020/06/30/2100Z  25.1   \n",
       "...                   ...    ...                  ...               ...   ...   \n",
       "8779  2021-07-01 19:00:00    NaN  2021-07-01 12:00:00  2021/07/01/1200Z  29.7   \n",
       "8780  2021-07-01 20:00:00   13.0  2021-07-01 13:00:00  2021/07/01/1300Z  29.7   \n",
       "8781  2021-07-01 21:00:00    NaN  2021-07-01 14:00:00  2021/07/01/1400Z  29.7   \n",
       "8782  2021-07-01 22:00:00   14.0  2021-07-01 15:00:00  2021/07/01/1500Z  29.7   \n",
       "8783  2021-07-01 23:00:00   14.0  2021-07-01 16:00:00  2021/07/01/1600Z  29.7   \n",
       "\n",
       "           wind  \n",
       "0     250° @ 41  \n",
       "1     255° @ 41  \n",
       "2     255° @ 41  \n",
       "3     255° @ 41  \n",
       "4     265° @ 49  \n",
       "...         ...  \n",
       "8779  245° @ 22  \n",
       "8780  235° @ 24  \n",
       "8781  240° @ 22  \n",
       "8782  240° @ 25  \n",
       "8783  250° @ 24  \n",
       "\n",
       "[8784 rows x 6 columns]"
      ]
     },
     "execution_count": 86,
     "metadata": {},
     "output_type": "execute_result"
    }
   ],
   "source": [
    "data1 = pd.read_csv(SAVE_PATH)\n",
    "data1"
   ]
  }
 ],
 "metadata": {
  "interpreter": {
   "hash": "723dc80cb05396c6d0019b793cc9629de1a15570232a2a29e62999a170644e05"
  },
  "kernelspec": {
   "display_name": "Python 3.8.8 ('base')",
   "language": "python",
   "name": "python3"
  },
  "language_info": {
   "codemirror_mode": {
    "name": "ipython",
    "version": 3
   },
   "file_extension": ".py",
   "mimetype": "text/x-python",
   "name": "python",
   "nbconvert_exporter": "python",
   "pygments_lexer": "ipython3",
   "version": "3.8.8"
  },
  "orig_nbformat": 4
 },
 "nbformat": 4,
 "nbformat_minor": 2
}
