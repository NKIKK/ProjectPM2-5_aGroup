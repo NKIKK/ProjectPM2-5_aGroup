{
 "cells": [
  {
   "cell_type": "code",
   "execution_count": 130,
   "metadata": {},
   "outputs": [],
   "source": [
    "import pandas as pd\n",
    "import numpy as np\n",
    "import matplotlib.pyplot as plt\n",
    "import seaborn as sns\n",
    "from sklearn.ensemble import RandomForestRegressor\n",
    "from sklearn.model_selection import TimeSeriesSplit\n",
    "from tqdm.notebook import tqdm_notebook\n",
    "from sklearn import metrics\n",
    "from datetime import datetime"
   ]
  },
  {
   "cell_type": "code",
   "execution_count": 2,
   "metadata": {},
   "outputs": [],
   "source": [
    "province = 'BKK'"
   ]
  },
  {
   "cell_type": "code",
   "execution_count": 131,
   "metadata": {},
   "outputs": [],
   "source": [
    "param_dict = {'BKK':[7.0, 70.0, 40.0, 100.0],\n",
    "'Chiangmai':[7.0, 50.0, 40.0, 100.0],\n",
    "'Rayong':[2.0, 50.0, 30.0, 40.0],\n",
    "'Saraburi':[3.0, 50.0, 20.0, 90.0],\n",
    "'Khonkaen':[1.0, 70.0, 30.0, 90.0],\n",
    "'Surat':[2.0, 60.0, 20.0, 30.0]}"
   ]
  },
  {
   "cell_type": "code",
   "execution_count": 5,
   "metadata": {},
   "outputs": [],
   "source": [
    "train_data = pd.read_csv('./'+province+'/train/'+province.lower()+'_train_format_2.csv')\n",
    "# train_data.head()\n",
    "\n",
    "y_train = train_data.pop('PM2.5')\n",
    "X_train = train_data"
   ]
  },
  {
   "cell_type": "code",
   "execution_count": 3,
   "metadata": {},
   "outputs": [],
   "source": [
    "test_data = pd.read_csv(province+'_clean.csv')\n",
    "test_data['date_time'] = pd.to_datetime(test_data['date_time'])\n",
    "test_data['year'] = test_data['date_time'].dt.year\n",
    "test_data['month'] = test_data['date_time'].dt.month\n",
    "test_data['day'] = test_data['date_time'].dt.day\n",
    "test_data['hour'] = test_data['date_time'].dt.hour\n",
    "test_data = test_data[['year','month','day','hour','temp','wind speed','wind dir','PM2.5']]\n",
    "test_data.dropna(inplace=True)\n",
    "# test_data.head()\n",
    "y_test = test_data.pop('PM2.5')\n",
    "X_test = test_data"
   ]
  },
  {
   "cell_type": "code",
   "execution_count": 6,
   "metadata": {},
   "outputs": [
    {
     "name": "stdout",
     "output_type": "stream",
     "text": [
      "RMSE: 10.524302381945748\n"
     ]
    }
   ],
   "source": [
    "rfr = RandomForestRegressor(\n",
    "                        max_features=int(param_dict[province][0]),\n",
    "                        n_estimators=int(param_dict[province][1]),\n",
    "                        max_depth=int(param_dict[province][2]),\n",
    "                        min_samples_leaf=int(param_dict[province][3]),\n",
    "                        n_jobs = -1)\n",
    "rfr.fit(X_train, y_train)\n",
    "y_pred = rfr.predict(X_test)\n",
    "print('RMSE:',np.sqrt(metrics.mean_squared_error(y_test, y_pred)))"
   ]
  },
  {
   "cell_type": "code",
   "execution_count": 16,
   "metadata": {},
   "outputs": [
    {
     "data": {
      "text/plain": [
       "array([10.39163601, 10.39163601, 10.39163601, ..., 14.08060402,\n",
       "       14.0962378 , 14.15397429])"
      ]
     },
     "execution_count": 16,
     "metadata": {},
     "output_type": "execute_result"
    }
   ],
   "source": [
    "y_pred"
   ]
  },
  {
   "cell_type": "code",
   "execution_count": 15,
   "metadata": {},
   "outputs": [
    {
     "data": {
      "text/plain": [
       "(7814, 7)"
      ]
     },
     "execution_count": 15,
     "metadata": {},
     "output_type": "execute_result"
    }
   ],
   "source": [
    "X_test.shape"
   ]
  },
  {
   "cell_type": "code",
   "execution_count": 17,
   "metadata": {},
   "outputs": [
    {
     "data": {
      "text/html": [
       "<div>\n",
       "<style scoped>\n",
       "    .dataframe tbody tr th:only-of-type {\n",
       "        vertical-align: middle;\n",
       "    }\n",
       "\n",
       "    .dataframe tbody tr th {\n",
       "        vertical-align: top;\n",
       "    }\n",
       "\n",
       "    .dataframe thead th {\n",
       "        text-align: right;\n",
       "    }\n",
       "</style>\n",
       "<table border=\"1\" class=\"dataframe\">\n",
       "  <thead>\n",
       "    <tr style=\"text-align: right;\">\n",
       "      <th></th>\n",
       "      <th>year</th>\n",
       "      <th>month</th>\n",
       "      <th>day</th>\n",
       "      <th>hour</th>\n",
       "      <th>temp</th>\n",
       "      <th>wind speed</th>\n",
       "      <th>wind dir</th>\n",
       "      <th>PM2.5</th>\n",
       "    </tr>\n",
       "  </thead>\n",
       "  <tbody>\n",
       "    <tr>\n",
       "      <th>8779</th>\n",
       "      <td>2021</td>\n",
       "      <td>7</td>\n",
       "      <td>1</td>\n",
       "      <td>19</td>\n",
       "      <td>29.1</td>\n",
       "      <td>18</td>\n",
       "      <td>250</td>\n",
       "      <td>14.096238</td>\n",
       "    </tr>\n",
       "    <tr>\n",
       "      <th>8780</th>\n",
       "      <td>2021</td>\n",
       "      <td>7</td>\n",
       "      <td>1</td>\n",
       "      <td>20</td>\n",
       "      <td>29.5</td>\n",
       "      <td>21</td>\n",
       "      <td>255</td>\n",
       "      <td>14.071075</td>\n",
       "    </tr>\n",
       "    <tr>\n",
       "      <th>8781</th>\n",
       "      <td>2021</td>\n",
       "      <td>7</td>\n",
       "      <td>1</td>\n",
       "      <td>21</td>\n",
       "      <td>29.8</td>\n",
       "      <td>20</td>\n",
       "      <td>250</td>\n",
       "      <td>14.080604</td>\n",
       "    </tr>\n",
       "    <tr>\n",
       "      <th>8782</th>\n",
       "      <td>2021</td>\n",
       "      <td>7</td>\n",
       "      <td>1</td>\n",
       "      <td>22</td>\n",
       "      <td>29.1</td>\n",
       "      <td>16</td>\n",
       "      <td>245</td>\n",
       "      <td>14.096238</td>\n",
       "    </tr>\n",
       "    <tr>\n",
       "      <th>8783</th>\n",
       "      <td>2021</td>\n",
       "      <td>7</td>\n",
       "      <td>1</td>\n",
       "      <td>23</td>\n",
       "      <td>28.9</td>\n",
       "      <td>14</td>\n",
       "      <td>235</td>\n",
       "      <td>14.153974</td>\n",
       "    </tr>\n",
       "  </tbody>\n",
       "</table>\n",
       "</div>"
      ],
      "text/plain": [
       "      year  month  day  hour  temp  wind speed  wind dir      PM2.5\n",
       "8779  2021      7    1    19  29.1          18       250  14.096238\n",
       "8780  2021      7    1    20  29.5          21       255  14.071075\n",
       "8781  2021      7    1    21  29.8          20       250  14.080604\n",
       "8782  2021      7    1    22  29.1          16       245  14.096238\n",
       "8783  2021      7    1    23  28.9          14       235  14.153974"
      ]
     },
     "execution_count": 17,
     "metadata": {},
     "output_type": "execute_result"
    }
   ],
   "source": [
    "df = X_test.copy()\n",
    "df['PM2.5']=y_pred\n",
    "df.tail()"
   ]
  },
  {
   "cell_type": "code",
   "execution_count": 18,
   "metadata": {},
   "outputs": [
    {
     "data": {
      "text/plain": [
       "(7814, 8)"
      ]
     },
     "execution_count": 18,
     "metadata": {},
     "output_type": "execute_result"
    }
   ],
   "source": [
    "df.shape"
   ]
  },
  {
   "cell_type": "code",
   "execution_count": 27,
   "metadata": {},
   "outputs": [],
   "source": [
    "def formatDatetime(year,month,day,hour):\n",
    "    year = int(year)\n",
    "    month = int(month)\n",
    "    day = int(day)\n",
    "    hour = int(hour)\n",
    "    return datetime(year,month,day,hour)"
   ]
  },
  {
   "cell_type": "code",
   "execution_count": 28,
   "metadata": {},
   "outputs": [
    {
     "data": {
      "text/html": [
       "<div>\n",
       "<style scoped>\n",
       "    .dataframe tbody tr th:only-of-type {\n",
       "        vertical-align: middle;\n",
       "    }\n",
       "\n",
       "    .dataframe tbody tr th {\n",
       "        vertical-align: top;\n",
       "    }\n",
       "\n",
       "    .dataframe thead th {\n",
       "        text-align: right;\n",
       "    }\n",
       "</style>\n",
       "<table border=\"1\" class=\"dataframe\">\n",
       "  <thead>\n",
       "    <tr style=\"text-align: right;\">\n",
       "      <th></th>\n",
       "      <th>year</th>\n",
       "      <th>month</th>\n",
       "      <th>day</th>\n",
       "      <th>hour</th>\n",
       "      <th>temp</th>\n",
       "      <th>wind speed</th>\n",
       "      <th>wind dir</th>\n",
       "      <th>PM2.5</th>\n",
       "      <th>date_time</th>\n",
       "    </tr>\n",
       "  </thead>\n",
       "  <tbody>\n",
       "    <tr>\n",
       "      <th>0</th>\n",
       "      <td>2020</td>\n",
       "      <td>7</td>\n",
       "      <td>1</td>\n",
       "      <td>0</td>\n",
       "      <td>29.4</td>\n",
       "      <td>35</td>\n",
       "      <td>270</td>\n",
       "      <td>10.391636</td>\n",
       "      <td>2020-07-01 00:00:00</td>\n",
       "    </tr>\n",
       "    <tr>\n",
       "      <th>1</th>\n",
       "      <td>2020</td>\n",
       "      <td>7</td>\n",
       "      <td>1</td>\n",
       "      <td>1</td>\n",
       "      <td>29.4</td>\n",
       "      <td>42</td>\n",
       "      <td>260</td>\n",
       "      <td>10.391636</td>\n",
       "      <td>2020-07-01 01:00:00</td>\n",
       "    </tr>\n",
       "    <tr>\n",
       "      <th>2</th>\n",
       "      <td>2020</td>\n",
       "      <td>7</td>\n",
       "      <td>1</td>\n",
       "      <td>2</td>\n",
       "      <td>28.5</td>\n",
       "      <td>42</td>\n",
       "      <td>260</td>\n",
       "      <td>10.391636</td>\n",
       "      <td>2020-07-01 02:00:00</td>\n",
       "    </tr>\n",
       "    <tr>\n",
       "      <th>3</th>\n",
       "      <td>2020</td>\n",
       "      <td>7</td>\n",
       "      <td>1</td>\n",
       "      <td>3</td>\n",
       "      <td>28.5</td>\n",
       "      <td>42</td>\n",
       "      <td>260</td>\n",
       "      <td>10.391636</td>\n",
       "      <td>2020-07-01 03:00:00</td>\n",
       "    </tr>\n",
       "    <tr>\n",
       "      <th>4</th>\n",
       "      <td>2020</td>\n",
       "      <td>7</td>\n",
       "      <td>1</td>\n",
       "      <td>4</td>\n",
       "      <td>28.3</td>\n",
       "      <td>55</td>\n",
       "      <td>270</td>\n",
       "      <td>10.391636</td>\n",
       "      <td>2020-07-01 04:00:00</td>\n",
       "    </tr>\n",
       "  </tbody>\n",
       "</table>\n",
       "</div>"
      ],
      "text/plain": [
       "   year  month  day  hour  temp  wind speed  wind dir      PM2.5  \\\n",
       "0  2020      7    1     0  29.4          35       270  10.391636   \n",
       "1  2020      7    1     1  29.4          42       260  10.391636   \n",
       "2  2020      7    1     2  28.5          42       260  10.391636   \n",
       "3  2020      7    1     3  28.5          42       260  10.391636   \n",
       "4  2020      7    1     4  28.3          55       270  10.391636   \n",
       "\n",
       "            date_time  \n",
       "0 2020-07-01 00:00:00  \n",
       "1 2020-07-01 01:00:00  \n",
       "2 2020-07-01 02:00:00  \n",
       "3 2020-07-01 03:00:00  \n",
       "4 2020-07-01 04:00:00  "
      ]
     },
     "execution_count": 28,
     "metadata": {},
     "output_type": "execute_result"
    }
   ],
   "source": [
    "df['date_time'] = df.apply(lambda x: formatDatetime(x['year'],x['month'],x['day'],x['hour']),axis=1)\n",
    "df.head()"
   ]
  },
  {
   "cell_type": "code",
   "execution_count": 30,
   "metadata": {},
   "outputs": [],
   "source": [
    "df=df[['date_time','PM2.5']]\n",
    "df.columns = ['predicted','PM2.5']"
   ]
  },
  {
   "cell_type": "code",
   "execution_count": 35,
   "metadata": {},
   "outputs": [
    {
     "data": {
      "text/html": [
       "<div>\n",
       "<style scoped>\n",
       "    .dataframe tbody tr th:only-of-type {\n",
       "        vertical-align: middle;\n",
       "    }\n",
       "\n",
       "    .dataframe tbody tr th {\n",
       "        vertical-align: top;\n",
       "    }\n",
       "\n",
       "    .dataframe thead th {\n",
       "        text-align: right;\n",
       "    }\n",
       "</style>\n",
       "<table border=\"1\" class=\"dataframe\">\n",
       "  <thead>\n",
       "    <tr style=\"text-align: right;\">\n",
       "      <th></th>\n",
       "      <th>predicted</th>\n",
       "      <th>PM2.5</th>\n",
       "    </tr>\n",
       "  </thead>\n",
       "  <tbody>\n",
       "    <tr>\n",
       "      <th>0</th>\n",
       "      <td>2020-07-01 00:00:00</td>\n",
       "      <td>10.391636</td>\n",
       "    </tr>\n",
       "    <tr>\n",
       "      <th>1</th>\n",
       "      <td>2020-07-01 01:00:00</td>\n",
       "      <td>10.391636</td>\n",
       "    </tr>\n",
       "    <tr>\n",
       "      <th>2</th>\n",
       "      <td>2020-07-01 02:00:00</td>\n",
       "      <td>10.391636</td>\n",
       "    </tr>\n",
       "    <tr>\n",
       "      <th>3</th>\n",
       "      <td>2020-07-01 03:00:00</td>\n",
       "      <td>10.391636</td>\n",
       "    </tr>\n",
       "    <tr>\n",
       "      <th>4</th>\n",
       "      <td>2020-07-01 04:00:00</td>\n",
       "      <td>10.391636</td>\n",
       "    </tr>\n",
       "  </tbody>\n",
       "</table>\n",
       "</div>"
      ],
      "text/plain": [
       "            predicted      PM2.5\n",
       "0 2020-07-01 00:00:00  10.391636\n",
       "1 2020-07-01 01:00:00  10.391636\n",
       "2 2020-07-01 02:00:00  10.391636\n",
       "3 2020-07-01 03:00:00  10.391636\n",
       "4 2020-07-01 04:00:00  10.391636"
      ]
     },
     "execution_count": 35,
     "metadata": {},
     "output_type": "execute_result"
    }
   ],
   "source": [
    "df.head()"
   ]
  },
  {
   "cell_type": "code",
   "execution_count": 37,
   "metadata": {},
   "outputs": [
    {
     "data": {
      "text/html": [
       "<div>\n",
       "<style scoped>\n",
       "    .dataframe tbody tr th:only-of-type {\n",
       "        vertical-align: middle;\n",
       "    }\n",
       "\n",
       "    .dataframe tbody tr th {\n",
       "        vertical-align: top;\n",
       "    }\n",
       "\n",
       "    .dataframe thead th {\n",
       "        text-align: right;\n",
       "    }\n",
       "</style>\n",
       "<table border=\"1\" class=\"dataframe\">\n",
       "  <thead>\n",
       "    <tr style=\"text-align: right;\">\n",
       "      <th></th>\n",
       "      <th>time</th>\n",
       "      <th>predicted</th>\n",
       "    </tr>\n",
       "  </thead>\n",
       "  <tbody>\n",
       "    <tr>\n",
       "      <th>0</th>\n",
       "      <td>2020-07-01 00:00:00</td>\n",
       "      <td>2020-07-01 06:00:00</td>\n",
       "    </tr>\n",
       "    <tr>\n",
       "      <th>1</th>\n",
       "      <td>2020-07-01 00:00:00</td>\n",
       "      <td>2020-07-01 12:00:00</td>\n",
       "    </tr>\n",
       "    <tr>\n",
       "      <th>2</th>\n",
       "      <td>2020-07-01 00:00:00</td>\n",
       "      <td>2020-07-01 18:00:00</td>\n",
       "    </tr>\n",
       "    <tr>\n",
       "      <th>3</th>\n",
       "      <td>2020-07-01 00:00:00</td>\n",
       "      <td>2020-07-02 00:00:00</td>\n",
       "    </tr>\n",
       "    <tr>\n",
       "      <th>4</th>\n",
       "      <td>2020-07-01 00:00:00</td>\n",
       "      <td>2020-07-02 06:00:00</td>\n",
       "    </tr>\n",
       "  </tbody>\n",
       "</table>\n",
       "</div>"
      ],
      "text/plain": [
       "                  time           predicted\n",
       "0  2020-07-01 00:00:00 2020-07-01 06:00:00\n",
       "1  2020-07-01 00:00:00 2020-07-01 12:00:00\n",
       "2  2020-07-01 00:00:00 2020-07-01 18:00:00\n",
       "3  2020-07-01 00:00:00 2020-07-02 00:00:00\n",
       "4  2020-07-01 00:00:00 2020-07-02 06:00:00"
      ]
     },
     "execution_count": 37,
     "metadata": {},
     "output_type": "execute_result"
    }
   ],
   "source": [
    "submit = pd.read_csv('submit_time_format.csv')\n",
    "submit['predicted'] = pd.to_datetime(submit['predicted'])\n",
    "submit.head()"
   ]
  },
  {
   "cell_type": "code",
   "execution_count": 38,
   "metadata": {},
   "outputs": [],
   "source": [
    "result = pd.merge(submit, df, how=\"left\", on=[\"predicted\"])"
   ]
  },
  {
   "cell_type": "code",
   "execution_count": 39,
   "metadata": {},
   "outputs": [
    {
     "data": {
      "text/html": [
       "<div>\n",
       "<style scoped>\n",
       "    .dataframe tbody tr th:only-of-type {\n",
       "        vertical-align: middle;\n",
       "    }\n",
       "\n",
       "    .dataframe tbody tr th {\n",
       "        vertical-align: top;\n",
       "    }\n",
       "\n",
       "    .dataframe thead th {\n",
       "        text-align: right;\n",
       "    }\n",
       "</style>\n",
       "<table border=\"1\" class=\"dataframe\">\n",
       "  <thead>\n",
       "    <tr style=\"text-align: right;\">\n",
       "      <th></th>\n",
       "      <th>time</th>\n",
       "      <th>predicted</th>\n",
       "      <th>PM2.5</th>\n",
       "    </tr>\n",
       "  </thead>\n",
       "  <tbody>\n",
       "    <tr>\n",
       "      <th>0</th>\n",
       "      <td>2020-07-01 00:00:00</td>\n",
       "      <td>2020-07-01 06:00:00</td>\n",
       "      <td>19.329812</td>\n",
       "    </tr>\n",
       "    <tr>\n",
       "      <th>1</th>\n",
       "      <td>2020-07-01 00:00:00</td>\n",
       "      <td>2020-07-01 12:00:00</td>\n",
       "      <td>17.072939</td>\n",
       "    </tr>\n",
       "    <tr>\n",
       "      <th>2</th>\n",
       "      <td>2020-07-01 00:00:00</td>\n",
       "      <td>2020-07-01 18:00:00</td>\n",
       "      <td>16.968878</td>\n",
       "    </tr>\n",
       "    <tr>\n",
       "      <th>3</th>\n",
       "      <td>2020-07-01 00:00:00</td>\n",
       "      <td>2020-07-02 00:00:00</td>\n",
       "      <td>10.391636</td>\n",
       "    </tr>\n",
       "    <tr>\n",
       "      <th>4</th>\n",
       "      <td>2020-07-01 00:00:00</td>\n",
       "      <td>2020-07-02 06:00:00</td>\n",
       "      <td>21.065477</td>\n",
       "    </tr>\n",
       "  </tbody>\n",
       "</table>\n",
       "</div>"
      ],
      "text/plain": [
       "                  time           predicted      PM2.5\n",
       "0  2020-07-01 00:00:00 2020-07-01 06:00:00  19.329812\n",
       "1  2020-07-01 00:00:00 2020-07-01 12:00:00  17.072939\n",
       "2  2020-07-01 00:00:00 2020-07-01 18:00:00  16.968878\n",
       "3  2020-07-01 00:00:00 2020-07-02 00:00:00  10.391636\n",
       "4  2020-07-01 00:00:00 2020-07-02 06:00:00  21.065477"
      ]
     },
     "execution_count": 39,
     "metadata": {},
     "output_type": "execute_result"
    }
   ],
   "source": [
    "result.head()"
   ]
  },
  {
   "cell_type": "markdown",
   "metadata": {},
   "source": [
    "# All province"
   ]
  },
  {
   "cell_type": "code",
   "execution_count": 100,
   "metadata": {},
   "outputs": [
    {
     "data": {
      "text/plain": [
       "(94248, 5)"
      ]
     },
     "execution_count": 100,
     "metadata": {},
     "output_type": "execute_result"
    }
   ],
   "source": [
    "submit = pd.read_excel('_submission_example\\Example_df_kaggle_test2022_without_nan.xlsx')\n",
    "submit.shape"
   ]
  },
  {
   "cell_type": "code",
   "execution_count": 101,
   "metadata": {},
   "outputs": [],
   "source": [
    "submit.to_csv('Example_df_kaggle_test2022_without_nan.csv')"
   ]
  },
  {
   "cell_type": "code",
   "execution_count": 91,
   "metadata": {},
   "outputs": [],
   "source": [
    "submit = pd.read_csv('Example_df_kaggle_test2022_with_nan.csv')\n",
    "submit = submit.iloc[:17490,:]\n",
    "submit['Predicted'] = pd.to_datetime(submit['Predicted'])\n",
    "submit['Time'] = pd.to_datetime(submit['Time'])\n",
    "submit['Time'] = submit['Time'].fillna(method='ffill')\n",
    "submit = submit[['Time','Predicted']]"
   ]
  },
  {
   "cell_type": "code",
   "execution_count": 90,
   "metadata": {},
   "outputs": [
    {
     "data": {
      "text/html": [
       "<div>\n",
       "<style scoped>\n",
       "    .dataframe tbody tr th:only-of-type {\n",
       "        vertical-align: middle;\n",
       "    }\n",
       "\n",
       "    .dataframe tbody tr th {\n",
       "        vertical-align: top;\n",
       "    }\n",
       "\n",
       "    .dataframe thead th {\n",
       "        text-align: right;\n",
       "    }\n",
       "</style>\n",
       "<table border=\"1\" class=\"dataframe\">\n",
       "  <thead>\n",
       "    <tr style=\"text-align: right;\">\n",
       "      <th></th>\n",
       "      <th>Unnamed: 0</th>\n",
       "      <th>station</th>\n",
       "      <th>Time</th>\n",
       "      <th>Predicted</th>\n",
       "      <th>PM2.5</th>\n",
       "    </tr>\n",
       "  </thead>\n",
       "  <tbody>\n",
       "    <tr>\n",
       "      <th>17490</th>\n",
       "      <td>17490</td>\n",
       "      <td>Chiangmai</td>\n",
       "      <td>2020-07-01</td>\n",
       "      <td>2020-07-01 06:00:00</td>\n",
       "      <td>86.0</td>\n",
       "    </tr>\n",
       "  </tbody>\n",
       "</table>\n",
       "</div>"
      ],
      "text/plain": [
       "       Unnamed: 0    station       Time           Predicted  PM2.5\n",
       "17490       17490  Chiangmai 2020-07-01 2020-07-01 06:00:00   86.0"
      ]
     },
     "execution_count": 90,
     "metadata": {},
     "output_type": "execute_result"
    }
   ],
   "source": [
    "submit = pd.read_csv('Example_df_kaggle_test2022_with_nan.csv')\n",
    "submit[submit['station']=='Chiangmai']"
   ]
  },
  {
   "cell_type": "code",
   "execution_count": 92,
   "metadata": {},
   "outputs": [],
   "source": [
    "submit.to_csv('submit_format.csv',index=False)"
   ]
  },
  {
   "cell_type": "code",
   "execution_count": 117,
   "metadata": {},
   "outputs": [
    {
     "name": "stdout",
     "output_type": "stream",
     "text": [
      "BKK\n",
      "Chiangmai\n",
      "Rayong\n",
      "Saraburi\n",
      "Khonkaen\n",
      "Surat\n"
     ]
    }
   ],
   "source": [
    "SE = []\n",
    "n = 0\n",
    "ans = pd.DataFrame.from_dict({'Time':[],'Predicted':[],'PM2.5':[],'Province':[]})\n",
    "for province in param_dict:\n",
    "\n",
    "\n",
    "    print(province)\n",
    "\n",
    "    train_data = pd.read_csv('./'+province+'/train/'+province.lower()+'_train_format_2.csv')\n",
    "    y_train = train_data.pop('PM2.5')\n",
    "    X_train = train_data\n",
    "    test_data = pd.read_csv(province+'_clean.csv')\n",
    "    test_data['date_time'] = pd.to_datetime(test_data['date_time'])\n",
    "    test_data['year'] = test_data['date_time'].dt.year\n",
    "    test_data['month'] = test_data['date_time'].dt.month\n",
    "    test_data['day'] = test_data['date_time'].dt.day\n",
    "    test_data['hour'] = test_data['date_time'].dt.hour\n",
    "    test_data = test_data[['year','month','day','hour','temp','wind speed','wind dir','PM2.5']]\n",
    "    test_data.dropna(inplace=True)\n",
    "    y_test = test_data.pop('PM2.5')\n",
    "    X_test = test_data\n",
    "    rfr = RandomForestRegressor(\n",
    "                        max_features=int(param_dict[province][0]),\n",
    "                        n_estimators=int(param_dict[province][1]),\n",
    "                        max_depth=int(param_dict[province][2]),\n",
    "                        min_samples_leaf=int(param_dict[province][3]),\n",
    "                        n_jobs = -1)\n",
    "    rfr.fit(X_train, y_train)\n",
    "    y_pred = rfr.predict(X_test)\n",
    "\n",
    "    df = X_test.copy()\n",
    "    df['PM2.5']=y_pred\n",
    "    df['date_time'] = df.apply(lambda x: formatDatetime(x['year'],x['month'],x['day'],x['hour']),axis=1)\n",
    "    df=df[['date_time','PM2.5']]\n",
    "    df.columns = ['Predicted','PM2.5']\n",
    "\n",
    "    submit=pd.read_csv('submit_time_format_2.csv')\n",
    "    submit['Predicted'] = pd.to_datetime(submit['Predicted'])\n",
    "    submit['Time'] = pd.to_datetime(submit['Time'])\n",
    "\n",
    "    result = pd.merge(submit, df, how=\"left\", on=[\"Predicted\"])\n",
    "\n",
    "    result['Province'] = province\n",
    "    ans = pd.concat([ans,result])\n",
    "    "
   ]
  },
  {
   "cell_type": "code",
   "execution_count": 103,
   "metadata": {},
   "outputs": [
    {
     "data": {
      "text/html": [
       "<div>\n",
       "<style scoped>\n",
       "    .dataframe tbody tr th:only-of-type {\n",
       "        vertical-align: middle;\n",
       "    }\n",
       "\n",
       "    .dataframe tbody tr th {\n",
       "        vertical-align: top;\n",
       "    }\n",
       "\n",
       "    .dataframe thead th {\n",
       "        text-align: right;\n",
       "    }\n",
       "</style>\n",
       "<table border=\"1\" class=\"dataframe\">\n",
       "  <thead>\n",
       "    <tr style=\"text-align: right;\">\n",
       "      <th></th>\n",
       "      <th>Time</th>\n",
       "      <th>Predicted</th>\n",
       "      <th>PM2.5</th>\n",
       "      <th>Province</th>\n",
       "    </tr>\n",
       "  </thead>\n",
       "  <tbody>\n",
       "    <tr>\n",
       "      <th>0</th>\n",
       "      <td>2020-07-01</td>\n",
       "      <td>2020-07-01 06:00:00</td>\n",
       "      <td>16.364234</td>\n",
       "      <td>Surat</td>\n",
       "    </tr>\n",
       "    <tr>\n",
       "      <th>1</th>\n",
       "      <td>2020-07-01</td>\n",
       "      <td>2020-07-01 12:00:00</td>\n",
       "      <td>11.780813</td>\n",
       "      <td>Surat</td>\n",
       "    </tr>\n",
       "    <tr>\n",
       "      <th>2</th>\n",
       "      <td>2020-07-01</td>\n",
       "      <td>2020-07-01 18:00:00</td>\n",
       "      <td>10.260545</td>\n",
       "      <td>Surat</td>\n",
       "    </tr>\n",
       "    <tr>\n",
       "      <th>3</th>\n",
       "      <td>2020-07-01</td>\n",
       "      <td>2020-07-02 00:00:00</td>\n",
       "      <td>14.669757</td>\n",
       "      <td>Surat</td>\n",
       "    </tr>\n",
       "    <tr>\n",
       "      <th>4</th>\n",
       "      <td>2020-07-01</td>\n",
       "      <td>2020-07-02 06:00:00</td>\n",
       "      <td>16.446531</td>\n",
       "      <td>Surat</td>\n",
       "    </tr>\n",
       "  </tbody>\n",
       "</table>\n",
       "</div>"
      ],
      "text/plain": [
       "        Time           Predicted      PM2.5 Province\n",
       "0 2020-07-01 2020-07-01 06:00:00  16.364234    Surat\n",
       "1 2020-07-01 2020-07-01 12:00:00  11.780813    Surat\n",
       "2 2020-07-01 2020-07-01 18:00:00  10.260545    Surat\n",
       "3 2020-07-01 2020-07-02 00:00:00  14.669757    Surat\n",
       "4 2020-07-01 2020-07-02 06:00:00  16.446531    Surat"
      ]
     },
     "execution_count": 103,
     "metadata": {},
     "output_type": "execute_result"
    }
   ],
   "source": [
    "result.head()"
   ]
  },
  {
   "cell_type": "code",
   "execution_count": 118,
   "metadata": {},
   "outputs": [
    {
     "data": {
      "text/plain": [
       "(104940, 4)"
      ]
     },
     "execution_count": 118,
     "metadata": {},
     "output_type": "execute_result"
    }
   ],
   "source": [
    "ans.shape"
   ]
  },
  {
   "cell_type": "code",
   "execution_count": 119,
   "metadata": {},
   "outputs": [],
   "source": [
    "ans.dropna(inplace=True)\n",
    "ans.to_csv('ans.csv')"
   ]
  },
  {
   "cell_type": "code",
   "execution_count": 120,
   "metadata": {},
   "outputs": [
    {
     "data": {
      "text/plain": [
       "Time         0\n",
       "Predicted    0\n",
       "PM2.5        0\n",
       "Province     0\n",
       "dtype: int64"
      ]
     },
     "execution_count": 120,
     "metadata": {},
     "output_type": "execute_result"
    }
   ],
   "source": [
    "ans.isna().sum()"
   ]
  },
  {
   "cell_type": "code",
   "execution_count": 121,
   "metadata": {},
   "outputs": [
    {
     "data": {
      "text/plain": [
       "(94248, 4)"
      ]
     },
     "execution_count": 121,
     "metadata": {},
     "output_type": "execute_result"
    }
   ],
   "source": [
    "ans.shape"
   ]
  },
  {
   "cell_type": "code",
   "execution_count": 122,
   "metadata": {},
   "outputs": [
    {
     "data": {
      "text/html": [
       "<div>\n",
       "<style scoped>\n",
       "    .dataframe tbody tr th:only-of-type {\n",
       "        vertical-align: middle;\n",
       "    }\n",
       "\n",
       "    .dataframe tbody tr th {\n",
       "        vertical-align: top;\n",
       "    }\n",
       "\n",
       "    .dataframe thead th {\n",
       "        text-align: right;\n",
       "    }\n",
       "</style>\n",
       "<table border=\"1\" class=\"dataframe\">\n",
       "  <thead>\n",
       "    <tr style=\"text-align: right;\">\n",
       "      <th></th>\n",
       "      <th>Time</th>\n",
       "      <th>Predicted</th>\n",
       "      <th>PM2.5</th>\n",
       "      <th>station</th>\n",
       "    </tr>\n",
       "  </thead>\n",
       "  <tbody>\n",
       "    <tr>\n",
       "      <th>0</th>\n",
       "      <td>2020-07-01</td>\n",
       "      <td>2020-07-01 06:00:00</td>\n",
       "      <td>18.760174</td>\n",
       "      <td>BKK</td>\n",
       "    </tr>\n",
       "    <tr>\n",
       "      <th>1</th>\n",
       "      <td>2020-07-01</td>\n",
       "      <td>2020-07-01 12:00:00</td>\n",
       "      <td>17.207703</td>\n",
       "      <td>BKK</td>\n",
       "    </tr>\n",
       "    <tr>\n",
       "      <th>2</th>\n",
       "      <td>2020-07-01</td>\n",
       "      <td>2020-07-01 18:00:00</td>\n",
       "      <td>17.103964</td>\n",
       "      <td>BKK</td>\n",
       "    </tr>\n",
       "    <tr>\n",
       "      <th>3</th>\n",
       "      <td>2020-07-01</td>\n",
       "      <td>2020-07-02 00:00:00</td>\n",
       "      <td>10.330393</td>\n",
       "      <td>BKK</td>\n",
       "    </tr>\n",
       "    <tr>\n",
       "      <th>4</th>\n",
       "      <td>2020-07-01</td>\n",
       "      <td>2020-07-02 06:00:00</td>\n",
       "      <td>20.699504</td>\n",
       "      <td>BKK</td>\n",
       "    </tr>\n",
       "  </tbody>\n",
       "</table>\n",
       "</div>"
      ],
      "text/plain": [
       "        Time           Predicted      PM2.5 station\n",
       "0 2020-07-01 2020-07-01 06:00:00  18.760174     BKK\n",
       "1 2020-07-01 2020-07-01 12:00:00  17.207703     BKK\n",
       "2 2020-07-01 2020-07-01 18:00:00  17.103964     BKK\n",
       "3 2020-07-01 2020-07-02 00:00:00  10.330393     BKK\n",
       "4 2020-07-01 2020-07-02 06:00:00  20.699504     BKK"
      ]
     },
     "execution_count": 122,
     "metadata": {},
     "output_type": "execute_result"
    }
   ],
   "source": [
    "ans.columns = ['Time','Predicted','PM2.5','station']\n",
    "ans.head()"
   ]
  },
  {
   "cell_type": "code",
   "execution_count": 126,
   "metadata": {},
   "outputs": [],
   "source": [
    "ans.reset_index(drop=True,inplace=True)"
   ]
  },
  {
   "cell_type": "code",
   "execution_count": 127,
   "metadata": {},
   "outputs": [
    {
     "data": {
      "text/html": [
       "<div>\n",
       "<style scoped>\n",
       "    .dataframe tbody tr th:only-of-type {\n",
       "        vertical-align: middle;\n",
       "    }\n",
       "\n",
       "    .dataframe tbody tr th {\n",
       "        vertical-align: top;\n",
       "    }\n",
       "\n",
       "    .dataframe thead th {\n",
       "        text-align: right;\n",
       "    }\n",
       "</style>\n",
       "<table border=\"1\" class=\"dataframe\">\n",
       "  <thead>\n",
       "    <tr style=\"text-align: right;\">\n",
       "      <th></th>\n",
       "      <th>Time</th>\n",
       "      <th>Predicted</th>\n",
       "      <th>PM2.5</th>\n",
       "      <th>station</th>\n",
       "    </tr>\n",
       "  </thead>\n",
       "  <tbody>\n",
       "    <tr>\n",
       "      <th>0</th>\n",
       "      <td>2020-07-01</td>\n",
       "      <td>2020-07-01 06:00:00</td>\n",
       "      <td>18.760174</td>\n",
       "      <td>BKK</td>\n",
       "    </tr>\n",
       "    <tr>\n",
       "      <th>1</th>\n",
       "      <td>2020-07-01</td>\n",
       "      <td>2020-07-01 12:00:00</td>\n",
       "      <td>17.207703</td>\n",
       "      <td>BKK</td>\n",
       "    </tr>\n",
       "    <tr>\n",
       "      <th>2</th>\n",
       "      <td>2020-07-01</td>\n",
       "      <td>2020-07-01 18:00:00</td>\n",
       "      <td>17.103964</td>\n",
       "      <td>BKK</td>\n",
       "    </tr>\n",
       "    <tr>\n",
       "      <th>3</th>\n",
       "      <td>2020-07-01</td>\n",
       "      <td>2020-07-02 00:00:00</td>\n",
       "      <td>10.330393</td>\n",
       "      <td>BKK</td>\n",
       "    </tr>\n",
       "    <tr>\n",
       "      <th>4</th>\n",
       "      <td>2020-07-01</td>\n",
       "      <td>2020-07-02 06:00:00</td>\n",
       "      <td>20.699504</td>\n",
       "      <td>BKK</td>\n",
       "    </tr>\n",
       "  </tbody>\n",
       "</table>\n",
       "</div>"
      ],
      "text/plain": [
       "        Time           Predicted      PM2.5 station\n",
       "0 2020-07-01 2020-07-01 06:00:00  18.760174     BKK\n",
       "1 2020-07-01 2020-07-01 12:00:00  17.207703     BKK\n",
       "2 2020-07-01 2020-07-01 18:00:00  17.103964     BKK\n",
       "3 2020-07-01 2020-07-02 00:00:00  10.330393     BKK\n",
       "4 2020-07-01 2020-07-02 06:00:00  20.699504     BKK"
      ]
     },
     "execution_count": 127,
     "metadata": {},
     "output_type": "execute_result"
    }
   ],
   "source": [
    "ans.head()"
   ]
  },
  {
   "cell_type": "code",
   "execution_count": 128,
   "metadata": {},
   "outputs": [
    {
     "data": {
      "text/plain": [
       "0    18.760174\n",
       "1    17.207703\n",
       "2    17.103964\n",
       "3    10.330393\n",
       "4    20.699504\n",
       "Name: PM2.5, dtype: float64"
      ]
     },
     "execution_count": 128,
     "metadata": {},
     "output_type": "execute_result"
    }
   ],
   "source": [
    "kaggle =ans['PM2.5']\n",
    "kaggle.columns = ['Predicted']\n",
    "kaggle.head()"
   ]
  },
  {
   "cell_type": "code",
   "execution_count": 129,
   "metadata": {},
   "outputs": [],
   "source": [
    "kaggle.to_csv('kaggle.csv')"
   ]
  },
  {
   "cell_type": "code",
   "execution_count": 46,
   "metadata": {},
   "outputs": [],
   "source": [
    "example = pd.read_excel('_submission_example\\Example_df_kaggle_test2022_without_nan.xlsx')"
   ]
  },
  {
   "cell_type": "code",
   "execution_count": 49,
   "metadata": {},
   "outputs": [
    {
     "data": {
      "text/html": [
       "<div>\n",
       "<style scoped>\n",
       "    .dataframe tbody tr th:only-of-type {\n",
       "        vertical-align: middle;\n",
       "    }\n",
       "\n",
       "    .dataframe tbody tr th {\n",
       "        vertical-align: top;\n",
       "    }\n",
       "\n",
       "    .dataframe thead th {\n",
       "        text-align: right;\n",
       "    }\n",
       "</style>\n",
       "<table border=\"1\" class=\"dataframe\">\n",
       "  <thead>\n",
       "    <tr style=\"text-align: right;\">\n",
       "      <th></th>\n",
       "      <th>id</th>\n",
       "      <th>station</th>\n",
       "      <th>Time</th>\n",
       "      <th>Predicted</th>\n",
       "      <th>PM2.5</th>\n",
       "    </tr>\n",
       "  </thead>\n",
       "  <tbody>\n",
       "    <tr>\n",
       "      <th>0</th>\n",
       "      <td>0</td>\n",
       "      <td>BKK</td>\n",
       "      <td>2020-07-01</td>\n",
       "      <td>2020-07-01 06:00:00</td>\n",
       "      <td>4</td>\n",
       "    </tr>\n",
       "    <tr>\n",
       "      <th>1</th>\n",
       "      <td>1</td>\n",
       "      <td>NaN</td>\n",
       "      <td>NaT</td>\n",
       "      <td>2020-07-01 12:00:00</td>\n",
       "      <td>18</td>\n",
       "    </tr>\n",
       "    <tr>\n",
       "      <th>2</th>\n",
       "      <td>2</td>\n",
       "      <td>NaN</td>\n",
       "      <td>NaT</td>\n",
       "      <td>2020-07-01 18:00:00</td>\n",
       "      <td>79</td>\n",
       "    </tr>\n",
       "    <tr>\n",
       "      <th>3</th>\n",
       "      <td>3</td>\n",
       "      <td>NaN</td>\n",
       "      <td>NaT</td>\n",
       "      <td>2020-07-02 00:00:00</td>\n",
       "      <td>40</td>\n",
       "    </tr>\n",
       "    <tr>\n",
       "      <th>4</th>\n",
       "      <td>4</td>\n",
       "      <td>NaN</td>\n",
       "      <td>NaT</td>\n",
       "      <td>2020-07-02 06:00:00</td>\n",
       "      <td>69</td>\n",
       "    </tr>\n",
       "  </tbody>\n",
       "</table>\n",
       "</div>"
      ],
      "text/plain": [
       "   id station       Time           Predicted  PM2.5\n",
       "0   0     BKK 2020-07-01 2020-07-01 06:00:00      4\n",
       "1   1     NaN        NaT 2020-07-01 12:00:00     18\n",
       "2   2     NaN        NaT 2020-07-01 18:00:00     79\n",
       "3   3     NaN        NaT 2020-07-02 00:00:00     40\n",
       "4   4     NaN        NaT 2020-07-02 06:00:00     69"
      ]
     },
     "execution_count": 49,
     "metadata": {},
     "output_type": "execute_result"
    }
   ],
   "source": [
    "example['Predicted'] = pd.to_datetime(example['Predicted'])\n",
    "example.head()"
   ]
  },
  {
   "cell_type": "code",
   "execution_count": 54,
   "metadata": {},
   "outputs": [
    {
     "data": {
      "text/html": [
       "<div>\n",
       "<style scoped>\n",
       "    .dataframe tbody tr th:only-of-type {\n",
       "        vertical-align: middle;\n",
       "    }\n",
       "\n",
       "    .dataframe tbody tr th {\n",
       "        vertical-align: top;\n",
       "    }\n",
       "\n",
       "    .dataframe thead th {\n",
       "        text-align: right;\n",
       "    }\n",
       "</style>\n",
       "<table border=\"1\" class=\"dataframe\">\n",
       "  <thead>\n",
       "    <tr style=\"text-align: right;\">\n",
       "      <th></th>\n",
       "      <th>Time</th>\n",
       "      <th>Predicted</th>\n",
       "      <th>PM2.5</th>\n",
       "      <th>station</th>\n",
       "    </tr>\n",
       "  </thead>\n",
       "  <tbody>\n",
       "    <tr>\n",
       "      <th>17521</th>\n",
       "      <td>2021-07-01 00:00:00</td>\n",
       "      <td>2021-07-01 12:00:00</td>\n",
       "      <td>13.645473</td>\n",
       "      <td>Surat</td>\n",
       "    </tr>\n",
       "    <tr>\n",
       "      <th>17522</th>\n",
       "      <td>2021-07-01 00:00:00</td>\n",
       "      <td>2021-07-01 18:00:00</td>\n",
       "      <td>11.832724</td>\n",
       "      <td>Surat</td>\n",
       "    </tr>\n",
       "    <tr>\n",
       "      <th>17532</th>\n",
       "      <td>2021-07-01 06:00:00</td>\n",
       "      <td>2021-07-01 12:00:00</td>\n",
       "      <td>13.645473</td>\n",
       "      <td>Surat</td>\n",
       "    </tr>\n",
       "    <tr>\n",
       "      <th>17533</th>\n",
       "      <td>2021-07-01 06:00:00</td>\n",
       "      <td>2021-07-01 18:00:00</td>\n",
       "      <td>11.832724</td>\n",
       "      <td>Surat</td>\n",
       "    </tr>\n",
       "    <tr>\n",
       "      <th>17544</th>\n",
       "      <td>2021-07-01 12:00:00</td>\n",
       "      <td>2021-07-01 18:00:00</td>\n",
       "      <td>11.832724</td>\n",
       "      <td>Surat</td>\n",
       "    </tr>\n",
       "  </tbody>\n",
       "</table>\n",
       "</div>"
      ],
      "text/plain": [
       "                      Time           Predicted      PM2.5 station\n",
       "17521  2021-07-01 00:00:00 2021-07-01 12:00:00  13.645473   Surat\n",
       "17522  2021-07-01 00:00:00 2021-07-01 18:00:00  11.832724   Surat\n",
       "17532  2021-07-01 06:00:00 2021-07-01 12:00:00  13.645473   Surat\n",
       "17533  2021-07-01 06:00:00 2021-07-01 18:00:00  11.832724   Surat\n",
       "17544  2021-07-01 12:00:00 2021-07-01 18:00:00  11.832724   Surat"
      ]
     },
     "execution_count": 54,
     "metadata": {},
     "output_type": "execute_result"
    }
   ],
   "source": [
    "ans.tail()"
   ]
  },
  {
   "cell_type": "code",
   "execution_count": 55,
   "metadata": {},
   "outputs": [
    {
     "data": {
      "text/plain": [
       "(94248, 5)"
      ]
     },
     "execution_count": 55,
     "metadata": {},
     "output_type": "execute_result"
    }
   ],
   "source": [
    "example.shape"
   ]
  },
  {
   "cell_type": "code",
   "execution_count": 57,
   "metadata": {},
   "outputs": [
    {
     "data": {
      "text/html": [
       "<div>\n",
       "<style scoped>\n",
       "    .dataframe tbody tr th:only-of-type {\n",
       "        vertical-align: middle;\n",
       "    }\n",
       "\n",
       "    .dataframe tbody tr th {\n",
       "        vertical-align: top;\n",
       "    }\n",
       "\n",
       "    .dataframe thead th {\n",
       "        text-align: right;\n",
       "    }\n",
       "</style>\n",
       "<table border=\"1\" class=\"dataframe\">\n",
       "  <thead>\n",
       "    <tr style=\"text-align: right;\">\n",
       "      <th></th>\n",
       "      <th>id</th>\n",
       "      <th>station</th>\n",
       "      <th>Time</th>\n",
       "      <th>Predicted</th>\n",
       "      <th>PM2.5</th>\n",
       "    </tr>\n",
       "  </thead>\n",
       "  <tbody>\n",
       "    <tr>\n",
       "      <th>15510</th>\n",
       "      <td>15510</td>\n",
       "      <td>Chiangmai</td>\n",
       "      <td>2020-07-01</td>\n",
       "      <td>2020-07-01 06:00:00</td>\n",
       "      <td>86</td>\n",
       "    </tr>\n",
       "  </tbody>\n",
       "</table>\n",
       "</div>"
      ],
      "text/plain": [
       "          id    station       Time           Predicted  PM2.5\n",
       "15510  15510  Chiangmai 2020-07-01 2020-07-01 06:00:00     86"
      ]
     },
     "execution_count": 57,
     "metadata": {},
     "output_type": "execute_result"
    }
   ],
   "source": [
    "example[example['station']=='Chiangmai']"
   ]
  },
  {
   "cell_type": "code",
   "execution_count": 53,
   "metadata": {},
   "outputs": [
    {
     "data": {
      "text/html": [
       "<div>\n",
       "<style scoped>\n",
       "    .dataframe tbody tr th:only-of-type {\n",
       "        vertical-align: middle;\n",
       "    }\n",
       "\n",
       "    .dataframe tbody tr th {\n",
       "        vertical-align: top;\n",
       "    }\n",
       "\n",
       "    .dataframe thead th {\n",
       "        text-align: right;\n",
       "    }\n",
       "</style>\n",
       "<table border=\"1\" class=\"dataframe\">\n",
       "  <thead>\n",
       "    <tr style=\"text-align: right;\">\n",
       "      <th></th>\n",
       "      <th>id</th>\n",
       "      <th>station</th>\n",
       "      <th>Time</th>\n",
       "      <th>Predicted</th>\n",
       "      <th>PM2.5</th>\n",
       "    </tr>\n",
       "  </thead>\n",
       "  <tbody>\n",
       "    <tr>\n",
       "      <th>94243</th>\n",
       "      <td>94243</td>\n",
       "      <td>NaN</td>\n",
       "      <td>NaT</td>\n",
       "      <td>2021-07-01 12:00:00</td>\n",
       "      <td>94</td>\n",
       "    </tr>\n",
       "    <tr>\n",
       "      <th>94244</th>\n",
       "      <td>94244</td>\n",
       "      <td>NaN</td>\n",
       "      <td>NaT</td>\n",
       "      <td>2021-07-01 18:00:00</td>\n",
       "      <td>36</td>\n",
       "    </tr>\n",
       "    <tr>\n",
       "      <th>94245</th>\n",
       "      <td>94245</td>\n",
       "      <td>NaN</td>\n",
       "      <td>2021-07-01 06:00:00</td>\n",
       "      <td>2021-07-01 12:00:00</td>\n",
       "      <td>5</td>\n",
       "    </tr>\n",
       "    <tr>\n",
       "      <th>94246</th>\n",
       "      <td>94246</td>\n",
       "      <td>NaN</td>\n",
       "      <td>NaT</td>\n",
       "      <td>2021-07-01 18:00:00</td>\n",
       "      <td>41</td>\n",
       "    </tr>\n",
       "    <tr>\n",
       "      <th>94247</th>\n",
       "      <td>94247</td>\n",
       "      <td>NaN</td>\n",
       "      <td>2021-07-01 12:00:00</td>\n",
       "      <td>2021-07-01 18:00:00</td>\n",
       "      <td>46</td>\n",
       "    </tr>\n",
       "  </tbody>\n",
       "</table>\n",
       "</div>"
      ],
      "text/plain": [
       "          id station                Time           Predicted  PM2.5\n",
       "94243  94243     NaN                 NaT 2021-07-01 12:00:00     94\n",
       "94244  94244     NaN                 NaT 2021-07-01 18:00:00     36\n",
       "94245  94245     NaN 2021-07-01 06:00:00 2021-07-01 12:00:00      5\n",
       "94246  94246     NaN                 NaT 2021-07-01 18:00:00     41\n",
       "94247  94247     NaN 2021-07-01 12:00:00 2021-07-01 18:00:00     46"
      ]
     },
     "execution_count": 53,
     "metadata": {},
     "output_type": "execute_result"
    }
   ],
   "source": [
    "example.tail()"
   ]
  },
  {
   "cell_type": "code",
   "execution_count": 51,
   "metadata": {},
   "outputs": [],
   "source": [
    "chk = pd.merge(ans,example,how='right',on=['Predicted'])"
   ]
  },
  {
   "cell_type": "code",
   "execution_count": 52,
   "metadata": {},
   "outputs": [
    {
     "data": {
      "text/plain": [
       "Time_x             0\n",
       "Predicted          0\n",
       "PM2.5_x            0\n",
       "station_x          0\n",
       "id                 0\n",
       "station_y    6525540\n",
       "Time_y       5920872\n",
       "PM2.5_y            0\n",
       "dtype: int64"
      ]
     },
     "execution_count": 52,
     "metadata": {},
     "output_type": "execute_result"
    }
   ],
   "source": [
    "chk.isna().sum()"
   ]
  },
  {
   "cell_type": "code",
   "execution_count": 163,
   "metadata": {},
   "outputs": [],
   "source": [
    "ans = pd.DataFrame.from_dict({'Time':[],'Predicted':[],'PM2.5':[],'Province':[]})"
   ]
  },
  {
   "cell_type": "code",
   "execution_count": 154,
   "metadata": {},
   "outputs": [
    {
     "data": {
      "text/plain": [
       "{'BKK': [7.0, 70.0, 40.0, 100.0],\n",
       " 'Chiangmai': [7.0, 50.0, 40.0, 100.0],\n",
       " 'Rayong': [2.0, 50.0, 30.0, 40.0],\n",
       " 'Saraburi': [3.0, 50.0, 20.0, 90.0],\n",
       " 'Khonkaen': [1.0, 70.0, 30.0, 90.0],\n",
       " 'Surat': [2.0, 60.0, 20.0, 30.0]}"
      ]
     },
     "execution_count": 154,
     "metadata": {},
     "output_type": "execute_result"
    }
   ],
   "source": [
    "param_dict"
   ]
  },
  {
   "cell_type": "code",
   "execution_count": 167,
   "metadata": {},
   "outputs": [
    {
     "name": "stdout",
     "output_type": "stream",
     "text": [
      "BKK -----------\n",
      "\n",
      " df1 shape after drop (7814, 8)\n",
      "Unnamed: 0    0\n",
      "date_time     0\n",
      "PM2.5         0\n",
      "temp          0\n",
      "wind speed    0\n",
      "wind dir      0\n",
      "lat           0\n",
      "long          0\n",
      "dtype: int64\n",
      " df2 shape (7814, 2)\n",
      "Unnamed: 0    0\n",
      "0             0\n",
      "dtype: int64\n",
      " -df3-\n",
      "Predicted      0\n",
      "PM2.5        894\n",
      "dtype: int64\n",
      "             Predicted     PM2.5\n",
      "0  2020-07-01 00:00:00  6.786786\n",
      "1  2020-07-01 01:00:00  7.388136\n",
      "2  2020-07-01 02:00:00  7.234481\n",
      "3  2020-07-01 03:00:00  9.275022\n",
      "4  2020-07-01 04:00:00  8.716820\n",
      "                Predicted  PM2.5\n",
      "7814  2021-05-22 14:00:00    NaN\n",
      "7815  2021-05-22 15:00:00    NaN\n",
      "7816  2021-05-22 16:00:00    NaN\n",
      "7817  2021-05-22 17:00:00    NaN\n",
      "7818  2021-05-22 18:00:00    NaN\n",
      "...                   ...    ...\n",
      "8779  2021-07-01 19:00:00    NaN\n",
      "8780  2021-07-01 20:00:00    NaN\n",
      "8781  2021-07-01 21:00:00    NaN\n",
      "8782  2021-07-01 22:00:00    NaN\n",
      "8783  2021-07-01 23:00:00    NaN\n",
      "\n",
      "[894 rows x 2 columns]\n",
      " -submit-\n",
      "Time         0\n",
      "Predicted    0\n",
      "dtype: int64\n",
      "        Time           Predicted\n",
      "0 2020-07-01 2020-07-01 06:00:00\n",
      "1 2020-07-01 2020-07-01 12:00:00\n",
      "2 2020-07-01 2020-07-01 18:00:00\n",
      "3 2020-07-01 2020-07-02 00:00:00\n",
      "4 2020-07-01 2020-07-02 06:00:00\n",
      " -result-\n",
      "Time            0\n",
      "Predicted       0\n",
      "PM2.5        3804\n",
      "Province        0\n",
      "dtype: int64\n",
      "        Time           Predicted      PM2.5 Province\n",
      "0 2020-07-01 2020-07-01 06:00:00   9.098557      BKK\n",
      "1 2020-07-01 2020-07-01 12:00:00  11.981400      BKK\n",
      "2 2020-07-01 2020-07-01 18:00:00  14.420508      BKK\n",
      "3 2020-07-01 2020-07-02 00:00:00   9.887240      BKK\n",
      "4 2020-07-01 2020-07-02 06:00:00   9.686534      BKK\n",
      "Chiangmai -----------\n",
      "\n",
      " df1 shape after drop (7877, 8)\n",
      "Unnamed: 0    0\n",
      "date_time     0\n",
      "PM2.5         0\n",
      "temp          0\n",
      "wind speed    0\n",
      "wind dir      0\n",
      "lat           0\n",
      "long          0\n",
      "dtype: int64\n",
      " df2 shape (7877, 2)\n",
      "Unnamed: 0    0\n",
      "0             0\n",
      "dtype: int64\n",
      " -df3-\n",
      "Predicted      0\n",
      "PM2.5        741\n",
      "dtype: int64\n",
      "             Predicted      PM2.5\n",
      "0  2020-07-01 00:00:00  14.306409\n",
      "1  2020-07-01 01:00:00  14.040482\n",
      "2  2020-07-01 02:00:00  13.747271\n",
      "3  2020-07-01 03:00:00  13.461520\n",
      "4  2020-07-01 04:00:00  13.281287\n",
      "                Predicted  PM2.5\n",
      "7877  2021-05-25 05:00:00    NaN\n",
      "7878  2021-05-25 06:00:00    NaN\n",
      "7879  2021-05-25 07:00:00    NaN\n",
      "7880  2021-05-25 08:00:00    NaN\n",
      "7881  2021-05-25 09:00:00    NaN\n",
      "...                   ...    ...\n",
      "8777  2021-07-01 17:00:00    NaN\n",
      "8778  2021-07-01 18:00:00    NaN\n",
      "8780  2021-07-01 20:00:00    NaN\n",
      "8782  2021-07-01 22:00:00    NaN\n",
      "8783  2021-07-01 23:00:00    NaN\n",
      "\n",
      "[741 rows x 2 columns]\n",
      " -submit-\n",
      "Time         0\n",
      "Predicted    0\n",
      "dtype: int64\n",
      "        Time           Predicted\n",
      "0 2020-07-01 2020-07-01 06:00:00\n",
      "1 2020-07-01 2020-07-01 12:00:00\n",
      "2 2020-07-01 2020-07-01 18:00:00\n",
      "3 2020-07-01 2020-07-02 00:00:00\n",
      "4 2020-07-01 2020-07-02 06:00:00\n",
      " -result-\n",
      "Time            0\n",
      "Predicted       0\n",
      "PM2.5        3384\n",
      "Province        0\n",
      "dtype: int64\n",
      "        Time           Predicted      PM2.5   Province\n",
      "0 2020-07-01 2020-07-01 06:00:00  13.198196  Chiangmai\n",
      "1 2020-07-01 2020-07-01 12:00:00  13.978186  Chiangmai\n",
      "2 2020-07-01 2020-07-01 18:00:00  13.831559  Chiangmai\n",
      "3 2020-07-01 2020-07-02 00:00:00  13.054705  Chiangmai\n",
      "4 2020-07-01 2020-07-02 06:00:00  13.240174  Chiangmai\n",
      "Rayong -----------\n",
      "\n",
      " df1 shape after drop (7956, 8)\n",
      "Unnamed: 0    0\n",
      "date_time     0\n",
      "PM2.5         0\n",
      "temp          0\n",
      "wind speed    0\n",
      "wind dir      0\n",
      "lat           0\n",
      "long          0\n",
      "dtype: int64\n",
      " df2 shape (7956, 2)\n",
      "Unnamed: 0    0\n",
      "0             0\n",
      "dtype: int64\n",
      " -df3-\n",
      "Predicted      0\n",
      "PM2.5        686\n",
      "dtype: int64\n",
      "             Predicted     PM2.5\n",
      "0  2020-07-01 00:00:00  7.232917\n",
      "1  2020-07-01 01:00:00  6.776430\n",
      "2  2020-07-01 02:00:00  6.415664\n",
      "3  2020-07-01 03:00:00  6.211935\n",
      "4  2020-07-01 04:00:00  6.406237\n",
      "                Predicted  PM2.5\n",
      "7956  2021-05-28 12:00:00    NaN\n",
      "7957  2021-05-28 13:00:00    NaN\n",
      "7959  2021-05-28 15:00:00    NaN\n",
      "7961  2021-05-28 17:00:00    NaN\n",
      "7962  2021-05-28 18:00:00    NaN\n",
      "...                   ...    ...\n",
      "8777  2021-07-01 17:00:00    NaN\n",
      "8778  2021-07-01 18:00:00    NaN\n",
      "8780  2021-07-01 20:00:00    NaN\n",
      "8782  2021-07-01 22:00:00    NaN\n",
      "8783  2021-07-01 23:00:00    NaN\n",
      "\n",
      "[686 rows x 2 columns]\n",
      " -submit-\n",
      "Time         0\n",
      "Predicted    0\n",
      "dtype: int64\n",
      "        Time           Predicted\n",
      "0 2020-07-01 2020-07-01 06:00:00\n",
      "1 2020-07-01 2020-07-01 12:00:00\n",
      "2 2020-07-01 2020-07-01 18:00:00\n",
      "3 2020-07-01 2020-07-02 00:00:00\n",
      "4 2020-07-01 2020-07-02 06:00:00\n",
      " -result-\n",
      "Time            0\n",
      "Predicted       0\n",
      "PM2.5        3024\n",
      "Province        0\n",
      "dtype: int64\n",
      "        Time           Predicted      PM2.5 Province\n",
      "0 2020-07-01 2020-07-01 06:00:00   6.520308   Rayong\n",
      "1 2020-07-01 2020-07-01 12:00:00   7.156748   Rayong\n",
      "2 2020-07-01 2020-07-01 18:00:00  10.087928   Rayong\n",
      "3 2020-07-01 2020-07-02 00:00:00   7.279083   Rayong\n",
      "4 2020-07-01 2020-07-02 06:00:00   6.662586   Rayong\n",
      "Saraburi -----------\n",
      "\n",
      " df1 shape after drop (7776, 8)\n",
      "Unnamed: 0    0\n",
      "date_time     0\n",
      "PM2.5         0\n",
      "temp          0\n",
      "wind speed    0\n",
      "wind dir      0\n",
      "lat           0\n",
      "long          0\n",
      "dtype: int64\n",
      " df2 shape (7776, 2)\n",
      "Unnamed: 0    0\n",
      "0             0\n",
      "dtype: int64\n",
      " -df3-\n",
      "Predicted      0\n",
      "PM2.5        816\n",
      "dtype: int64\n",
      "             Predicted      PM2.5\n",
      "0  2020-07-01 00:00:00  10.912458\n",
      "3  2020-07-01 03:00:00   9.998589\n",
      "4  2020-07-01 04:00:00  10.594884\n",
      "5  2020-07-01 05:00:00  13.329043\n",
      "6  2020-07-01 06:00:00  21.005423\n",
      "                Predicted  PM2.5\n",
      "7776  2021-05-21 00:00:00    NaN\n",
      "7777  2021-05-21 01:00:00    NaN\n",
      "7778  2021-05-21 02:00:00    NaN\n",
      "7779  2021-05-21 03:00:00    NaN\n",
      "7781  2021-05-21 05:00:00    NaN\n",
      "...                   ...    ...\n",
      "8777  2021-07-01 17:00:00    NaN\n",
      "8778  2021-07-01 18:00:00    NaN\n",
      "8780  2021-07-01 20:00:00    NaN\n",
      "8782  2021-07-01 22:00:00    NaN\n",
      "8783  2021-07-01 23:00:00    NaN\n",
      "\n",
      "[816 rows x 2 columns]\n",
      " -submit-\n",
      "Time         0\n",
      "Predicted    0\n",
      "dtype: int64\n",
      "        Time           Predicted\n",
      "0 2020-07-01 2020-07-01 06:00:00\n",
      "1 2020-07-01 2020-07-01 12:00:00\n",
      "2 2020-07-01 2020-07-01 18:00:00\n",
      "3 2020-07-01 2020-07-02 00:00:00\n",
      "4 2020-07-01 2020-07-02 06:00:00\n",
      " -result-\n",
      "Time            0\n",
      "Predicted       0\n",
      "PM2.5        3792\n",
      "Province        0\n",
      "dtype: int64\n",
      "        Time           Predicted      PM2.5  Province\n",
      "0 2020-07-01 2020-07-01 06:00:00  21.005423  Saraburi\n",
      "1 2020-07-01 2020-07-01 12:00:00  19.166113  Saraburi\n",
      "2 2020-07-01 2020-07-01 18:00:00  10.716591  Saraburi\n",
      "3 2020-07-01 2020-07-02 00:00:00   8.909174  Saraburi\n",
      "4 2020-07-01 2020-07-02 06:00:00  11.384989  Saraburi\n",
      "Khonkaen -----------\n",
      "\n",
      " df1 shape after drop (7849, 8)\n",
      "Unnamed: 0    0\n",
      "date_time     0\n",
      "PM2.5         0\n",
      "temp          0\n",
      "wind speed    0\n",
      "wind dir      0\n",
      "lat           0\n",
      "long          0\n",
      "dtype: int64\n",
      " df2 shape (7849, 2)\n",
      "Unnamed: 0    0\n",
      "0             0\n",
      "dtype: int64\n",
      " -df3-\n",
      "Predicted      0\n",
      "PM2.5        748\n",
      "dtype: int64\n",
      "             Predicted      PM2.5\n",
      "0  2020-07-01 00:00:00  15.995522\n",
      "1  2020-07-01 01:00:00  14.821938\n",
      "2  2020-07-01 02:00:00  14.793392\n",
      "3  2020-07-01 03:00:00  15.140864\n",
      "4  2020-07-01 04:00:00  14.707701\n",
      "                Predicted  PM2.5\n",
      "7850  2021-05-24 02:00:00    NaN\n",
      "7851  2021-05-24 03:00:00    NaN\n",
      "7852  2021-05-24 04:00:00    NaN\n",
      "7853  2021-05-24 05:00:00    NaN\n",
      "7854  2021-05-24 06:00:00    NaN\n",
      "...                   ...    ...\n",
      "8777  2021-07-01 17:00:00    NaN\n",
      "8778  2021-07-01 18:00:00    NaN\n",
      "8780  2021-07-01 20:00:00    NaN\n",
      "8782  2021-07-01 22:00:00    NaN\n",
      "8783  2021-07-01 23:00:00    NaN\n",
      "\n",
      "[748 rows x 2 columns]\n",
      " -submit-\n",
      "Time         0\n",
      "Predicted    0\n",
      "dtype: int64\n",
      "        Time           Predicted\n",
      "0 2020-07-01 2020-07-01 06:00:00\n",
      "1 2020-07-01 2020-07-01 12:00:00\n",
      "2 2020-07-01 2020-07-01 18:00:00\n",
      "3 2020-07-01 2020-07-02 00:00:00\n",
      "4 2020-07-01 2020-07-02 06:00:00\n",
      " -result-\n",
      "Time            0\n",
      "Predicted       0\n",
      "PM2.5        3492\n",
      "Province        0\n",
      "dtype: int64\n",
      "        Time           Predicted      PM2.5  Province\n",
      "0 2020-07-01 2020-07-01 06:00:00  13.308089  Khonkaen\n",
      "1 2020-07-01 2020-07-01 12:00:00  14.309821  Khonkaen\n",
      "2 2020-07-01 2020-07-01 18:00:00  14.021308  Khonkaen\n",
      "3 2020-07-01 2020-07-02 00:00:00  13.866012  Khonkaen\n",
      "4 2020-07-01 2020-07-02 06:00:00  14.593229  Khonkaen\n",
      "Surat -----------\n",
      "\n",
      " df1 shape after drop (8088, 8)\n",
      "Unnamed: 0    0\n",
      "date_time     0\n",
      "PM2.5         0\n",
      "temp          0\n",
      "wind speed    0\n",
      "wind dir      0\n",
      "lat           0\n",
      "long          0\n",
      "dtype: int64\n",
      " df2 shape (8088, 2)\n",
      "Unnamed: 0    0\n",
      "0             0\n",
      "dtype: int64\n",
      " -df3-\n",
      "Predicted      0\n",
      "PM2.5        631\n",
      "dtype: int64\n",
      "             Predicted      PM2.5\n",
      "0  2020-07-01 00:00:00  19.214272\n",
      "1  2020-07-01 01:00:00  18.065004\n",
      "2  2020-07-01 02:00:00  22.409237\n",
      "3  2020-07-01 03:00:00  27.375454\n",
      "4  2020-07-01 04:00:00  23.798344\n",
      "                Predicted  PM2.5\n",
      "8088  2021-06-03 00:00:00    NaN\n",
      "8089  2021-06-03 01:00:00    NaN\n",
      "8090  2021-06-03 02:00:00    NaN\n",
      "8091  2021-06-03 03:00:00    NaN\n",
      "8092  2021-06-03 04:00:00    NaN\n",
      "...                   ...    ...\n",
      "8779  2021-07-01 19:00:00    NaN\n",
      "8780  2021-07-01 20:00:00    NaN\n",
      "8781  2021-07-01 21:00:00    NaN\n",
      "8782  2021-07-01 22:00:00    NaN\n",
      "8783  2021-07-01 23:00:00    NaN\n",
      "\n",
      "[631 rows x 2 columns]\n",
      " -submit-\n",
      "Time         0\n",
      "Predicted    0\n",
      "dtype: int64\n",
      "        Time           Predicted\n",
      "0 2020-07-01 2020-07-01 06:00:00\n",
      "1 2020-07-01 2020-07-01 12:00:00\n",
      "2 2020-07-01 2020-07-01 18:00:00\n",
      "3 2020-07-01 2020-07-02 00:00:00\n",
      "4 2020-07-01 2020-07-02 06:00:00\n",
      " -result-\n",
      "Time            0\n",
      "Predicted       0\n",
      "PM2.5        2760\n",
      "Province        0\n",
      "dtype: int64\n",
      "        Time           Predicted      PM2.5 Province\n",
      "0 2020-07-01 2020-07-01 06:00:00  19.880503    Surat\n",
      "1 2020-07-01 2020-07-01 12:00:00  22.967249    Surat\n",
      "2 2020-07-01 2020-07-01 18:00:00  10.274080    Surat\n",
      "3 2020-07-01 2020-07-02 00:00:00  20.877695    Surat\n",
      "4 2020-07-01 2020-07-02 06:00:00  21.876335    Surat\n"
     ]
    }
   ],
   "source": [
    "ans = pd.DataFrame.from_dict({'Time':[],'Predicted':[],'PM2.5':[],'Province':[]})\n",
    "for key,value in param_dict.items():\n",
    "    print(key,'-----------')\n",
    "    print()\n",
    "    df1 = pd.read_csv(key+'_clean.csv')\n",
    "    df1.dropna(subset=['PM2.5'],inplace=True)\n",
    "    print(' df1 shape after drop',df1.shape)\n",
    "    print(df1.isna().sum())\n",
    "    df2 = pd.read_csv('lstm_'+key.lower()+'.csv')\n",
    "    print(' df2 shape',df2.shape)\n",
    "    print(df2.isna().sum())\n",
    "\n",
    "    df3 =  pd.DataFrame()\n",
    "    df3['Predicted']=df1['date_time']\n",
    "    df3['PM2.5']=df2['0']\n",
    "\n",
    "    print(' -df3-')\n",
    "    print(df3.isna().sum())\n",
    "    print(df3.head())\n",
    "    print(df3[df3['PM2.5'].isna()])\n",
    "\n",
    "    df3['Predicted'] = pd.to_datetime(df3['Predicted'])\n",
    "\n",
    "    submit=pd.read_csv('submit_time_format_2.csv')\n",
    "    submit['Predicted'] = pd.to_datetime(submit['Predicted'])\n",
    "    submit['Time'] = pd.to_datetime(submit['Time'])\n",
    "\n",
    "    print(' -submit-')\n",
    "    print(submit.isna().sum())\n",
    "    print(submit.head())\n",
    "\n",
    "    result = pd.merge(submit, df3, how=\"left\", on=[\"Predicted\"])\n",
    "\n",
    "    result['Province'] = key\n",
    "\n",
    "    print(' -result-')\n",
    "    print(result.isna().sum())\n",
    "    print(result.head())\n",
    "    \n",
    "    ans = pd.concat([ans,result])"
   ]
  },
  {
   "cell_type": "code",
   "execution_count": 144,
   "metadata": {},
   "outputs": [
    {
     "data": {
      "text/html": [
       "<div>\n",
       "<style scoped>\n",
       "    .dataframe tbody tr th:only-of-type {\n",
       "        vertical-align: middle;\n",
       "    }\n",
       "\n",
       "    .dataframe tbody tr th {\n",
       "        vertical-align: top;\n",
       "    }\n",
       "\n",
       "    .dataframe thead th {\n",
       "        text-align: right;\n",
       "    }\n",
       "</style>\n",
       "<table border=\"1\" class=\"dataframe\">\n",
       "  <thead>\n",
       "    <tr style=\"text-align: right;\">\n",
       "      <th></th>\n",
       "      <th>Time</th>\n",
       "      <th>Predicted</th>\n",
       "      <th>PM2.5</th>\n",
       "      <th>Province</th>\n",
       "    </tr>\n",
       "  </thead>\n",
       "  <tbody>\n",
       "    <tr>\n",
       "      <th>0</th>\n",
       "      <td>2020-07-01</td>\n",
       "      <td>2020-07-01 06:00:00</td>\n",
       "      <td>9.098557</td>\n",
       "      <td>BKK</td>\n",
       "    </tr>\n",
       "    <tr>\n",
       "      <th>1</th>\n",
       "      <td>2020-07-01</td>\n",
       "      <td>2020-07-01 12:00:00</td>\n",
       "      <td>11.981400</td>\n",
       "      <td>BKK</td>\n",
       "    </tr>\n",
       "    <tr>\n",
       "      <th>2</th>\n",
       "      <td>2020-07-01</td>\n",
       "      <td>2020-07-01 18:00:00</td>\n",
       "      <td>14.420508</td>\n",
       "      <td>BKK</td>\n",
       "    </tr>\n",
       "    <tr>\n",
       "      <th>3</th>\n",
       "      <td>2020-07-01</td>\n",
       "      <td>2020-07-02 00:00:00</td>\n",
       "      <td>9.887240</td>\n",
       "      <td>BKK</td>\n",
       "    </tr>\n",
       "    <tr>\n",
       "      <th>4</th>\n",
       "      <td>2020-07-01</td>\n",
       "      <td>2020-07-02 06:00:00</td>\n",
       "      <td>9.686534</td>\n",
       "      <td>BKK</td>\n",
       "    </tr>\n",
       "  </tbody>\n",
       "</table>\n",
       "</div>"
      ],
      "text/plain": [
       "        Time           Predicted      PM2.5 Province\n",
       "0 2020-07-01 2020-07-01 06:00:00   9.098557      BKK\n",
       "1 2020-07-01 2020-07-01 12:00:00  11.981400      BKK\n",
       "2 2020-07-01 2020-07-01 18:00:00  14.420508      BKK\n",
       "3 2020-07-01 2020-07-02 00:00:00   9.887240      BKK\n",
       "4 2020-07-01 2020-07-02 06:00:00   9.686534      BKK"
      ]
     },
     "execution_count": 144,
     "metadata": {},
     "output_type": "execute_result"
    }
   ],
   "source": [
    "ans.head()"
   ]
  },
  {
   "cell_type": "code",
   "execution_count": 158,
   "metadata": {},
   "outputs": [
    {
     "data": {
      "text/plain": [
       "(104940, 4)"
      ]
     },
     "execution_count": 158,
     "metadata": {},
     "output_type": "execute_result"
    }
   ],
   "source": [
    "ans.shape"
   ]
  },
  {
   "cell_type": "code",
   "execution_count": 159,
   "metadata": {},
   "outputs": [
    {
     "data": {
      "text/plain": [
       "Time             0\n",
       "Predicted        0\n",
       "PM2.5        20256\n",
       "Province         0\n",
       "dtype: int64"
      ]
     },
     "execution_count": 159,
     "metadata": {},
     "output_type": "execute_result"
    }
   ],
   "source": [
    "ans.isna().sum()"
   ]
  },
  {
   "cell_type": "code",
   "execution_count": 160,
   "metadata": {},
   "outputs": [
    {
     "data": {
      "text/plain": [
       "(84684, 4)"
      ]
     },
     "execution_count": 160,
     "metadata": {},
     "output_type": "execute_result"
    }
   ],
   "source": [
    "ans.dropna(inplace=True)\n",
    "ans.shape"
   ]
  },
  {
   "cell_type": "code",
   "execution_count": null,
   "metadata": {},
   "outputs": [],
   "source": []
  }
 ],
 "metadata": {
  "interpreter": {
   "hash": "ef98beed530724fd48f935abab518c0f3e16171ba4883f2358360793e5698786"
  },
  "kernelspec": {
   "display_name": "Python 3.8.8 ('base')",
   "language": "python",
   "name": "python3"
  },
  "language_info": {
   "codemirror_mode": {
    "name": "ipython",
    "version": 3
   },
   "file_extension": ".py",
   "mimetype": "text/x-python",
   "name": "python",
   "nbconvert_exporter": "python",
   "pygments_lexer": "ipython3",
   "version": "3.8.8"
  },
  "orig_nbformat": 4
 },
 "nbformat": 4,
 "nbformat_minor": 2
}
